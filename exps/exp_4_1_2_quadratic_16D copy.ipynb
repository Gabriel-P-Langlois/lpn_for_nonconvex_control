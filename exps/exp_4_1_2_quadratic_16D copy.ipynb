{
 "cells": [
  {
   "cell_type": "markdown",
   "metadata": {},
   "source": [
    "# GPL Paper Section 4.1.2 Experiment: Quadratic Hamiltonian with L1 Prior"
   ]
  },
  {
   "cell_type": "markdown",
   "metadata": {},
   "source": [
    "This code attempts to learn 2D prior $J(x) = \\|x\\|_1$ in the context of a Hamilton-Jacobi PDE with a quadratic Hamiltonian\n",
    "$H(p) = \\frac{1}{2}\\|p\\|_2^2$ (Using the method of characterization).\n",
    "The LPN learns the function $\\psi(y) = J^*(y) - \\frac{1}{2}\\|y\\|_2^2$.\n",
    "Training data uses samples $\\{y_j,\\psi(y_j)\\}$ where $\\psi(y_j) = \\frac{1}{2}\\|y_j\\|_2^2 - S(y_j,1)$, and,\n",
    "$S(y_j,1) = \\min_{x \\in \\mathbb{R}^d} \\{\\frac{1}{2}\\|x-y_j\\|_2^2 + \\|x\\|_1\\}$ (Moreau envelope of $J(x)=\\|x\\|_1$ at $t=1$)."
   ]
  },
  {
   "cell_type": "markdown",
   "metadata": {},
   "source": [
    "## Import modules "
   ]
  },
  {
   "cell_type": "code",
   "execution_count": 1,
   "metadata": {
    "execution": {
     "iopub.execute_input": "2025-10-30T02:35:33.609921Z",
     "iopub.status.busy": "2025-10-30T02:35:33.609674Z",
     "iopub.status.idle": "2025-10-30T02:35:37.500675Z",
     "shell.execute_reply": "2025-10-30T02:35:37.500030Z"
    },
    "id": "Mtd5gx1tv90z"
   },
   "outputs": [],
   "source": [
    "import os\n",
    "import numpy as np\n",
    "import torch\n",
    "\n",
    "import matplotlib.pyplot as plt\n",
    "from matplotlib import cm\n",
    "from matplotlib.ticker import LinearLocator\n",
    "import seaborn as sns\n",
    "\n",
    "from network import LPN\n",
    "from lib.utils import cvx\n",
    "from lib.invert import invert\n",
    "\n",
    "# set location\n",
    "MODEL_DIR = \"experiments/models/minplus_4_1_2_quadratic_16DD\"\n",
    "os.makedirs(MODEL_DIR, exist_ok=True)\n",
    "device = torch.device(\"cuda:0\" if torch.cuda.is_available() else \"cpu\")\n",
    "\n",
    "# set random seeds\n",
    "np.random.seed(1)\n",
    "torch.manual_seed(1)\n",
    "\n",
    "# plotting options\n",
    "plt.rcParams.update({\"text.usetex\": False})\n",
    "sns.set_theme()"
   ]
  },
  {
   "cell_type": "markdown",
   "metadata": {},
   "source": [
    "## Parameters"
   ]
  },
  {
   "cell_type": "code",
   "execution_count": 2,
   "metadata": {
    "execution": {
     "iopub.execute_input": "2025-10-30T02:35:37.503224Z",
     "iopub.status.busy": "2025-10-30T02:35:37.502844Z",
     "iopub.status.idle": "2025-10-30T02:35:37.506620Z",
     "shell.execute_reply": "2025-10-30T02:35:37.506113Z"
    }
   },
   "outputs": [],
   "source": [
    "# Parameters\n",
    "# --- Parameters for Sec 4.1.2 L1 Prior Experiment ---\n",
    "dim_exp = 16  # Dimension (e.g., 2D, 4D, 8D as in the paper)\n",
    "data_points_exp = 30000 # Example number of data points\n",
    "iterations_exp_initial = 1 # Iterations for initial training phase\n",
    "iterations_exp_long = 100000 # Iterations for longer training phase\n",
    "a_exp = 4 # Grid limit for sampling y_j if using uniform, e.g., y_j in [-a, a]^d\n",
    "spacing = 50 # For plotting cross-sections\n",
    "\n",
    "\n",
    "# LPN model parameters\n",
    "# Note: The defaults parameters are beta = 10, hidden = 50, layers = 4\n",
    "beta = 10       # beta of softplus\n",
    "hidden = 50     # number of hidden units\n",
    "layers = 4      # number of layers\n",
    "#eps = 0.5\n",
    "# optimization algorithm to use for computing the prior (cvx_cg, cvx_gd)\n",
    "INVERT_MODE = \"cvx_gd\""
   ]
  },
  {
   "cell_type": "markdown",
   "metadata": {},
   "source": [
    "# === Section 4.1.2==="
   ]
  },
  {
   "cell_type": "code",
   "execution_count": 3,
   "metadata": {
    "execution": {
     "iopub.execute_input": "2025-10-30T02:35:37.508803Z",
     "iopub.status.busy": "2025-10-30T02:35:37.508558Z",
     "iopub.status.idle": "2025-10-30T02:35:37.641129Z",
     "shell.execute_reply": "2025-10-30T02:35:37.640501Z"
    }
   },
   "outputs": [],
   "source": [
    "import numpy as np\n",
    "import matplotlib.pyplot as plt\n",
    "import torch \n",
    "\n",
    "# === Section 4.1.2: L1 Prior Helper Functions ===\n",
    "\n",
    "def inner_prod(x, y):\n",
    "    return np.sum(x * y, axis=1)\n",
    "\n",
    "def euclid_norm_sq(x):\n",
    "    if x.ndim == 1:\n",
    "        return np.sum(x*x)\n",
    "    return np.sum(x * x, axis=1)\n",
    "\n",
    "def prox_l1_vec(y, t_lambda):\n",
    "    \"\"\" Element-wise proximal operator of t_lambda*||x||_1 (soft-thresholding). \"\"\"\n",
    "    return np.sign(y) * np.maximum(np.abs(y) - t_lambda, 0)\n",
    "\n",
    "def hjsol_true_quadratic_l1(y_points,n=1.0, t=1.0): # y_points is N x dim\n",
    "    \"\"\"\n",
    "    Computes S(y, t=1) for J(x)=||x||_1.\n",
    "    S(y, 1) = ||x||_1 + nt/2 }\n",
    "    \"\"\"\n",
    "    t_moreau = 1.0\n",
    "    prox_y = prox_l1_vec(y_points, t_moreau) # element-wise for N x dim\n",
    "    s_values = np.sum(np.abs(prox_y), axis=1) +n * t/2 # L1 norm for each vector y_j \n",
    "    return s_values # N-dimensional array\n",
    "\n",
    "def prior_true_quadratic_l1(y_points): # y_points is N x dim\n",
    "    \"\"\" Computes the true prior J(y) = ||y||_1. \"\"\"\n",
    "    return np.sum(np.abs(y_points), axis=1) # N-dimensional array\n",
    "\n",
    "def cvx_true_quadratic_l1(y_points): # y_points is N x dim\n",
    "    \"\"\"\n",
    "    Computes the target function psi(y) = 0.5*||y||_2^2 - S(y, t=1) for J(x)=||x||_1.\n",
    "    \"\"\"\n",
    "    s_y_1 = hjsol_true_quadratic_l1(y_points)\n",
    "    psi_y = 0.5 * euclid_norm_sq(y_points) - s_y_1\n",
    "    return psi_y # N-dimensional array\n",
    "\n",
    "def invert_prior_lpn(x, model, INVERT_MODE):\n",
    "    y = invert(x,model,INVERT_MODE)\n",
    "    return y\n",
    "\n",
    "def evaluate_learned_prior_lpn(x_eval_points, y_inverted_points, model):\n",
    "    try:\n",
    "        y_tensor = torch.from_numpy(y_inverted_points).float().to(device)\n",
    "        psi_of_y_inverted = model.scalar(y_tensor).squeeze(1).detach().cpu().numpy()\n",
    "    except NameError: \n",
    "        print(\"Warning: 'device' not defined. Assuming CPU for evaluate_learned_prior.\")\n",
    "        y_tensor = torch.from_numpy(y_inverted_points).float()\n",
    "        psi_of_y_inverted = model.scalar(y_tensor).squeeze(1).detach().numpy()\n",
    "    prior_est = inner_prod(x_eval_points, y_inverted_points) - 0.5 * euclid_norm_sq(x_eval_points) - psi_of_y_inverted\n",
    "    return prior_est\n",
    "\n",
    "def compute_square_cross_sections(a, spacing, dim):\n",
    "    xi = np.linspace(-a, a, spacing)\n",
    "    grid = np.zeros((xi.size, dim))\n",
    "    x1_0_points = np.copy(grid)\n",
    "    x1_0_points[:, 0] = xi\n",
    "    x2_0_points = np.copy(grid)\n",
    "    if dim > 1:\n",
    "        x2_0_points[:, 1] = xi\n",
    "    elif dim == 1:\n",
    "        x2_0_points = x1_0_points.copy()\n",
    "    return xi, x1_0_points, x2_0_points\n",
    "\n",
    "def cross_sections_plots_quadratic_l1(model, a, spacing, INVERT_MODE, dim):\n",
    "    xi, x1_0_points, x2_0_points = compute_square_cross_sections(a, spacing, dim)\n",
    "    \n",
    "    x1_0_psi_true = cvx_true_quadratic_l1(x1_0_points)\n",
    "    x1_0_J_true = prior_true_quadratic_l1(x1_0_points)\n",
    "    if dim > 1:\n",
    "        x2_0_psi_true = cvx_true_quadratic_l1(x2_0_points)\n",
    "        x2_0_J_true = prior_true_quadratic_l1(x2_0_points)\n",
    "    else: \n",
    "        x2_0_psi_true = x1_0_psi_true \n",
    "        x2_0_J_true = x1_0_J_true\n",
    "        \n",
    "    x1_0_psi_est = cvx(x1_0_points, model) \n",
    "    y1_inverted = invert_prior_lpn(x1_0_points, model, INVERT_MODE)\n",
    "    x1_0_J_est = evaluate_learned_prior_lpn(x1_0_points,y1_inverted, model)\n",
    "    if dim > 1:\n",
    "        x2_0_psi_est = cvx(x2_0_points, model)\n",
    "        y2_inverted = invert_prior_lpn(x2_0_points, model, INVERT_MODE)\n",
    "        x2_0_J_est = evaluate_learned_prior_lpn(x2_0_points,y2_inverted, model)\n",
    "    else:\n",
    "        x2_0_psi_est = x1_0_psi_est\n",
    "        x2_0_J_est = x1_0_J_est\n",
    "        \n",
    "    plt.figure(figsize=(12,5))\n",
    "    plt.subplot(1, 2, 1)\n",
    "    plt.plot(xi, x1_0_psi_est, \"-\", ms=5, label=\"LPN (Learned $\\\\psi$)\")\n",
    "    plt.plot(xi, x1_0_psi_true, \"--\", ms=5, label=\"True $\\\\psi$ for $J(x)=\\\\|x\\\\|_1$\")\n",
    "    plt.grid(True)\n",
    "    plt.title(f\"$\\\\psi(y_1,0,...)$ - Dim {dim}, $J(x)=\\\\|x\\\\|_1$\")\n",
    "    plt.xlabel('$y_1$')\n",
    "    plt.ylabel('$\\\\psi(y_1,0,...)$')\n",
    "    plt.legend()\n",
    "\n",
    "    if dim > 1:\n",
    "        plt.subplot(1, 2, 2) # Second plot for psi if dim > 1\n",
    "        plt.plot(xi, x2_0_psi_est, \"-\", ms=5, label=\"LPN (Learned $\\\\psi$)\")\n",
    "        plt.plot(xi, x2_0_psi_true, \"--\", ms=5, label=\"True $\\\\psi$ for $J(x)=\\\\|x\\\\|_1$\")\n",
    "        plt.grid(True)\n",
    "        plt.title(f\"$\\\\psi(0,y_2,0,...)$ - Dim {dim}, $J(x)=\\\\|x\\\\|_1$\")\n",
    "        plt.xlabel('$y_2$')\n",
    "        plt.ylabel('$\\\\psi(0,y_2,0,...)$')\n",
    "        plt.legend()\n",
    "    plt.tight_layout()\n",
    "    plt.show()\n",
    "\n",
    "    plt.figure(figsize=(12,5))\n",
    "    plt.subplot(1, 2, 1)\n",
    "    plt.plot(xi, x1_0_J_est, \"-\", label=\"LPN (Learned $J$)\")\n",
    "    plt.plot(xi, x1_0_J_true, \"--\", label=\"True $J(x)=\\\\|x\\\\|_1$\")\n",
    "    plt.grid(True)\n",
    "    plt.title(f\"Prior $J(x_1,0,...)$ - Dim {dim}, $J(x)=\\\\|x\\\\|_1$\")\n",
    "    plt.xlabel('$x_1$')\n",
    "    plt.ylabel('$J(x_1,0,...)$')\n",
    "    plt.legend()\n",
    "\n",
    "    if dim > 1:\n",
    "        plt.subplot(1, 2, 2)\n",
    "        plt.plot(xi, x2_0_J_est, \"-\", label=\"LPN (Learned $J$)\")\n",
    "        plt.plot(xi, x2_0_J_true, \"--\", label=\"True $J(x)=\\\\|x\\\\|_1$\")\n",
    "        plt.grid(True)\n",
    "        plt.title(f\"Prior $J(0,x_2,0,...)$ - Dim {dim}, $J(x)=\\\\|x\\\\|_1$\")\n",
    "        plt.xlabel('$x_2$')\n",
    "        plt.ylabel('$J(0,x_2,0,...)$')\n",
    "        plt.legend()\n",
    "    plt.tight_layout()\n",
    "    plt.show()\n",
    "\n",
    "def plot_all_quadratic_l1(model, a, spacing, INVERT_MODE, dim):\n",
    "    print(f\"\\n--- Plotting Cross Sections for Quadratic H, L1 Prior (Dim={dim}) ---\")\n",
    "    cross_sections_plots_quadratic_l1(model, a, spacing, INVERT_MODE, dim)\n",
    "\n"
   ]
  },
  {
   "cell_type": "code",
   "execution_count": 4,
   "metadata": {
    "execution": {
     "iopub.execute_input": "2025-10-30T02:35:37.643239Z",
     "iopub.status.busy": "2025-10-30T02:35:37.642978Z",
     "iopub.status.idle": "2025-10-30T02:35:37.646417Z",
     "shell.execute_reply": "2025-10-30T02:35:37.645909Z"
    }
   },
   "outputs": [],
   "source": [
    "\n",
    "def exp_func(x, gamma):\n",
    "    # Ensure x is a 1D tensor for vector_norm if it comes in as N x 1\n",
    "    if x.ndim > 1 and x.shape[1] == 1:\n",
    "        x = x.squeeze(1)\n",
    "    return -torch.exp(-((torch.linalg.vector_norm(x, ord = 2, dim=-1)/ gamma) ** 2)) + 1.0"
   ]
  },
  {
   "cell_type": "markdown",
   "metadata": {},
   "source": [
    "# --- Generate Training Data (using Moreau envelope target as per notebook) ---"
   ]
  },
  {
   "cell_type": "code",
   "execution_count": 5,
   "metadata": {
    "execution": {
     "iopub.execute_input": "2025-10-30T02:35:37.648711Z",
     "iopub.status.busy": "2025-10-30T02:35:37.648441Z",
     "iopub.status.idle": "2025-10-30T02:35:37.894900Z",
     "shell.execute_reply": "2025-10-30T02:35:37.894270Z"
    }
   },
   "outputs": [
    {
     "name": "stdout",
     "output_type": "stream",
     "text": [
      "Generated training data: y_j_exp_tensor shape torch.Size([30000, 16]), cvx_samples_exp_tensor shape torch.Size([30000, 1])\n"
     ]
    }
   ],
   "source": [
    "# --- Generate Training Data ---\n",
    "y_j_exp_np = np.random.uniform(-a_exp, a_exp, (data_points_exp, dim_exp))\n",
    "\n",
    "cvx_samples_exp_np = cvx_true_quadratic_l1(y_j_exp_np)\n",
    "cvx_samples_exp_np = cvx_samples_exp_np.reshape(-1, 1)\n",
    "\n",
    "y_j_exp_tensor = torch.from_numpy(y_j_exp_np).float()\n",
    "cvx_samples_exp_tensor = torch.from_numpy(cvx_samples_exp_np).float()\n",
    "print(f\"Generated training data: y_j_exp_tensor shape {y_j_exp_tensor.shape}, cvx_samples_exp_tensor shape {cvx_samples_exp_tensor.shape}\")\n",
    "# --- ADD THIS TO MOVE DATA TO GPU ---\n",
    "y_j_exp_tensor = y_j_exp_tensor.to(device)\n",
    "cvx_samples_exp_tensor = cvx_samples_exp_tensor.to(device)"
   ]
  },
  {
   "cell_type": "markdown",
   "metadata": {},
   "source": [
    "## Training function"
   ]
  },
  {
   "cell_type": "code",
   "execution_count": 6,
   "metadata": {
    "execution": {
     "iopub.execute_input": "2025-10-30T02:35:37.911793Z",
     "iopub.status.busy": "2025-10-30T02:35:37.911528Z",
     "iopub.status.idle": "2025-10-30T02:35:37.915917Z",
     "shell.execute_reply": "2025-10-30T02:35:37.915472Z"
    }
   },
   "outputs": [],
   "source": [
    "def single_iteration(i, data_points, lpn_model, optimizer,input,cvx_samples,loss_type, gamma_loss=None):\n",
    "    # Compute the convex function from the input.\n",
    "    cvx_out = lpn_model.scalar(input)\n",
    "\n",
    "    # Calculate the loss function\n",
    "    if loss_type == 2:\n",
    "        loss = (cvx_out - cvx_samples).pow(2).sum() / data_points # MSE loss\n",
    "    elif loss_type == 1:\n",
    "        loss = (cvx_out - cvx_samples).abs().sum() / data_points    # MAE loss\n",
    "    elif loss_type == 0:\n",
    "        loss = exp_func(cvx_out - cvx_samples, gamma_loss).mean()   # proximal matching loss\n",
    "    else:\n",
    "        raise ValueError(\"loss_type must be 0, 1, or 2\")\n",
    "\n",
    "\n",
    "    optimizer.zero_grad()\n",
    "    loss.backward()\n",
    "    optimizer.step()\n",
    "\n",
    "    lpn_model.wclip()\n",
    "\n",
    "    # monitor\n",
    "    # loss_lstar = exp_func(out - target, 0.1).mean()\n",
    "\n",
    "    if not i % 500:\n",
    "        print(\"iteration\", i, \"loss\", loss.item()) #, \"loss_lstar\", loss_lstar.item())"
   ]
  },
  {
   "cell_type": "markdown",
   "metadata": {},
   "source": [
    "# Train"
   ]
  },
  {
   "cell_type": "markdown",
   "metadata": {},
   "source": [
    "L2 loss -- Train"
   ]
  },
  {
   "cell_type": "code",
   "execution_count": 7,
   "metadata": {
    "execution": {
     "iopub.execute_input": "2025-10-30T02:35:37.917988Z",
     "iopub.status.busy": "2025-10-30T02:35:37.917720Z",
     "iopub.status.idle": "2025-10-30T02:41:33.256466Z",
     "shell.execute_reply": "2025-10-30T02:41:33.255673Z"
    }
   },
   "outputs": [
    {
     "name": "stdout",
     "output_type": "stream",
     "text": [
      "--- Training LPN for J(x)=||x||_1 (Quadratic H) ---\n"
     ]
    },
    {
     "name": "stdout",
     "output_type": "stream",
     "text": [
      "iteration 0 loss 609.7056884765625\n",
      "iteration 0 loss 172.42796325683594\n"
     ]
    },
    {
     "name": "stdout",
     "output_type": "stream",
     "text": [
      "iteration 500 loss 10.859137535095215\n"
     ]
    },
    {
     "name": "stdout",
     "output_type": "stream",
     "text": [
      "iteration 1000 loss 9.614591598510742\n"
     ]
    },
    {
     "name": "stdout",
     "output_type": "stream",
     "text": [
      "iteration 1500 loss 8.878959655761719\n"
     ]
    },
    {
     "name": "stdout",
     "output_type": "stream",
     "text": [
      "iteration 2000 loss 8.192453384399414\n"
     ]
    },
    {
     "name": "stdout",
     "output_type": "stream",
     "text": [
      "iteration 2500 loss 7.373378276824951\n"
     ]
    },
    {
     "name": "stdout",
     "output_type": "stream",
     "text": [
      "iteration 3000 loss 6.339921951293945\n"
     ]
    },
    {
     "name": "stdout",
     "output_type": "stream",
     "text": [
      "iteration 3500 loss 4.968112468719482\n"
     ]
    },
    {
     "name": "stdout",
     "output_type": "stream",
     "text": [
      "iteration 4000 loss 3.1097609996795654\n"
     ]
    },
    {
     "name": "stdout",
     "output_type": "stream",
     "text": [
      "iteration 4500 loss 1.5160486698150635\n"
     ]
    },
    {
     "name": "stdout",
     "output_type": "stream",
     "text": [
      "iteration 5000 loss 1.0512359142303467\n"
     ]
    },
    {
     "name": "stdout",
     "output_type": "stream",
     "text": [
      "iteration 5500 loss 0.8425367474555969\n"
     ]
    },
    {
     "name": "stdout",
     "output_type": "stream",
     "text": [
      "iteration 6000 loss 0.708189845085144\n"
     ]
    },
    {
     "name": "stdout",
     "output_type": "stream",
     "text": [
      "iteration 6500 loss 0.6142382621765137\n"
     ]
    },
    {
     "name": "stdout",
     "output_type": "stream",
     "text": [
      "iteration 7000 loss 0.5465449690818787\n"
     ]
    },
    {
     "name": "stdout",
     "output_type": "stream",
     "text": [
      "iteration 7500 loss 0.4954706132411957\n"
     ]
    },
    {
     "name": "stdout",
     "output_type": "stream",
     "text": [
      "iteration 8000 loss 0.4556882977485657\n"
     ]
    },
    {
     "name": "stdout",
     "output_type": "stream",
     "text": [
      "iteration 8500 loss 0.42446449398994446\n"
     ]
    },
    {
     "name": "stdout",
     "output_type": "stream",
     "text": [
      "iteration 9000 loss 0.3980069160461426\n"
     ]
    },
    {
     "name": "stdout",
     "output_type": "stream",
     "text": [
      "iteration 9500 loss 0.3779471218585968\n"
     ]
    },
    {
     "name": "stdout",
     "output_type": "stream",
     "text": [
      "iteration 10000 loss 0.3620549440383911\n"
     ]
    },
    {
     "name": "stdout",
     "output_type": "stream",
     "text": [
      "iteration 10500 loss 0.35169681906700134\n"
     ]
    },
    {
     "name": "stdout",
     "output_type": "stream",
     "text": [
      "iteration 11000 loss 0.33914297819137573\n"
     ]
    },
    {
     "name": "stdout",
     "output_type": "stream",
     "text": [
      "iteration 11500 loss 0.3298488259315491\n"
     ]
    },
    {
     "name": "stdout",
     "output_type": "stream",
     "text": [
      "iteration 12000 loss 0.3222980797290802\n"
     ]
    },
    {
     "name": "stdout",
     "output_type": "stream",
     "text": [
      "iteration 12500 loss 0.3151448667049408\n"
     ]
    },
    {
     "name": "stdout",
     "output_type": "stream",
     "text": [
      "iteration 13000 loss 0.3084735572338104\n"
     ]
    },
    {
     "name": "stdout",
     "output_type": "stream",
     "text": [
      "iteration 13500 loss 0.3040355443954468\n"
     ]
    },
    {
     "name": "stdout",
     "output_type": "stream",
     "text": [
      "iteration 14000 loss 0.29889896512031555\n"
     ]
    },
    {
     "name": "stdout",
     "output_type": "stream",
     "text": [
      "iteration 14500 loss 0.29381731152534485\n"
     ]
    },
    {
     "name": "stdout",
     "output_type": "stream",
     "text": [
      "iteration 15000 loss 0.2904130518436432\n"
     ]
    },
    {
     "name": "stdout",
     "output_type": "stream",
     "text": [
      "iteration 15500 loss 0.2863570749759674\n"
     ]
    },
    {
     "name": "stdout",
     "output_type": "stream",
     "text": [
      "iteration 16000 loss 0.282101035118103\n"
     ]
    },
    {
     "name": "stdout",
     "output_type": "stream",
     "text": [
      "iteration 16500 loss 0.27929508686065674\n"
     ]
    },
    {
     "name": "stdout",
     "output_type": "stream",
     "text": [
      "iteration 17000 loss 0.2758546769618988\n"
     ]
    },
    {
     "name": "stdout",
     "output_type": "stream",
     "text": [
      "iteration 17500 loss 0.27189895510673523\n"
     ]
    },
    {
     "name": "stdout",
     "output_type": "stream",
     "text": [
      "iteration 18000 loss 0.26920008659362793\n"
     ]
    },
    {
     "name": "stdout",
     "output_type": "stream",
     "text": [
      "iteration 18500 loss 0.26591333746910095\n"
     ]
    },
    {
     "name": "stdout",
     "output_type": "stream",
     "text": [
      "iteration 19000 loss 0.2622873783111572\n"
     ]
    },
    {
     "name": "stdout",
     "output_type": "stream",
     "text": [
      "iteration 19500 loss 0.2597862184047699\n"
     ]
    },
    {
     "name": "stdout",
     "output_type": "stream",
     "text": [
      "Learning rate decreased to 1e-05 at iteration 20000\n",
      "iteration 20000 loss 0.2567368745803833\n"
     ]
    },
    {
     "name": "stdout",
     "output_type": "stream",
     "text": [
      "iteration 20500 loss 0.2563687264919281\n"
     ]
    },
    {
     "name": "stdout",
     "output_type": "stream",
     "text": [
      "iteration 21000 loss 0.25591298937797546\n"
     ]
    },
    {
     "name": "stdout",
     "output_type": "stream",
     "text": [
      "iteration 21500 loss 0.25535017251968384\n"
     ]
    },
    {
     "name": "stdout",
     "output_type": "stream",
     "text": [
      "iteration 22000 loss 0.25465717911720276\n"
     ]
    },
    {
     "name": "stdout",
     "output_type": "stream",
     "text": [
      "iteration 22500 loss 0.25381070375442505\n"
     ]
    },
    {
     "name": "stdout",
     "output_type": "stream",
     "text": [
      "iteration 23000 loss 0.2527868449687958\n"
     ]
    },
    {
     "name": "stdout",
     "output_type": "stream",
     "text": [
      "iteration 23500 loss 0.2515603303909302\n"
     ]
    },
    {
     "name": "stdout",
     "output_type": "stream",
     "text": [
      "iteration 24000 loss 0.2501119077205658\n"
     ]
    },
    {
     "name": "stdout",
     "output_type": "stream",
     "text": [
      "iteration 24500 loss 0.2484254539012909\n"
     ]
    },
    {
     "name": "stdout",
     "output_type": "stream",
     "text": [
      "iteration 25000 loss 0.24650442600250244\n"
     ]
    },
    {
     "name": "stdout",
     "output_type": "stream",
     "text": [
      "iteration 25500 loss 0.24445435404777527\n"
     ]
    },
    {
     "name": "stdout",
     "output_type": "stream",
     "text": [
      "iteration 26000 loss 0.2424466758966446\n"
     ]
    },
    {
     "name": "stdout",
     "output_type": "stream",
     "text": [
      "iteration 26500 loss 0.24041563272476196\n"
     ]
    },
    {
     "name": "stdout",
     "output_type": "stream",
     "text": [
      "iteration 27000 loss 0.23843249678611755\n"
     ]
    },
    {
     "name": "stdout",
     "output_type": "stream",
     "text": [
      "iteration 27500 loss 0.23646920919418335\n"
     ]
    },
    {
     "name": "stdout",
     "output_type": "stream",
     "text": [
      "iteration 28000 loss 0.2345232218503952\n"
     ]
    },
    {
     "name": "stdout",
     "output_type": "stream",
     "text": [
      "iteration 28500 loss 0.23258499801158905\n"
     ]
    },
    {
     "name": "stdout",
     "output_type": "stream",
     "text": [
      "iteration 29000 loss 0.23064319789409637\n"
     ]
    },
    {
     "name": "stdout",
     "output_type": "stream",
     "text": [
      "iteration 29500 loss 0.2286890596151352\n"
     ]
    },
    {
     "name": "stdout",
     "output_type": "stream",
     "text": [
      "iteration 30000 loss 0.22677645087242126\n"
     ]
    },
    {
     "name": "stdout",
     "output_type": "stream",
     "text": [
      "iteration 30500 loss 0.22488756477832794\n"
     ]
    },
    {
     "name": "stdout",
     "output_type": "stream",
     "text": [
      "iteration 31000 loss 0.22305111587047577\n"
     ]
    },
    {
     "name": "stdout",
     "output_type": "stream",
     "text": [
      "iteration 31500 loss 0.22124934196472168\n"
     ]
    },
    {
     "name": "stdout",
     "output_type": "stream",
     "text": [
      "iteration 32000 loss 0.2194889783859253\n"
     ]
    },
    {
     "name": "stdout",
     "output_type": "stream",
     "text": [
      "iteration 32500 loss 0.2177760750055313\n"
     ]
    },
    {
     "name": "stdout",
     "output_type": "stream",
     "text": [
      "iteration 33000 loss 0.21608088910579681\n"
     ]
    },
    {
     "name": "stdout",
     "output_type": "stream",
     "text": [
      "iteration 33500 loss 0.2144491821527481\n"
     ]
    },
    {
     "name": "stdout",
     "output_type": "stream",
     "text": [
      "iteration 34000 loss 0.21282871067523956\n"
     ]
    },
    {
     "name": "stdout",
     "output_type": "stream",
     "text": [
      "iteration 34500 loss 0.21123471856117249\n"
     ]
    },
    {
     "name": "stdout",
     "output_type": "stream",
     "text": [
      "iteration 35000 loss 0.2096196711063385\n"
     ]
    },
    {
     "name": "stdout",
     "output_type": "stream",
     "text": [
      "iteration 35500 loss 0.20796723663806915\n"
     ]
    },
    {
     "name": "stdout",
     "output_type": "stream",
     "text": [
      "iteration 36000 loss 0.2061961442232132\n"
     ]
    },
    {
     "name": "stdout",
     "output_type": "stream",
     "text": [
      "iteration 36500 loss 0.20433767139911652\n"
     ]
    },
    {
     "name": "stdout",
     "output_type": "stream",
     "text": [
      "iteration 37000 loss 0.20244193077087402\n"
     ]
    },
    {
     "name": "stdout",
     "output_type": "stream",
     "text": [
      "iteration 37500 loss 0.20052331686019897\n"
     ]
    },
    {
     "name": "stdout",
     "output_type": "stream",
     "text": [
      "iteration 38000 loss 0.19862224161624908\n"
     ]
    },
    {
     "name": "stdout",
     "output_type": "stream",
     "text": [
      "iteration 38500 loss 0.1967799812555313\n"
     ]
    },
    {
     "name": "stdout",
     "output_type": "stream",
     "text": [
      "iteration 39000 loss 0.1950041949748993\n"
     ]
    },
    {
     "name": "stdout",
     "output_type": "stream",
     "text": [
      "iteration 39500 loss 0.1933065503835678\n"
     ]
    },
    {
     "name": "stdout",
     "output_type": "stream",
     "text": [
      "Learning rate decreased to 1.0000000000000002e-06 at iteration 40000\n",
      "iteration 40000 loss 0.19166044890880585\n"
     ]
    },
    {
     "name": "stdout",
     "output_type": "stream",
     "text": [
      "iteration 40500 loss 0.19148486852645874\n"
     ]
    },
    {
     "name": "stdout",
     "output_type": "stream",
     "text": [
      "iteration 41000 loss 0.19128639996051788\n"
     ]
    },
    {
     "name": "stdout",
     "output_type": "stream",
     "text": [
      "iteration 41500 loss 0.1910628229379654\n"
     ]
    },
    {
     "name": "stdout",
     "output_type": "stream",
     "text": [
      "iteration 42000 loss 0.19081604480743408\n"
     ]
    },
    {
     "name": "stdout",
     "output_type": "stream",
     "text": [
      "iteration 42500 loss 0.19054889678955078\n"
     ]
    },
    {
     "name": "stdout",
     "output_type": "stream",
     "text": [
      "iteration 43000 loss 0.19026510417461395\n"
     ]
    },
    {
     "name": "stdout",
     "output_type": "stream",
     "text": [
      "iteration 43500 loss 0.18996870517730713\n"
     ]
    },
    {
     "name": "stdout",
     "output_type": "stream",
     "text": [
      "iteration 44000 loss 0.18966327607631683\n"
     ]
    },
    {
     "name": "stdout",
     "output_type": "stream",
     "text": [
      "iteration 44500 loss 0.18935203552246094\n"
     ]
    },
    {
     "name": "stdout",
     "output_type": "stream",
     "text": [
      "iteration 45000 loss 0.18903730809688568\n"
     ]
    },
    {
     "name": "stdout",
     "output_type": "stream",
     "text": [
      "iteration 45500 loss 0.18872156739234924\n"
     ]
    },
    {
     "name": "stdout",
     "output_type": "stream",
     "text": [
      "iteration 46000 loss 0.1884065866470337\n"
     ]
    },
    {
     "name": "stdout",
     "output_type": "stream",
     "text": [
      "iteration 46500 loss 0.18809303641319275\n"
     ]
    },
    {
     "name": "stdout",
     "output_type": "stream",
     "text": [
      "iteration 47000 loss 0.18778125941753387\n"
     ]
    },
    {
     "name": "stdout",
     "output_type": "stream",
     "text": [
      "iteration 47500 loss 0.1874714195728302\n"
     ]
    },
    {
     "name": "stdout",
     "output_type": "stream",
     "text": [
      "iteration 48000 loss 0.18716351687908173\n"
     ]
    },
    {
     "name": "stdout",
     "output_type": "stream",
     "text": [
      "iteration 48500 loss 0.1868571937084198\n"
     ]
    },
    {
     "name": "stdout",
     "output_type": "stream",
     "text": [
      "iteration 49000 loss 0.1865525245666504\n"
     ]
    },
    {
     "name": "stdout",
     "output_type": "stream",
     "text": [
      "iteration 49500 loss 0.18624922633171082\n"
     ]
    },
    {
     "name": "stdout",
     "output_type": "stream",
     "text": [
      "iteration 50000 loss 0.1859470009803772\n"
     ]
    },
    {
     "name": "stdout",
     "output_type": "stream",
     "text": [
      "iteration 50500 loss 0.18564578890800476\n"
     ]
    },
    {
     "name": "stdout",
     "output_type": "stream",
     "text": [
      "iteration 51000 loss 0.18534544110298157\n"
     ]
    },
    {
     "name": "stdout",
     "output_type": "stream",
     "text": [
      "iteration 51500 loss 0.18504643440246582\n"
     ]
    },
    {
     "name": "stdout",
     "output_type": "stream",
     "text": [
      "iteration 52000 loss 0.1847483217716217\n"
     ]
    },
    {
     "name": "stdout",
     "output_type": "stream",
     "text": [
      "iteration 52500 loss 0.18445073068141937\n"
     ]
    },
    {
     "name": "stdout",
     "output_type": "stream",
     "text": [
      "iteration 53000 loss 0.18415381014347076\n"
     ]
    },
    {
     "name": "stdout",
     "output_type": "stream",
     "text": [
      "iteration 53500 loss 0.18385758996009827\n"
     ]
    },
    {
     "name": "stdout",
     "output_type": "stream",
     "text": [
      "iteration 54000 loss 0.18356193602085114\n"
     ]
    },
    {
     "name": "stdout",
     "output_type": "stream",
     "text": [
      "iteration 54500 loss 0.18326686322689056\n"
     ]
    },
    {
     "name": "stdout",
     "output_type": "stream",
     "text": [
      "iteration 55000 loss 0.18297283351421356\n"
     ]
    },
    {
     "name": "stdout",
     "output_type": "stream",
     "text": [
      "iteration 55500 loss 0.18267901241779327\n"
     ]
    },
    {
     "name": "stdout",
     "output_type": "stream",
     "text": [
      "iteration 56000 loss 0.18238596618175507\n"
     ]
    },
    {
     "name": "stdout",
     "output_type": "stream",
     "text": [
      "iteration 56500 loss 0.18209314346313477\n"
     ]
    },
    {
     "name": "stdout",
     "output_type": "stream",
     "text": [
      "iteration 57000 loss 0.18180064857006073\n"
     ]
    },
    {
     "name": "stdout",
     "output_type": "stream",
     "text": [
      "iteration 57500 loss 0.18150855600833893\n"
     ]
    },
    {
     "name": "stdout",
     "output_type": "stream",
     "text": [
      "iteration 58000 loss 0.18121664226055145\n"
     ]
    },
    {
     "name": "stdout",
     "output_type": "stream",
     "text": [
      "iteration 58500 loss 0.18092483282089233\n"
     ]
    },
    {
     "name": "stdout",
     "output_type": "stream",
     "text": [
      "iteration 59000 loss 0.18063339591026306\n"
     ]
    },
    {
     "name": "stdout",
     "output_type": "stream",
     "text": [
      "iteration 59500 loss 0.1803419589996338\n"
     ]
    },
    {
     "name": "stdout",
     "output_type": "stream",
     "text": [
      "Learning rate decreased to 1.0000000000000002e-07 at iteration 60000\n",
      "iteration 60000 loss 0.18005044758319855\n"
     ]
    },
    {
     "name": "stdout",
     "output_type": "stream",
     "text": [
      "iteration 60500 loss 0.1800210326910019\n"
     ]
    },
    {
     "name": "stdout",
     "output_type": "stream",
     "text": [
      "iteration 61000 loss 0.17999134957790375\n"
     ]
    },
    {
     "name": "stdout",
     "output_type": "stream",
     "text": [
      "iteration 61500 loss 0.17996138334274292\n"
     ]
    },
    {
     "name": "stdout",
     "output_type": "stream",
     "text": [
      "iteration 62000 loss 0.17993128299713135\n"
     ]
    },
    {
     "name": "stdout",
     "output_type": "stream",
     "text": [
      "iteration 62500 loss 0.17990107834339142\n"
     ]
    },
    {
     "name": "stdout",
     "output_type": "stream",
     "text": [
      "iteration 63000 loss 0.1798708289861679\n"
     ]
    },
    {
     "name": "stdout",
     "output_type": "stream",
     "text": [
      "iteration 63500 loss 0.1798405945301056\n"
     ]
    },
    {
     "name": "stdout",
     "output_type": "stream",
     "text": [
      "iteration 64000 loss 0.17981038987636566\n"
     ]
    },
    {
     "name": "stdout",
     "output_type": "stream",
     "text": [
      "iteration 64500 loss 0.17978020012378693\n"
     ]
    },
    {
     "name": "stdout",
     "output_type": "stream",
     "text": [
      "iteration 65000 loss 0.17975006997585297\n"
     ]
    },
    {
     "name": "stdout",
     "output_type": "stream",
     "text": [
      "iteration 65500 loss 0.1797199696302414\n"
     ]
    },
    {
     "name": "stdout",
     "output_type": "stream",
     "text": [
      "iteration 66000 loss 0.1796899139881134\n"
     ]
    },
    {
     "name": "stdout",
     "output_type": "stream",
     "text": [
      "iteration 66500 loss 0.1796599179506302\n"
     ]
    },
    {
     "name": "stdout",
     "output_type": "stream",
     "text": [
      "iteration 67000 loss 0.17962992191314697\n"
     ]
    },
    {
     "name": "stdout",
     "output_type": "stream",
     "text": [
      "iteration 67500 loss 0.17960000038146973\n"
     ]
    },
    {
     "name": "stdout",
     "output_type": "stream",
     "text": [
      "iteration 68000 loss 0.1795700639486313\n"
     ]
    },
    {
     "name": "stdout",
     "output_type": "stream",
     "text": [
      "iteration 68500 loss 0.17954017221927643\n"
     ]
    },
    {
     "name": "stdout",
     "output_type": "stream",
     "text": [
      "iteration 69000 loss 0.17951032519340515\n"
     ]
    },
    {
     "name": "stdout",
     "output_type": "stream",
     "text": [
      "iteration 69500 loss 0.1794804334640503\n"
     ]
    },
    {
     "name": "stdout",
     "output_type": "stream",
     "text": [
      "iteration 70000 loss 0.1794506162405014\n"
     ]
    },
    {
     "name": "stdout",
     "output_type": "stream",
     "text": [
      "iteration 70500 loss 0.17942078411579132\n"
     ]
    },
    {
     "name": "stdout",
     "output_type": "stream",
     "text": [
      "iteration 71000 loss 0.17939098179340363\n"
     ]
    },
    {
     "name": "stdout",
     "output_type": "stream",
     "text": [
      "iteration 71500 loss 0.17936119437217712\n"
     ]
    },
    {
     "name": "stdout",
     "output_type": "stream",
     "text": [
      "iteration 72000 loss 0.1793314516544342\n"
     ]
    },
    {
     "name": "stdout",
     "output_type": "stream",
     "text": [
      "iteration 72500 loss 0.17930175364017487\n"
     ]
    },
    {
     "name": "stdout",
     "output_type": "stream",
     "text": [
      "iteration 73000 loss 0.17927204072475433\n"
     ]
    },
    {
     "name": "stdout",
     "output_type": "stream",
     "text": [
      "iteration 73500 loss 0.179242342710495\n"
     ]
    },
    {
     "name": "stdout",
     "output_type": "stream",
     "text": [
      "iteration 74000 loss 0.17921264469623566\n"
     ]
    },
    {
     "name": "stdout",
     "output_type": "stream",
     "text": [
      "iteration 74500 loss 0.1791829764842987\n"
     ]
    },
    {
     "name": "stdout",
     "output_type": "stream",
     "text": [
      "iteration 75000 loss 0.17915329337120056\n"
     ]
    },
    {
     "name": "stdout",
     "output_type": "stream",
     "text": [
      "iteration 75500 loss 0.1791236251592636\n"
     ]
    },
    {
     "name": "stdout",
     "output_type": "stream",
     "text": [
      "iteration 76000 loss 0.17909394204616547\n"
     ]
    },
    {
     "name": "stdout",
     "output_type": "stream",
     "text": [
      "iteration 76500 loss 0.1790642887353897\n"
     ]
    },
    {
     "name": "stdout",
     "output_type": "stream",
     "text": [
      "iteration 77000 loss 0.17903466522693634\n"
     ]
    },
    {
     "name": "stdout",
     "output_type": "stream",
     "text": [
      "iteration 77500 loss 0.17900504171848297\n"
     ]
    },
    {
     "name": "stdout",
     "output_type": "stream",
     "text": [
      "iteration 78000 loss 0.178975448012352\n"
     ]
    },
    {
     "name": "stdout",
     "output_type": "stream",
     "text": [
      "iteration 78500 loss 0.17894583940505981\n"
     ]
    },
    {
     "name": "stdout",
     "output_type": "stream",
     "text": [
      "iteration 79000 loss 0.17891626060009003\n"
     ]
    },
    {
     "name": "stdout",
     "output_type": "stream",
     "text": [
      "iteration 79500 loss 0.17888668179512024\n"
     ]
    },
    {
     "name": "stdout",
     "output_type": "stream",
     "text": [
      "Learning rate decreased to 1.0000000000000004e-08 at iteration 80000\n",
      "iteration 80000 loss 0.17885710299015045\n"
     ]
    },
    {
     "name": "stdout",
     "output_type": "stream",
     "text": [
      "iteration 80500 loss 0.17885443568229675\n"
     ]
    },
    {
     "name": "stdout",
     "output_type": "stream",
     "text": [
      "iteration 81000 loss 0.17885173857212067\n"
     ]
    },
    {
     "name": "stdout",
     "output_type": "stream",
     "text": [
      "iteration 81500 loss 0.17884908616542816\n"
     ]
    },
    {
     "name": "stdout",
     "output_type": "stream",
     "text": [
      "iteration 82000 loss 0.17884641885757446\n"
     ]
    },
    {
     "name": "stdout",
     "output_type": "stream",
     "text": [
      "iteration 82500 loss 0.17884373664855957\n"
     ]
    },
    {
     "name": "stdout",
     "output_type": "stream",
     "text": [
      "iteration 83000 loss 0.17884106934070587\n"
     ]
    },
    {
     "name": "stdout",
     "output_type": "stream",
     "text": [
      "iteration 83500 loss 0.17883843183517456\n"
     ]
    },
    {
     "name": "stdout",
     "output_type": "stream",
     "text": [
      "iteration 84000 loss 0.17883573472499847\n"
     ]
    },
    {
     "name": "stdout",
     "output_type": "stream",
     "text": [
      "iteration 84500 loss 0.17883305251598358\n"
     ]
    },
    {
     "name": "stdout",
     "output_type": "stream",
     "text": [
      "iteration 85000 loss 0.17883040010929108\n"
     ]
    },
    {
     "name": "stdout",
     "output_type": "stream",
     "text": [
      "iteration 85500 loss 0.17882773280143738\n"
     ]
    },
    {
     "name": "stdout",
     "output_type": "stream",
     "text": [
      "iteration 86000 loss 0.17882506549358368\n"
     ]
    },
    {
     "name": "stdout",
     "output_type": "stream",
     "text": [
      "iteration 86500 loss 0.17882239818572998\n"
     ]
    },
    {
     "name": "stdout",
     "output_type": "stream",
     "text": [
      "iteration 87000 loss 0.17881973087787628\n"
     ]
    },
    {
     "name": "stdout",
     "output_type": "stream",
     "text": [
      "iteration 87500 loss 0.17881707847118378\n"
     ]
    },
    {
     "name": "stdout",
     "output_type": "stream",
     "text": [
      "iteration 88000 loss 0.17881442606449127\n"
     ]
    },
    {
     "name": "stdout",
     "output_type": "stream",
     "text": [
      "iteration 88500 loss 0.17881174385547638\n"
     ]
    },
    {
     "name": "stdout",
     "output_type": "stream",
     "text": [
      "iteration 89000 loss 0.17880909144878387\n"
     ]
    },
    {
     "name": "stdout",
     "output_type": "stream",
     "text": [
      "iteration 89500 loss 0.17880640923976898\n"
     ]
    },
    {
     "name": "stdout",
     "output_type": "stream",
     "text": [
      "iteration 90000 loss 0.17880375683307648\n"
     ]
    },
    {
     "name": "stdout",
     "output_type": "stream",
     "text": [
      "iteration 90500 loss 0.17880107462406158\n"
     ]
    },
    {
     "name": "stdout",
     "output_type": "stream",
     "text": [
      "iteration 91000 loss 0.17879843711853027\n"
     ]
    },
    {
     "name": "stdout",
     "output_type": "stream",
     "text": [
      "iteration 91500 loss 0.17879579961299896\n"
     ]
    },
    {
     "name": "stdout",
     "output_type": "stream",
     "text": [
      "iteration 92000 loss 0.17879313230514526\n"
     ]
    },
    {
     "name": "stdout",
     "output_type": "stream",
     "text": [
      "iteration 92500 loss 0.17879045009613037\n"
     ]
    },
    {
     "name": "stdout",
     "output_type": "stream",
     "text": [
      "iteration 93000 loss 0.17878779768943787\n"
     ]
    },
    {
     "name": "stdout",
     "output_type": "stream",
     "text": [
      "iteration 93500 loss 0.17878516018390656\n"
     ]
    },
    {
     "name": "stdout",
     "output_type": "stream",
     "text": [
      "iteration 94000 loss 0.17878249287605286\n"
     ]
    },
    {
     "name": "stdout",
     "output_type": "stream",
     "text": [
      "iteration 94500 loss 0.17877982556819916\n"
     ]
    },
    {
     "name": "stdout",
     "output_type": "stream",
     "text": [
      "iteration 95000 loss 0.17877717316150665\n"
     ]
    },
    {
     "name": "stdout",
     "output_type": "stream",
     "text": [
      "iteration 95500 loss 0.17877453565597534\n"
     ]
    },
    {
     "name": "stdout",
     "output_type": "stream",
     "text": [
      "iteration 96000 loss 0.17877183854579926\n"
     ]
    },
    {
     "name": "stdout",
     "output_type": "stream",
     "text": [
      "iteration 96500 loss 0.17876920104026794\n"
     ]
    },
    {
     "name": "stdout",
     "output_type": "stream",
     "text": [
      "iteration 97000 loss 0.17876654863357544\n"
     ]
    },
    {
     "name": "stdout",
     "output_type": "stream",
     "text": [
      "iteration 97500 loss 0.17876388132572174\n"
     ]
    },
    {
     "name": "stdout",
     "output_type": "stream",
     "text": [
      "iteration 98000 loss 0.17876122891902924\n"
     ]
    },
    {
     "name": "stdout",
     "output_type": "stream",
     "text": [
      "iteration 98500 loss 0.17875859141349792\n"
     ]
    },
    {
     "name": "stdout",
     "output_type": "stream",
     "text": [
      "iteration 99000 loss 0.17875592410564423\n"
     ]
    },
    {
     "name": "stdout",
     "output_type": "stream",
     "text": [
      "iteration 99500 loss 0.17875328660011292\n"
     ]
    }
   ],
   "source": [
    "\n",
    "print(\"--- Training LPN for J(x)=||x||_1 (Quadratic H) ---\")\n",
    "lpn_model_quad_l2 = LPN(in_dim=dim_exp, hidden=hidden, layers=layers, beta=beta,eps=1e-3).to(device)\n",
    "optimizer_quad_l2 = torch.optim.Adam(lpn_model_quad_l2.parameters(), lr=1e-4)\n",
    "\n",
    "for i in range(1):\n",
    "     single_iteration(i, data_points_exp, lpn_model_quad_l2, optimizer_quad_l2, y_j_exp_tensor,cvx_samples_exp_tensor,loss_type=2,gamma_loss=None)\n",
    "\n",
    "for g in optimizer_quad_l2.param_groups:\n",
    "    g[\"lr\"] = 1e-4 \n",
    "for i in range(iterations_exp_long):\n",
    "    if (i % 20000 == 0) and (i > 0): \n",
    "        # Multiply the current learning rate by 1e-1\n",
    "        for g in optimizer_quad_l2.param_groups:\n",
    "            new_lr = g[\"lr\"] * 1e-1\n",
    "            g[\"lr\"] = new_lr\n",
    "        print(f\"Learning rate decreased to {new_lr} at iteration {i}\")    \n",
    "    single_iteration(i, data_points_exp, lpn_model_quad_l2, optimizer_quad_l2, y_j_exp_tensor,cvx_samples_exp_tensor,loss_type=2,gamma_loss=None)\n",
    "\n",
    "torch.save(lpn_model_quad_l2.state_dict(), os.path.join(MODEL_DIR, \"QuadraticH_L1prior_l2.pth\"))"
   ]
  },
  {
   "cell_type": "markdown",
   "metadata": {},
   "source": [
    "L2 loss -- Plot"
   ]
  },
  {
   "cell_type": "code",
   "execution_count": 8,
   "metadata": {
    "execution": {
     "iopub.execute_input": "2025-10-30T02:41:33.259354Z",
     "iopub.status.busy": "2025-10-30T02:41:33.258634Z",
     "iopub.status.idle": "2025-10-30T02:43:49.800692Z",
     "shell.execute_reply": "2025-10-30T02:43:49.800112Z"
    }
   },
   "outputs": [
    {
     "name": "stdout",
     "output_type": "stream",
     "text": [
      "\n",
      "--- Plotting Cross Sections for Quadratic H, L1 Prior (Dim=16) ---\n",
      "loss 9.675756454467773\n"
     ]
    },
    {
     "name": "stdout",
     "output_type": "stream",
     "text": [
      "loss -40.257774353027344\n"
     ]
    },
    {
     "name": "stdout",
     "output_type": "stream",
     "text": [
      "loss -76.8933334350586\n"
     ]
    },
    {
     "name": "stdout",
     "output_type": "stream",
     "text": [
      "loss -109.40547180175781\n"
     ]
    },
    {
     "name": "stdout",
     "output_type": "stream",
     "text": [
      "loss -138.11643981933594\n"
     ]
    },
    {
     "name": "stdout",
     "output_type": "stream",
     "text": [
      "loss -163.14828491210938\n"
     ]
    },
    {
     "name": "stdout",
     "output_type": "stream",
     "text": [
      "loss -184.773681640625\n"
     ]
    },
    {
     "name": "stdout",
     "output_type": "stream",
     "text": [
      "loss -203.22930908203125\n"
     ]
    },
    {
     "name": "stdout",
     "output_type": "stream",
     "text": [
      "loss -218.55116271972656\n"
     ]
    },
    {
     "name": "stdout",
     "output_type": "stream",
     "text": [
      "loss -230.7158203125\n"
     ]
    },
    {
     "name": "stdout",
     "output_type": "stream",
     "text": [
      "loss -239.91567993164062\n"
     ]
    },
    {
     "name": "stdout",
     "output_type": "stream",
     "text": [
      "loss -246.57313537597656\n"
     ]
    },
    {
     "name": "stdout",
     "output_type": "stream",
     "text": [
      "loss -251.19471740722656\n"
     ]
    },
    {
     "name": "stdout",
     "output_type": "stream",
     "text": [
      "loss -254.2408447265625\n"
     ]
    },
    {
     "name": "stdout",
     "output_type": "stream",
     "text": [
      "loss -256.1101989746094\n"
     ]
    },
    {
     "name": "stdout",
     "output_type": "stream",
     "text": [
      "loss -257.15240478515625\n"
     ]
    },
    {
     "name": "stdout",
     "output_type": "stream",
     "text": [
      "loss -257.66552734375\n"
     ]
    },
    {
     "name": "stdout",
     "output_type": "stream",
     "text": [
      "loss -257.8811340332031\n"
     ]
    },
    {
     "name": "stdout",
     "output_type": "stream",
     "text": [
      "loss -257.9550476074219\n"
     ]
    },
    {
     "name": "stdout",
     "output_type": "stream",
     "text": [
      "loss -257.9745788574219\n"
     ]
    },
    {
     "name": "stdout",
     "output_type": "stream",
     "text": [
      "loss -257.9783020019531\n"
     ]
    },
    {
     "name": "stdout",
     "output_type": "stream",
     "text": [
      "loss -257.978759765625\n"
     ]
    },
    {
     "name": "stdout",
     "output_type": "stream",
     "text": [
      "loss -257.9787902832031\n"
     ]
    },
    {
     "name": "stdout",
     "output_type": "stream",
     "text": [
      "loss -257.9787902832031\n"
     ]
    },
    {
     "name": "stdout",
     "output_type": "stream",
     "text": [
      "loss -257.9787902832031\n"
     ]
    },
    {
     "name": "stdout",
     "output_type": "stream",
     "text": [
      "loss -257.9787902832031\n"
     ]
    },
    {
     "name": "stdout",
     "output_type": "stream",
     "text": [
      "loss -257.9787902832031\n"
     ]
    },
    {
     "name": "stdout",
     "output_type": "stream",
     "text": [
      "loss -257.9787902832031\n"
     ]
    },
    {
     "name": "stdout",
     "output_type": "stream",
     "text": [
      "loss -257.9787902832031\n"
     ]
    },
    {
     "name": "stdout",
     "output_type": "stream",
     "text": [
      "loss -257.9787902832031\n"
     ]
    },
    {
     "name": "stdout",
     "output_type": "stream",
     "text": [
      "loss -257.9787902832031\n"
     ]
    },
    {
     "name": "stdout",
     "output_type": "stream",
     "text": [
      "loss -257.9787902832031\n"
     ]
    },
    {
     "name": "stdout",
     "output_type": "stream",
     "text": [
      "loss -257.9787902832031\n"
     ]
    },
    {
     "name": "stdout",
     "output_type": "stream",
     "text": [
      "loss -257.9787902832031\n"
     ]
    },
    {
     "name": "stdout",
     "output_type": "stream",
     "text": [
      "loss -257.9787902832031\n"
     ]
    },
    {
     "name": "stdout",
     "output_type": "stream",
     "text": [
      "loss -257.9787902832031\n"
     ]
    },
    {
     "name": "stdout",
     "output_type": "stream",
     "text": [
      "loss -257.9787902832031\n"
     ]
    },
    {
     "name": "stdout",
     "output_type": "stream",
     "text": [
      "loss -257.9787902832031\n"
     ]
    },
    {
     "name": "stdout",
     "output_type": "stream",
     "text": [
      "loss -257.9787902832031\n"
     ]
    },
    {
     "name": "stdout",
     "output_type": "stream",
     "text": [
      "loss -257.9787902832031\n"
     ]
    },
    {
     "name": "stdout",
     "output_type": "stream",
     "text": [
      "final mse:  9.356028174423159e-10\n",
      "max, min: 6.390791 -6.913148\n",
      "loss 9.675756454467773\n"
     ]
    },
    {
     "name": "stdout",
     "output_type": "stream",
     "text": [
      "loss -39.59187316894531\n"
     ]
    },
    {
     "name": "stdout",
     "output_type": "stream",
     "text": [
      "loss -73.88613891601562\n"
     ]
    },
    {
     "name": "stdout",
     "output_type": "stream",
     "text": [
      "loss -102.79341125488281\n"
     ]
    },
    {
     "name": "stdout",
     "output_type": "stream",
     "text": [
      "loss -127.39555358886719\n"
     ]
    },
    {
     "name": "stdout",
     "output_type": "stream",
     "text": [
      "loss -148.76763916015625\n"
     ]
    },
    {
     "name": "stdout",
     "output_type": "stream",
     "text": [
      "loss -167.44403076171875\n"
     ]
    },
    {
     "name": "stdout",
     "output_type": "stream",
     "text": [
      "loss -183.5555419921875\n"
     ]
    },
    {
     "name": "stdout",
     "output_type": "stream",
     "text": [
      "loss -197.10609436035156\n"
     ]
    },
    {
     "name": "stdout",
     "output_type": "stream",
     "text": [
      "loss -208.19528198242188\n"
     ]
    },
    {
     "name": "stdout",
     "output_type": "stream",
     "text": [
      "loss -217.03297424316406\n"
     ]
    },
    {
     "name": "stdout",
     "output_type": "stream",
     "text": [
      "loss -223.85508728027344\n"
     ]
    },
    {
     "name": "stdout",
     "output_type": "stream",
     "text": [
      "loss -228.91384887695312\n"
     ]
    },
    {
     "name": "stdout",
     "output_type": "stream",
     "text": [
      "loss -232.505615234375\n"
     ]
    },
    {
     "name": "stdout",
     "output_type": "stream",
     "text": [
      "loss -234.9169464111328\n"
     ]
    },
    {
     "name": "stdout",
     "output_type": "stream",
     "text": [
      "loss -236.39328002929688\n"
     ]
    },
    {
     "name": "stdout",
     "output_type": "stream",
     "text": [
      "loss -237.18511962890625\n"
     ]
    },
    {
     "name": "stdout",
     "output_type": "stream",
     "text": [
      "loss -237.54266357421875\n"
     ]
    },
    {
     "name": "stdout",
     "output_type": "stream",
     "text": [
      "loss -237.6722869873047\n"
     ]
    },
    {
     "name": "stdout",
     "output_type": "stream",
     "text": [
      "loss -237.70779418945312\n"
     ]
    },
    {
     "name": "stdout",
     "output_type": "stream",
     "text": [
      "loss -237.714599609375\n"
     ]
    },
    {
     "name": "stdout",
     "output_type": "stream",
     "text": [
      "loss -237.7154541015625\n"
     ]
    },
    {
     "name": "stdout",
     "output_type": "stream",
     "text": [
      "loss -237.71548461914062\n"
     ]
    },
    {
     "name": "stdout",
     "output_type": "stream",
     "text": [
      "loss -237.7154998779297\n"
     ]
    },
    {
     "name": "stdout",
     "output_type": "stream",
     "text": [
      "loss -237.71548461914062\n"
     ]
    },
    {
     "name": "stdout",
     "output_type": "stream",
     "text": [
      "loss -237.71548461914062\n"
     ]
    },
    {
     "name": "stdout",
     "output_type": "stream",
     "text": [
      "loss -237.7154998779297\n"
     ]
    },
    {
     "name": "stdout",
     "output_type": "stream",
     "text": [
      "loss -237.7154998779297\n"
     ]
    },
    {
     "name": "stdout",
     "output_type": "stream",
     "text": [
      "loss -237.7154998779297\n"
     ]
    },
    {
     "name": "stdout",
     "output_type": "stream",
     "text": [
      "loss -237.71548461914062\n"
     ]
    },
    {
     "name": "stdout",
     "output_type": "stream",
     "text": [
      "loss -237.7154998779297\n"
     ]
    },
    {
     "name": "stdout",
     "output_type": "stream",
     "text": [
      "loss -237.71551513671875\n"
     ]
    },
    {
     "name": "stdout",
     "output_type": "stream",
     "text": [
      "loss -237.7154998779297\n"
     ]
    },
    {
     "name": "stdout",
     "output_type": "stream",
     "text": [
      "loss -237.7154998779297\n"
     ]
    },
    {
     "name": "stdout",
     "output_type": "stream",
     "text": [
      "loss -237.71548461914062\n"
     ]
    },
    {
     "name": "stdout",
     "output_type": "stream",
     "text": [
      "loss -237.71548461914062\n"
     ]
    },
    {
     "name": "stdout",
     "output_type": "stream",
     "text": [
      "loss -237.7154998779297\n"
     ]
    },
    {
     "name": "stdout",
     "output_type": "stream",
     "text": [
      "loss -237.71548461914062\n"
     ]
    },
    {
     "name": "stdout",
     "output_type": "stream",
     "text": [
      "loss -237.71548461914062\n"
     ]
    },
    {
     "name": "stdout",
     "output_type": "stream",
     "text": [
      "loss -237.71548461914062\n"
     ]
    },
    {
     "name": "stdout",
     "output_type": "stream",
     "text": [
      "final mse:  6.426309484552917e-10\n",
      "max, min: 6.9264684 -6.9338803\n"
     ]
    },
    {
     "data": {
      "image/png": "[encoded data removed]",
      "text/plain": [
       "<Figure size 1200x500 with 2 Axes>"
      ]
     },
     "metadata": {},
     "output_type": "display_data"
    },
    {
     "data": {
      "image/png": "[encoded data removed]",
      "text/plain": [
       "<Figure size 1200x500 with 2 Axes>"
      ]
     },
     "metadata": {},
     "output_type": "display_data"
    }
   ],
   "source": [
    "# L2 loss -- Plot\n",
    "plot_all_quadratic_l1(lpn_model_quad_l2, a_exp, spacing, INVERT_MODE, dim_exp)"
   ]
  },
  {
   "cell_type": "code",
   "execution_count": 9,
   "metadata": {
    "execution": {
     "iopub.execute_input": "2025-10-30T02:43:49.802790Z",
     "iopub.status.busy": "2025-10-30T02:43:49.802533Z",
     "iopub.status.idle": "2025-10-30T02:49:13.153477Z",
     "shell.execute_reply": "2025-10-30T02:49:13.152798Z"
    }
   },
   "outputs": [
    {
     "name": "stdout",
     "output_type": "stream",
     "text": [
      "Generated G samples: G_samples_tensor shape torch.Size([30000, 1])\n",
      "\n",
      "--- Training Second LPN G(x) for Concave Quadratic Prior ---\n",
      "iteration 0 loss 815.6610717773438\n",
      "iteration 0 loss 517.9418334960938\n"
     ]
    },
    {
     "name": "stdout",
     "output_type": "stream",
     "text": [
      "iteration 500 loss 16.588958740234375\n"
     ]
    },
    {
     "name": "stdout",
     "output_type": "stream",
     "text": [
      "iteration 1000 loss 14.235674858093262\n"
     ]
    },
    {
     "name": "stdout",
     "output_type": "stream",
     "text": [
      "iteration 1500 loss 12.624043464660645\n"
     ]
    },
    {
     "name": "stdout",
     "output_type": "stream",
     "text": [
      "iteration 2000 loss 11.231857299804688\n"
     ]
    },
    {
     "name": "stdout",
     "output_type": "stream",
     "text": [
      "iteration 2500 loss 9.676424980163574\n"
     ]
    },
    {
     "name": "stdout",
     "output_type": "stream",
     "text": [
      "iteration 3000 loss 7.768983364105225\n"
     ]
    },
    {
     "name": "stdout",
     "output_type": "stream",
     "text": [
      "iteration 3500 loss 5.416667938232422\n"
     ]
    },
    {
     "name": "stdout",
     "output_type": "stream",
     "text": [
      "iteration 4000 loss 2.9208157062530518\n"
     ]
    },
    {
     "name": "stdout",
     "output_type": "stream",
     "text": [
      "iteration 4500 loss 1.5948834419250488\n"
     ]
    },
    {
     "name": "stdout",
     "output_type": "stream",
     "text": [
      "iteration 5000 loss 1.2168869972229004\n"
     ]
    },
    {
     "name": "stdout",
     "output_type": "stream",
     "text": [
      "iteration 5500 loss 0.9923584461212158\n"
     ]
    },
    {
     "name": "stdout",
     "output_type": "stream",
     "text": [
      "iteration 6000 loss 0.8366703391075134\n"
     ]
    },
    {
     "name": "stdout",
     "output_type": "stream",
     "text": [
      "iteration 6500 loss 0.7211942672729492\n"
     ]
    },
    {
     "name": "stdout",
     "output_type": "stream",
     "text": [
      "iteration 7000 loss 0.6320084929466248\n"
     ]
    },
    {
     "name": "stdout",
     "output_type": "stream",
     "text": [
      "iteration 7500 loss 0.5578980445861816\n"
     ]
    },
    {
     "name": "stdout",
     "output_type": "stream",
     "text": [
      "iteration 8000 loss 0.4927804172039032\n"
     ]
    },
    {
     "name": "stdout",
     "output_type": "stream",
     "text": [
      "iteration 8500 loss 0.433851957321167\n"
     ]
    },
    {
     "name": "stdout",
     "output_type": "stream",
     "text": [
      "iteration 9000 loss 0.38244304060935974\n"
     ]
    },
    {
     "name": "stdout",
     "output_type": "stream",
     "text": [
      "iteration 9500 loss 0.33913737535476685\n"
     ]
    },
    {
     "name": "stdout",
     "output_type": "stream",
     "text": [
      "iteration 10000 loss 0.2980567216873169\n"
     ]
    },
    {
     "name": "stdout",
     "output_type": "stream",
     "text": [
      "iteration 10500 loss 0.2536463141441345\n"
     ]
    },
    {
     "name": "stdout",
     "output_type": "stream",
     "text": [
      "iteration 11000 loss 0.20996825397014618\n"
     ]
    },
    {
     "name": "stdout",
     "output_type": "stream",
     "text": [
      "iteration 11500 loss 0.18443220853805542\n"
     ]
    },
    {
     "name": "stdout",
     "output_type": "stream",
     "text": [
      "iteration 12000 loss 0.1665973663330078\n"
     ]
    },
    {
     "name": "stdout",
     "output_type": "stream",
     "text": [
      "iteration 12500 loss 0.15363624691963196\n"
     ]
    },
    {
     "name": "stdout",
     "output_type": "stream",
     "text": [
      "iteration 13000 loss 0.1423010379076004\n"
     ]
    },
    {
     "name": "stdout",
     "output_type": "stream",
     "text": [
      "iteration 13500 loss 0.13429543375968933\n"
     ]
    },
    {
     "name": "stdout",
     "output_type": "stream",
     "text": [
      "iteration 14000 loss 0.12659284472465515\n"
     ]
    },
    {
     "name": "stdout",
     "output_type": "stream",
     "text": [
      "iteration 14500 loss 0.12041015177965164\n"
     ]
    },
    {
     "name": "stdout",
     "output_type": "stream",
     "text": [
      "iteration 15000 loss 0.11517329514026642\n"
     ]
    },
    {
     "name": "stdout",
     "output_type": "stream",
     "text": [
      "iteration 15500 loss 0.11082059890031815\n"
     ]
    },
    {
     "name": "stdout",
     "output_type": "stream",
     "text": [
      "iteration 16000 loss 0.10655247420072556\n"
     ]
    },
    {
     "name": "stdout",
     "output_type": "stream",
     "text": [
      "iteration 16500 loss 0.10324598848819733\n"
     ]
    },
    {
     "name": "stdout",
     "output_type": "stream",
     "text": [
      "iteration 17000 loss 0.09981520473957062\n"
     ]
    },
    {
     "name": "stdout",
     "output_type": "stream",
     "text": [
      "iteration 17500 loss 0.09676336497068405\n"
     ]
    },
    {
     "name": "stdout",
     "output_type": "stream",
     "text": [
      "iteration 18000 loss 0.09424835443496704\n"
     ]
    },
    {
     "name": "stdout",
     "output_type": "stream",
     "text": [
      "iteration 18500 loss 0.09158890694379807\n"
     ]
    },
    {
     "name": "stdout",
     "output_type": "stream",
     "text": [
      "iteration 19000 loss 0.08961186558008194\n"
     ]
    },
    {
     "name": "stdout",
     "output_type": "stream",
     "text": [
      "iteration 19500 loss 0.0876987874507904\n"
     ]
    },
    {
     "name": "stdout",
     "output_type": "stream",
     "text": [
      "Learning rate decreased to 1e-05 at iteration 20000\n",
      "iteration 20000 loss 0.08568287640810013\n"
     ]
    },
    {
     "name": "stdout",
     "output_type": "stream",
     "text": [
      "iteration 20500 loss 0.08547401428222656\n"
     ]
    },
    {
     "name": "stdout",
     "output_type": "stream",
     "text": [
      "iteration 21000 loss 0.08520950376987457\n"
     ]
    },
    {
     "name": "stdout",
     "output_type": "stream",
     "text": [
      "iteration 21500 loss 0.08487536013126373\n"
     ]
    },
    {
     "name": "stdout",
     "output_type": "stream",
     "text": [
      "iteration 22000 loss 0.0844554528594017\n"
     ]
    },
    {
     "name": "stdout",
     "output_type": "stream",
     "text": [
      "iteration 22500 loss 0.0839318335056305\n"
     ]
    },
    {
     "name": "stdout",
     "output_type": "stream",
     "text": [
      "iteration 23000 loss 0.0832853689789772\n"
     ]
    },
    {
     "name": "stdout",
     "output_type": "stream",
     "text": [
      "iteration 23500 loss 0.08249694108963013\n"
     ]
    },
    {
     "name": "stdout",
     "output_type": "stream",
     "text": [
      "iteration 24000 loss 0.08155034482479095\n"
     ]
    },
    {
     "name": "stdout",
     "output_type": "stream",
     "text": [
      "iteration 24500 loss 0.08043574541807175\n"
     ]
    },
    {
     "name": "stdout",
     "output_type": "stream",
     "text": [
      "iteration 25000 loss 0.0791732519865036\n"
     ]
    },
    {
     "name": "stdout",
     "output_type": "stream",
     "text": [
      "iteration 25500 loss 0.0779280737042427\n"
     ]
    },
    {
     "name": "stdout",
     "output_type": "stream",
     "text": [
      "iteration 26000 loss 0.07673659175634384\n"
     ]
    },
    {
     "name": "stdout",
     "output_type": "stream",
     "text": [
      "iteration 26500 loss 0.07564238458871841\n"
     ]
    },
    {
     "name": "stdout",
     "output_type": "stream",
     "text": [
      "iteration 27000 loss 0.07458405196666718\n"
     ]
    },
    {
     "name": "stdout",
     "output_type": "stream",
     "text": [
      "iteration 27500 loss 0.07360885292291641\n"
     ]
    },
    {
     "name": "stdout",
     "output_type": "stream",
     "text": [
      "iteration 28000 loss 0.0726860761642456\n"
     ]
    },
    {
     "name": "stdout",
     "output_type": "stream",
     "text": [
      "iteration 28500 loss 0.0718059167265892\n"
     ]
    },
    {
     "name": "stdout",
     "output_type": "stream",
     "text": [
      "iteration 29000 loss 0.07096997648477554\n"
     ]
    },
    {
     "name": "stdout",
     "output_type": "stream",
     "text": [
      "iteration 29500 loss 0.07017004489898682\n"
     ]
    },
    {
     "name": "stdout",
     "output_type": "stream",
     "text": [
      "iteration 30000 loss 0.06940188258886337\n"
     ]
    },
    {
     "name": "stdout",
     "output_type": "stream",
     "text": [
      "iteration 30500 loss 0.0686943382024765\n"
     ]
    },
    {
     "name": "stdout",
     "output_type": "stream",
     "text": [
      "iteration 31000 loss 0.06800521165132523\n"
     ]
    },
    {
     "name": "stdout",
     "output_type": "stream",
     "text": [
      "iteration 31500 loss 0.06736293435096741\n"
     ]
    },
    {
     "name": "stdout",
     "output_type": "stream",
     "text": [
      "iteration 32000 loss 0.06672463566064835\n"
     ]
    },
    {
     "name": "stdout",
     "output_type": "stream",
     "text": [
      "iteration 32500 loss 0.06612349301576614\n"
     ]
    },
    {
     "name": "stdout",
     "output_type": "stream",
     "text": [
      "iteration 33000 loss 0.06554009020328522\n"
     ]
    },
    {
     "name": "stdout",
     "output_type": "stream",
     "text": [
      "iteration 33500 loss 0.06499465554952621\n"
     ]
    },
    {
     "name": "stdout",
     "output_type": "stream",
     "text": [
      "iteration 34000 loss 0.06447437405586243\n"
     ]
    },
    {
     "name": "stdout",
     "output_type": "stream",
     "text": [
      "iteration 34500 loss 0.063969686627388\n"
     ]
    },
    {
     "name": "stdout",
     "output_type": "stream",
     "text": [
      "iteration 35000 loss 0.06349462270736694\n"
     ]
    },
    {
     "name": "stdout",
     "output_type": "stream",
     "text": [
      "iteration 35500 loss 0.06302391737699509\n"
     ]
    },
    {
     "name": "stdout",
     "output_type": "stream",
     "text": [
      "iteration 36000 loss 0.06258273869752884\n"
     ]
    },
    {
     "name": "stdout",
     "output_type": "stream",
     "text": [
      "iteration 36500 loss 0.062160417437553406\n"
     ]
    },
    {
     "name": "stdout",
     "output_type": "stream",
     "text": [
      "iteration 37000 loss 0.06175372749567032\n"
     ]
    },
    {
     "name": "stdout",
     "output_type": "stream",
     "text": [
      "iteration 37500 loss 0.06135575473308563\n"
     ]
    },
    {
     "name": "stdout",
     "output_type": "stream",
     "text": [
      "iteration 38000 loss 0.06098306551575661\n"
     ]
    },
    {
     "name": "stdout",
     "output_type": "stream",
     "text": [
      "iteration 38500 loss 0.06062772870063782\n"
     ]
    },
    {
     "name": "stdout",
     "output_type": "stream",
     "text": [
      "iteration 39000 loss 0.06028012931346893\n"
     ]
    },
    {
     "name": "stdout",
     "output_type": "stream",
     "text": [
      "iteration 39500 loss 0.0599646158516407\n"
     ]
    },
    {
     "name": "stdout",
     "output_type": "stream",
     "text": [
      "Learning rate decreased to 1.0000000000000002e-06 at iteration 40000\n",
      "iteration 40000 loss 0.05964016914367676\n"
     ]
    },
    {
     "name": "stdout",
     "output_type": "stream",
     "text": [
      "iteration 40500 loss 0.05960280820727348\n"
     ]
    },
    {
     "name": "stdout",
     "output_type": "stream",
     "text": [
      "iteration 41000 loss 0.059557635337114334\n"
     ]
    },
    {
     "name": "stdout",
     "output_type": "stream",
     "text": [
      "iteration 41500 loss 0.059502389281988144\n"
     ]
    },
    {
     "name": "stdout",
     "output_type": "stream",
     "text": [
      "iteration 42000 loss 0.059436019510030746\n"
     ]
    },
    {
     "name": "stdout",
     "output_type": "stream",
     "text": [
      "iteration 42500 loss 0.05935771018266678\n"
     ]
    },
    {
     "name": "stdout",
     "output_type": "stream",
     "text": [
      "iteration 43000 loss 0.05926734209060669\n"
     ]
    },
    {
     "name": "stdout",
     "output_type": "stream",
     "text": [
      "iteration 43500 loss 0.05916548892855644\n"
     ]
    },
    {
     "name": "stdout",
     "output_type": "stream",
     "text": [
      "iteration 44000 loss 0.05905317887663841\n"
     ]
    },
    {
     "name": "stdout",
     "output_type": "stream",
     "text": [
      "iteration 44500 loss 0.058932047337293625\n"
     ]
    },
    {
     "name": "stdout",
     "output_type": "stream",
     "text": [
      "iteration 45000 loss 0.05880412831902504\n"
     ]
    },
    {
     "name": "stdout",
     "output_type": "stream",
     "text": [
      "iteration 45500 loss 0.05867325887084007\n"
     ]
    },
    {
     "name": "stdout",
     "output_type": "stream",
     "text": [
      "iteration 46000 loss 0.05854411795735359\n"
     ]
    },
    {
     "name": "stdout",
     "output_type": "stream",
     "text": [
      "iteration 46500 loss 0.05841759219765663\n"
     ]
    },
    {
     "name": "stdout",
     "output_type": "stream",
     "text": [
      "iteration 47000 loss 0.05829356238245964\n"
     ]
    },
    {
     "name": "stdout",
     "output_type": "stream",
     "text": [
      "iteration 47500 loss 0.058171965181827545\n"
     ]
    },
    {
     "name": "stdout",
     "output_type": "stream",
     "text": [
      "iteration 48000 loss 0.05805252492427826\n"
     ]
    },
    {
     "name": "stdout",
     "output_type": "stream",
     "text": [
      "iteration 48500 loss 0.057935021817684174\n"
     ]
    },
    {
     "name": "stdout",
     "output_type": "stream",
     "text": [
      "iteration 49000 loss 0.05781932175159454\n"
     ]
    },
    {
     "name": "stdout",
     "output_type": "stream",
     "text": [
      "iteration 49500 loss 0.05770525708794594\n"
     ]
    },
    {
     "name": "stdout",
     "output_type": "stream",
     "text": [
      "iteration 50000 loss 0.05759302154183388\n"
     ]
    },
    {
     "name": "stdout",
     "output_type": "stream",
     "text": [
      "iteration 50500 loss 0.057482413947582245\n"
     ]
    },
    {
     "name": "stdout",
     "output_type": "stream",
     "text": [
      "iteration 51000 loss 0.057373471558094025\n"
     ]
    },
    {
     "name": "stdout",
     "output_type": "stream",
     "text": [
      "iteration 51500 loss 0.05726619437336922\n"
     ]
    },
    {
     "name": "stdout",
     "output_type": "stream",
     "text": [
      "iteration 52000 loss 0.057160280644893646\n"
     ]
    },
    {
     "name": "stdout",
     "output_type": "stream",
     "text": [
      "iteration 52500 loss 0.057056229561567307\n"
     ]
    },
    {
     "name": "stdout",
     "output_type": "stream",
     "text": [
      "iteration 53000 loss 0.056953273713588715\n"
     ]
    },
    {
     "name": "stdout",
     "output_type": "stream",
     "text": [
      "iteration 53500 loss 0.05685172602534294\n"
     ]
    },
    {
     "name": "stdout",
     "output_type": "stream",
     "text": [
      "iteration 54000 loss 0.05675142630934715\n"
     ]
    },
    {
     "name": "stdout",
     "output_type": "stream",
     "text": [
      "iteration 54500 loss 0.05665220692753792\n"
     ]
    },
    {
     "name": "stdout",
     "output_type": "stream",
     "text": [
      "iteration 55000 loss 0.05655423179268837\n"
     ]
    },
    {
     "name": "stdout",
     "output_type": "stream",
     "text": [
      "iteration 55500 loss 0.056457504630088806\n"
     ]
    },
    {
     "name": "stdout",
     "output_type": "stream",
     "text": [
      "iteration 56000 loss 0.05636198818683624\n"
     ]
    },
    {
     "name": "stdout",
     "output_type": "stream",
     "text": [
      "iteration 56500 loss 0.056267768144607544\n"
     ]
    },
    {
     "name": "stdout",
     "output_type": "stream",
     "text": [
      "iteration 57000 loss 0.05617445707321167\n"
     ]
    },
    {
     "name": "stdout",
     "output_type": "stream",
     "text": [
      "iteration 57500 loss 0.05608248710632324\n"
     ]
    },
    {
     "name": "stdout",
     "output_type": "stream",
     "text": [
      "iteration 58000 loss 0.05599144101142883\n"
     ]
    },
    {
     "name": "stdout",
     "output_type": "stream",
     "text": [
      "iteration 58500 loss 0.05590139329433441\n"
     ]
    },
    {
     "name": "stdout",
     "output_type": "stream",
     "text": [
      "iteration 59000 loss 0.05581240728497505\n"
     ]
    },
    {
     "name": "stdout",
     "output_type": "stream",
     "text": [
      "iteration 59500 loss 0.055724918842315674\n"
     ]
    },
    {
     "name": "stdout",
     "output_type": "stream",
     "text": [
      "Learning rate decreased to 1.0000000000000002e-07 at iteration 60000\n",
      "iteration 60000 loss 0.055638354271650314\n"
     ]
    },
    {
     "name": "stdout",
     "output_type": "stream",
     "text": [
      "iteration 60500 loss 0.05562940612435341\n"
     ]
    },
    {
     "name": "stdout",
     "output_type": "stream",
     "text": [
      "iteration 61000 loss 0.05561986565589905\n"
     ]
    },
    {
     "name": "stdout",
     "output_type": "stream",
     "text": [
      "iteration 61500 loss 0.055609844624996185\n"
     ]
    },
    {
     "name": "stdout",
     "output_type": "stream",
     "text": [
      "iteration 62000 loss 0.05559936910867691\n"
     ]
    },
    {
     "name": "stdout",
     "output_type": "stream",
     "text": [
      "iteration 62500 loss 0.055588606745004654\n"
     ]
    },
    {
     "name": "stdout",
     "output_type": "stream",
     "text": [
      "iteration 63000 loss 0.05557757988572121\n"
     ]
    },
    {
     "name": "stdout",
     "output_type": "stream",
     "text": [
      "iteration 63500 loss 0.05556638911366463\n"
     ]
    },
    {
     "name": "stdout",
     "output_type": "stream",
     "text": [
      "iteration 64000 loss 0.0555550791323185\n"
     ]
    },
    {
     "name": "stdout",
     "output_type": "stream",
     "text": [
      "iteration 64500 loss 0.05554371327161789\n"
     ]
    },
    {
     "name": "stdout",
     "output_type": "stream",
     "text": [
      "iteration 65000 loss 0.0555323101580143\n"
     ]
    },
    {
     "name": "stdout",
     "output_type": "stream",
     "text": [
      "iteration 65500 loss 0.05552089214324951\n"
     ]
    },
    {
     "name": "stdout",
     "output_type": "stream",
     "text": [
      "iteration 66000 loss 0.05550949648022652\n"
     ]
    },
    {
     "name": "stdout",
     "output_type": "stream",
     "text": [
      "iteration 66500 loss 0.0554981455206871\n"
     ]
    },
    {
     "name": "stdout",
     "output_type": "stream",
     "text": [
      "iteration 67000 loss 0.05548679083585739\n"
     ]
    },
    {
     "name": "stdout",
     "output_type": "stream",
     "text": [
      "iteration 67500 loss 0.055475473403930664\n"
     ]
    },
    {
     "name": "stdout",
     "output_type": "stream",
     "text": [
      "iteration 68000 loss 0.05546417832374573\n"
     ]
    },
    {
     "name": "stdout",
     "output_type": "stream",
     "text": [
      "iteration 68500 loss 0.05545291304588318\n"
     ]
    },
    {
     "name": "stdout",
     "output_type": "stream",
     "text": [
      "iteration 69000 loss 0.05544169992208481\n"
     ]
    },
    {
     "name": "stdout",
     "output_type": "stream",
     "text": [
      "iteration 69500 loss 0.055430494248867035\n"
     ]
    },
    {
     "name": "stdout",
     "output_type": "stream",
     "text": [
      "iteration 70000 loss 0.05541931465268135\n"
     ]
    },
    {
     "name": "stdout",
     "output_type": "stream",
     "text": [
      "iteration 70500 loss 0.05540819093585014\n"
     ]
    },
    {
     "name": "stdout",
     "output_type": "stream",
     "text": [
      "iteration 71000 loss 0.055397070944309235\n"
     ]
    },
    {
     "name": "stdout",
     "output_type": "stream",
     "text": [
      "iteration 71500 loss 0.05538596957921982\n"
     ]
    },
    {
     "name": "stdout",
     "output_type": "stream",
     "text": [
      "iteration 72000 loss 0.05537491291761398\n"
     ]
    },
    {
     "name": "stdout",
     "output_type": "stream",
     "text": [
      "iteration 72500 loss 0.055363867431879044\n"
     ]
    },
    {
     "name": "stdout",
     "output_type": "stream",
     "text": [
      "iteration 73000 loss 0.05535285174846649\n"
     ]
    },
    {
     "name": "stdout",
     "output_type": "stream",
     "text": [
      "iteration 73500 loss 0.05534185469150543\n"
     ]
    },
    {
     "name": "stdout",
     "output_type": "stream",
     "text": [
      "iteration 74000 loss 0.055330876260995865\n"
     ]
    },
    {
     "name": "stdout",
     "output_type": "stream",
     "text": [
      "iteration 74500 loss 0.055319931358098984\n"
     ]
    },
    {
     "name": "stdout",
     "output_type": "stream",
     "text": [
      "iteration 75000 loss 0.0553089939057827\n"
     ]
    },
    {
     "name": "stdout",
     "output_type": "stream",
     "text": [
      "iteration 75500 loss 0.0552980974316597\n"
     ]
    },
    {
     "name": "stdout",
     "output_type": "stream",
     "text": [
      "iteration 76000 loss 0.055287208408117294\n"
     ]
    },
    {
     "name": "stdout",
     "output_type": "stream",
     "text": [
      "iteration 76500 loss 0.05527632683515549\n"
     ]
    },
    {
     "name": "stdout",
     "output_type": "stream",
     "text": [
      "iteration 77000 loss 0.055265482515096664\n"
     ]
    },
    {
     "name": "stdout",
     "output_type": "stream",
     "text": [
      "iteration 77500 loss 0.05525466427206993\n"
     ]
    },
    {
     "name": "stdout",
     "output_type": "stream",
     "text": [
      "iteration 78000 loss 0.0552438385784626\n"
     ]
    },
    {
     "name": "stdout",
     "output_type": "stream",
     "text": [
      "iteration 78500 loss 0.055233050137758255\n"
     ]
    },
    {
     "name": "stdout",
     "output_type": "stream",
     "text": [
      "iteration 79000 loss 0.055222272872924805\n"
     ]
    },
    {
     "name": "stdout",
     "output_type": "stream",
     "text": [
      "iteration 79500 loss 0.05521150305867195\n"
     ]
    },
    {
     "name": "stdout",
     "output_type": "stream",
     "text": [
      "Learning rate decreased to 1.0000000000000004e-08 at iteration 80000\n",
      "iteration 80000 loss 0.055200766772031784\n"
     ]
    },
    {
     "name": "stdout",
     "output_type": "stream",
     "text": [
      "iteration 80500 loss 0.055199749767780304\n"
     ]
    },
    {
     "name": "stdout",
     "output_type": "stream",
     "text": [
      "iteration 81000 loss 0.05519872531294823\n"
     ]
    },
    {
     "name": "stdout",
     "output_type": "stream",
     "text": [
      "iteration 81500 loss 0.05519770085811615\n"
     ]
    },
    {
     "name": "stdout",
     "output_type": "stream",
     "text": [
      "iteration 82000 loss 0.05519668757915497\n"
     ]
    },
    {
     "name": "stdout",
     "output_type": "stream",
     "text": [
      "iteration 82500 loss 0.05519566312432289\n"
     ]
    },
    {
     "name": "stdout",
     "output_type": "stream",
     "text": [
      "iteration 83000 loss 0.055194634944200516\n"
     ]
    },
    {
     "name": "stdout",
     "output_type": "stream",
     "text": [
      "iteration 83500 loss 0.05519362539052963\n"
     ]
    },
    {
     "name": "stdout",
     "output_type": "stream",
     "text": [
      "iteration 84000 loss 0.05519259348511696\n"
     ]
    },
    {
     "name": "stdout",
     "output_type": "stream",
     "text": [
      "iteration 84500 loss 0.05519156903028488\n"
     ]
    },
    {
     "name": "stdout",
     "output_type": "stream",
     "text": [
      "iteration 85000 loss 0.0551905632019043\n"
     ]
    },
    {
     "name": "stdout",
     "output_type": "stream",
     "text": [
      "iteration 85500 loss 0.05518953502178192\n"
     ]
    },
    {
     "name": "stdout",
     "output_type": "stream",
     "text": [
      "iteration 86000 loss 0.055188510566949844\n"
     ]
    },
    {
     "name": "stdout",
     "output_type": "stream",
     "text": [
      "iteration 86500 loss 0.05518750101327896\n"
     ]
    },
    {
     "name": "stdout",
     "output_type": "stream",
     "text": [
      "iteration 87000 loss 0.05518648773431778\n"
     ]
    },
    {
     "name": "stdout",
     "output_type": "stream",
     "text": [
      "iteration 87500 loss 0.055185467004776\n"
     ]
    },
    {
     "name": "stdout",
     "output_type": "stream",
     "text": [
      "iteration 88000 loss 0.055184442549943924\n"
     ]
    },
    {
     "name": "stdout",
     "output_type": "stream",
     "text": [
      "iteration 88500 loss 0.055183421820402145\n"
     ]
    },
    {
     "name": "stdout",
     "output_type": "stream",
     "text": [
      "iteration 89000 loss 0.05518241971731186\n"
     ]
    },
    {
     "name": "stdout",
     "output_type": "stream",
     "text": [
      "iteration 89500 loss 0.05518139526247978\n"
     ]
    },
    {
     "name": "stdout",
     "output_type": "stream",
     "text": [
      "iteration 90000 loss 0.0551803894340992\n"
     ]
    },
    {
     "name": "stdout",
     "output_type": "stream",
     "text": [
      "iteration 90500 loss 0.055179379880428314\n"
     ]
    },
    {
     "name": "stdout",
     "output_type": "stream",
     "text": [
      "iteration 91000 loss 0.055178359150886536\n"
     ]
    },
    {
     "name": "stdout",
     "output_type": "stream",
     "text": [
      "iteration 91500 loss 0.05517734959721565\n"
     ]
    },
    {
     "name": "stdout",
     "output_type": "stream",
     "text": [
      "iteration 92000 loss 0.05517633631825447\n"
     ]
    },
    {
     "name": "stdout",
     "output_type": "stream",
     "text": [
      "iteration 92500 loss 0.05517532303929329\n"
     ]
    },
    {
     "name": "stdout",
     "output_type": "stream",
     "text": [
      "iteration 93000 loss 0.055174313485622406\n"
     ]
    },
    {
     "name": "stdout",
     "output_type": "stream",
     "text": [
      "iteration 93500 loss 0.05517330393195152\n"
     ]
    },
    {
     "name": "stdout",
     "output_type": "stream",
     "text": [
      "iteration 94000 loss 0.055172279477119446\n"
     ]
    },
    {
     "name": "stdout",
     "output_type": "stream",
     "text": [
      "iteration 94500 loss 0.05517127737402916\n"
     ]
    },
    {
     "name": "stdout",
     "output_type": "stream",
     "text": [
      "iteration 95000 loss 0.05517026036977768\n"
     ]
    },
    {
     "name": "stdout",
     "output_type": "stream",
     "text": [
      "iteration 95500 loss 0.0551692470908165\n"
     ]
    },
    {
     "name": "stdout",
     "output_type": "stream",
     "text": [
      "iteration 96000 loss 0.05516824126243591\n"
     ]
    },
    {
     "name": "stdout",
     "output_type": "stream",
     "text": [
      "iteration 96500 loss 0.05516723915934563\n"
     ]
    },
    {
     "name": "stdout",
     "output_type": "stream",
     "text": [
      "iteration 97000 loss 0.055166229605674744\n"
     ]
    },
    {
     "name": "stdout",
     "output_type": "stream",
     "text": [
      "iteration 97500 loss 0.05516521632671356\n"
     ]
    },
    {
     "name": "stdout",
     "output_type": "stream",
     "text": [
      "iteration 98000 loss 0.05516420304775238\n"
     ]
    },
    {
     "name": "stdout",
     "output_type": "stream",
     "text": [
      "iteration 98500 loss 0.05516320839524269\n"
     ]
    },
    {
     "name": "stdout",
     "output_type": "stream",
     "text": [
      "iteration 99000 loss 0.05516219884157181\n"
     ]
    },
    {
     "name": "stdout",
     "output_type": "stream",
     "text": [
      "iteration 99500 loss 0.05516120418906212\n"
     ]
    },
    {
     "name": "stdout",
     "output_type": "stream",
     "text": [
      "Training of LPN for G(x) complete and model saved.\n"
     ]
    }
   ],
   "source": [
    "# --- Generate New Training Data for the Second LPN G(x) ---\n",
    "# We use the same x_j_exp_tensor as the first LPN's training data for x_k\n",
    "x_k_tensor = y_j_exp_tensor.clone().to(device)\n",
    "x_k_tensor.requires_grad_(True)\n",
    "\n",
    "# 1. Compute the gradient y_k = grad_x psi_theta(x_k, t=1)\n",
    "# Get psi(x_k)\n",
    "psi_x_k = lpn_model_quad_l2.scalar(x_k_tensor)\n",
    "\n",
    "# Get gradient y_k = grad_psi(x_k)\n",
    "y_k_tensor = lpn_model_quad_l2(x_k_tensor)\n",
    "\n",
    "# 2. Evaluate the \"new\" samples G_k = <y_k, x_k> - psi_theta(x_k, 1) (from eq 26)\n",
    "inner_prod_yk_xk = torch.sum(y_k_tensor * x_k_tensor, dim=1, keepdim=True)\n",
    "G_samples_tensor_with_graph = inner_prod_yk_xk - psi_x_k\n",
    "\n",
    "# Detach the tensor to treat G_k as fixed targets, breaking the connection\n",
    "# to the first LPN's graph and preventing the RuntimeError during training.\n",
    "G_samples_tensor = G_samples_tensor_with_graph.detach().to(device) \n",
    "\n",
    "# The input tensor x_k_tensor is still needed for the second LPN training,\n",
    "# but it should also not require a gradient for that training.\n",
    "x_k_tensor = x_k_tensor.detach()\n",
    "x_k_tensor.requires_grad_(False) \n",
    "y_k_tensor = y_k_tensor.detach()\n",
    "y_k_tensor.requires_grad_(False)\n",
    "# G_samples_tensor now holds the target values G_k\n",
    "print(f\"Generated G samples: G_samples_tensor shape {G_samples_tensor.shape}\")\n",
    "\n",
    "\n",
    "\n",
    "# --- Step 3: Train LPN G(x) ---\n",
    "print(\"\\n--- Training Second LPN G(x) for Concave Quadratic Prior ---\")\n",
    "# The target for this LPN is G_samples_tensor\n",
    "# The input for this LPN is x_k_tensor\n",
    "lpn_model_G = LPN(in_dim=dim_exp, hidden=hidden, layers=layers, beta=beta, eps=1e-3).to(device)\n",
    "optimizer_G = torch.optim.Adam(lpn_model_G.parameters(), lr=1e-4)\n",
    "\n",
    "# Initial shorter training phase\n",
    "for i in range(1):\n",
    "     single_iteration(i, data_points_exp, lpn_model_G, optimizer_G, y_k_tensor, G_samples_tensor, loss_type=2, gamma_loss=None)\n",
    "\n",
    "for g in optimizer_G.param_groups:\n",
    "    g[\"lr\"] = 1e-4 # Use a smaller learning rate for the long phase\n",
    "for i in range(iterations_exp_long):\n",
    "    if (i % 20000 == 0) and (i > 0): \n",
    "        # Multiply the current learning rate by 1e-1\n",
    "        for g in optimizer_G.param_groups:\n",
    "            new_lr = g[\"lr\"] * 1e-1\n",
    "            g[\"lr\"] = new_lr\n",
    "        print(f\"Learning rate decreased to {new_lr} at iteration {i}\")\n",
    "    single_iteration(i, data_points_exp, lpn_model_G, optimizer_G, y_k_tensor, G_samples_tensor, loss_type=2, gamma_loss=None)\n",
    "\n",
    "torch.save(lpn_model_G.state_dict(), os.path.join(MODEL_DIR, \"G_network_l2.pth\"))\n",
    "print(\"Training of LPN for G(x) complete and model saved.\")"
   ]
  },
  {
   "cell_type": "code",
   "execution_count": 10,
   "metadata": {
    "execution": {
     "iopub.execute_input": "2025-10-30T02:49:13.156119Z",
     "iopub.status.busy": "2025-10-30T02:49:13.155870Z",
     "iopub.status.idle": "2025-10-30T02:49:13.641581Z",
     "shell.execute_reply": "2025-10-30T02:49:13.641142Z"
    }
   },
   "outputs": [
    {
     "name": "stdout",
     "output_type": "stream",
     "text": [
      "\n",
      "--- Plotting Estimated Prior J(x) from LPN 2 ---\n"
     ]
    },
    {
     "data": {
      "image/png": "[encoded data removed]",
      "text/plain": [
       "<Figure size 1200x500 with 2 Axes>"
      ]
     },
     "metadata": {},
     "output_type": "display_data"
    }
   ],
   "source": [
    "def evaluate_learned_J_G_network(x_points, model_G):\n",
    "    \"\"\"\n",
    "    Evaluates the learned prior J(x) using the trained G(x) network.\n",
    "    J(x) = G(x) - 0.5 * ||x||^2\n",
    "    \"\"\"\n",
    "    # Convert to tensor\n",
    "    x_tensor = torch.from_numpy(x_points).float().to(device)\n",
    "    \n",
    "    # Get G(x) from the second LPN model\n",
    "    G_x = model_G.scalar(x_tensor)\n",
    "    \n",
    "    # Compute 0.5 * ||x||^2\n",
    "    x_norm_sq_np = euclid_norm_sq(x_points)\n",
    "    x_norm_sq_tensor = torch.from_numpy(x_norm_sq_np).float().to(device).reshape(-1, 1)\n",
    "\n",
    "    # Apply the formula: J_est = G(x) - 0.5 * ||x||^2\n",
    "    J_est = G_x - 0.5 * x_norm_sq_tensor\n",
    "    \n",
    "    # Convert back to numpy\n",
    "    J_est_np = J_est.detach().cpu().numpy().flatten()\n",
    "    \n",
    "    return J_est_np\n",
    "\n",
    "def plot_J_G_network(model_G, a, spacing, dim):\n",
    "    \"\"\"Plots the cross-sections of the estimated prior J(x) from the G network.\"\"\"\n",
    "    xi, x1_0_points, x2_0_points = compute_square_cross_sections(a, spacing, dim)\n",
    "    \n",
    "    # True Prior\n",
    "    x1_0_J_true = prior_true_quadratic_l1(x1_0_points)\n",
    "    if dim > 1:\n",
    "        x2_0_J_true = prior_true_quadratic_l1(x2_0_points)\n",
    "    else:\n",
    "        x2_0_J_true = x1_0_J_true\n",
    "        \n",
    "    # Estimated Prior from G(x) Network\n",
    "    x1_0_J_G_est = evaluate_learned_J_G_network(x1_0_points, model_G)\n",
    "    if dim > 1:\n",
    "        x2_0_J_G_est = evaluate_learned_J_G_network(x2_0_points, model_G)\n",
    "    else:\n",
    "        x2_0_J_G_est = x1_0_J_G_est\n",
    "    \n",
    "    print(\"\\n--- Plotting Estimated Prior J(x) from LPN 2 ---\")\n",
    "    plt.figure(figsize=(12,5))\n",
    "    \n",
    "    plt.subplot(1, 2, 1)\n",
    "    plt.plot(xi, x1_0_J_G_est, \"-\", label=\"LPN 2\")\n",
    "    plt.plot(xi, x1_0_J_true, \"--\", label=\"True $J(x)=-1/4||x||_2^2$\")\n",
    "    plt.grid(True)\n",
    "    plt.title(f\"Prior $J(x_1,0,...)$ Dim {dim}\")\n",
    "    plt.xlabel('$x_1$')\n",
    "    plt.ylabel('$J(x_1,0,...)$')\n",
    "    plt.legend()\n",
    "\n",
    "    if dim > 1:\n",
    "        plt.subplot(1, 2, 2)\n",
    "        plt.plot(xi, x2_0_J_G_est, \"-\", label=\"LPN 2\")\n",
    "        plt.plot(xi, x2_0_J_true, \"--\", label=\"True $J(x)=-1/4||x||_2^2$\")\n",
    "        plt.grid(True)\n",
    "        plt.title(f\"Prior $J(0,x_2,0,...)$ Dim {dim}\")\n",
    "        plt.xlabel('$x_2$')\n",
    "        plt.ylabel('$J(0,x_2,0,...)$')\n",
    "        plt.legend()\n",
    "    plt.tight_layout()\n",
    "    #plt.savefig('G_network_prior_plot.png')\n",
    "    \n",
    "# --- Execute Plotting ---\n",
    "plot_J_G_network(lpn_model_G, a_exp, spacing, dim_exp)"
   ]
  },
  {
   "cell_type": "markdown",
   "metadata": {},
   "source": [
    "L1 loss -- Train"
   ]
  },
  {
   "cell_type": "code",
   "execution_count": 11,
   "metadata": {
    "execution": {
     "iopub.execute_input": "2025-10-30T02:49:13.643656Z",
     "iopub.status.busy": "2025-10-30T02:49:13.643391Z",
     "iopub.status.idle": "2025-10-30T02:54:23.924128Z",
     "shell.execute_reply": "2025-10-30T02:54:23.923434Z"
    }
   },
   "outputs": [
    {
     "name": "stdout",
     "output_type": "stream",
     "text": [
      "--- Training LPN for J(x)=||x||_1 (Quadratic H) ---\n",
      "iteration 0 loss 24.227628707885742\n",
      "iteration 0 loss 12.237192153930664\n"
     ]
    },
    {
     "name": "stdout",
     "output_type": "stream",
     "text": [
      "iteration 500 loss 2.528865098953247\n"
     ]
    },
    {
     "name": "stdout",
     "output_type": "stream",
     "text": [
      "iteration 1000 loss 2.329230785369873\n"
     ]
    },
    {
     "name": "stdout",
     "output_type": "stream",
     "text": [
      "iteration 1500 loss 2.162219285964966\n"
     ]
    },
    {
     "name": "stdout",
     "output_type": "stream",
     "text": [
      "iteration 2000 loss 1.9241893291473389\n"
     ]
    },
    {
     "name": "stdout",
     "output_type": "stream",
     "text": [
      "iteration 2500 loss 1.4493927955627441\n"
     ]
    },
    {
     "name": "stdout",
     "output_type": "stream",
     "text": [
      "iteration 3000 loss 0.8250564932823181\n"
     ]
    },
    {
     "name": "stdout",
     "output_type": "stream",
     "text": [
      "iteration 3500 loss 0.6972787380218506\n"
     ]
    },
    {
     "name": "stdout",
     "output_type": "stream",
     "text": [
      "iteration 4000 loss 0.6421093940734863\n"
     ]
    },
    {
     "name": "stdout",
     "output_type": "stream",
     "text": [
      "iteration 4500 loss 0.6090719103813171\n"
     ]
    },
    {
     "name": "stdout",
     "output_type": "stream",
     "text": [
      "iteration 5000 loss 0.5875099897384644\n"
     ]
    },
    {
     "name": "stdout",
     "output_type": "stream",
     "text": [
      "iteration 5500 loss 0.5725484490394592\n"
     ]
    },
    {
     "name": "stdout",
     "output_type": "stream",
     "text": [
      "iteration 6000 loss 0.5598631501197815\n"
     ]
    },
    {
     "name": "stdout",
     "output_type": "stream",
     "text": [
      "iteration 6500 loss 0.549532413482666\n"
     ]
    },
    {
     "name": "stdout",
     "output_type": "stream",
     "text": [
      "iteration 7000 loss 0.5411675572395325\n"
     ]
    },
    {
     "name": "stdout",
     "output_type": "stream",
     "text": [
      "iteration 7500 loss 0.5336030721664429\n"
     ]
    },
    {
     "name": "stdout",
     "output_type": "stream",
     "text": [
      "iteration 8000 loss 0.5265873670578003\n"
     ]
    },
    {
     "name": "stdout",
     "output_type": "stream",
     "text": [
      "iteration 8500 loss 0.5211285948753357\n"
     ]
    },
    {
     "name": "stdout",
     "output_type": "stream",
     "text": [
      "iteration 9000 loss 0.5153787732124329\n"
     ]
    },
    {
     "name": "stdout",
     "output_type": "stream",
     "text": [
      "iteration 9500 loss 0.5113372802734375\n"
     ]
    },
    {
     "name": "stdout",
     "output_type": "stream",
     "text": [
      "iteration 10000 loss 0.5071607828140259\n"
     ]
    },
    {
     "name": "stdout",
     "output_type": "stream",
     "text": [
      "iteration 10500 loss 0.5031816959381104\n"
     ]
    },
    {
     "name": "stdout",
     "output_type": "stream",
     "text": [
      "iteration 11000 loss 0.5001304149627686\n"
     ]
    },
    {
     "name": "stdout",
     "output_type": "stream",
     "text": [
      "iteration 11500 loss 0.49675285816192627\n"
     ]
    },
    {
     "name": "stdout",
     "output_type": "stream",
     "text": [
      "iteration 12000 loss 0.49368971586227417\n"
     ]
    },
    {
     "name": "stdout",
     "output_type": "stream",
     "text": [
      "iteration 12500 loss 0.490857869386673\n"
     ]
    },
    {
     "name": "stdout",
     "output_type": "stream",
     "text": [
      "iteration 13000 loss 0.4884987771511078\n"
     ]
    },
    {
     "name": "stdout",
     "output_type": "stream",
     "text": [
      "iteration 13500 loss 0.4859803318977356\n"
     ]
    },
    {
     "name": "stdout",
     "output_type": "stream",
     "text": [
      "iteration 14000 loss 0.4838431775569916\n"
     ]
    },
    {
     "name": "stdout",
     "output_type": "stream",
     "text": [
      "iteration 14500 loss 0.4817597568035126\n"
     ]
    },
    {
     "name": "stdout",
     "output_type": "stream",
     "text": [
      "iteration 15000 loss 0.47928497195243835\n"
     ]
    },
    {
     "name": "stdout",
     "output_type": "stream",
     "text": [
      "iteration 15500 loss 0.47800323367118835\n"
     ]
    },
    {
     "name": "stdout",
     "output_type": "stream",
     "text": [
      "iteration 16000 loss 0.4762245714664459\n"
     ]
    },
    {
     "name": "stdout",
     "output_type": "stream",
     "text": [
      "iteration 16500 loss 0.47382664680480957\n"
     ]
    },
    {
     "name": "stdout",
     "output_type": "stream",
     "text": [
      "iteration 17000 loss 0.4721175730228424\n"
     ]
    },
    {
     "name": "stdout",
     "output_type": "stream",
     "text": [
      "iteration 17500 loss 0.47127050161361694\n"
     ]
    },
    {
     "name": "stdout",
     "output_type": "stream",
     "text": [
      "iteration 18000 loss 0.46893027424812317\n"
     ]
    },
    {
     "name": "stdout",
     "output_type": "stream",
     "text": [
      "iteration 18500 loss 0.4674350321292877\n"
     ]
    },
    {
     "name": "stdout",
     "output_type": "stream",
     "text": [
      "iteration 19000 loss 0.4661165475845337\n"
     ]
    },
    {
     "name": "stdout",
     "output_type": "stream",
     "text": [
      "iteration 19500 loss 0.4648582637310028\n"
     ]
    },
    {
     "name": "stdout",
     "output_type": "stream",
     "text": [
      "Learning rate decreased to 1e-05 at iteration 20000\n",
      "iteration 20000 loss 0.4641401171684265\n"
     ]
    },
    {
     "name": "stdout",
     "output_type": "stream",
     "text": [
      "iteration 20500 loss 0.46291953325271606\n"
     ]
    },
    {
     "name": "stdout",
     "output_type": "stream",
     "text": [
      "iteration 21000 loss 0.46271324157714844\n"
     ]
    },
    {
     "name": "stdout",
     "output_type": "stream",
     "text": [
      "iteration 21500 loss 0.4625089168548584\n"
     ]
    },
    {
     "name": "stdout",
     "output_type": "stream",
     "text": [
      "iteration 22000 loss 0.46229004859924316\n"
     ]
    },
    {
     "name": "stdout",
     "output_type": "stream",
     "text": [
      "iteration 22500 loss 0.4621000587940216\n"
     ]
    },
    {
     "name": "stdout",
     "output_type": "stream",
     "text": [
      "iteration 23000 loss 0.461932897567749\n"
     ]
    },
    {
     "name": "stdout",
     "output_type": "stream",
     "text": [
      "iteration 23500 loss 0.461733877658844\n"
     ]
    },
    {
     "name": "stdout",
     "output_type": "stream",
     "text": [
      "iteration 24000 loss 0.4615403115749359\n"
     ]
    },
    {
     "name": "stdout",
     "output_type": "stream",
     "text": [
      "iteration 24500 loss 0.46134206652641296\n"
     ]
    },
    {
     "name": "stdout",
     "output_type": "stream",
     "text": [
      "iteration 25000 loss 0.4611680507659912\n"
     ]
    },
    {
     "name": "stdout",
     "output_type": "stream",
     "text": [
      "iteration 25500 loss 0.4610006511211395\n"
     ]
    },
    {
     "name": "stdout",
     "output_type": "stream",
     "text": [
      "iteration 26000 loss 0.460875004529953\n"
     ]
    },
    {
     "name": "stdout",
     "output_type": "stream",
     "text": [
      "iteration 26500 loss 0.4606785178184509\n"
     ]
    },
    {
     "name": "stdout",
     "output_type": "stream",
     "text": [
      "iteration 27000 loss 0.4604646563529968\n"
     ]
    },
    {
     "name": "stdout",
     "output_type": "stream",
     "text": [
      "iteration 27500 loss 0.46032699942588806\n"
     ]
    },
    {
     "name": "stdout",
     "output_type": "stream",
     "text": [
      "iteration 28000 loss 0.46016043424606323\n"
     ]
    },
    {
     "name": "stdout",
     "output_type": "stream",
     "text": [
      "iteration 28500 loss 0.45996785163879395\n"
     ]
    },
    {
     "name": "stdout",
     "output_type": "stream",
     "text": [
      "iteration 29000 loss 0.4598109722137451\n"
     ]
    },
    {
     "name": "stdout",
     "output_type": "stream",
     "text": [
      "iteration 29500 loss 0.45967569947242737\n"
     ]
    },
    {
     "name": "stdout",
     "output_type": "stream",
     "text": [
      "iteration 30000 loss 0.45946764945983887\n"
     ]
    },
    {
     "name": "stdout",
     "output_type": "stream",
     "text": [
      "iteration 30500 loss 0.45932480692863464\n"
     ]
    },
    {
     "name": "stdout",
     "output_type": "stream",
     "text": [
      "iteration 31000 loss 0.4591723680496216\n"
     ]
    },
    {
     "name": "stdout",
     "output_type": "stream",
     "text": [
      "iteration 31500 loss 0.45900747179985046\n"
     ]
    },
    {
     "name": "stdout",
     "output_type": "stream",
     "text": [
      "iteration 32000 loss 0.45886316895484924\n"
     ]
    },
    {
     "name": "stdout",
     "output_type": "stream",
     "text": [
      "iteration 32500 loss 0.4587516188621521\n"
     ]
    },
    {
     "name": "stdout",
     "output_type": "stream",
     "text": [
      "iteration 33000 loss 0.45858675241470337\n"
     ]
    },
    {
     "name": "stdout",
     "output_type": "stream",
     "text": [
      "iteration 33500 loss 0.458394855260849\n"
     ]
    },
    {
     "name": "stdout",
     "output_type": "stream",
     "text": [
      "iteration 34000 loss 0.45826661586761475\n"
     ]
    },
    {
     "name": "stdout",
     "output_type": "stream",
     "text": [
      "iteration 34500 loss 0.45814254879951477\n"
     ]
    },
    {
     "name": "stdout",
     "output_type": "stream",
     "text": [
      "iteration 35000 loss 0.4579930603504181\n"
     ]
    },
    {
     "name": "stdout",
     "output_type": "stream",
     "text": [
      "iteration 35500 loss 0.45780956745147705\n"
     ]
    },
    {
     "name": "stdout",
     "output_type": "stream",
     "text": [
      "iteration 36000 loss 0.4576846957206726\n"
     ]
    },
    {
     "name": "stdout",
     "output_type": "stream",
     "text": [
      "iteration 36500 loss 0.4575382471084595\n"
     ]
    },
    {
     "name": "stdout",
     "output_type": "stream",
     "text": [
      "iteration 37000 loss 0.4573923349380493\n"
     ]
    },
    {
     "name": "stdout",
     "output_type": "stream",
     "text": [
      "iteration 37500 loss 0.4572335481643677\n"
     ]
    },
    {
     "name": "stdout",
     "output_type": "stream",
     "text": [
      "iteration 38000 loss 0.4571109116077423\n"
     ]
    },
    {
     "name": "stdout",
     "output_type": "stream",
     "text": [
      "iteration 38500 loss 0.4569398760795593\n"
     ]
    },
    {
     "name": "stdout",
     "output_type": "stream",
     "text": [
      "iteration 39000 loss 0.45684391260147095\n"
     ]
    },
    {
     "name": "stdout",
     "output_type": "stream",
     "text": [
      "iteration 39500 loss 0.4566984474658966\n"
     ]
    },
    {
     "name": "stdout",
     "output_type": "stream",
     "text": [
      "Learning rate decreased to 1.0000000000000002e-06 at iteration 40000\n",
      "iteration 40000 loss 0.4565601646900177\n"
     ]
    },
    {
     "name": "stdout",
     "output_type": "stream",
     "text": [
      "iteration 40500 loss 0.4564798176288605\n"
     ]
    },
    {
     "name": "stdout",
     "output_type": "stream",
     "text": [
      "iteration 41000 loss 0.4564610421657562\n"
     ]
    },
    {
     "name": "stdout",
     "output_type": "stream",
     "text": [
      "iteration 41500 loss 0.45644277334213257\n"
     ]
    },
    {
     "name": "stdout",
     "output_type": "stream",
     "text": [
      "iteration 42000 loss 0.4564211070537567\n"
     ]
    },
    {
     "name": "stdout",
     "output_type": "stream",
     "text": [
      "iteration 42500 loss 0.4564020335674286\n"
     ]
    },
    {
     "name": "stdout",
     "output_type": "stream",
     "text": [
      "iteration 43000 loss 0.4563843011856079\n"
     ]
    },
    {
     "name": "stdout",
     "output_type": "stream",
     "text": [
      "iteration 43500 loss 0.45636796951293945\n"
     ]
    },
    {
     "name": "stdout",
     "output_type": "stream",
     "text": [
      "iteration 44000 loss 0.456348180770874\n"
     ]
    },
    {
     "name": "stdout",
     "output_type": "stream",
     "text": [
      "iteration 44500 loss 0.4563349783420563\n"
     ]
    },
    {
     "name": "stdout",
     "output_type": "stream",
     "text": [
      "iteration 45000 loss 0.45631811022758484\n"
     ]
    },
    {
     "name": "stdout",
     "output_type": "stream",
     "text": [
      "iteration 45500 loss 0.456302285194397\n"
     ]
    },
    {
     "name": "stdout",
     "output_type": "stream",
     "text": [
      "iteration 46000 loss 0.4562838673591614\n"
     ]
    },
    {
     "name": "stdout",
     "output_type": "stream",
     "text": [
      "iteration 46500 loss 0.45626890659332275\n"
     ]
    },
    {
     "name": "stdout",
     "output_type": "stream",
     "text": [
      "iteration 47000 loss 0.4562540054321289\n"
     ]
    },
    {
     "name": "stdout",
     "output_type": "stream",
     "text": [
      "iteration 47500 loss 0.45623892545700073\n"
     ]
    },
    {
     "name": "stdout",
     "output_type": "stream",
     "text": [
      "iteration 48000 loss 0.456220805644989\n"
     ]
    },
    {
     "name": "stdout",
     "output_type": "stream",
     "text": [
      "iteration 48500 loss 0.45620980858802795\n"
     ]
    },
    {
     "name": "stdout",
     "output_type": "stream",
     "text": [
      "iteration 49000 loss 0.4561903774738312\n"
     ]
    },
    {
     "name": "stdout",
     "output_type": "stream",
     "text": [
      "iteration 49500 loss 0.45617544651031494\n"
     ]
    },
    {
     "name": "stdout",
     "output_type": "stream",
     "text": [
      "iteration 50000 loss 0.45616596937179565\n"
     ]
    },
    {
     "name": "stdout",
     "output_type": "stream",
     "text": [
      "iteration 50500 loss 0.456147164106369\n"
     ]
    },
    {
     "name": "stdout",
     "output_type": "stream",
     "text": [
      "iteration 51000 loss 0.45613232254981995\n"
     ]
    },
    {
     "name": "stdout",
     "output_type": "stream",
     "text": [
      "iteration 51500 loss 0.4561215341091156\n"
     ]
    },
    {
     "name": "stdout",
     "output_type": "stream",
     "text": [
      "iteration 52000 loss 0.4561035931110382\n"
     ]
    },
    {
     "name": "stdout",
     "output_type": "stream",
     "text": [
      "iteration 52500 loss 0.45608946681022644\n"
     ]
    },
    {
     "name": "stdout",
     "output_type": "stream",
     "text": [
      "iteration 53000 loss 0.45607465505599976\n"
     ]
    },
    {
     "name": "stdout",
     "output_type": "stream",
     "text": [
      "iteration 53500 loss 0.4560587406158447\n"
     ]
    },
    {
     "name": "stdout",
     "output_type": "stream",
     "text": [
      "iteration 54000 loss 0.4560445249080658\n"
     ]
    },
    {
     "name": "stdout",
     "output_type": "stream",
     "text": [
      "iteration 54500 loss 0.45602864027023315\n"
     ]
    },
    {
     "name": "stdout",
     "output_type": "stream",
     "text": [
      "iteration 55000 loss 0.456014484167099\n"
     ]
    },
    {
     "name": "stdout",
     "output_type": "stream",
     "text": [
      "iteration 55500 loss 0.4559990167617798\n"
     ]
    },
    {
     "name": "stdout",
     "output_type": "stream",
     "text": [
      "iteration 56000 loss 0.4559860825538635\n"
     ]
    },
    {
     "name": "stdout",
     "output_type": "stream",
     "text": [
      "iteration 56500 loss 0.4559701085090637\n"
     ]
    },
    {
     "name": "stdout",
     "output_type": "stream",
     "text": [
      "iteration 57000 loss 0.45595505833625793\n"
     ]
    },
    {
     "name": "stdout",
     "output_type": "stream",
     "text": [
      "iteration 57500 loss 0.4559422433376312\n"
     ]
    },
    {
     "name": "stdout",
     "output_type": "stream",
     "text": [
      "iteration 58000 loss 0.45592954754829407\n"
     ]
    },
    {
     "name": "stdout",
     "output_type": "stream",
     "text": [
      "iteration 58500 loss 0.45591309666633606\n"
     ]
    },
    {
     "name": "stdout",
     "output_type": "stream",
     "text": [
      "iteration 59000 loss 0.45589783787727356\n"
     ]
    },
    {
     "name": "stdout",
     "output_type": "stream",
     "text": [
      "iteration 59500 loss 0.45588260889053345\n"
     ]
    },
    {
     "name": "stdout",
     "output_type": "stream",
     "text": [
      "Learning rate decreased to 1.0000000000000002e-07 at iteration 60000\n",
      "iteration 60000 loss 0.45586901903152466\n"
     ]
    },
    {
     "name": "stdout",
     "output_type": "stream",
     "text": [
      "iteration 60500 loss 0.45586326718330383\n"
     ]
    },
    {
     "name": "stdout",
     "output_type": "stream",
     "text": [
      "iteration 61000 loss 0.45586127042770386\n"
     ]
    },
    {
     "name": "stdout",
     "output_type": "stream",
     "text": [
      "iteration 61500 loss 0.4558594822883606\n"
     ]
    },
    {
     "name": "stdout",
     "output_type": "stream",
     "text": [
      "iteration 62000 loss 0.45585742592811584\n"
     ]
    },
    {
     "name": "stdout",
     "output_type": "stream",
     "text": [
      "iteration 62500 loss 0.45585691928863525\n"
     ]
    },
    {
     "name": "stdout",
     "output_type": "stream",
     "text": [
      "iteration 63000 loss 0.45585373044013977\n"
     ]
    },
    {
     "name": "stdout",
     "output_type": "stream",
     "text": [
      "iteration 63500 loss 0.4558519124984741\n"
     ]
    },
    {
     "name": "stdout",
     "output_type": "stream",
     "text": [
      "iteration 64000 loss 0.45585164427757263\n"
     ]
    },
    {
     "name": "stdout",
     "output_type": "stream",
     "text": [
      "iteration 64500 loss 0.455848753452301\n"
     ]
    },
    {
     "name": "stdout",
     "output_type": "stream",
     "text": [
      "iteration 65000 loss 0.4558461606502533\n"
     ]
    },
    {
     "name": "stdout",
     "output_type": "stream",
     "text": [
      "iteration 65500 loss 0.4558449387550354\n"
     ]
    },
    {
     "name": "stdout",
     "output_type": "stream",
     "text": [
      "iteration 66000 loss 0.45584335923194885\n"
     ]
    },
    {
     "name": "stdout",
     "output_type": "stream",
     "text": [
      "iteration 66500 loss 0.4558415412902832\n"
     ]
    },
    {
     "name": "stdout",
     "output_type": "stream",
     "text": [
      "iteration 67000 loss 0.4558395743370056\n"
     ]
    },
    {
     "name": "stdout",
     "output_type": "stream",
     "text": [
      "iteration 67500 loss 0.45583871006965637\n"
     ]
    },
    {
     "name": "stdout",
     "output_type": "stream",
     "text": [
      "iteration 68000 loss 0.4558366537094116\n"
     ]
    },
    {
     "name": "stdout",
     "output_type": "stream",
     "text": [
      "iteration 68500 loss 0.4558347761631012\n"
     ]
    },
    {
     "name": "stdout",
     "output_type": "stream",
     "text": [
      "iteration 69000 loss 0.4558334946632385\n"
     ]
    },
    {
     "name": "stdout",
     "output_type": "stream",
     "text": [
      "iteration 69500 loss 0.4558318555355072\n"
     ]
    },
    {
     "name": "stdout",
     "output_type": "stream",
     "text": [
      "iteration 70000 loss 0.45583027601242065\n"
     ]
    },
    {
     "name": "stdout",
     "output_type": "stream",
     "text": [
      "iteration 70500 loss 0.45582884550094604\n"
     ]
    },
    {
     "name": "stdout",
     "output_type": "stream",
     "text": [
      "iteration 71000 loss 0.4558272063732147\n"
     ]
    },
    {
     "name": "stdout",
     "output_type": "stream",
     "text": [
      "iteration 71500 loss 0.45582544803619385\n"
     ]
    },
    {
     "name": "stdout",
     "output_type": "stream",
     "text": [
      "iteration 72000 loss 0.45582398772239685\n"
     ]
    },
    {
     "name": "stdout",
     "output_type": "stream",
     "text": [
      "iteration 72500 loss 0.45582303404808044\n"
     ]
    },
    {
     "name": "stdout",
     "output_type": "stream",
     "text": [
      "iteration 73000 loss 0.45582106709480286\n"
     ]
    },
    {
     "name": "stdout",
     "output_type": "stream",
     "text": [
      "iteration 73500 loss 0.45581960678100586\n"
     ]
    },
    {
     "name": "stdout",
     "output_type": "stream",
     "text": [
      "iteration 74000 loss 0.4558177888393402\n"
     ]
    },
    {
     "name": "stdout",
     "output_type": "stream",
     "text": [
      "iteration 74500 loss 0.4558190107345581\n"
     ]
    },
    {
     "name": "stdout",
     "output_type": "stream",
     "text": [
      "iteration 75000 loss 0.4558153450489044\n"
     ]
    },
    {
     "name": "stdout",
     "output_type": "stream",
     "text": [
      "iteration 75500 loss 0.45581361651420593\n"
     ]
    },
    {
     "name": "stdout",
     "output_type": "stream",
     "text": [
      "iteration 76000 loss 0.4558122456073761\n"
     ]
    },
    {
     "name": "stdout",
     "output_type": "stream",
     "text": [
      "iteration 76500 loss 0.45581018924713135\n"
     ]
    },
    {
     "name": "stdout",
     "output_type": "stream",
     "text": [
      "iteration 77000 loss 0.45580869913101196\n"
     ]
    },
    {
     "name": "stdout",
     "output_type": "stream",
     "text": [
      "iteration 77500 loss 0.455807089805603\n"
     ]
    },
    {
     "name": "stdout",
     "output_type": "stream",
     "text": [
      "iteration 78000 loss 0.4558061957359314\n"
     ]
    },
    {
     "name": "stdout",
     "output_type": "stream",
     "text": [
      "iteration 78500 loss 0.45580416917800903\n"
     ]
    },
    {
     "name": "stdout",
     "output_type": "stream",
     "text": [
      "iteration 79000 loss 0.4558027982711792\n"
     ]
    },
    {
     "name": "stdout",
     "output_type": "stream",
     "text": [
      "iteration 79500 loss 0.455801397562027\n"
     ]
    },
    {
     "name": "stdout",
     "output_type": "stream",
     "text": [
      "Learning rate decreased to 1.0000000000000004e-08 at iteration 80000\n",
      "iteration 80000 loss 0.45579975843429565\n"
     ]
    },
    {
     "name": "stdout",
     "output_type": "stream",
     "text": [
      "iteration 80500 loss 0.45579928159713745\n"
     ]
    },
    {
     "name": "stdout",
     "output_type": "stream",
     "text": [
      "iteration 81000 loss 0.45579928159713745\n"
     ]
    },
    {
     "name": "stdout",
     "output_type": "stream",
     "text": [
      "iteration 81500 loss 0.4557991921901703\n"
     ]
    },
    {
     "name": "stdout",
     "output_type": "stream",
     "text": [
      "iteration 82000 loss 0.4557991623878479\n"
     ]
    },
    {
     "name": "stdout",
     "output_type": "stream",
     "text": [
      "iteration 82500 loss 0.45579904317855835\n"
     ]
    },
    {
     "name": "stdout",
     "output_type": "stream",
     "text": [
      "iteration 83000 loss 0.45579883456230164\n"
     ]
    },
    {
     "name": "stdout",
     "output_type": "stream",
     "text": [
      "iteration 83500 loss 0.4557986259460449\n"
     ]
    },
    {
     "name": "stdout",
     "output_type": "stream",
     "text": [
      "iteration 84000 loss 0.455798476934433\n"
     ]
    },
    {
     "name": "stdout",
     "output_type": "stream",
     "text": [
      "iteration 84500 loss 0.4557981789112091\n"
     ]
    },
    {
     "name": "stdout",
     "output_type": "stream",
     "text": [
      "iteration 85000 loss 0.4557980000972748\n"
     ]
    },
    {
     "name": "stdout",
     "output_type": "stream",
     "text": [
      "iteration 85500 loss 0.45579779148101807\n"
     ]
    },
    {
     "name": "stdout",
     "output_type": "stream",
     "text": [
      "iteration 86000 loss 0.45579758286476135\n"
     ]
    },
    {
     "name": "stdout",
     "output_type": "stream",
     "text": [
      "iteration 86500 loss 0.455797404050827\n"
     ]
    },
    {
     "name": "stdout",
     "output_type": "stream",
     "text": [
      "iteration 87000 loss 0.4557971954345703\n"
     ]
    },
    {
     "name": "stdout",
     "output_type": "stream",
     "text": [
      "iteration 87500 loss 0.455797016620636\n"
     ]
    },
    {
     "name": "stdout",
     "output_type": "stream",
     "text": [
      "iteration 88000 loss 0.45579683780670166\n"
     ]
    },
    {
     "name": "stdout",
     "output_type": "stream",
     "text": [
      "iteration 88500 loss 0.45579665899276733\n"
     ]
    },
    {
     "name": "stdout",
     "output_type": "stream",
     "text": [
      "iteration 89000 loss 0.45579642057418823\n"
     ]
    },
    {
     "name": "stdout",
     "output_type": "stream",
     "text": [
      "iteration 89500 loss 0.4557962715625763\n"
     ]
    },
    {
     "name": "stdout",
     "output_type": "stream",
     "text": [
      "iteration 90000 loss 0.4557960629463196\n"
     ]
    },
    {
     "name": "stdout",
     "output_type": "stream",
     "text": [
      "iteration 90500 loss 0.45579591393470764\n"
     ]
    },
    {
     "name": "stdout",
     "output_type": "stream",
     "text": [
      "iteration 91000 loss 0.45579567551612854\n"
     ]
    },
    {
     "name": "stdout",
     "output_type": "stream",
     "text": [
      "iteration 91500 loss 0.4557955265045166\n"
     ]
    },
    {
     "name": "stdout",
     "output_type": "stream",
     "text": [
      "iteration 92000 loss 0.4557953476905823\n"
     ]
    },
    {
     "name": "stdout",
     "output_type": "stream",
     "text": [
      "iteration 92500 loss 0.45579516887664795\n"
     ]
    },
    {
     "name": "stdout",
     "output_type": "stream",
     "text": [
      "iteration 93000 loss 0.4557949900627136\n"
     ]
    },
    {
     "name": "stdout",
     "output_type": "stream",
     "text": [
      "iteration 93500 loss 0.4557948112487793\n"
     ]
    },
    {
     "name": "stdout",
     "output_type": "stream",
     "text": [
      "iteration 94000 loss 0.4557946026325226\n"
     ]
    },
    {
     "name": "stdout",
     "output_type": "stream",
     "text": [
      "iteration 94500 loss 0.4557943642139435\n"
     ]
    },
    {
     "name": "stdout",
     "output_type": "stream",
     "text": [
      "iteration 95000 loss 0.45579421520233154\n"
     ]
    },
    {
     "name": "stdout",
     "output_type": "stream",
     "text": [
      "iteration 95500 loss 0.45579400658607483\n"
     ]
    },
    {
     "name": "stdout",
     "output_type": "stream",
     "text": [
      "iteration 96000 loss 0.4557938277721405\n"
     ]
    },
    {
     "name": "stdout",
     "output_type": "stream",
     "text": [
      "iteration 96500 loss 0.4557936191558838\n"
     ]
    },
    {
     "name": "stdout",
     "output_type": "stream",
     "text": [
      "iteration 97000 loss 0.45579344034194946\n"
     ]
    },
    {
     "name": "stdout",
     "output_type": "stream",
     "text": [
      "iteration 97500 loss 0.4557932913303375\n"
     ]
    },
    {
     "name": "stdout",
     "output_type": "stream",
     "text": [
      "iteration 98000 loss 0.4557931125164032\n"
     ]
    },
    {
     "name": "stdout",
     "output_type": "stream",
     "text": [
      "iteration 98500 loss 0.4557928740978241\n"
     ]
    },
    {
     "name": "stdout",
     "output_type": "stream",
     "text": [
      "iteration 99000 loss 0.4557928442955017\n"
     ]
    },
    {
     "name": "stdout",
     "output_type": "stream",
     "text": [
      "iteration 99500 loss 0.455792635679245\n"
     ]
    }
   ],
   "source": [
    "\n",
    "print(\"--- Training LPN for J(x)=||x||_1 (Quadratic H) ---\")\n",
    "lpn_model_quad_l1 = LPN(in_dim=dim_exp, hidden=hidden, layers=layers, beta=beta,eps=1e-3).to(device)\n",
    "optimizer_quad_l1 = torch.optim.Adam(lpn_model_quad_l1.parameters(), lr=1e-4)\n",
    "\n",
    "for i in range(1):\n",
    "     single_iteration(i, data_points_exp, lpn_model_quad_l1, optimizer_quad_l1, y_j_exp_tensor,cvx_samples_exp_tensor,loss_type=1,gamma_loss=None)\n",
    "\n",
    "for g in optimizer_quad_l1.param_groups:\n",
    "    g[\"lr\"] = 1e-4 \n",
    "for i in range(iterations_exp_long):\n",
    "    if (i % 20000 == 0) and (i > 0): \n",
    "        # Multiply the current learning rate by 1e-1\n",
    "        for g in optimizer_quad_l1.param_groups:\n",
    "            new_lr = g[\"lr\"] * 1e-1\n",
    "            g[\"lr\"] = new_lr\n",
    "        print(f\"Learning rate decreased to {new_lr} at iteration {i}\")\n",
    "    single_iteration(i, data_points_exp, lpn_model_quad_l1, optimizer_quad_l1, y_j_exp_tensor,cvx_samples_exp_tensor,loss_type=1,gamma_loss=None)\n",
    "\n",
    "torch.save(lpn_model_quad_l1.state_dict(), os.path.join(MODEL_DIR, \"QuadraticH_L1prior_l1.pth\"))"
   ]
  },
  {
   "cell_type": "markdown",
   "metadata": {},
   "source": [
    "L1 loss -- Plot"
   ]
  },
  {
   "cell_type": "code",
   "execution_count": 12,
   "metadata": {
    "execution": {
     "iopub.execute_input": "2025-10-30T02:54:23.926639Z",
     "iopub.status.busy": "2025-10-30T02:54:23.926355Z",
     "iopub.status.idle": "2025-10-30T02:56:30.551476Z",
     "shell.execute_reply": "2025-10-30T02:56:30.550846Z"
    }
   },
   "outputs": [
    {
     "name": "stdout",
     "output_type": "stream",
     "text": [
      "\n",
      "--- Plotting Cross Sections for Quadratic H, L1 Prior (Dim=16) ---\n",
      "loss -3.7354559898376465\n"
     ]
    },
    {
     "name": "stdout",
     "output_type": "stream",
     "text": [
      "loss -66.82245635986328\n"
     ]
    },
    {
     "name": "stdout",
     "output_type": "stream",
     "text": [
      "loss -106.66447448730469\n"
     ]
    },
    {
     "name": "stdout",
     "output_type": "stream",
     "text": [
      "loss -139.44873046875\n"
     ]
    },
    {
     "name": "stdout",
     "output_type": "stream",
     "text": [
      "loss -166.18563842773438\n"
     ]
    },
    {
     "name": "stdout",
     "output_type": "stream",
     "text": [
      "loss -188.1255340576172\n"
     ]
    },
    {
     "name": "stdout",
     "output_type": "stream",
     "text": [
      "loss -206.21493530273438\n"
     ]
    },
    {
     "name": "stdout",
     "output_type": "stream",
     "text": [
      "loss -221.03616333007812\n"
     ]
    },
    {
     "name": "stdout",
     "output_type": "stream",
     "text": [
      "loss -233.01632690429688\n"
     ]
    },
    {
     "name": "stdout",
     "output_type": "stream",
     "text": [
      "loss -242.53126525878906\n"
     ]
    },
    {
     "name": "stdout",
     "output_type": "stream",
     "text": [
      "loss -249.94911193847656\n"
     ]
    },
    {
     "name": "stdout",
     "output_type": "stream",
     "text": [
      "loss -255.60289001464844\n"
     ]
    },
    {
     "name": "stdout",
     "output_type": "stream",
     "text": [
      "loss -259.7560729980469\n"
     ]
    },
    {
     "name": "stdout",
     "output_type": "stream",
     "text": [
      "loss -262.6452331542969\n"
     ]
    },
    {
     "name": "stdout",
     "output_type": "stream",
     "text": [
      "loss -264.514892578125\n"
     ]
    },
    {
     "name": "stdout",
     "output_type": "stream",
     "text": [
      "loss -265.6133728027344\n"
     ]
    },
    {
     "name": "stdout",
     "output_type": "stream",
     "text": [
      "loss -266.181640625\n"
     ]
    },
    {
     "name": "stdout",
     "output_type": "stream",
     "text": [
      "loss -266.4312744140625\n"
     ]
    },
    {
     "name": "stdout",
     "output_type": "stream",
     "text": [
      "loss -266.52020263671875\n"
     ]
    },
    {
     "name": "stdout",
     "output_type": "stream",
     "text": [
      "loss -266.5444030761719\n"
     ]
    },
    {
     "name": "stdout",
     "output_type": "stream",
     "text": [
      "loss -266.5491027832031\n"
     ]
    },
    {
     "name": "stdout",
     "output_type": "stream",
     "text": [
      "loss -266.5496520996094\n"
     ]
    },
    {
     "name": "stdout",
     "output_type": "stream",
     "text": [
      "loss -266.5497131347656\n"
     ]
    },
    {
     "name": "stdout",
     "output_type": "stream",
     "text": [
      "loss -266.5497131347656\n"
     ]
    },
    {
     "name": "stdout",
     "output_type": "stream",
     "text": [
      "loss -266.5497131347656\n"
     ]
    },
    {
     "name": "stdout",
     "output_type": "stream",
     "text": [
      "loss -266.5497131347656\n"
     ]
    },
    {
     "name": "stdout",
     "output_type": "stream",
     "text": [
      "loss -266.5497131347656\n"
     ]
    },
    {
     "name": "stdout",
     "output_type": "stream",
     "text": [
      "loss -266.5497131347656\n"
     ]
    },
    {
     "name": "stdout",
     "output_type": "stream",
     "text": [
      "loss -266.5497131347656\n"
     ]
    },
    {
     "name": "stdout",
     "output_type": "stream",
     "text": [
      "loss -266.5497131347656\n"
     ]
    },
    {
     "name": "stdout",
     "output_type": "stream",
     "text": [
      "loss -266.5497131347656\n"
     ]
    },
    {
     "name": "stdout",
     "output_type": "stream",
     "text": [
      "loss -266.5497131347656\n"
     ]
    },
    {
     "name": "stdout",
     "output_type": "stream",
     "text": [
      "loss -266.5497131347656\n"
     ]
    },
    {
     "name": "stdout",
     "output_type": "stream",
     "text": [
      "loss -266.5497131347656\n"
     ]
    },
    {
     "name": "stdout",
     "output_type": "stream",
     "text": [
      "loss -266.5497131347656\n"
     ]
    },
    {
     "name": "stdout",
     "output_type": "stream",
     "text": [
      "loss -266.5497131347656\n"
     ]
    },
    {
     "name": "stdout",
     "output_type": "stream",
     "text": [
      "loss -266.5496826171875\n"
     ]
    },
    {
     "name": "stdout",
     "output_type": "stream",
     "text": [
      "loss -266.5496826171875\n"
     ]
    },
    {
     "name": "stdout",
     "output_type": "stream",
     "text": [
      "loss -266.5497131347656\n"
     ]
    },
    {
     "name": "stdout",
     "output_type": "stream",
     "text": [
      "loss -266.5497131347656\n"
     ]
    },
    {
     "name": "stdout",
     "output_type": "stream",
     "text": [
      "final mse:  1.2144573124928115e-09\n",
      "max, min: 6.8333225 -6.5729055\n",
      "loss -3.7354559898376465\n"
     ]
    },
    {
     "name": "stdout",
     "output_type": "stream",
     "text": [
      "loss -69.378662109375\n"
     ]
    },
    {
     "name": "stdout",
     "output_type": "stream",
     "text": [
      "loss -109.80612182617188\n"
     ]
    },
    {
     "name": "stdout",
     "output_type": "stream",
     "text": [
      "loss -143.7202606201172\n"
     ]
    },
    {
     "name": "stdout",
     "output_type": "stream",
     "text": [
      "loss -172.30618286132812\n"
     ]
    },
    {
     "name": "stdout",
     "output_type": "stream",
     "text": [
      "loss -196.1181640625\n"
     ]
    },
    {
     "name": "stdout",
     "output_type": "stream",
     "text": [
      "loss -215.4666748046875\n"
     ]
    },
    {
     "name": "stdout",
     "output_type": "stream",
     "text": [
      "loss -230.64776611328125\n"
     ]
    },
    {
     "name": "stdout",
     "output_type": "stream",
     "text": [
      "loss -242.24752807617188\n"
     ]
    },
    {
     "name": "stdout",
     "output_type": "stream",
     "text": [
      "loss -251.015869140625\n"
     ]
    },
    {
     "name": "stdout",
     "output_type": "stream",
     "text": [
      "loss -257.6614990234375\n"
     ]
    },
    {
     "name": "stdout",
     "output_type": "stream",
     "text": [
      "loss -262.68524169921875\n"
     ]
    },
    {
     "name": "stdout",
     "output_type": "stream",
     "text": [
      "loss -266.4266662597656\n"
     ]
    },
    {
     "name": "stdout",
     "output_type": "stream",
     "text": [
      "loss -269.13079833984375\n"
     ]
    },
    {
     "name": "stdout",
     "output_type": "stream",
     "text": [
      "loss -270.98406982421875\n"
     ]
    },
    {
     "name": "stdout",
     "output_type": "stream",
     "text": [
      "loss -272.1536865234375\n"
     ]
    },
    {
     "name": "stdout",
     "output_type": "stream",
     "text": [
      "loss -272.8128662109375\n"
     ]
    },
    {
     "name": "stdout",
     "output_type": "stream",
     "text": [
      "loss -273.13372802734375\n"
     ]
    },
    {
     "name": "stdout",
     "output_type": "stream",
     "text": [
      "loss -273.2635803222656\n"
     ]
    },
    {
     "name": "stdout",
     "output_type": "stream",
     "text": [
      "loss -273.3051452636719\n"
     ]
    },
    {
     "name": "stdout",
     "output_type": "stream",
     "text": [
      "loss -273.3150634765625\n"
     ]
    },
    {
     "name": "stdout",
     "output_type": "stream",
     "text": [
      "loss -273.3166809082031\n"
     ]
    },
    {
     "name": "stdout",
     "output_type": "stream",
     "text": [
      "loss -273.3168640136719\n"
     ]
    },
    {
     "name": "stdout",
     "output_type": "stream",
     "text": [
      "loss -273.3168640136719\n"
     ]
    },
    {
     "name": "stdout",
     "output_type": "stream",
     "text": [
      "loss -273.3168640136719\n"
     ]
    },
    {
     "name": "stdout",
     "output_type": "stream",
     "text": [
      "loss -273.3168640136719\n"
     ]
    },
    {
     "name": "stdout",
     "output_type": "stream",
     "text": [
      "loss -273.3168640136719\n"
     ]
    },
    {
     "name": "stdout",
     "output_type": "stream",
     "text": [
      "loss -273.3168640136719\n"
     ]
    },
    {
     "name": "stdout",
     "output_type": "stream",
     "text": [
      "loss -273.3168640136719\n"
     ]
    },
    {
     "name": "stdout",
     "output_type": "stream",
     "text": [
      "loss -273.3168640136719\n"
     ]
    },
    {
     "name": "stdout",
     "output_type": "stream",
     "text": [
      "loss -273.31683349609375\n"
     ]
    },
    {
     "name": "stdout",
     "output_type": "stream",
     "text": [
      "loss -273.31683349609375\n"
     ]
    },
    {
     "name": "stdout",
     "output_type": "stream",
     "text": [
      "loss -273.3168640136719\n"
     ]
    },
    {
     "name": "stdout",
     "output_type": "stream",
     "text": [
      "loss -273.3168640136719\n"
     ]
    },
    {
     "name": "stdout",
     "output_type": "stream",
     "text": [
      "loss -273.3168640136719\n"
     ]
    },
    {
     "name": "stdout",
     "output_type": "stream",
     "text": [
      "loss -273.3168640136719\n"
     ]
    },
    {
     "name": "stdout",
     "output_type": "stream",
     "text": [
      "loss -273.3168640136719\n"
     ]
    },
    {
     "name": "stdout",
     "output_type": "stream",
     "text": [
      "loss -273.31683349609375\n"
     ]
    },
    {
     "name": "stdout",
     "output_type": "stream",
     "text": [
      "loss -273.31683349609375\n"
     ]
    },
    {
     "name": "stdout",
     "output_type": "stream",
     "text": [
      "loss -273.3168640136719\n"
     ]
    },
    {
     "name": "stdout",
     "output_type": "stream",
     "text": [
      "final mse:  8.961067998747296e-10\n",
      "max, min: 6.607749 -6.9895196\n"
     ]
    },
    {
     "data": {
      "image/png": "[encoded data removed]",
      "text/plain": [
       "<Figure size 1200x500 with 2 Axes>"
      ]
     },
     "metadata": {},
     "output_type": "display_data"
    },
    {
     "data": {
      "image/png": "[encoded data removed]",
      "text/plain": [
       "<Figure size 1200x500 with 2 Axes>"
      ]
     },
     "metadata": {},
     "output_type": "display_data"
    }
   ],
   "source": [
    "# L1 loss -- Plot\n",
    "plot_all_quadratic_l1(lpn_model_quad_l1, a_exp, spacing, INVERT_MODE, dim_exp)\n"
   ]
  },
  {
   "cell_type": "code",
   "execution_count": 13,
   "metadata": {
    "execution": {
     "iopub.execute_input": "2025-10-30T02:56:30.553724Z",
     "iopub.status.busy": "2025-10-30T02:56:30.553448Z",
     "iopub.status.idle": "2025-10-30T03:02:01.141660Z",
     "shell.execute_reply": "2025-10-30T03:02:01.140928Z"
    }
   },
   "outputs": [
    {
     "name": "stdout",
     "output_type": "stream",
     "text": [
      "Generated G samples: G_samples_tensor shape torch.Size([30000, 1])\n",
      "\n",
      "--- Training Second LPN G(x) for Concave Quadratic Prior ---\n",
      "iteration 0 loss 673.2371215820312\n",
      "iteration 0 loss 352.5652770996094\n"
     ]
    },
    {
     "name": "stdout",
     "output_type": "stream",
     "text": [
      "iteration 500 loss 10.200592041015625\n"
     ]
    },
    {
     "name": "stdout",
     "output_type": "stream",
     "text": [
      "iteration 1000 loss 8.788565635681152\n"
     ]
    },
    {
     "name": "stdout",
     "output_type": "stream",
     "text": [
      "iteration 1500 loss 8.012038230895996\n"
     ]
    },
    {
     "name": "stdout",
     "output_type": "stream",
     "text": [
      "iteration 2000 loss 7.396777153015137\n"
     ]
    },
    {
     "name": "stdout",
     "output_type": "stream",
     "text": [
      "iteration 2500 loss 6.7193779945373535\n"
     ]
    },
    {
     "name": "stdout",
     "output_type": "stream",
     "text": [
      "iteration 3000 loss 5.9071760177612305\n"
     ]
    },
    {
     "name": "stdout",
     "output_type": "stream",
     "text": [
      "iteration 3500 loss 4.919990062713623\n"
     ]
    },
    {
     "name": "stdout",
     "output_type": "stream",
     "text": [
      "iteration 4000 loss 3.711352586746216\n"
     ]
    },
    {
     "name": "stdout",
     "output_type": "stream",
     "text": [
      "iteration 4500 loss 2.3293209075927734\n"
     ]
    },
    {
     "name": "stdout",
     "output_type": "stream",
     "text": [
      "iteration 5000 loss 1.3262107372283936\n"
     ]
    },
    {
     "name": "stdout",
     "output_type": "stream",
     "text": [
      "iteration 5500 loss 0.9876176118850708\n"
     ]
    },
    {
     "name": "stdout",
     "output_type": "stream",
     "text": [
      "iteration 6000 loss 0.8107592463493347\n"
     ]
    },
    {
     "name": "stdout",
     "output_type": "stream",
     "text": [
      "iteration 6500 loss 0.6851034164428711\n"
     ]
    },
    {
     "name": "stdout",
     "output_type": "stream",
     "text": [
      "iteration 7000 loss 0.5915391445159912\n"
     ]
    },
    {
     "name": "stdout",
     "output_type": "stream",
     "text": [
      "iteration 7500 loss 0.5194832682609558\n"
     ]
    },
    {
     "name": "stdout",
     "output_type": "stream",
     "text": [
      "iteration 8000 loss 0.45845022797584534\n"
     ]
    },
    {
     "name": "stdout",
     "output_type": "stream",
     "text": [
      "iteration 8500 loss 0.40587612986564636\n"
     ]
    },
    {
     "name": "stdout",
     "output_type": "stream",
     "text": [
      "iteration 9000 loss 0.36099159717559814\n"
     ]
    },
    {
     "name": "stdout",
     "output_type": "stream",
     "text": [
      "iteration 9500 loss 0.3246828019618988\n"
     ]
    },
    {
     "name": "stdout",
     "output_type": "stream",
     "text": [
      "iteration 10000 loss 0.2943057715892792\n"
     ]
    },
    {
     "name": "stdout",
     "output_type": "stream",
     "text": [
      "iteration 10500 loss 0.26900649070739746\n"
     ]
    },
    {
     "name": "stdout",
     "output_type": "stream",
     "text": [
      "iteration 11000 loss 0.2504095435142517\n"
     ]
    },
    {
     "name": "stdout",
     "output_type": "stream",
     "text": [
      "iteration 11500 loss 0.23562505841255188\n"
     ]
    },
    {
     "name": "stdout",
     "output_type": "stream",
     "text": [
      "iteration 12000 loss 0.22470322251319885\n"
     ]
    },
    {
     "name": "stdout",
     "output_type": "stream",
     "text": [
      "iteration 12500 loss 0.21447256207466125\n"
     ]
    },
    {
     "name": "stdout",
     "output_type": "stream",
     "text": [
      "iteration 13000 loss 0.2063656896352768\n"
     ]
    },
    {
     "name": "stdout",
     "output_type": "stream",
     "text": [
      "iteration 13500 loss 0.19836999475955963\n"
     ]
    },
    {
     "name": "stdout",
     "output_type": "stream",
     "text": [
      "iteration 14000 loss 0.1918601244688034\n"
     ]
    },
    {
     "name": "stdout",
     "output_type": "stream",
     "text": [
      "iteration 14500 loss 0.18605665862560272\n"
     ]
    },
    {
     "name": "stdout",
     "output_type": "stream",
     "text": [
      "iteration 15000 loss 0.1811770498752594\n"
     ]
    },
    {
     "name": "stdout",
     "output_type": "stream",
     "text": [
      "iteration 15500 loss 0.1769265979528427\n"
     ]
    },
    {
     "name": "stdout",
     "output_type": "stream",
     "text": [
      "iteration 16000 loss 0.17344316840171814\n"
     ]
    },
    {
     "name": "stdout",
     "output_type": "stream",
     "text": [
      "iteration 16500 loss 0.17010001838207245\n"
     ]
    },
    {
     "name": "stdout",
     "output_type": "stream",
     "text": [
      "iteration 17000 loss 0.16760165989398956\n"
     ]
    },
    {
     "name": "stdout",
     "output_type": "stream",
     "text": [
      "iteration 17500 loss 0.16469447314739227\n"
     ]
    },
    {
     "name": "stdout",
     "output_type": "stream",
     "text": [
      "iteration 18000 loss 0.16237777471542358\n"
     ]
    },
    {
     "name": "stdout",
     "output_type": "stream",
     "text": [
      "iteration 18500 loss 0.16002321243286133\n"
     ]
    },
    {
     "name": "stdout",
     "output_type": "stream",
     "text": [
      "iteration 19000 loss 0.15804536640644073\n"
     ]
    },
    {
     "name": "stdout",
     "output_type": "stream",
     "text": [
      "iteration 19500 loss 0.15602393448352814\n"
     ]
    },
    {
     "name": "stdout",
     "output_type": "stream",
     "text": [
      "Learning rate decreased to 1e-05 at iteration 20000\n",
      "iteration 20000 loss 0.15442727506160736\n"
     ]
    },
    {
     "name": "stdout",
     "output_type": "stream",
     "text": [
      "iteration 20500 loss 0.1542198210954666\n"
     ]
    },
    {
     "name": "stdout",
     "output_type": "stream",
     "text": [
      "iteration 21000 loss 0.1539657562971115\n"
     ]
    },
    {
     "name": "stdout",
     "output_type": "stream",
     "text": [
      "iteration 21500 loss 0.153643399477005\n"
     ]
    },
    {
     "name": "stdout",
     "output_type": "stream",
     "text": [
      "iteration 22000 loss 0.15323613584041595\n"
     ]
    },
    {
     "name": "stdout",
     "output_type": "stream",
     "text": [
      "iteration 22500 loss 0.1527244746685028\n"
     ]
    },
    {
     "name": "stdout",
     "output_type": "stream",
     "text": [
      "iteration 23000 loss 0.15208746492862701\n"
     ]
    },
    {
     "name": "stdout",
     "output_type": "stream",
     "text": [
      "iteration 23500 loss 0.151302769780159\n"
     ]
    },
    {
     "name": "stdout",
     "output_type": "stream",
     "text": [
      "iteration 24000 loss 0.15034978091716766\n"
     ]
    },
    {
     "name": "stdout",
     "output_type": "stream",
     "text": [
      "iteration 24500 loss 0.14921490848064423\n"
     ]
    },
    {
     "name": "stdout",
     "output_type": "stream",
     "text": [
      "iteration 25000 loss 0.14791272580623627\n"
     ]
    },
    {
     "name": "stdout",
     "output_type": "stream",
     "text": [
      "iteration 25500 loss 0.14652936160564423\n"
     ]
    },
    {
     "name": "stdout",
     "output_type": "stream",
     "text": [
      "iteration 26000 loss 0.14521433413028717\n"
     ]
    },
    {
     "name": "stdout",
     "output_type": "stream",
     "text": [
      "iteration 26500 loss 0.14397555589675903\n"
     ]
    },
    {
     "name": "stdout",
     "output_type": "stream",
     "text": [
      "iteration 27000 loss 0.1428045630455017\n"
     ]
    },
    {
     "name": "stdout",
     "output_type": "stream",
     "text": [
      "iteration 27500 loss 0.1416996568441391\n"
     ]
    },
    {
     "name": "stdout",
     "output_type": "stream",
     "text": [
      "iteration 28000 loss 0.1406445950269699\n"
     ]
    },
    {
     "name": "stdout",
     "output_type": "stream",
     "text": [
      "iteration 28500 loss 0.1396375298500061\n"
     ]
    },
    {
     "name": "stdout",
     "output_type": "stream",
     "text": [
      "iteration 29000 loss 0.13868586719036102\n"
     ]
    },
    {
     "name": "stdout",
     "output_type": "stream",
     "text": [
      "iteration 29500 loss 0.13778401911258698\n"
     ]
    },
    {
     "name": "stdout",
     "output_type": "stream",
     "text": [
      "iteration 30000 loss 0.13692937791347504\n"
     ]
    },
    {
     "name": "stdout",
     "output_type": "stream",
     "text": [
      "iteration 30500 loss 0.1361209750175476\n"
     ]
    },
    {
     "name": "stdout",
     "output_type": "stream",
     "text": [
      "iteration 31000 loss 0.13535605370998383\n"
     ]
    },
    {
     "name": "stdout",
     "output_type": "stream",
     "text": [
      "iteration 31500 loss 0.13463038206100464\n"
     ]
    },
    {
     "name": "stdout",
     "output_type": "stream",
     "text": [
      "iteration 32000 loss 0.1339375078678131\n"
     ]
    },
    {
     "name": "stdout",
     "output_type": "stream",
     "text": [
      "iteration 32500 loss 0.13327808678150177\n"
     ]
    },
    {
     "name": "stdout",
     "output_type": "stream",
     "text": [
      "iteration 33000 loss 0.13265566527843475\n"
     ]
    },
    {
     "name": "stdout",
     "output_type": "stream",
     "text": [
      "iteration 33500 loss 0.13206037878990173\n"
     ]
    },
    {
     "name": "stdout",
     "output_type": "stream",
     "text": [
      "iteration 34000 loss 0.13149960339069366\n"
     ]
    },
    {
     "name": "stdout",
     "output_type": "stream",
     "text": [
      "iteration 34500 loss 0.1309579759836197\n"
     ]
    },
    {
     "name": "stdout",
     "output_type": "stream",
     "text": [
      "iteration 35000 loss 0.13044263422489166\n"
     ]
    },
    {
     "name": "stdout",
     "output_type": "stream",
     "text": [
      "iteration 35500 loss 0.1299562007188797\n"
     ]
    },
    {
     "name": "stdout",
     "output_type": "stream",
     "text": [
      "iteration 36000 loss 0.1294998675584793\n"
     ]
    },
    {
     "name": "stdout",
     "output_type": "stream",
     "text": [
      "iteration 36500 loss 0.129050150513649\n"
     ]
    },
    {
     "name": "stdout",
     "output_type": "stream",
     "text": [
      "iteration 37000 loss 0.12861886620521545\n"
     ]
    },
    {
     "name": "stdout",
     "output_type": "stream",
     "text": [
      "iteration 37500 loss 0.12820228934288025\n"
     ]
    },
    {
     "name": "stdout",
     "output_type": "stream",
     "text": [
      "iteration 38000 loss 0.12780506908893585\n"
     ]
    },
    {
     "name": "stdout",
     "output_type": "stream",
     "text": [
      "iteration 38500 loss 0.12742389738559723\n"
     ]
    },
    {
     "name": "stdout",
     "output_type": "stream",
     "text": [
      "iteration 39000 loss 0.12705537676811218\n"
     ]
    },
    {
     "name": "stdout",
     "output_type": "stream",
     "text": [
      "iteration 39500 loss 0.1267014443874359\n"
     ]
    },
    {
     "name": "stdout",
     "output_type": "stream",
     "text": [
      "Learning rate decreased to 1.0000000000000002e-06 at iteration 40000\n",
      "iteration 40000 loss 0.12635928392410278\n"
     ]
    },
    {
     "name": "stdout",
     "output_type": "stream",
     "text": [
      "iteration 40500 loss 0.12632343173027039\n"
     ]
    },
    {
     "name": "stdout",
     "output_type": "stream",
     "text": [
      "iteration 41000 loss 0.12627926468849182\n"
     ]
    },
    {
     "name": "stdout",
     "output_type": "stream",
     "text": [
      "iteration 41500 loss 0.12622545659542084\n"
     ]
    },
    {
     "name": "stdout",
     "output_type": "stream",
     "text": [
      "iteration 42000 loss 0.12616121768951416\n"
     ]
    },
    {
     "name": "stdout",
     "output_type": "stream",
     "text": [
      "iteration 42500 loss 0.12608595192432404\n"
     ]
    },
    {
     "name": "stdout",
     "output_type": "stream",
     "text": [
      "iteration 43000 loss 0.12599964439868927\n"
     ]
    },
    {
     "name": "stdout",
     "output_type": "stream",
     "text": [
      "iteration 43500 loss 0.12590308487415314\n"
     ]
    },
    {
     "name": "stdout",
     "output_type": "stream",
     "text": [
      "iteration 44000 loss 0.12579746544361115\n"
     ]
    },
    {
     "name": "stdout",
     "output_type": "stream",
     "text": [
      "iteration 44500 loss 0.12568436563014984\n"
     ]
    },
    {
     "name": "stdout",
     "output_type": "stream",
     "text": [
      "iteration 45000 loss 0.12556560337543488\n"
     ]
    },
    {
     "name": "stdout",
     "output_type": "stream",
     "text": [
      "iteration 45500 loss 0.1254437118768692\n"
     ]
    },
    {
     "name": "stdout",
     "output_type": "stream",
     "text": [
      "iteration 46000 loss 0.1253211796283722\n"
     ]
    },
    {
     "name": "stdout",
     "output_type": "stream",
     "text": [
      "iteration 46500 loss 0.12520091235637665\n"
     ]
    },
    {
     "name": "stdout",
     "output_type": "stream",
     "text": [
      "iteration 47000 loss 0.12508255243301392\n"
     ]
    },
    {
     "name": "stdout",
     "output_type": "stream",
     "text": [
      "iteration 47500 loss 0.12496598809957504\n"
     ]
    },
    {
     "name": "stdout",
     "output_type": "stream",
     "text": [
      "iteration 48000 loss 0.12485110759735107\n"
     ]
    },
    {
     "name": "stdout",
     "output_type": "stream",
     "text": [
      "iteration 48500 loss 0.1247376948595047\n"
     ]
    },
    {
     "name": "stdout",
     "output_type": "stream",
     "text": [
      "iteration 49000 loss 0.12462572008371353\n"
     ]
    },
    {
     "name": "stdout",
     "output_type": "stream",
     "text": [
      "iteration 49500 loss 0.1245151236653328\n"
     ]
    },
    {
     "name": "stdout",
     "output_type": "stream",
     "text": [
      "iteration 50000 loss 0.12440597265958786\n"
     ]
    },
    {
     "name": "stdout",
     "output_type": "stream",
     "text": [
      "iteration 50500 loss 0.12429793179035187\n"
     ]
    },
    {
     "name": "stdout",
     "output_type": "stream",
     "text": [
      "iteration 51000 loss 0.12419094145298004\n"
     ]
    },
    {
     "name": "stdout",
     "output_type": "stream",
     "text": [
      "iteration 51500 loss 0.12408502399921417\n"
     ]
    },
    {
     "name": "stdout",
     "output_type": "stream",
     "text": [
      "iteration 52000 loss 0.12398006021976471\n"
     ]
    },
    {
     "name": "stdout",
     "output_type": "stream",
     "text": [
      "iteration 52500 loss 0.12387628108263016\n"
     ]
    },
    {
     "name": "stdout",
     "output_type": "stream",
     "text": [
      "iteration 53000 loss 0.12377341091632843\n"
     ]
    },
    {
     "name": "stdout",
     "output_type": "stream",
     "text": [
      "iteration 53500 loss 0.12367137521505356\n"
     ]
    },
    {
     "name": "stdout",
     "output_type": "stream",
     "text": [
      "iteration 54000 loss 0.12357056885957718\n"
     ]
    },
    {
     "name": "stdout",
     "output_type": "stream",
     "text": [
      "iteration 54500 loss 0.12347039580345154\n"
     ]
    },
    {
     "name": "stdout",
     "output_type": "stream",
     "text": [
      "iteration 55000 loss 0.12337101250886917\n"
     ]
    },
    {
     "name": "stdout",
     "output_type": "stream",
     "text": [
      "iteration 55500 loss 0.12327251583337784\n"
     ]
    },
    {
     "name": "stdout",
     "output_type": "stream",
     "text": [
      "iteration 56000 loss 0.12317490577697754\n"
     ]
    },
    {
     "name": "stdout",
     "output_type": "stream",
     "text": [
      "iteration 56500 loss 0.12307778000831604\n"
     ]
    },
    {
     "name": "stdout",
     "output_type": "stream",
     "text": [
      "iteration 57000 loss 0.12298154085874557\n"
     ]
    },
    {
     "name": "stdout",
     "output_type": "stream",
     "text": [
      "iteration 57500 loss 0.12288583070039749\n"
     ]
    },
    {
     "name": "stdout",
     "output_type": "stream",
     "text": [
      "iteration 58000 loss 0.1227910965681076\n"
     ]
    },
    {
     "name": "stdout",
     "output_type": "stream",
     "text": [
      "iteration 58500 loss 0.1226968914270401\n"
     ]
    },
    {
     "name": "stdout",
     "output_type": "stream",
     "text": [
      "iteration 59000 loss 0.12260356545448303\n"
     ]
    },
    {
     "name": "stdout",
     "output_type": "stream",
     "text": [
      "iteration 59500 loss 0.12251074612140656\n"
     ]
    },
    {
     "name": "stdout",
     "output_type": "stream",
     "text": [
      "Learning rate decreased to 1.0000000000000002e-07 at iteration 60000\n",
      "iteration 60000 loss 0.12241842597723007\n"
     ]
    },
    {
     "name": "stdout",
     "output_type": "stream",
     "text": [
      "iteration 60500 loss 0.12240903824567795\n"
     ]
    },
    {
     "name": "stdout",
     "output_type": "stream",
     "text": [
      "iteration 61000 loss 0.12239920347929001\n"
     ]
    },
    {
     "name": "stdout",
     "output_type": "stream",
     "text": [
      "iteration 61500 loss 0.12238911539316177\n"
     ]
    },
    {
     "name": "stdout",
     "output_type": "stream",
     "text": [
      "iteration 62000 loss 0.12237879633903503\n"
     ]
    },
    {
     "name": "stdout",
     "output_type": "stream",
     "text": [
      "iteration 62500 loss 0.12236824631690979\n"
     ]
    },
    {
     "name": "stdout",
     "output_type": "stream",
     "text": [
      "iteration 63000 loss 0.12235762178897858\n"
     ]
    },
    {
     "name": "stdout",
     "output_type": "stream",
     "text": [
      "iteration 63500 loss 0.122346892952919\n"
     ]
    },
    {
     "name": "stdout",
     "output_type": "stream",
     "text": [
      "iteration 64000 loss 0.12233611941337585\n"
     ]
    },
    {
     "name": "stdout",
     "output_type": "stream",
     "text": [
      "iteration 64500 loss 0.12232531607151031\n"
     ]
    },
    {
     "name": "stdout",
     "output_type": "stream",
     "text": [
      "iteration 65000 loss 0.12231452018022537\n"
     ]
    },
    {
     "name": "stdout",
     "output_type": "stream",
     "text": [
      "iteration 65500 loss 0.12230371683835983\n"
     ]
    },
    {
     "name": "stdout",
     "output_type": "stream",
     "text": [
      "iteration 66000 loss 0.12229293584823608\n"
     ]
    },
    {
     "name": "stdout",
     "output_type": "stream",
     "text": [
      "iteration 66500 loss 0.12228217720985413\n"
     ]
    },
    {
     "name": "stdout",
     "output_type": "stream",
     "text": [
      "iteration 67000 loss 0.12227143347263336\n"
     ]
    },
    {
     "name": "stdout",
     "output_type": "stream",
     "text": [
      "iteration 67500 loss 0.12226072698831558\n"
     ]
    },
    {
     "name": "stdout",
     "output_type": "stream",
     "text": [
      "iteration 68000 loss 0.122250035405159\n"
     ]
    },
    {
     "name": "stdout",
     "output_type": "stream",
     "text": [
      "iteration 68500 loss 0.12223934382200241\n"
     ]
    },
    {
     "name": "stdout",
     "output_type": "stream",
     "text": [
      "iteration 69000 loss 0.12222868204116821\n"
     ]
    },
    {
     "name": "stdout",
     "output_type": "stream",
     "text": [
      "iteration 69500 loss 0.1222180426120758\n"
     ]
    },
    {
     "name": "stdout",
     "output_type": "stream",
     "text": [
      "iteration 70000 loss 0.12220742553472519\n"
     ]
    },
    {
     "name": "stdout",
     "output_type": "stream",
     "text": [
      "iteration 70500 loss 0.12219683080911636\n"
     ]
    },
    {
     "name": "stdout",
     "output_type": "stream",
     "text": [
      "iteration 71000 loss 0.12218625098466873\n"
     ]
    },
    {
     "name": "stdout",
     "output_type": "stream",
     "text": [
      "iteration 71500 loss 0.1221756711602211\n"
     ]
    },
    {
     "name": "stdout",
     "output_type": "stream",
     "text": [
      "iteration 72000 loss 0.12216511368751526\n"
     ]
    },
    {
     "name": "stdout",
     "output_type": "stream",
     "text": [
      "iteration 72500 loss 0.1221545934677124\n"
     ]
    },
    {
     "name": "stdout",
     "output_type": "stream",
     "text": [
      "iteration 73000 loss 0.12214405834674835\n"
     ]
    },
    {
     "name": "stdout",
     "output_type": "stream",
     "text": [
      "iteration 73500 loss 0.12213356792926788\n"
     ]
    },
    {
     "name": "stdout",
     "output_type": "stream",
     "text": [
      "iteration 74000 loss 0.12212307006120682\n"
     ]
    },
    {
     "name": "stdout",
     "output_type": "stream",
     "text": [
      "iteration 74500 loss 0.12211260944604874\n"
     ]
    },
    {
     "name": "stdout",
     "output_type": "stream",
     "text": [
      "iteration 75000 loss 0.12210215628147125\n"
     ]
    },
    {
     "name": "stdout",
     "output_type": "stream",
     "text": [
      "iteration 75500 loss 0.12209171801805496\n"
     ]
    },
    {
     "name": "stdout",
     "output_type": "stream",
     "text": [
      "iteration 76000 loss 0.12208127230405807\n"
     ]
    },
    {
     "name": "stdout",
     "output_type": "stream",
     "text": [
      "iteration 76500 loss 0.12207083404064178\n"
     ]
    },
    {
     "name": "stdout",
     "output_type": "stream",
     "text": [
      "iteration 77000 loss 0.12206040322780609\n"
     ]
    },
    {
     "name": "stdout",
     "output_type": "stream",
     "text": [
      "iteration 77500 loss 0.122049979865551\n"
     ]
    },
    {
     "name": "stdout",
     "output_type": "stream",
     "text": [
      "iteration 78000 loss 0.12203961610794067\n"
     ]
    },
    {
     "name": "stdout",
     "output_type": "stream",
     "text": [
      "iteration 78500 loss 0.12202922999858856\n"
     ]
    },
    {
     "name": "stdout",
     "output_type": "stream",
     "text": [
      "iteration 79000 loss 0.12201886624097824\n"
     ]
    },
    {
     "name": "stdout",
     "output_type": "stream",
     "text": [
      "iteration 79500 loss 0.12200850248336792\n"
     ]
    },
    {
     "name": "stdout",
     "output_type": "stream",
     "text": [
      "Learning rate decreased to 1.0000000000000004e-08 at iteration 80000\n",
      "iteration 80000 loss 0.12199817597866058\n"
     ]
    },
    {
     "name": "stdout",
     "output_type": "stream",
     "text": [
      "iteration 80500 loss 0.12199714779853821\n"
     ]
    },
    {
     "name": "stdout",
     "output_type": "stream",
     "text": [
      "iteration 81000 loss 0.12199611216783524\n"
     ]
    },
    {
     "name": "stdout",
     "output_type": "stream",
     "text": [
      "iteration 81500 loss 0.12199506908655167\n"
     ]
    },
    {
     "name": "stdout",
     "output_type": "stream",
     "text": [
      "iteration 82000 loss 0.12199404090642929\n"
     ]
    },
    {
     "name": "stdout",
     "output_type": "stream",
     "text": [
      "iteration 82500 loss 0.12199299782514572\n"
     ]
    },
    {
     "name": "stdout",
     "output_type": "stream",
     "text": [
      "iteration 83000 loss 0.12199195474386215\n"
     ]
    },
    {
     "name": "stdout",
     "output_type": "stream",
     "text": [
      "iteration 83500 loss 0.12199091911315918\n"
     ]
    },
    {
     "name": "stdout",
     "output_type": "stream",
     "text": [
      "iteration 84000 loss 0.12198985368013382\n"
     ]
    },
    {
     "name": "stdout",
     "output_type": "stream",
     "text": [
      "iteration 84500 loss 0.12198885530233383\n"
     ]
    },
    {
     "name": "stdout",
     "output_type": "stream",
     "text": [
      "iteration 85000 loss 0.12198780477046967\n"
     ]
    },
    {
     "name": "stdout",
     "output_type": "stream",
     "text": [
      "iteration 85500 loss 0.1219867616891861\n"
     ]
    },
    {
     "name": "stdout",
     "output_type": "stream",
     "text": [
      "iteration 86000 loss 0.12198573350906372\n"
     ]
    },
    {
     "name": "stdout",
     "output_type": "stream",
     "text": [
      "iteration 86500 loss 0.12198468297719955\n"
     ]
    },
    {
     "name": "stdout",
     "output_type": "stream",
     "text": [
      "iteration 87000 loss 0.12198365479707718\n"
     ]
    },
    {
     "name": "stdout",
     "output_type": "stream",
     "text": [
      "iteration 87500 loss 0.1219826191663742\n"
     ]
    },
    {
     "name": "stdout",
     "output_type": "stream",
     "text": [
      "iteration 88000 loss 0.12198159098625183\n"
     ]
    },
    {
     "name": "stdout",
     "output_type": "stream",
     "text": [
      "iteration 88500 loss 0.12198054790496826\n"
     ]
    },
    {
     "name": "stdout",
     "output_type": "stream",
     "text": [
      "iteration 89000 loss 0.12197951227426529\n"
     ]
    },
    {
     "name": "stdout",
     "output_type": "stream",
     "text": [
      "iteration 89500 loss 0.12197849154472351\n"
     ]
    },
    {
     "name": "stdout",
     "output_type": "stream",
     "text": [
      "iteration 90000 loss 0.12197745591402054\n"
     ]
    },
    {
     "name": "stdout",
     "output_type": "stream",
     "text": [
      "iteration 90500 loss 0.12197642028331757\n"
     ]
    },
    {
     "name": "stdout",
     "output_type": "stream",
     "text": [
      "iteration 91000 loss 0.12197539210319519\n"
     ]
    },
    {
     "name": "stdout",
     "output_type": "stream",
     "text": [
      "iteration 91500 loss 0.12197434902191162\n"
     ]
    },
    {
     "name": "stdout",
     "output_type": "stream",
     "text": [
      "iteration 92000 loss 0.12197332829236984\n"
     ]
    },
    {
     "name": "stdout",
     "output_type": "stream",
     "text": [
      "iteration 92500 loss 0.12197229266166687\n"
     ]
    },
    {
     "name": "stdout",
     "output_type": "stream",
     "text": [
      "iteration 93000 loss 0.1219712495803833\n"
     ]
    },
    {
     "name": "stdout",
     "output_type": "stream",
     "text": [
      "iteration 93500 loss 0.12197024375200272\n"
     ]
    },
    {
     "name": "stdout",
     "output_type": "stream",
     "text": [
      "iteration 94000 loss 0.12196920812129974\n"
     ]
    },
    {
     "name": "stdout",
     "output_type": "stream",
     "text": [
      "iteration 94500 loss 0.12196817994117737\n"
     ]
    },
    {
     "name": "stdout",
     "output_type": "stream",
     "text": [
      "iteration 95000 loss 0.12196716666221619\n"
     ]
    },
    {
     "name": "stdout",
     "output_type": "stream",
     "text": [
      "iteration 95500 loss 0.12196611613035202\n"
     ]
    },
    {
     "name": "stdout",
     "output_type": "stream",
     "text": [
      "iteration 96000 loss 0.12196507304906845\n"
     ]
    },
    {
     "name": "stdout",
     "output_type": "stream",
     "text": [
      "iteration 96500 loss 0.12196404486894608\n"
     ]
    },
    {
     "name": "stdout",
     "output_type": "stream",
     "text": [
      "iteration 97000 loss 0.12196303904056549\n"
     ]
    },
    {
     "name": "stdout",
     "output_type": "stream",
     "text": [
      "iteration 97500 loss 0.12196199595928192\n"
     ]
    },
    {
     "name": "stdout",
     "output_type": "stream",
     "text": [
      "iteration 98000 loss 0.12196099013090134\n"
     ]
    },
    {
     "name": "stdout",
     "output_type": "stream",
     "text": [
      "iteration 98500 loss 0.12195993959903717\n"
     ]
    },
    {
     "name": "stdout",
     "output_type": "stream",
     "text": [
      "iteration 99000 loss 0.1219589114189148\n"
     ]
    },
    {
     "name": "stdout",
     "output_type": "stream",
     "text": [
      "iteration 99500 loss 0.12195789813995361\n"
     ]
    },
    {
     "name": "stdout",
     "output_type": "stream",
     "text": [
      "Training of LPN for G(x) complete and model saved.\n"
     ]
    }
   ],
   "source": [
    "# --- Generate New Training Data for the Second LPN G(x) ---\n",
    "# We use the same x_j_exp_tensor as the first LPN's training data for x_k\n",
    "x_k_tensor = y_j_exp_tensor.clone().to(device)\n",
    "x_k_tensor.requires_grad_(True)\n",
    "\n",
    "# 1. Compute the gradient y_k = grad_x psi_theta(x_k, t=1)\n",
    "# Get psi(x_k)\n",
    "psi_x_k = lpn_model_quad_l1.scalar(x_k_tensor)\n",
    "\n",
    "# Get gradient y_k = grad_psi(x_k)\n",
    "y_k_tensor = lpn_model_quad_l1(x_k_tensor)\n",
    "\n",
    "# 2. Evaluate the \"new\" samples G_k = <y_k, x_k> - psi_theta(x_k, 1) (from eq 26)\n",
    "inner_prod_yk_xk = torch.sum(y_k_tensor * x_k_tensor, dim=1, keepdim=True)\n",
    "G_samples_tensor_with_graph = inner_prod_yk_xk - psi_x_k\n",
    "\n",
    "# Detach the tensor to treat G_k as fixed targets, breaking the connection\n",
    "# to the first LPN's graph and preventing the RuntimeError during training.\n",
    "G_samples_tensor = G_samples_tensor_with_graph.detach().to(device) \n",
    "\n",
    "# The input tensor x_k_tensor is still needed for the second LPN training,\n",
    "# but it should also not require a gradient for that training.\n",
    "x_k_tensor = x_k_tensor.detach()\n",
    "x_k_tensor.requires_grad_(False) \n",
    "y_k_tensor = y_k_tensor.detach()\n",
    "y_k_tensor.requires_grad_(False)\n",
    "# G_samples_tensor now holds the target values G_k\n",
    "print(f\"Generated G samples: G_samples_tensor shape {G_samples_tensor.shape}\")\n",
    "\n",
    "\n",
    "\n",
    "# --- Step 3: Train LPN G(x) ---\n",
    "print(\"\\n--- Training Second LPN G(x) for Concave Quadratic Prior ---\")\n",
    "# The target for this LPN is G_samples_tensor\n",
    "# The input for this LPN is x_k_tensor\n",
    "lpn_model_G = LPN(in_dim=dim_exp, hidden=hidden, layers=layers, beta=beta, eps=1e-3).to(device)\n",
    "optimizer_G = torch.optim.Adam(lpn_model_G.parameters(), lr=1e-4)\n",
    "\n",
    "# Initial shorter training phase\n",
    "for i in range(1):\n",
    "     single_iteration(i, data_points_exp, lpn_model_G, optimizer_G, y_k_tensor, G_samples_tensor, loss_type=2, gamma_loss=None)\n",
    "\n",
    "for g in optimizer_G.param_groups:\n",
    "    g[\"lr\"] = 1e-4 # Use a smaller learning rate for the long phase\n",
    "for i in range(iterations_exp_long):\n",
    "    if (i % 20000 == 0) and (i > 0): \n",
    "        # Multiply the current learning rate by 1e-1\n",
    "        for g in optimizer_G.param_groups:\n",
    "            new_lr = g[\"lr\"] * 1e-1\n",
    "            g[\"lr\"] = new_lr\n",
    "        print(f\"Learning rate decreased to {new_lr} at iteration {i}\")\n",
    "    single_iteration(i, data_points_exp, lpn_model_G, optimizer_G, y_k_tensor, G_samples_tensor, loss_type=2, gamma_loss=None)\n",
    "\n",
    "torch.save(lpn_model_G.state_dict(), os.path.join(MODEL_DIR, \"G_network_l2.pth\"))\n",
    "print(\"Training of LPN for G(x) complete and model saved.\")"
   ]
  },
  {
   "cell_type": "code",
   "execution_count": 14,
   "metadata": {
    "execution": {
     "iopub.execute_input": "2025-10-30T03:02:01.144154Z",
     "iopub.status.busy": "2025-10-30T03:02:01.143865Z",
     "iopub.status.idle": "2025-10-30T03:02:01.642910Z",
     "shell.execute_reply": "2025-10-30T03:02:01.642333Z"
    }
   },
   "outputs": [
    {
     "name": "stdout",
     "output_type": "stream",
     "text": [
      "\n",
      "--- Plotting Estimated Prior J(x) from LPN 2 ---\n"
     ]
    },
    {
     "data": {
      "image/png": "[encoded data removed]",
      "text/plain": [
       "<Figure size 1200x500 with 2 Axes>"
      ]
     },
     "metadata": {},
     "output_type": "display_data"
    }
   ],
   "source": [
    "def evaluate_learned_J_G_network(x_points, model_G):\n",
    "    \"\"\"\n",
    "    Evaluates the learned prior J(x) using the trained G(x) network.\n",
    "    J(x) = G(x) - 0.5 * ||x||^2\n",
    "    \"\"\"\n",
    "    # Convert to tensor\n",
    "    x_tensor = torch.from_numpy(x_points).float().to(device)\n",
    "    \n",
    "    # Get G(x) from the second LPN model\n",
    "    G_x = model_G.scalar(x_tensor)\n",
    "    \n",
    "    # Compute 0.5 * ||x||^2\n",
    "    x_norm_sq_np = euclid_norm_sq(x_points)\n",
    "    x_norm_sq_tensor = torch.from_numpy(x_norm_sq_np).float().to(device).reshape(-1, 1)\n",
    "\n",
    "    # Apply the formula: J_est = G(x) - 0.5 * ||x||^2\n",
    "    J_est = G_x - 0.5 * x_norm_sq_tensor\n",
    "    \n",
    "    # Convert back to numpy\n",
    "    J_est_np = J_est.detach().cpu().numpy().flatten()\n",
    "    \n",
    "    return J_est_np\n",
    "\n",
    "def plot_J_G_network(model_G, a, spacing, dim):\n",
    "    \"\"\"Plots the cross-sections of the estimated prior J(x) from the G network.\"\"\"\n",
    "    xi, x1_0_points, x2_0_points = compute_square_cross_sections(a, spacing, dim)\n",
    "    \n",
    "    # True Prior\n",
    "    x1_0_J_true = prior_true_quadratic_l1(x1_0_points)\n",
    "    if dim > 1:\n",
    "        x2_0_J_true = prior_true_quadratic_l1(x2_0_points)\n",
    "    else:\n",
    "        x2_0_J_true = x1_0_J_true\n",
    "        \n",
    "    # Estimated Prior from G(x) Network\n",
    "    x1_0_J_G_est = evaluate_learned_J_G_network(x1_0_points, model_G)\n",
    "    if dim > 1:\n",
    "        x2_0_J_G_est = evaluate_learned_J_G_network(x2_0_points, model_G)\n",
    "    else:\n",
    "        x2_0_J_G_est = x1_0_J_G_est\n",
    "    \n",
    "    print(\"\\n--- Plotting Estimated Prior J(x) from LPN 2 ---\")\n",
    "    plt.figure(figsize=(12,5))\n",
    "    \n",
    "    plt.subplot(1, 2, 1)\n",
    "    plt.plot(xi, x1_0_J_G_est, \"-\", label=\"LPN 2\")\n",
    "    plt.plot(xi, x1_0_J_true, \"--\", label=\"True $J(x)=-1/4||x||_2^2$\")\n",
    "    plt.grid(True)\n",
    "    plt.title(f\"Prior $J(x_1,0,...)$ Dim {dim}\")\n",
    "    plt.xlabel('$x_1$')\n",
    "    plt.ylabel('$J(x_1,0,...)$')\n",
    "    plt.legend()\n",
    "\n",
    "    if dim > 1:\n",
    "        plt.subplot(1, 2, 2)\n",
    "        plt.plot(xi, x2_0_J_G_est, \"-\", label=\"LPN 2\")\n",
    "        plt.plot(xi, x2_0_J_true, \"--\", label=\"True $J(x)=-1/4||x||_2^2$\")\n",
    "        plt.grid(True)\n",
    "        plt.title(f\"Prior $J(0,x_2,0,...)$ Dim {dim}\")\n",
    "        plt.xlabel('$x_2$')\n",
    "        plt.ylabel('$J(0,x_2,0,...)$')\n",
    "        plt.legend()\n",
    "    plt.tight_layout()\n",
    "    #plt.savefig('G_network_prior_plot.png')\n",
    "    \n",
    "# --- Execute Plotting ---\n",
    "plot_J_G_network(lpn_model_G, a_exp, spacing, dim_exp)"
   ]
  },
  {
   "cell_type": "markdown",
   "metadata": {},
   "source": [
    "Proximal matching loss.\n",
    "We perform proximal matching loss with a decreasing sequence of gamma parameters.\n",
    "\n",
    "gamma = 20 -- Train"
   ]
  },
  {
   "cell_type": "code",
   "execution_count": 15,
   "metadata": {
    "execution": {
     "iopub.execute_input": "2025-10-30T03:02:01.645014Z",
     "iopub.status.busy": "2025-10-30T03:02:01.644761Z",
     "iopub.status.idle": "2025-10-30T03:02:01.647667Z",
     "shell.execute_reply": "2025-10-30T03:02:01.647215Z"
    }
   },
   "outputs": [],
   "source": [
    "# lpn_model = LPN(in_dim=dim, hidden=hidden, layers=layers, beta=beta).to(device)\n",
    "# optimizer = torch.optim.Adam(lpn_model.parameters(), lr=1e-3)\n",
    "\n",
    "# loss_type = 0\n",
    "# gamma_loss = 20\n",
    "\n",
    "# # set learning rate\n",
    "# for g in optimizer.param_groups:\n",
    "#     g[\"lr\"] = 1e-4\n",
    "\n",
    "# for i in range(3000):\n",
    "#     single_iteration(i, data_points, lpn_model, optimizer, loss_type, gamma_loss)\n",
    "\n",
    "# for g in optimizer.param_groups:\n",
    "#     g[\"lr\"] = 1e-5\n",
    "\n",
    "# for i in range(3000):\n",
    "#     single_iteration(i, data_points, lpn_model, optimizer, loss_type, gamma_loss)\n",
    "\n",
    "# torch.save(lpn_model.state_dict(), os.path.join(MODEL_DIR, f\"l_{gamma_loss}.pth\"))"
   ]
  },
  {
   "cell_type": "markdown",
   "metadata": {},
   "source": [
    "gamma = 20 -- Plot"
   ]
  },
  {
   "cell_type": "code",
   "execution_count": 16,
   "metadata": {
    "execution": {
     "iopub.execute_input": "2025-10-30T03:02:01.649692Z",
     "iopub.status.busy": "2025-10-30T03:02:01.649444Z",
     "iopub.status.idle": "2025-10-30T03:02:01.652273Z",
     "shell.execute_reply": "2025-10-30T03:02:01.651812Z"
    }
   },
   "outputs": [],
   "source": [
    "# plot_all(lpn_model,a,spacing,mu1,mu2,sigma1,sigma2,INVERT_MODE,dim)"
   ]
  },
  {
   "cell_type": "markdown",
   "metadata": {},
   "source": [
    "gamma = 12.5 -- Train"
   ]
  },
  {
   "cell_type": "code",
   "execution_count": 17,
   "metadata": {
    "execution": {
     "iopub.execute_input": "2025-10-30T03:02:01.654309Z",
     "iopub.status.busy": "2025-10-30T03:02:01.653997Z",
     "iopub.status.idle": "2025-10-30T03:02:01.656771Z",
     "shell.execute_reply": "2025-10-30T03:02:01.656280Z"
    }
   },
   "outputs": [],
   "source": [
    "# gamma_loss = 12.5\n",
    "\n",
    "# for g in optimizer.param_groups:\n",
    "#     g[\"lr\"] = 1e-5\n",
    "\n",
    "# for i in range(6000):\n",
    "#     single_iteration(i, data_points, lpn_model, optimizer, loss_type, gamma_loss)\n",
    "\n",
    "# torch.save(lpn_model.state_dict(), os.path.join(MODEL_DIR, f\"l_{gamma_loss}.pth\"))"
   ]
  },
  {
   "cell_type": "markdown",
   "metadata": {},
   "source": [
    "gamma = 12.5 -- Plot"
   ]
  },
  {
   "cell_type": "code",
   "execution_count": 18,
   "metadata": {
    "execution": {
     "iopub.execute_input": "2025-10-30T03:02:01.658972Z",
     "iopub.status.busy": "2025-10-30T03:02:01.658471Z",
     "iopub.status.idle": "2025-10-30T03:02:01.661227Z",
     "shell.execute_reply": "2025-10-30T03:02:01.660705Z"
    }
   },
   "outputs": [],
   "source": [
    "# plot_all(lpn_model,a,spacing,mu1,mu2,sigma1,sigma2,INVERT_MODE,dim)"
   ]
  },
  {
   "cell_type": "markdown",
   "metadata": {},
   "source": [
    "gamma = 10 -- Train"
   ]
  },
  {
   "cell_type": "code",
   "execution_count": 19,
   "metadata": {
    "execution": {
     "iopub.execute_input": "2025-10-30T03:02:01.663290Z",
     "iopub.status.busy": "2025-10-30T03:02:01.663028Z",
     "iopub.status.idle": "2025-10-30T03:02:01.665585Z",
     "shell.execute_reply": "2025-10-30T03:02:01.665151Z"
    }
   },
   "outputs": [],
   "source": [
    "# gamma_loss = 10\n",
    "\n",
    "# for g in optimizer.param_groups:\n",
    "#     g[\"lr\"] = 1e-5\n",
    "\n",
    "# for i in range(10000):\n",
    "#     single_iteration(i, data_points, lpn_model, optimizer, loss_type, gamma_loss)\n",
    "\n",
    "# torch.save(lpn_model.state_dict(), os.path.join(MODEL_DIR, f\"l_{gamma_loss}.pth\"))"
   ]
  },
  {
   "cell_type": "markdown",
   "metadata": {},
   "source": [
    "gamma = 10 -- Plot"
   ]
  },
  {
   "cell_type": "code",
   "execution_count": 20,
   "metadata": {
    "execution": {
     "iopub.execute_input": "2025-10-30T03:02:01.667662Z",
     "iopub.status.busy": "2025-10-30T03:02:01.667288Z",
     "iopub.status.idle": "2025-10-30T03:02:01.670609Z",
     "shell.execute_reply": "2025-10-30T03:02:01.670047Z"
    }
   },
   "outputs": [],
   "source": [
    "# plot_all(lpn_model,a,spacing,mu1,mu2,sigma1,sigma2,INVERT_MODE,dim)"
   ]
  }
 ],
 "metadata": {
  "colab": {
   "provenance": []
  },
  "kernelspec": {
   "display_name": "lpn_env_image",
   "language": "python",
   "name": "python3"
  },
  "language_info": {
   "codemirror_mode": {
    "name": "ipython",
    "version": 3
   },
   "file_extension": ".py",
   "mimetype": "text/x-python",
   "name": "python",
   "nbconvert_exporter": "python",
   "pygments_lexer": "ipython3",
   "version": "3.13.5"
  }
 },
 "nbformat": 4,
 "nbformat_minor": 4
}
