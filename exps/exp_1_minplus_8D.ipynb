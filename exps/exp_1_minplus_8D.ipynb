{
 "cells": [
  {
   "cell_type": "markdown",
   "metadata": {},
   "source": [
    "# Minplus algebra experiment"
   ]
  },
  {
   "cell_type": "markdown",
   "metadata": {},
   "source": [
    "This code attempts to learn the 8D mixture prior\n",
    "$J(x) = min(\\frac{1}{2t\\sigma_{1}}||x-\\mu_{1}||^{2}, \\frac{1}{2\\sigma_{2}}||x-\\mu_{2}||^{2})$\n",
    "assuming we have access to training data $\\{y_i, S(y_i)\\} = min_{x \\in \\R} \\ \\{0.5||x-y_i||^{2}_{2} + J(x)\\}\\}$."
   ]
  },
  {
   "cell_type": "markdown",
   "metadata": {},
   "source": [
    "## Import modules "
   ]
  },
  {
   "cell_type": "code",
   "execution_count": 1,
   "metadata": {
    "execution": {
     "iopub.execute_input": "2025-10-29T23:54:17.152943Z",
     "iopub.status.busy": "2025-10-29T23:54:17.152693Z",
     "iopub.status.idle": "2025-10-29T23:54:20.759969Z",
     "shell.execute_reply": "2025-10-29T23:54:20.759281Z"
    },
    "id": "Mtd5gx1tv90z"
   },
   "outputs": [],
   "source": [
    "import os\n",
    "import numpy as np\n",
    "import torch\n",
    "\n",
    "import matplotlib.pyplot as plt\n",
    "from matplotlib import cm\n",
    "from matplotlib.ticker import LinearLocator\n",
    "import seaborn as sns\n",
    "\n",
    "from network import LPN\n",
    "from lib.utils import cvx\n",
    "from lib.invert import invert\n",
    "\n",
    "# set location\n",
    "MODEL_DIR = \"experiments/models/minplus_8D\"\n",
    "os.makedirs(MODEL_DIR, exist_ok=True)\n",
    "device = torch.device(\"cuda:0\" if torch.cuda.is_available() else \"cpu\")\n",
    "\n",
    "# set random seeds\n",
    "np.random.seed(1)\n",
    "torch.manual_seed(1)\n",
    "\n",
    "# plotting options\n",
    "plt.rcParams.update({\"text.usetex\": False})\n",
    "sns.set_theme()"
   ]
  },
  {
   "cell_type": "markdown",
   "metadata": {},
   "source": [
    "# Utility functions and plotting tools"
   ]
  },
  {
   "cell_type": "code",
   "execution_count": 2,
   "metadata": {
    "execution": {
     "iopub.execute_input": "2025-10-29T23:54:20.763026Z",
     "iopub.status.busy": "2025-10-29T23:54:20.762463Z",
     "iopub.status.idle": "2025-10-29T23:54:20.892795Z",
     "shell.execute_reply": "2025-10-29T23:54:20.892207Z"
    }
   },
   "outputs": [],
   "source": [
    "##############################\n",
    "#----- Utlity functions -----#\n",
    "##############################\n",
    "\n",
    "# Elementary functions, with the axis specified.\n",
    "def euclid_norm(x):\n",
    "    return np.linalg.norm(x, ord = 2, axis = 1)\n",
    "\n",
    "\n",
    "def inner_prod(x,y):\n",
    "    return np.sum(x*y, axis = 1)\n",
    "\n",
    "def euclid_norm_sq(x):\n",
    "    if x.ndim == 1:\n",
    "        return np.sum(x*x)\n",
    "    return np.sum(x * x, axis=1)\n",
    "\n",
    "\n",
    "def exp_func(x, gamma):\n",
    "    ''' Proximal matching loss -- x |-> 1 - exp(-(||x||_{2}^{2}/gamma)^{2})\n",
    "        for training learned proximal networks.\n",
    "    '''\n",
    "    return -torch.exp(-((torch.linalg.vector_norm(x, ord = 2, dim = 1)/ gamma) ** 2)) + 1.0\n",
    "\n",
    "\n",
    "def hjsol_true(y,mu1,mu2,sigma1,sigma2):\n",
    "    '''This function computes the solution S(y,t) of the Hamilton--Jacobi\n",
    "    PDE for the minplus algebra example at t = 1.\n",
    "\n",
    "    Args:\n",
    "        y:      An n-dimensional numpy array of numbers\n",
    "        mu1:    An n-dimensional numpy array of numbers\n",
    "        mu2:    An n-dimensional numpy array of numbers\n",
    "        sigma1: A positive number\n",
    "        sigma2: A positive number\n",
    "    Returns:\n",
    "        hjsol:  An n-dimensional numpy array of numbers\n",
    "    '''\n",
    "\n",
    "    val1 = 0.5*pow(euclid_norm(y-mu1),2)/(1+sigma1)\n",
    "    val2 = 0.5*pow(euclid_norm(y-mu2),2)/(1+sigma2)\n",
    "    hjsol = np.minimum(val1,val2)\n",
    "    return hjsol\n",
    "\n",
    "\n",
    "def prior_true(y,mu1,mu2,sigma1,sigma2):\n",
    "    '''This function computes the initial data of the Hamilton--Jacobi\n",
    "    PDE for the minplus algebra example.\n",
    "\n",
    "    Args:\n",
    "        y:      An n-dimensional numpy array of numbers\n",
    "        mu1:    An n-dimensional numpy array of numbers\n",
    "        mu2:    An n-dimensional numpy array of numbers\n",
    "        sigma1: A positive number\n",
    "        sigma2: A positive number\n",
    "    Returns:\n",
    "        prior:  An n-dimensional numpy array of numbers\n",
    "    '''\n",
    "        \n",
    "    val1 = 0.5*pow(euclid_norm(y-mu1),2)/sigma1\n",
    "    val2 = 0.5*pow(euclid_norm(y-mu2),2)/sigma2\n",
    "    prior = np.minimum(val1,val2)\n",
    "    return prior\n",
    "\n",
    "\n",
    "def cvx_true(y,mu1,mu2,sigma1,sigma2):\n",
    "    '''This function computes 0.5*norm(y)_{2}^{2} - S(y,t) at t = 1.\n",
    "\n",
    "    Args:\n",
    "        y:      An n-dimensional numpy array of numbers\n",
    "        mu1:    An n-dimensional numpy array of numbers\n",
    "        mu2:    An n-dimensional numpy array of numbers\n",
    "        sigma1: A positive number\n",
    "        sigma2: A positive number\n",
    "    Returns:\n",
    "        cvx:  An n-dimensional numpy array of numbers\n",
    "    '''\n",
    "\n",
    "    cvx = 0.5*pow(euclid_norm(y),2) - hjsol_true(y,mu1,mu2,sigma1,sigma2)\n",
    "    return cvx\n",
    "\n",
    "\n",
    "def invert_prior(x, model, INVERT_MODE):\n",
    "    ''' This function inverts the learned prior at a set of query points x.\n",
    "    That is, we compute the points y for which nabla_{y}psi(y) = x, \n",
    "    where nabla_{y}*psi denotes the gradient of the LPN network.\n",
    "\n",
    "        Args:\n",
    "            x:              A numpy array of real numbers at which to invert the prior.\n",
    "            model:          The trained LPN model object.\n",
    "            INVERT_MODE:    The method for inverting the LPN network.\n",
    "\n",
    "        Returns:    y:      The (approximate) set of points for which nabla_{y}psi(y) = x,\n",
    "                            as a numpy array.\n",
    "    '''\n",
    "\n",
    "    y = invert(x,model,INVERT_MODE)\n",
    "    return y\n",
    "\n",
    "\n",
    "def evaluate_learned_prior(x, y, model, INVERT_MODE):\n",
    "    ''' This function evaluates the learned prior at the points y obtained from\n",
    "    inverting the prior, that is, for which nabla_{y}psi(y) = x, where nabla_{y}psi denotes\n",
    "    the gradient of the LPN network.\n",
    "    \n",
    "    Args:\n",
    "            x:              A numpy array of real numbers at which to invert the prior.\n",
    "            model:          The trained LPN model object.\n",
    "            INVERT_MODE:    The method for inverting the LPN network.\n",
    "\n",
    "    Returns:    prior_est   The learned initial data (prior) of the HJ PDE at the points x.\n",
    "    '''\n",
    "\n",
    "    psi = model.scalar(torch.tensor(y).float().to(device)).squeeze(1).detach().cpu().numpy()\n",
    "    prior_est = np.sum(x*y, axis = 1) - 0.5 * euclid_norm(x) - psi\n",
    "\n",
    "    return prior_est\n",
    "\n",
    "############################\n",
    "#----- Plotting tools -----#\n",
    "############################\n",
    "\n",
    "def compute_square_cross_sections(a, spacing, dim):\n",
    "    ''' Compute the cross sections (xi,0,...,0) and (0,xi,0,...,0) \n",
    "    on the grid [-a,a]^{dim} along the first and second dimensions.\n",
    "\n",
    "    Args:       a:      A positive number\n",
    "                spacing: Number of grid spacing along [-a,a]\n",
    "                dim:    Dimension of the Hamilton--Jacobi PDE\n",
    "\n",
    "    Returns:    xi:             The numpy array np.linspace(-a, a, spacing)\n",
    "\n",
    "                x1_0_points:    k x dim numpy array of points, where\n",
    "                                x_1_0_points[:,0] = np.linspace(-a, a, spacing)\n",
    "                                with the rest of the entries equal to 0, and\n",
    "                                k = xi.size\n",
    "\n",
    "                x2_0_points:    k x dim numpy array of points, where\n",
    "                                x_2_0_points[:,1] = np.linspace(-a, a, spacing)\n",
    "                                with the rest of the entries equal to 0, and\n",
    "                                k = xi.size\n",
    "    '''\n",
    "\n",
    "    xi = np.linspace(-a,a,spacing)\n",
    "    grid = np.zeros((xi.size, dim))\n",
    "    x1_0_points = np.copy(grid); x1_0_points[:,0] = xi\n",
    "    x2_0_points = np.copy(grid); x2_0_points[:,1] = xi\n",
    "\n",
    "    return xi, x1_0_points, x2_0_points\n",
    "\n",
    "\n",
    "def cross_sections_plots(model,a,spacing,mu1,mu2,sigma1,sigma2,INVERT_MODE,dim):\n",
    "    ''' Compare the true solution of the Hamilton--Jacobi PDE vs the LPN model\n",
    "        on a square grid [-a,a]^{dim} by overlaying their cross sections along the first and second axes.\n",
    "\n",
    "    Args:\n",
    "            model:          The trained LPN model object.\n",
    "            a:              Measure of the grid [-a,a]^{dim}\n",
    "            spacing:        Number of points in the interval [-a,a]\n",
    "            mu1, mu2:       n-dimensional numpy arrays for specifying the initial data\n",
    "            sigma1, sigma2: Positive numbers for specifying the initial data\n",
    "            INVERT_MODE:    The method for inverting the LPN network.\n",
    "            dim:            Spatial dimension of the problem\n",
    "    '''\n",
    "\n",
    "    # Compute the cross sections in the first and second axes of the grid [-a,a]^{dim}. \n",
    "    xi, x1_0_points, x2_0_points = compute_square_cross_sections(a, spacing, dim)\n",
    "\n",
    "    # Compute the true initial data and convex functions at the cross section points\n",
    "    x1_0_cvx_true = cvx_true(x1_0_points,mu1,mu2,sigma1,sigma2)\n",
    "    x2_0_cvx_true = cvx_true(x2_0_points,mu1,mu2,sigma1,sigma2)\n",
    "\n",
    "    x1_0_prior_true = prior_true(x1_0_points,mu1,mu2,sigma1,sigma2)\n",
    "    x2_0_prior_true = prior_true(x2_0_points,mu1,mu2,sigma1,sigma2)\n",
    "\n",
    "    # Compute the learned initial data and convex functions at the cross section points\n",
    "    x1_0_cvx_est = cvx(x1_0_points,model)\n",
    "    x2_0_cvx_est = cvx(x2_0_points,model)\n",
    "    \n",
    "    y1 = invert(x1_0_points,model,INVERT_MODE)\n",
    "    y2 = invert(x2_0_points,model,INVERT_MODE)\n",
    "    x1_0_prior_est = evaluate_learned_prior(x1_0_points, y1, model, INVERT_MODE)\n",
    "    x2_0_prior_est = evaluate_learned_prior(x2_0_points, y2, model, INVERT_MODE)\n",
    "\n",
    "    # Plot cross sections of the convex function\n",
    "    plt.subplots()\n",
    "    plt.plot(xi, x1_0_cvx_est, \"-\", ms=5,label=\"LPN\")\n",
    "    plt.plot(xi, x1_0_cvx_true, \"-\", ms=5,label=\"Ref\")\n",
    "    plt.grid(\"on\")\n",
    "    plt.title(\"Cross sections ($x_1$,0) of the convex function\")\n",
    "    plt.xlabel('$x_1$')\n",
    "    plt.ylabel('Convex functions ($x_1$,0)')\n",
    "    plt.legend()\n",
    "\n",
    "    plt.subplots()\n",
    "    plt.plot(xi, x2_0_cvx_est, \"-\", ms=5,label=\"LPN\")\n",
    "    plt.plot(xi, x2_0_cvx_true, \"-\", ms=5,label=\"Ref\")\n",
    "    plt.grid(\"on\")\n",
    "    plt.title(\"Cross sections (0,$x_2$) of the convex function\")\n",
    "    plt.xlabel('$x_2$')\n",
    "    plt.ylabel('Convex functions (0, $x_2$)')\n",
    "    plt.legend()\n",
    "\n",
    "    # Plot cross sections of the prior function\n",
    "    plt.subplots()\n",
    "    plt.plot(xi, x1_0_prior_est, \"-\", label=\"LPN\")\n",
    "    plt.plot(xi, x1_0_prior_true, \"-\", label=\"Ref\")\n",
    "    plt.grid(\"on\")\n",
    "    plt.title(\"Cross sections ($x_1$,0) of the prior function\")\n",
    "    plt.xlabel('$x_1$')\n",
    "    plt.ylabel('Prior functions ($x_1$,0)')\n",
    "    plt.legend()\n",
    "\n",
    "    plt.subplots()\n",
    "    plt.plot(xi, x2_0_prior_est, \"-\", label=\"LPN\")\n",
    "    plt.plot(xi, x2_0_prior_true, \"-\", label=\"Ref\")\n",
    "    plt.grid(\"on\")\n",
    "    plt.title(\"Cross sections (0,$x_2$) of the prior function\")\n",
    "    plt.xlabel('$x_2$')\n",
    "    plt.ylabel('Prior functions (0, $x_2$)')\n",
    "    plt.legend()\n",
    "\n",
    "\n",
    "\n",
    "\n",
    "def plot_all(model,a,spacing,mu1,mu2,sigma1,sigma2,INVERT_MODE,dim):\n",
    "\n",
    "    # Plot cross sections of the HJ PDEs vs learned proximal network along the first and second dimensions.\n",
    "    cross_sections_plots(model,a,spacing,mu1,mu2,sigma1,sigma2,INVERT_MODE,dim)"
   ]
  },
  {
   "cell_type": "markdown",
   "metadata": {},
   "source": [
    "## Parameters"
   ]
  },
  {
   "cell_type": "code",
   "execution_count": 3,
   "metadata": {
    "execution": {
     "iopub.execute_input": "2025-10-29T23:54:20.894935Z",
     "iopub.status.busy": "2025-10-29T23:54:20.894668Z",
     "iopub.status.idle": "2025-10-29T23:54:20.898408Z",
     "shell.execute_reply": "2025-10-29T23:54:20.897875Z"
    }
   },
   "outputs": [],
   "source": [
    "# Dimension\n",
    "dim = 8\n",
    "\n",
    "# Prior parameters\n",
    "mu1 = np.zeros(dim); mu1[0] = 1.0;  sigma1 = 1.0\n",
    "mu2 = np.ones(dim)/np.sqrt(dim);    sigma2 = 1.0\n",
    "\n",
    "# Define the spatial grid [-a,a]^{dim}\n",
    "a, spacing = 4, 100\n",
    "\n",
    "# Number of samples from the solution we have access to\n",
    "data_points = 30000\n",
    "Iterations = 100000\n",
    "\n",
    "# LPN model parameters\n",
    "# Note: The defaults parameters are beta = 10, hidden = 50, layers = 4\n",
    "beta = 10       # beta of softplus\n",
    "hidden = 128     # number of hidden units\n",
    "layers = 6      # number of layers\n",
    "\n",
    "# optimization algorithm to use for computing the prior (cvx_cg, cvx_gd)\n",
    "INVERT_MODE = \"cvx_gd\""
   ]
  },
  {
   "cell_type": "markdown",
   "metadata": {},
   "source": [
    "## Generate training data"
   ]
  },
  {
   "cell_type": "code",
   "execution_count": 4,
   "metadata": {
    "execution": {
     "iopub.execute_input": "2025-10-29T23:54:20.900675Z",
     "iopub.status.busy": "2025-10-29T23:54:20.900200Z",
     "iopub.status.idle": "2025-10-29T23:54:21.130030Z",
     "shell.execute_reply": "2025-10-29T23:54:21.129434Z"
    }
   },
   "outputs": [],
   "source": [
    "# Generate samples {yi} uniformly in the grid [-a,a]^{dim}\n",
    "input = np.zeros((dim,data_points))\n",
    "\n",
    "if(dim>1):\n",
    "    for k in range(0,dim):\n",
    "        input[k] = np.random.uniform(-a,a,data_points)\n",
    "else:\n",
    "    input = np.random.uniform(-a,a,data_points)\n",
    "\n",
    "input = input.reshape(data_points,dim)\n",
    "\n",
    "# Generate the samples\n",
    "cvx_samples = cvx_true(input,mu1,mu2,sigma1,sigma2).reshape(data_points,-1)\n",
    "\n",
    "# Recast the samples as tensors\n",
    "input = torch.from_numpy(input).float()\n",
    "cvx_samples = torch.from_numpy(cvx_samples).float()\n",
    "\n",
    "# --- ADD THIS TO MOVE DATA TO GPU ---\n",
    "input = input.to(device)\n",
    "cvx_samples = cvx_samples.to(device)"
   ]
  },
  {
   "cell_type": "markdown",
   "metadata": {},
   "source": [
    "## Training function"
   ]
  },
  {
   "cell_type": "code",
   "execution_count": 5,
   "metadata": {
    "execution": {
     "iopub.execute_input": "2025-10-29T23:54:21.132458Z",
     "iopub.status.busy": "2025-10-29T23:54:21.132183Z",
     "iopub.status.idle": "2025-10-29T23:54:21.136464Z",
     "shell.execute_reply": "2025-10-29T23:54:21.136007Z"
    }
   },
   "outputs": [],
   "source": [
    "def single_iteration(i, data_points, lpn_model, optimizer, input,cvx_samples,loss_type, gamma_loss=None):\n",
    "    # Compute the convex function from the input.\n",
    "    cvx_out = lpn_model.scalar(input)\n",
    "\n",
    "    # Calculate the loss function\n",
    "    if loss_type == 2:\n",
    "        loss = (cvx_out - cvx_samples).pow(2).sum() / data_points   # MSE loss\n",
    "    elif loss_type == 1:\n",
    "        loss = (cvx_out - cvx_samples).abs().sum() / data_points    # MAE loss\n",
    "    elif loss_type == 0:\n",
    "        loss = exp_func(cvx_out - cvx_samples, gamma_loss).mean()   # proximal matching loss\n",
    "    else:\n",
    "        raise ValueError(\"loss_type must be 0, 1, or 2\")\n",
    "\n",
    "\n",
    "    optimizer.zero_grad()\n",
    "    loss.backward()\n",
    "    optimizer.step()\n",
    "\n",
    "    lpn_model.wclip()\n",
    "\n",
    "    # monitor\n",
    "    # loss_lstar = exp_func(out - target, 0.1).mean()\n",
    "\n",
    "    if not i % 5000:\n",
    "        print(\"iteration\", i, \"loss\", loss.item()) #, \"loss_lstar\", loss_lstar.item())"
   ]
  },
  {
   "cell_type": "markdown",
   "metadata": {},
   "source": [
    "# Train"
   ]
  },
  {
   "cell_type": "markdown",
   "metadata": {},
   "source": [
    "L2 loss -- Train"
   ]
  },
  {
   "cell_type": "code",
   "execution_count": 6,
   "metadata": {
    "execution": {
     "iopub.execute_input": "2025-10-29T23:54:21.138505Z",
     "iopub.status.busy": "2025-10-29T23:54:21.138248Z",
     "iopub.status.idle": "2025-10-30T00:08:16.951586Z",
     "shell.execute_reply": "2025-10-30T00:08:16.950904Z"
    }
   },
   "outputs": [
    {
     "name": "stdout",
     "output_type": "stream",
     "text": [
      "iteration 0 loss 134.59365844726562\n",
      "iteration 0 loss 808855.3125\n"
     ]
    },
    {
     "name": "stdout",
     "output_type": "stream",
     "text": [
      "iteration 5000 loss 9.8430814743042\n"
     ]
    },
    {
     "name": "stdout",
     "output_type": "stream",
     "text": [
      "iteration 10000 loss 2.634121894836426\n"
     ]
    },
    {
     "name": "stdout",
     "output_type": "stream",
     "text": [
      "iteration 15000 loss 1.0392184257507324\n"
     ]
    },
    {
     "name": "stdout",
     "output_type": "stream",
     "text": [
      "Learning rate decreased to 1e-05 at iteration 20000\n",
      "iteration 20000 loss 0.014057011343538761\n"
     ]
    },
    {
     "name": "stdout",
     "output_type": "stream",
     "text": [
      "iteration 25000 loss 0.008029714226722717\n"
     ]
    },
    {
     "name": "stdout",
     "output_type": "stream",
     "text": [
      "iteration 30000 loss 0.003611411899328232\n"
     ]
    },
    {
     "name": "stdout",
     "output_type": "stream",
     "text": [
      "iteration 35000 loss 0.0024117131251841784\n"
     ]
    },
    {
     "name": "stdout",
     "output_type": "stream",
     "text": [
      "Learning rate decreased to 1.0000000000000002e-06 at iteration 40000\n",
      "iteration 40000 loss 0.0018715262413024902\n"
     ]
    },
    {
     "name": "stdout",
     "output_type": "stream",
     "text": [
      "iteration 45000 loss 0.001746297930367291\n"
     ]
    },
    {
     "name": "stdout",
     "output_type": "stream",
     "text": [
      "iteration 50000 loss 0.0015594745054841042\n"
     ]
    },
    {
     "name": "stdout",
     "output_type": "stream",
     "text": [
      "iteration 55000 loss 0.0014241214375942945\n"
     ]
    },
    {
     "name": "stdout",
     "output_type": "stream",
     "text": [
      "Learning rate decreased to 1.0000000000000002e-07 at iteration 60000\n",
      "iteration 60000 loss 0.001313312677666545\n"
     ]
    },
    {
     "name": "stdout",
     "output_type": "stream",
     "text": [
      "iteration 65000 loss 0.0012912964448332787\n"
     ]
    },
    {
     "name": "stdout",
     "output_type": "stream",
     "text": [
      "iteration 70000 loss 0.001249188557267189\n"
     ]
    },
    {
     "name": "stdout",
     "output_type": "stream",
     "text": [
      "iteration 75000 loss 0.0012097448343411088\n"
     ]
    },
    {
     "name": "stdout",
     "output_type": "stream",
     "text": [
      "Learning rate decreased to 1.0000000000000004e-08 at iteration 80000\n",
      "iteration 80000 loss 0.0011736600426957011\n"
     ]
    },
    {
     "name": "stdout",
     "output_type": "stream",
     "text": [
      "iteration 85000 loss 0.001169339520856738\n"
     ]
    },
    {
     "name": "stdout",
     "output_type": "stream",
     "text": [
      "iteration 90000 loss 0.0011645280756056309\n"
     ]
    },
    {
     "name": "stdout",
     "output_type": "stream",
     "text": [
      "iteration 95000 loss 0.0011597562115639448\n"
     ]
    }
   ],
   "source": [
    "# initialize\n",
    "lpn_model = LPN(in_dim=dim, hidden=hidden, layers=layers, beta=beta).to(device)\n",
    "optimizer = torch.optim.Adam(lpn_model.parameters(), lr=1e-3)\n",
    "\n",
    "for i in range(1):\n",
    "    single_iteration(i, data_points, lpn_model, optimizer,input,cvx_samples,loss_type=2)\n",
    "\n",
    "for g in optimizer.param_groups:\n",
    "    g[\"lr\"] = 1e-4\n",
    "for i in range(Iterations):\n",
    "    if (i % 20000 == 0) and (i > 0): \n",
    "        # Multiply the current learning rate by 1e-1\n",
    "        for g in optimizer.param_groups:\n",
    "            new_lr = g[\"lr\"] * 1e-1\n",
    "            g[\"lr\"] = new_lr\n",
    "        print(f\"Learning rate decreased to {new_lr} at iteration {i}\")\n",
    "    single_iteration(i, data_points, lpn_model, optimizer,input,cvx_samples,loss_type=2)\n",
    "\n",
    "# save the model\n",
    "torch.save(lpn_model.state_dict(), os.path.join(MODEL_DIR, \"l2.pth\"))"
   ]
  },
  {
   "cell_type": "markdown",
   "metadata": {},
   "source": [
    "L2 loss -- Plot"
   ]
  },
  {
   "cell_type": "code",
   "execution_count": 7,
   "metadata": {
    "execution": {
     "iopub.execute_input": "2025-10-30T00:08:16.954390Z",
     "iopub.status.busy": "2025-10-30T00:08:16.953778Z",
     "iopub.status.idle": "2025-10-30T00:10:43.658795Z",
     "shell.execute_reply": "2025-10-30T00:10:43.658293Z"
    }
   },
   "outputs": [
    {
     "name": "stdout",
     "output_type": "stream",
     "text": [
      "loss -23.677682876586914\n"
     ]
    },
    {
     "name": "stdout",
     "output_type": "stream",
     "text": [
      "loss -125.6100082397461\n"
     ]
    },
    {
     "name": "stdout",
     "output_type": "stream",
     "text": [
      "loss -199.932861328125\n"
     ]
    },
    {
     "name": "stdout",
     "output_type": "stream",
     "text": [
      "loss -260.20709228515625\n"
     ]
    },
    {
     "name": "stdout",
     "output_type": "stream",
     "text": [
      "loss -309.75927734375\n"
     ]
    },
    {
     "name": "stdout",
     "output_type": "stream",
     "text": [
      "loss -350.724609375\n"
     ]
    },
    {
     "name": "stdout",
     "output_type": "stream",
     "text": [
      "loss -385.44775390625\n"
     ]
    },
    {
     "name": "stdout",
     "output_type": "stream",
     "text": [
      "loss -415.04656982421875\n"
     ]
    },
    {
     "name": "stdout",
     "output_type": "stream",
     "text": [
      "loss -440.08258056640625\n"
     ]
    },
    {
     "name": "stdout",
     "output_type": "stream",
     "text": [
      "loss -460.70477294921875\n"
     ]
    },
    {
     "name": "stdout",
     "output_type": "stream",
     "text": [
      "loss -477.60455322265625\n"
     ]
    },
    {
     "name": "stdout",
     "output_type": "stream",
     "text": [
      "loss -491.31475830078125\n"
     ]
    },
    {
     "name": "stdout",
     "output_type": "stream",
     "text": [
      "loss -502.17462158203125\n"
     ]
    },
    {
     "name": "stdout",
     "output_type": "stream",
     "text": [
      "loss -510.45819091796875\n"
     ]
    },
    {
     "name": "stdout",
     "output_type": "stream",
     "text": [
      "loss -516.4853515625\n"
     ]
    },
    {
     "name": "stdout",
     "output_type": "stream",
     "text": [
      "loss -520.6629638671875\n"
     ]
    },
    {
     "name": "stdout",
     "output_type": "stream",
     "text": [
      "loss -523.4332885742188\n"
     ]
    },
    {
     "name": "stdout",
     "output_type": "stream",
     "text": [
      "loss -525.1857299804688\n"
     ]
    },
    {
     "name": "stdout",
     "output_type": "stream",
     "text": [
      "loss -526.2244262695312\n"
     ]
    },
    {
     "name": "stdout",
     "output_type": "stream",
     "text": [
      "loss -526.7882080078125\n"
     ]
    },
    {
     "name": "stdout",
     "output_type": "stream",
     "text": [
      "loss -527.0648193359375\n"
     ]
    },
    {
     "name": "stdout",
     "output_type": "stream",
     "text": [
      "loss -527.187744140625\n"
     ]
    },
    {
     "name": "stdout",
     "output_type": "stream",
     "text": [
      "loss -527.237548828125\n"
     ]
    },
    {
     "name": "stdout",
     "output_type": "stream",
     "text": [
      "loss -527.255859375\n"
     ]
    },
    {
     "name": "stdout",
     "output_type": "stream",
     "text": [
      "loss -527.2619018554688\n"
     ]
    },
    {
     "name": "stdout",
     "output_type": "stream",
     "text": [
      "loss -527.2636108398438\n"
     ]
    },
    {
     "name": "stdout",
     "output_type": "stream",
     "text": [
      "loss -527.2639770507812\n"
     ]
    },
    {
     "name": "stdout",
     "output_type": "stream",
     "text": [
      "loss -527.2640380859375\n"
     ]
    },
    {
     "name": "stdout",
     "output_type": "stream",
     "text": [
      "loss -527.2640380859375\n"
     ]
    },
    {
     "name": "stdout",
     "output_type": "stream",
     "text": [
      "loss -527.2640380859375\n"
     ]
    },
    {
     "name": "stdout",
     "output_type": "stream",
     "text": [
      "loss -527.2640380859375\n"
     ]
    },
    {
     "name": "stdout",
     "output_type": "stream",
     "text": [
      "loss -527.2640380859375\n"
     ]
    },
    {
     "name": "stdout",
     "output_type": "stream",
     "text": [
      "loss -527.2640380859375\n"
     ]
    },
    {
     "name": "stdout",
     "output_type": "stream",
     "text": [
      "loss -527.2640380859375\n"
     ]
    },
    {
     "name": "stdout",
     "output_type": "stream",
     "text": [
      "loss -527.2640380859375\n"
     ]
    },
    {
     "name": "stdout",
     "output_type": "stream",
     "text": [
      "loss -527.2640380859375\n"
     ]
    },
    {
     "name": "stdout",
     "output_type": "stream",
     "text": [
      "loss -527.2640380859375\n"
     ]
    },
    {
     "name": "stdout",
     "output_type": "stream",
     "text": [
      "loss -527.2640380859375\n"
     ]
    },
    {
     "name": "stdout",
     "output_type": "stream",
     "text": [
      "loss -527.2640380859375\n"
     ]
    },
    {
     "name": "stdout",
     "output_type": "stream",
     "text": [
      "loss -527.2640380859375\n"
     ]
    },
    {
     "name": "stdout",
     "output_type": "stream",
     "text": [
      "final mse:  1.9948843965611474e-10\n",
      "max, min: 6.830248 -8.446652\n",
      "loss -23.677682876586914\n"
     ]
    },
    {
     "name": "stdout",
     "output_type": "stream",
     "text": [
      "loss -131.55935668945312\n"
     ]
    },
    {
     "name": "stdout",
     "output_type": "stream",
     "text": [
      "loss -208.65594482421875\n"
     ]
    },
    {
     "name": "stdout",
     "output_type": "stream",
     "text": [
      "loss -271.15594482421875\n"
     ]
    },
    {
     "name": "stdout",
     "output_type": "stream",
     "text": [
      "loss -323.1144104003906\n"
     ]
    },
    {
     "name": "stdout",
     "output_type": "stream",
     "text": [
      "loss -367.27606201171875\n"
     ]
    },
    {
     "name": "stdout",
     "output_type": "stream",
     "text": [
      "loss -404.4036865234375\n"
     ]
    },
    {
     "name": "stdout",
     "output_type": "stream",
     "text": [
      "loss -435.5797119140625\n"
     ]
    },
    {
     "name": "stdout",
     "output_type": "stream",
     "text": [
      "loss -462.16876220703125\n"
     ]
    },
    {
     "name": "stdout",
     "output_type": "stream",
     "text": [
      "loss -484.7008972167969\n"
     ]
    },
    {
     "name": "stdout",
     "output_type": "stream",
     "text": [
      "loss -503.0613708496094\n"
     ]
    },
    {
     "name": "stdout",
     "output_type": "stream",
     "text": [
      "loss -517.09033203125\n"
     ]
    },
    {
     "name": "stdout",
     "output_type": "stream",
     "text": [
      "loss -527.398681640625\n"
     ]
    },
    {
     "name": "stdout",
     "output_type": "stream",
     "text": [
      "loss -534.7472534179688\n"
     ]
    },
    {
     "name": "stdout",
     "output_type": "stream",
     "text": [
      "loss -539.8630981445312\n"
     ]
    },
    {
     "name": "stdout",
     "output_type": "stream",
     "text": [
      "loss -543.3359985351562\n"
     ]
    },
    {
     "name": "stdout",
     "output_type": "stream",
     "text": [
      "loss -545.6036376953125\n"
     ]
    },
    {
     "name": "stdout",
     "output_type": "stream",
     "text": [
      "loss -546.9891357421875\n"
     ]
    },
    {
     "name": "stdout",
     "output_type": "stream",
     "text": [
      "loss -547.753662109375\n"
     ]
    },
    {
     "name": "stdout",
     "output_type": "stream",
     "text": [
      "loss -548.1215209960938\n"
     ]
    },
    {
     "name": "stdout",
     "output_type": "stream",
     "text": [
      "loss -548.2713012695312\n"
     ]
    },
    {
     "name": "stdout",
     "output_type": "stream",
     "text": [
      "loss -548.3214111328125\n"
     ]
    },
    {
     "name": "stdout",
     "output_type": "stream",
     "text": [
      "loss -548.3348388671875\n"
     ]
    },
    {
     "name": "stdout",
     "output_type": "stream",
     "text": [
      "loss -548.3377075195312\n"
     ]
    },
    {
     "name": "stdout",
     "output_type": "stream",
     "text": [
      "loss -548.338134765625\n"
     ]
    },
    {
     "name": "stdout",
     "output_type": "stream",
     "text": [
      "loss -548.338134765625\n"
     ]
    },
    {
     "name": "stdout",
     "output_type": "stream",
     "text": [
      "loss -548.338134765625\n"
     ]
    },
    {
     "name": "stdout",
     "output_type": "stream",
     "text": [
      "loss -548.3381958007812\n"
     ]
    },
    {
     "name": "stdout",
     "output_type": "stream",
     "text": [
      "loss -548.338134765625\n"
     ]
    },
    {
     "name": "stdout",
     "output_type": "stream",
     "text": [
      "loss -548.338134765625\n"
     ]
    },
    {
     "name": "stdout",
     "output_type": "stream",
     "text": [
      "loss -548.338134765625\n"
     ]
    },
    {
     "name": "stdout",
     "output_type": "stream",
     "text": [
      "loss -548.338134765625\n"
     ]
    },
    {
     "name": "stdout",
     "output_type": "stream",
     "text": [
      "loss -548.338134765625\n"
     ]
    },
    {
     "name": "stdout",
     "output_type": "stream",
     "text": [
      "loss -548.338134765625\n"
     ]
    },
    {
     "name": "stdout",
     "output_type": "stream",
     "text": [
      "loss -548.3381958007812\n"
     ]
    },
    {
     "name": "stdout",
     "output_type": "stream",
     "text": [
      "loss -548.338134765625\n"
     ]
    },
    {
     "name": "stdout",
     "output_type": "stream",
     "text": [
      "loss -548.338134765625\n"
     ]
    },
    {
     "name": "stdout",
     "output_type": "stream",
     "text": [
      "loss -548.338134765625\n"
     ]
    },
    {
     "name": "stdout",
     "output_type": "stream",
     "text": [
      "loss -548.338134765625\n"
     ]
    },
    {
     "name": "stdout",
     "output_type": "stream",
     "text": [
      "loss -548.3381958007812\n"
     ]
    },
    {
     "name": "stdout",
     "output_type": "stream",
     "text": [
      "final mse:  2.0569664027636492e-10\n",
      "max, min: 7.3622994 -7.8064675\n"
     ]
    },
    {
     "data": {
      "image/png": "[encoded data removed]",
      "text/plain": [
       "<Figure size 640x480 with 1 Axes>"
      ]
     },
     "metadata": {},
     "output_type": "display_data"
    },
    {
     "data": {
      "image/png": "[encoded data removed]",
      "text/plain": [
       "<Figure size 640x480 with 1 Axes>"
      ]
     },
     "metadata": {},
     "output_type": "display_data"
    },
    {
     "data": {
      "image/png": "[encoded data removed]",
      "text/plain": [
       "<Figure size 640x480 with 1 Axes>"
      ]
     },
     "metadata": {},
     "output_type": "display_data"
    },
    {
     "data": {
      "image/png": "[encoded data removed]",
      "text/plain": [
       "<Figure size 640x480 with 1 Axes>"
      ]
     },
     "metadata": {},
     "output_type": "display_data"
    }
   ],
   "source": [
    "plot_all(lpn_model,a,spacing,mu1,mu2,sigma1,sigma2,INVERT_MODE,dim)"
   ]
  },
  {
   "cell_type": "code",
   "execution_count": 8,
   "metadata": {
    "execution": {
     "iopub.execute_input": "2025-10-30T00:10:43.661094Z",
     "iopub.status.busy": "2025-10-30T00:10:43.660831Z",
     "iopub.status.idle": "2025-10-30T00:24:37.963922Z",
     "shell.execute_reply": "2025-10-30T00:24:37.963230Z"
    }
   },
   "outputs": [
    {
     "name": "stdout",
     "output_type": "stream",
     "text": [
      "Generated G samples: G_samples_tensor shape torch.Size([30000, 1])\n",
      "\n",
      "--- Training Second LPN G(x) for Concave Quadratic Prior ---\n",
      "iteration 0 loss 127.64085388183594\n",
      "iteration 0 loss 206416.59375\n"
     ]
    },
    {
     "name": "stdout",
     "output_type": "stream",
     "text": [
      "iteration 5000 loss 2.741647958755493\n"
     ]
    },
    {
     "name": "stdout",
     "output_type": "stream",
     "text": [
      "iteration 10000 loss 2.1023011207580566\n"
     ]
    },
    {
     "name": "stdout",
     "output_type": "stream",
     "text": [
      "iteration 15000 loss 0.08885195106267929\n"
     ]
    },
    {
     "name": "stdout",
     "output_type": "stream",
     "text": [
      "Learning rate decreased to 1e-05 at iteration 20000\n",
      "iteration 20000 loss 0.009352301247417927\n"
     ]
    },
    {
     "name": "stdout",
     "output_type": "stream",
     "text": [
      "iteration 25000 loss 0.006123636849224567\n"
     ]
    },
    {
     "name": "stdout",
     "output_type": "stream",
     "text": [
      "iteration 30000 loss 0.0036677648313343525\n"
     ]
    },
    {
     "name": "stdout",
     "output_type": "stream",
     "text": [
      "iteration 35000 loss 0.002800147980451584\n"
     ]
    },
    {
     "name": "stdout",
     "output_type": "stream",
     "text": [
      "Learning rate decreased to 1.0000000000000002e-06 at iteration 40000\n",
      "iteration 40000 loss 0.0023369481787085533\n"
     ]
    },
    {
     "name": "stdout",
     "output_type": "stream",
     "text": [
      "iteration 45000 loss 0.0022576674818992615\n"
     ]
    },
    {
     "name": "stdout",
     "output_type": "stream",
     "text": [
      "iteration 50000 loss 0.00205208663828671\n"
     ]
    },
    {
     "name": "stdout",
     "output_type": "stream",
     "text": [
      "iteration 55000 loss 0.0018942434107884765\n"
     ]
    },
    {
     "name": "stdout",
     "output_type": "stream",
     "text": [
      "Learning rate decreased to 1.0000000000000002e-07 at iteration 60000\n",
      "iteration 60000 loss 0.001767538720741868\n"
     ]
    },
    {
     "name": "stdout",
     "output_type": "stream",
     "text": [
      "iteration 65000 loss 0.0017360368510708213\n"
     ]
    },
    {
     "name": "stdout",
     "output_type": "stream",
     "text": [
      "iteration 70000 loss 0.0016892910934984684\n"
     ]
    },
    {
     "name": "stdout",
     "output_type": "stream",
     "text": [
      "iteration 75000 loss 0.0016462898347526789\n"
     ]
    },
    {
     "name": "stdout",
     "output_type": "stream",
     "text": [
      "Learning rate decreased to 1.0000000000000004e-08 at iteration 80000\n",
      "iteration 80000 loss 0.0016061477363109589\n"
     ]
    },
    {
     "name": "stdout",
     "output_type": "stream",
     "text": [
      "iteration 85000 loss 0.0016015585279092193\n"
     ]
    },
    {
     "name": "stdout",
     "output_type": "stream",
     "text": [
      "iteration 90000 loss 0.0015966087812557817\n"
     ]
    },
    {
     "name": "stdout",
     "output_type": "stream",
     "text": [
      "iteration 95000 loss 0.0015916927950456738\n"
     ]
    },
    {
     "name": "stdout",
     "output_type": "stream",
     "text": [
      "Training of LPN for G(x) complete and model saved.\n"
     ]
    }
   ],
   "source": [
    "# --- Generate New Training Data for the Second LPN G(x) ---\n",
    "# We use the same x_j_exp_tensor as the first LPN's training data for x_k\n",
    "x_k_tensor = input.clone().to(device)\n",
    "x_k_tensor.requires_grad_(True)\n",
    "\n",
    "# 1. Compute the gradient y_k = grad_x psi_theta(x_k, t=1)\n",
    "# Get psi(x_k)\n",
    "psi_x_k = lpn_model.scalar(x_k_tensor)\n",
    "\n",
    "# Get gradient y_k = grad_psi(x_k)\n",
    "y_k_tensor = lpn_model(x_k_tensor)\n",
    "\n",
    "# 2. Evaluate the \"new\" samples G_k = <y_k, x_k> - psi_theta(x_k, 1) (from eq 26)\n",
    "inner_prod_yk_xk = torch.sum(y_k_tensor * x_k_tensor, dim=1, keepdim=True)\n",
    "G_samples_tensor_with_graph = inner_prod_yk_xk - psi_x_k\n",
    "\n",
    "# Detach the tensor to treat G_k as fixed targets, breaking the connection\n",
    "# to the first LPN's graph and preventing the RuntimeError during training.\n",
    "G_samples_tensor = G_samples_tensor_with_graph.detach().to(device) \n",
    "\n",
    "# The input tensor x_k_tensor is still needed for the second LPN training,\n",
    "# but it should also not require a gradient for that training.\n",
    "x_k_tensor = x_k_tensor.detach()\n",
    "x_k_tensor.requires_grad_(False) \n",
    "y_k_tensor = y_k_tensor.detach()\n",
    "y_k_tensor.requires_grad_(False)\n",
    "# G_samples_tensor now holds the target values G_k\n",
    "print(f\"Generated G samples: G_samples_tensor shape {G_samples_tensor.shape}\")\n",
    "\n",
    "# --- Step 3: Train LPN G(x) ---\n",
    "print(\"\\n--- Training Second LPN G(x) for Concave Quadratic Prior ---\")\n",
    "# The target for this LPN is G_samples_tensor\n",
    "# The input for this LPN is x_k_tensor\n",
    "lpn_model_G = LPN(in_dim=dim, hidden=hidden, layers=layers, beta=beta, eps=1e-3).to(device)\n",
    "optimizer_G = torch.optim.Adam(lpn_model_G.parameters(), lr=1e-4)\n",
    "\n",
    "# Initial shorter training phase\n",
    "for i in range(1):\n",
    "     single_iteration(i, data_points, lpn_model_G, optimizer_G, y_k_tensor, G_samples_tensor, loss_type=2, gamma_loss=None)\n",
    "\n",
    "for g in optimizer_G.param_groups:\n",
    "    g[\"lr\"] = 1e-4 \n",
    "for i in range(Iterations):\n",
    "    if (i % 20000 == 0) and (i > 0): \n",
    "        # Multiply the current learning rate by 1e-1\n",
    "        for g in optimizer_G.param_groups:\n",
    "            new_lr = g[\"lr\"] * 1e-1\n",
    "            g[\"lr\"] = new_lr\n",
    "        print(f\"Learning rate decreased to {new_lr} at iteration {i}\")\n",
    "    single_iteration(i, data_points, lpn_model_G, optimizer_G, y_k_tensor, G_samples_tensor, loss_type=2, gamma_loss=None)\n",
    "\n",
    "torch.save(lpn_model_G.state_dict(), os.path.join(MODEL_DIR, \"G_network_l2.pth\"))\n",
    "print(\"Training of LPN for G(x) complete and model saved.\")"
   ]
  },
  {
   "cell_type": "code",
   "execution_count": 9,
   "metadata": {
    "execution": {
     "iopub.execute_input": "2025-10-30T00:24:37.966333Z",
     "iopub.status.busy": "2025-10-30T00:24:37.966054Z",
     "iopub.status.idle": "2025-10-30T00:24:38.662588Z",
     "shell.execute_reply": "2025-10-30T00:24:38.662061Z"
    }
   },
   "outputs": [
    {
     "name": "stdout",
     "output_type": "stream",
     "text": [
      "\n",
      "--- Plotting Estimated Prior J(x) from 2nd LPN---\n"
     ]
    },
    {
     "data": {
      "image/png": "[encoded data removed]",
      "text/plain": [
       "<Figure size 1200x500 with 2 Axes>"
      ]
     },
     "metadata": {},
     "output_type": "display_data"
    }
   ],
   "source": [
    "def evaluate_learned_J_G_network(x_points, model_G):\n",
    "    \"\"\"\n",
    "    Evaluates the learned prior J(x) using the trained G(x) network.\n",
    "    J(x) = G(x) - 0.5 * ||x||^2\n",
    "    \"\"\"\n",
    "    # Convert to tensor\n",
    "    x_tensor = torch.from_numpy(x_points).float().to(device)\n",
    "    \n",
    "    # Get G(x) from the second LPN model\n",
    "    G_x = model_G.scalar(x_tensor)\n",
    "    \n",
    "    # Compute 0.5 * ||x||^2\n",
    "    x_norm_sq_np = euclid_norm_sq(x_points)\n",
    "    x_norm_sq_tensor = torch.from_numpy(x_norm_sq_np).float().to(device).reshape(-1, 1)\n",
    "\n",
    "    # Apply the formula: J_est = G(x) - 0.5 * ||x||^2\n",
    "    J_est = G_x - 0.5 * x_norm_sq_tensor\n",
    "    \n",
    "    # Convert back to numpy\n",
    "    J_est_np = J_est.detach().cpu().numpy().flatten()\n",
    "    \n",
    "    return J_est_np\n",
    "\n",
    "def plot_J_G_network(model_G, a, spacing, dim,mu1,mu2,sigma1,sigma2):\n",
    "    \"\"\"Plots the cross-sections of the estimated prior J(x) from the G network.\"\"\"\n",
    "    xi, x1_0_points, x2_0_points = compute_square_cross_sections(a, spacing, dim)\n",
    "    # True Prior\n",
    "    x1_0_J_true = prior_true(x1_0_points,mu1,mu2,sigma1,sigma2)\n",
    "    if dim > 1:\n",
    "        x2_0_J_true = prior_true(x2_0_points,mu1,mu2,sigma1,sigma2)\n",
    "    else:\n",
    "        x2_0_J_true = x1_0_J_true\n",
    "        \n",
    "    # Estimated Prior from G(x) Network\n",
    "    x1_0_J_G_est = evaluate_learned_J_G_network(x1_0_points, model_G)\n",
    "    if dim > 1:\n",
    "        x2_0_J_G_est = evaluate_learned_J_G_network(x2_0_points, model_G)\n",
    "    else:\n",
    "        x2_0_J_G_est = x1_0_J_G_est\n",
    "    \n",
    "    print(\"\\n--- Plotting Estimated Prior J(x) from 2nd LPN---\")\n",
    "    plt.figure(figsize=(12,5))\n",
    "    \n",
    "    plt.subplot(1, 2, 1)\n",
    "    plt.plot(xi, x1_0_J_G_est, \"-\", label=\"LPN 2\")\n",
    "    plt.plot(xi, x1_0_J_true, \"--\", label=\"Ref $J(x)=-1/4||x||_2^2$\")\n",
    "    plt.grid(True)\n",
    "    plt.title(f\"Cross sections of $J(x_1,0,...)$ Dim {dim}\")\n",
    "    plt.xlabel('$x_1$')\n",
    "    plt.ylabel('$Prior functions (x_1,0,...)$')\n",
    "    plt.legend()\n",
    "\n",
    "    if dim > 1:\n",
    "        plt.subplot(1, 2, 2)\n",
    "        plt.plot(xi, x2_0_J_G_est, \"-\", label=\"LPN 2\")\n",
    "        plt.plot(xi, x2_0_J_true, \"--\", label=\"Ref $J(x)=-1/4||x||_2^2$\")\n",
    "        plt.grid(True)\n",
    "        plt.title(f\"Cross sections of $J(0,x_2,0,...)$ Dim {dim}\")\n",
    "        plt.xlabel('$x_2$')\n",
    "        plt.ylabel('$Prior functions (0,x_2,0,...)$')\n",
    "        plt.legend()\n",
    "    plt.tight_layout()\n",
    "    #plt.savefig('G_network_prior_plot.png')\n",
    "    \n",
    "# --- Execute Plotting ---\n",
    "plot_J_G_network(lpn_model_G, a, spacing, dim,mu1,mu2,sigma1,sigma2)"
   ]
  }
 ],
 "metadata": {
  "colab": {
   "provenance": []
  },
  "kernelspec": {
   "display_name": "lpn_env_image",
   "language": "python",
   "name": "python3"
  },
  "language_info": {
   "codemirror_mode": {
    "name": "ipython",
    "version": 3
   },
   "file_extension": ".py",
   "mimetype": "text/x-python",
   "name": "python",
   "nbconvert_exporter": "python",
   "pygments_lexer": "ipython3",
   "version": "3.13.5"
  }
 },
 "nbformat": 4,
 "nbformat_minor": 4
}
