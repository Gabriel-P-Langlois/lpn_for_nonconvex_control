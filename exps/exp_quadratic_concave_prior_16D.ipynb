{
 "cells": [
  {
   "cell_type": "markdown",
   "metadata": {},
   "source": [
    "# Learning a quadratic prior"
   ]
  },
  {
   "cell_type": "markdown",
   "metadata": {},
   "source": [
    "This code attempts to learn a concave quadratic prior $J(x) = -\\frac{1}{4}||x||_2^2$ in the context of a Hamilton-Jacobi PDE with a quadratic Hamiltonian $H(p) = \\frac{1}{2}||p||_2^2$.\n",
    "The LPN learns the function $\\psi(x) = ||x||_2^2$."
   ]
  },
  {
   "cell_type": "markdown",
   "metadata": {},
   "source": [
    "## Import modules "
   ]
  },
  {
   "cell_type": "code",
   "execution_count": 1,
   "metadata": {
    "execution": {
     "iopub.execute_input": "2025-10-29T08:15:22.119699Z",
     "iopub.status.busy": "2025-10-29T08:15:22.119397Z",
     "iopub.status.idle": "2025-10-29T08:15:25.904160Z",
     "shell.execute_reply": "2025-10-29T08:15:25.903564Z"
    },
    "id": "Mtd5gx1tv90z"
   },
   "outputs": [],
   "source": [
    "import os\n",
    "import numpy as np\n",
    "import torch\n",
    "\n",
    "import matplotlib.pyplot as plt\n",
    "from matplotlib import cm\n",
    "from matplotlib.ticker import LinearLocator\n",
    "import seaborn as sns\n",
    "\n",
    "from network import LPN\n",
    "from lib.utils import cvx\n",
    "from lib.invert import invert\n",
    "\n",
    "# set location\n",
    "MODEL_DIR = \"experiments/models/concave_quadratic_prior_16D\"\n",
    "os.makedirs(MODEL_DIR, exist_ok=True)\n",
    "device = torch.device(\"cuda:0\" if torch.cuda.is_available() else \"cpu\")\n",
    "\n",
    "# set random seeds\n",
    "np.random.seed(1)\n",
    "torch.manual_seed(1)\n",
    "\n",
    "# plotting options\n",
    "plt.rcParams.update({\"text.usetex\": False})\n",
    "sns.set_theme()"
   ]
  },
  {
   "cell_type": "markdown",
   "metadata": {},
   "source": [
    "## Parameters"
   ]
  },
  {
   "cell_type": "code",
   "execution_count": 2,
   "metadata": {
    "execution": {
     "iopub.execute_input": "2025-10-29T08:15:25.906594Z",
     "iopub.status.busy": "2025-10-29T08:15:25.906227Z",
     "iopub.status.idle": "2025-10-29T08:15:25.909752Z",
     "shell.execute_reply": "2025-10-29T08:15:25.909309Z"
    }
   },
   "outputs": [],
   "source": [
    "# Parameters\n",
    "# --- Parameters fof Experiment ---\n",
    "dim_exp = 16  # Dimension (e.g., 2D, 4D, 8D as in the paper)\n",
    "data_points_exp = 20000 # Example number of data points\n",
    "iterations_exp_initial = 1 # Iterations for initial training phase\n",
    "iterations_exp_long = 100000 # Iterations for longer training phase\n",
    "a_exp = 4 # Grid limit for sampling y_j if using uniform, e.g., y_j in [-a, a]^d\n",
    "spacing = 50 # For plotting cross-sections\n",
    "\n",
    "\n",
    "# LPN model parameters\n",
    "# Note: The defaults parameters are beta = 10, hidden = 50, layers = 4\n",
    "beta = 10       # beta of softplus\n",
    "hidden = 50     # number of hidden units\n",
    "layers = 4      # number of layers\n",
    "eps = 0.5\n",
    "# optimization algorithm to use for computing the prior (cvx_cg, cvx_gd)\n",
    "INVERT_MODE = \"cvx_gd\""
   ]
  },
  {
   "cell_type": "markdown",
   "metadata": {},
   "source": [
    "# === Section ==="
   ]
  },
  {
   "cell_type": "code",
   "execution_count": 3,
   "metadata": {
    "execution": {
     "iopub.execute_input": "2025-10-29T08:15:25.911998Z",
     "iopub.status.busy": "2025-10-29T08:15:25.911593Z",
     "iopub.status.idle": "2025-10-29T08:15:26.034509Z",
     "shell.execute_reply": "2025-10-29T08:15:26.033913Z"
    }
   },
   "outputs": [],
   "source": [
    "import numpy as np\n",
    "import matplotlib.pyplot as plt\n",
    "import torch \n",
    "\n",
    "# === Section 4.1.2: L1 Prior Helper Functions ===\n",
    "\n",
    "def inner_prod(x, y):\n",
    "    return np.sum(x * y, axis=1)\n",
    "\n",
    "def euclid_norm_sq(x):\n",
    "    if x.ndim == 1:\n",
    "        return np.sum(x*x)\n",
    "    return np.sum(x * x, axis=1)\n",
    "\n",
    "\n",
    "def cvx_true_concave_quad(y_points): # y_points is N x dim\n",
    "    \"\"\"\n",
    "    Computes the target function psi(y) = ||y||_2^2 for the given problem.\n",
    "    \"\"\"\n",
    "    return euclid_norm_sq(y_points)\n",
    "\n",
    "def prior_true_concave_quad(x_points):\n",
    "    \"\"\"\n",
    "    Computes the true concave prior J(x) = -1/4 * ||x||_2^2.\n",
    "    \"\"\"\n",
    "    return -0.25 * euclid_norm_sq(x_points)\n",
    "\n",
    "def invert_prior_lpn(x, model, INVERT_MODE):\n",
    "    y = invert(x,model,INVERT_MODE)\n",
    "    return y\n",
    "\n",
    "def evaluate_learned_prior_lpn(x_eval_points, y_inverted_points, model):\n",
    "    try:\n",
    "        y_tensor = torch.from_numpy(y_inverted_points).float().to(device)\n",
    "        psi_of_y_inverted = model.scalar(y_tensor).squeeze(1).detach().cpu().numpy()\n",
    "    except NameError: \n",
    "        print(\"Warning: 'device' not defined. Assuming CPU for evaluate_learned_prior.\")\n",
    "        y_tensor = torch.from_numpy(y_inverted_points).float()\n",
    "        psi_of_y_inverted = model.scalar(y_tensor).squeeze(1).detach().numpy()\n",
    "    prior_est = inner_prod(x_eval_points, y_inverted_points) - 0.5 * euclid_norm_sq(x_eval_points) - psi_of_y_inverted\n",
    "    return prior_est\n",
    "\n",
    "\n",
    "def compute_square_cross_sections(a, spacing, dim):\n",
    "    xi = np.linspace(-a, a, spacing)\n",
    "    grid = np.zeros((xi.size, dim))\n",
    "    x1_0_points = np.copy(grid)\n",
    "    x1_0_points[:, 0] = xi\n",
    "    x2_0_points = np.copy(grid)\n",
    "    if dim > 1:\n",
    "        x2_0_points[:, 1] = xi\n",
    "    elif dim == 1:\n",
    "        x2_0_points = x1_0_points.copy()\n",
    "    return xi, x1_0_points, x2_0_points\n",
    "\n",
    "def cross_sections_plots_concave_quad(model, a, spacing, INVERT_MODE, dim):\n",
    "    xi, x1_0_points, x2_0_points = compute_square_cross_sections(a, spacing, dim)\n",
    "    \n",
    "    x1_0_psi_true = cvx_true_concave_quad(x1_0_points)\n",
    "    x1_0_J_true = prior_true_concave_quad(x1_0_points)\n",
    "    if dim > 1:\n",
    "        x2_0_psi_true = cvx_true_concave_quad(x2_0_points)\n",
    "        x2_0_J_true = prior_true_concave_quad(x2_0_points)\n",
    "    else: \n",
    "        x2_0_psi_true = x1_0_psi_true \n",
    "        x2_0_J_true = x1_0_J_true\n",
    "        \n",
    "    x1_0_psi_est = cvx(x1_0_points, model) \n",
    "    y1_inverted = invert_prior_lpn(x1_0_points, model, INVERT_MODE)\n",
    "    x1_0_J_est = evaluate_learned_prior_lpn(x1_0_points,y1_inverted, model)\n",
    "    if dim > 1:\n",
    "        x2_0_psi_est = cvx(x2_0_points, model)\n",
    "        y2_inverted = invert_prior_lpn(x2_0_points, model, INVERT_MODE)\n",
    "        x2_0_J_est = evaluate_learned_prior_lpn(x2_0_points,y2_inverted, model)\n",
    "    else:\n",
    "        x2_0_psi_est = x1_0_psi_est\n",
    "        x2_0_J_est = x1_0_J_est\n",
    "        \n",
    "    plt.figure(figsize=(12,5))\n",
    "    plt.subplot(1, 2, 1)\n",
    "    plt.plot(xi, x1_0_psi_est, \"-\", ms=5, label=\"LPN (Learned $\\\\psi$)\")\n",
    "    plt.plot(xi, x1_0_psi_true, \"--\", ms=5, label=\"True $\\\\psi$ for $J(x)=\\\\|x\\\\|_1$\")\n",
    "    plt.grid(True)\n",
    "    plt.title(f\"$\\\\psi(y_1,0,...)$ - Dim {dim}, $J(x)=\\\\|x\\\\|_1$\")\n",
    "    plt.xlabel('$y_1$')\n",
    "    plt.ylabel('$\\\\psi(y_1,0,...)$')\n",
    "    plt.legend()\n",
    "\n",
    "    if dim > 1:\n",
    "        plt.subplot(1, 2, 2) # Second plot for psi if dim > 1\n",
    "        plt.plot(xi, x2_0_psi_est, \"-\", ms=5, label=\"LPN (Learned $\\\\psi$)\")\n",
    "        plt.plot(xi, x2_0_psi_true, \"--\", ms=5, label=\"True $\\\\psi$ for $J(x)=-1/4\\\\|x\\\\|_2^2$\")\n",
    "        plt.grid(True)\n",
    "        plt.title(f\"$\\\\psi(0,y_2,0,...)$ - Dim {dim}, $J(x)=-1/4\\\\|x\\\\|_2^2$\")\n",
    "        plt.xlabel('$y_2$')\n",
    "        plt.ylabel('$\\\\psi(0,y_2,0,...)$')\n",
    "        plt.legend()\n",
    "    plt.tight_layout()\n",
    "    plt.show()\n",
    "\n",
    "    plt.figure(figsize=(12,5))\n",
    "    plt.subplot(1, 2, 1)\n",
    "    plt.plot(xi, x1_0_J_est, \"-\", label=\"LPN (Learned $J$)\")\n",
    "    plt.plot(xi, x1_0_J_true, \"--\", label=\"True $J(x)=-1/4\\\\|x\\\\|_2^2$\")\n",
    "    plt.grid(True)\n",
    "    plt.title(f\"Prior $J(x_1,0,...)$ - Dim {dim}, $J(x)=-1/4\\\\|x\\\\|_2^2$\")\n",
    "    plt.xlabel('$x_1$')\n",
    "    plt.ylabel('$J(x_1,0,...)$')\n",
    "    plt.legend()\n",
    "\n",
    "    if dim > 1:\n",
    "        plt.subplot(1, 2, 2)\n",
    "        plt.plot(xi, x2_0_J_est, \"-\", label=\"LPN (Learned $J$)\")\n",
    "        plt.plot(xi, x2_0_J_true, \"--\", label=\"True $J(x)=-1/4\\\\|x\\\\|_2^2$\")\n",
    "        plt.grid(True)\n",
    "        plt.title(f\"Prior $J(0,x_2,0,...)$ - Dim {dim}, $J(x)=-1/4\\\\|x\\\\|_2^2$\")\n",
    "        plt.xlabel('$x_2$')\n",
    "        plt.ylabel('$J(0,x_2,0,...)$')\n",
    "        plt.legend()\n",
    "    plt.tight_layout()\n",
    "    plt.show()\n",
    "\n",
    "def plot_all_concave_quad(model, a, spacing, INVERT_MODE, dim):\n",
    "    print(f\"\\n--- Plotting Cross Sections for Quadratic H, Quadratic concave Prior (Dim={dim}) ---\")\n",
    "    cross_sections_plots_concave_quad(model, a, spacing, INVERT_MODE, dim)\n",
    "\n"
   ]
  },
  {
   "cell_type": "code",
   "execution_count": 4,
   "metadata": {
    "execution": {
     "iopub.execute_input": "2025-10-29T08:15:26.036532Z",
     "iopub.status.busy": "2025-10-29T08:15:26.036257Z",
     "iopub.status.idle": "2025-10-29T08:15:26.041234Z",
     "shell.execute_reply": "2025-10-29T08:15:26.040788Z"
    }
   },
   "outputs": [],
   "source": [
    "def evaluate_learned_H(model, a, spacing, dim):\n",
    "    \"\"\"\n",
    "    Calculates and plots the approximate Hamiltonian H_theta.\n",
    "    H_theta(p) = max_k { <p, eta_k> - b_k }\n",
    "    where eta_k = x_k - grad_psi(x_k) and b_k = 0.5 * ||eta_k||^2\n",
    "    \"\"\"\n",
    "    x_k_np = np.random.uniform(-a, a, (data_points_exp, dim))\n",
    "    x_k_tensor = torch.from_numpy(x_k_np).float().to(device)\n",
    "    x_k_tensor.requires_grad_(True)\n",
    "    grad_psi_k_tensor = model(x_k_tensor)\n",
    "\n",
    "    eta_k_tensor = x_k_tensor - grad_psi_k_tensor\n",
    "    b_k_tensor = 0.5 * torch.sum(eta_k_tensor**2, dim=1, keepdim=True)\n",
    "\n",
    "    xi = np.linspace(-a, a, spacing)\n",
    "    p_eval_points_np = np.zeros((xi.size, dim))\n",
    "    p_eval_points_np[:, 0] = xi\n",
    "    p_eval_tensor = torch.from_numpy(p_eval_points_np).float().to(device)\n",
    "\n",
    "    # Compute H_theta(p) for the cross-section\n",
    "    inner_prods = torch.matmul(p_eval_tensor, eta_k_tensor.T)  # (spacing x data_points)\n",
    "    H_theta_p_tensor = torch.max(inner_prods - b_k_tensor.T, dim=1, keepdim=True)[0]\n",
    "    H_theta_p_np = H_theta_p_tensor.detach().cpu().numpy().flatten()\n",
    "\n",
    "    # Compute true Hamiltonian H(p) = 0.5 * ||p||^2\n",
    "    H_true_p_np = 0.5 * euclid_norm_sq(p_eval_points_np)\n",
    "\n",
    "    plt.figure(figsize=(6,5))\n",
    "    plt.plot(xi, H_theta_p_np, \"-\", label=\"Learned Hamiltonian $H_{\\\\theta}(p_1,0,...)$\")\n",
    "    plt.plot(xi, H_true_p_np, \"--\", label=\"True Hamiltonian $H(p)=1/2||p||_2^2$\")\n",
    "    plt.grid(True)\n",
    "    plt.title(f\"Hamiltonian Comparison - Dim {dim}\")\n",
    "    plt.xlabel('$p_1$')\n",
    "    plt.ylabel('H(p)')\n",
    "    plt.legend()\n",
    "    plt.tight_layout()\n",
    "    plt.show()\n"
   ]
  },
  {
   "cell_type": "code",
   "execution_count": 5,
   "metadata": {},
   "outputs": [],
   "source": []
  },
  {
   "cell_type": "markdown",
   "metadata": {},
   "source": [
    "# --- Generate Training Data"
   ]
  },
  {
   "cell_type": "code",
   "execution_count": 5,
   "metadata": {
    "execution": {
     "iopub.execute_input": "2025-10-29T08:15:26.043468Z",
     "iopub.status.busy": "2025-10-29T08:15:26.043009Z",
     "iopub.status.idle": "2025-10-29T08:15:26.270261Z",
     "shell.execute_reply": "2025-10-29T08:15:26.269770Z"
    }
   },
   "outputs": [
    {
     "name": "stdout",
     "output_type": "stream",
     "text": [
      "--- Generating Training Data for Concave Quadratic Prior ---\n"
     ]
    },
    {
     "name": "stdout",
     "output_type": "stream",
     "text": [
      "Generated training data: y_j_exp_tensor shape torch.Size([20000, 16]), psi_samples_exp_tensor shape torch.Size([20000, 1])\n"
     ]
    }
   ],
   "source": [
    "# --- Generate Training Data for the new experiment ---\n",
    "print(\"--- Generating Training Data for Concave Quadratic Prior ---\")\n",
    "y_j_exp_np = np.random.uniform(-a_exp, a_exp, (data_points_exp, dim_exp))\n",
    "psi_samples_exp_np = cvx_true_concave_quad(y_j_exp_np)\n",
    "psi_samples_exp_np = psi_samples_exp_np.reshape(-1, 1)\n",
    "\n",
    "y_j_exp_tensor = torch.from_numpy(y_j_exp_np).float().to(device)\n",
    "psi_samples_exp_tensor = torch.from_numpy(psi_samples_exp_np).float().to(device)\n",
    "print(f\"Generated training data: y_j_exp_tensor shape {y_j_exp_tensor.shape}, psi_samples_exp_tensor shape {psi_samples_exp_tensor.shape}\")\n",
    "\n",
    "# --- ADD THIS TO MOVE DATA TO GPU ---\n",
    "y_j_exp_tensor = y_j_exp_tensor.to(device)\n",
    "psi_samples_exp_tensor = psi_samples_exp_tensor.to(device)"
   ]
  },
  {
   "cell_type": "markdown",
   "metadata": {},
   "source": [
    "## Training function"
   ]
  },
  {
   "cell_type": "code",
   "execution_count": 6,
   "metadata": {
    "execution": {
     "iopub.execute_input": "2025-10-29T08:15:26.283715Z",
     "iopub.status.busy": "2025-10-29T08:15:26.283496Z",
     "iopub.status.idle": "2025-10-29T08:15:26.287593Z",
     "shell.execute_reply": "2025-10-29T08:15:26.287059Z"
    }
   },
   "outputs": [],
   "source": [
    "def single_iteration(i, data_points, lpn_model, optimizer,input,cvx_samples,loss_type, gamma_loss=None):\n",
    "    # Compute the convex function from the input.\n",
    "    cvx_out = lpn_model.scalar(input)\n",
    "\n",
    "    # Calculate the loss function\n",
    "    if loss_type == 2:\n",
    "        loss = (cvx_out - cvx_samples).pow(2).sum() / data_points # MSE loss\n",
    "    elif loss_type == 1:\n",
    "        loss = (cvx_out - cvx_samples).abs().sum() / data_points    # MAE loss\n",
    "    #elif loss_type == 0:\n",
    "    #    loss = exp_func(cvx_out - cvx_samples, gamma_loss).mean()   # proximal matching loss\n",
    "    else:\n",
    "        raise ValueError(\"loss_type must be 0, 1, or 2\")\n",
    "\n",
    "\n",
    "    optimizer.zero_grad()\n",
    "    loss.backward()\n",
    "    optimizer.step()\n",
    "\n",
    "    lpn_model.wclip()\n",
    "\n",
    "    # monitor\n",
    "    # loss_lstar = exp_func(out - target, 0.1).mean()\n",
    "\n",
    "    if not i % 500:\n",
    "        print(\"iteration\", i, \"loss\", loss.item()) #, \"loss_lstar\", loss_lstar.item())"
   ]
  },
  {
   "cell_type": "markdown",
   "metadata": {},
   "source": [
    "# Train"
   ]
  },
  {
   "cell_type": "markdown",
   "metadata": {},
   "source": [
    "L2 loss -- Train"
   ]
  },
  {
   "cell_type": "code",
   "execution_count": 7,
   "metadata": {
    "execution": {
     "iopub.execute_input": "2025-10-29T08:15:26.289703Z",
     "iopub.status.busy": "2025-10-29T08:15:26.289278Z",
     "iopub.status.idle": "2025-10-29T08:20:26.061761Z",
     "shell.execute_reply": "2025-10-29T08:20:26.061047Z"
    }
   },
   "outputs": [
    {
     "name": "stdout",
     "output_type": "stream",
     "text": [
      "\n",
      "--- Training LPN for Concave Quadratic Prior (Quadratic H) ---\n"
     ]
    },
    {
     "name": "stdout",
     "output_type": "stream",
     "text": [
      "iteration 0 loss 7645.07666015625\n",
      "iteration 0 loss 5707.36865234375\n"
     ]
    },
    {
     "name": "stdout",
     "output_type": "stream",
     "text": [
      "iteration 500 loss 128.32730102539062\n"
     ]
    },
    {
     "name": "stdout",
     "output_type": "stream",
     "text": [
      "iteration 1000 loss 110.5885238647461\n"
     ]
    },
    {
     "name": "stdout",
     "output_type": "stream",
     "text": [
      "iteration 1500 loss 101.64237976074219\n"
     ]
    },
    {
     "name": "stdout",
     "output_type": "stream",
     "text": [
      "iteration 2000 loss 96.7677001953125\n"
     ]
    },
    {
     "name": "stdout",
     "output_type": "stream",
     "text": [
      "iteration 2500 loss 92.6414566040039\n"
     ]
    },
    {
     "name": "stdout",
     "output_type": "stream",
     "text": [
      "iteration 3000 loss 87.91572570800781\n"
     ]
    },
    {
     "name": "stdout",
     "output_type": "stream",
     "text": [
      "iteration 3500 loss 82.17393493652344\n"
     ]
    },
    {
     "name": "stdout",
     "output_type": "stream",
     "text": [
      "iteration 4000 loss 75.14993286132812\n"
     ]
    },
    {
     "name": "stdout",
     "output_type": "stream",
     "text": [
      "iteration 4500 loss 66.37210083007812\n"
     ]
    },
    {
     "name": "stdout",
     "output_type": "stream",
     "text": [
      "iteration 5000 loss 54.87310028076172\n"
     ]
    },
    {
     "name": "stdout",
     "output_type": "stream",
     "text": [
      "iteration 5500 loss 38.33730697631836\n"
     ]
    },
    {
     "name": "stdout",
     "output_type": "stream",
     "text": [
      "iteration 6000 loss 18.961408615112305\n"
     ]
    },
    {
     "name": "stdout",
     "output_type": "stream",
     "text": [
      "iteration 6500 loss 10.821098327636719\n"
     ]
    },
    {
     "name": "stdout",
     "output_type": "stream",
     "text": [
      "iteration 7000 loss 7.642169952392578\n"
     ]
    },
    {
     "name": "stdout",
     "output_type": "stream",
     "text": [
      "iteration 7500 loss 5.953630447387695\n"
     ]
    },
    {
     "name": "stdout",
     "output_type": "stream",
     "text": [
      "iteration 8000 loss 4.914896011352539\n"
     ]
    },
    {
     "name": "stdout",
     "output_type": "stream",
     "text": [
      "iteration 8500 loss 4.172908306121826\n"
     ]
    },
    {
     "name": "stdout",
     "output_type": "stream",
     "text": [
      "iteration 9000 loss 3.5697343349456787\n"
     ]
    },
    {
     "name": "stdout",
     "output_type": "stream",
     "text": [
      "iteration 9500 loss 3.0778424739837646\n"
     ]
    },
    {
     "name": "stdout",
     "output_type": "stream",
     "text": [
      "iteration 10000 loss 2.671436071395874\n"
     ]
    },
    {
     "name": "stdout",
     "output_type": "stream",
     "text": [
      "iteration 10500 loss 2.363746166229248\n"
     ]
    },
    {
     "name": "stdout",
     "output_type": "stream",
     "text": [
      "iteration 11000 loss 2.1233937740325928\n"
     ]
    },
    {
     "name": "stdout",
     "output_type": "stream",
     "text": [
      "iteration 11500 loss 1.9577150344848633\n"
     ]
    },
    {
     "name": "stdout",
     "output_type": "stream",
     "text": [
      "iteration 12000 loss 1.829421043395996\n"
     ]
    },
    {
     "name": "stdout",
     "output_type": "stream",
     "text": [
      "iteration 12500 loss 1.7189345359802246\n"
     ]
    },
    {
     "name": "stdout",
     "output_type": "stream",
     "text": [
      "iteration 13000 loss 1.6274561882019043\n"
     ]
    },
    {
     "name": "stdout",
     "output_type": "stream",
     "text": [
      "iteration 13500 loss 1.5522812604904175\n"
     ]
    },
    {
     "name": "stdout",
     "output_type": "stream",
     "text": [
      "iteration 14000 loss 1.4789198637008667\n"
     ]
    },
    {
     "name": "stdout",
     "output_type": "stream",
     "text": [
      "iteration 14500 loss 1.4318557977676392\n"
     ]
    },
    {
     "name": "stdout",
     "output_type": "stream",
     "text": [
      "iteration 15000 loss 1.3785886764526367\n"
     ]
    },
    {
     "name": "stdout",
     "output_type": "stream",
     "text": [
      "iteration 15500 loss 1.3336679935455322\n"
     ]
    },
    {
     "name": "stdout",
     "output_type": "stream",
     "text": [
      "iteration 16000 loss 1.2988250255584717\n"
     ]
    },
    {
     "name": "stdout",
     "output_type": "stream",
     "text": [
      "iteration 16500 loss 1.258159875869751\n"
     ]
    },
    {
     "name": "stdout",
     "output_type": "stream",
     "text": [
      "iteration 17000 loss 1.224331259727478\n"
     ]
    },
    {
     "name": "stdout",
     "output_type": "stream",
     "text": [
      "iteration 17500 loss 1.1917312145233154\n"
     ]
    },
    {
     "name": "stdout",
     "output_type": "stream",
     "text": [
      "iteration 18000 loss 1.260688066482544\n"
     ]
    },
    {
     "name": "stdout",
     "output_type": "stream",
     "text": [
      "iteration 18500 loss 1.1305710077285767\n"
     ]
    },
    {
     "name": "stdout",
     "output_type": "stream",
     "text": [
      "iteration 19000 loss 1.103493332862854\n"
     ]
    },
    {
     "name": "stdout",
     "output_type": "stream",
     "text": [
      "iteration 19500 loss 1.0730464458465576\n"
     ]
    },
    {
     "name": "stdout",
     "output_type": "stream",
     "text": [
      "iteration 20000 loss 1.0508558750152588\n"
     ]
    },
    {
     "name": "stdout",
     "output_type": "stream",
     "text": [
      "iteration 20500 loss 1.0250626802444458\n"
     ]
    },
    {
     "name": "stdout",
     "output_type": "stream",
     "text": [
      "iteration 21000 loss 1.0052354335784912\n"
     ]
    },
    {
     "name": "stdout",
     "output_type": "stream",
     "text": [
      "iteration 21500 loss 0.9852767586708069\n"
     ]
    },
    {
     "name": "stdout",
     "output_type": "stream",
     "text": [
      "iteration 22000 loss 0.961073637008667\n"
     ]
    },
    {
     "name": "stdout",
     "output_type": "stream",
     "text": [
      "iteration 22500 loss 0.9450104236602783\n"
     ]
    },
    {
     "name": "stdout",
     "output_type": "stream",
     "text": [
      "iteration 23000 loss 0.9268562197685242\n"
     ]
    },
    {
     "name": "stdout",
     "output_type": "stream",
     "text": [
      "iteration 23500 loss 0.9600900411605835\n"
     ]
    },
    {
     "name": "stdout",
     "output_type": "stream",
     "text": [
      "iteration 24000 loss 0.8919212818145752\n"
     ]
    },
    {
     "name": "stdout",
     "output_type": "stream",
     "text": [
      "iteration 24500 loss 0.8757978081703186\n"
     ]
    },
    {
     "name": "stdout",
     "output_type": "stream",
     "text": [
      "iteration 25000 loss 0.8616466522216797\n"
     ]
    },
    {
     "name": "stdout",
     "output_type": "stream",
     "text": [
      "iteration 25500 loss 0.8426029086112976\n"
     ]
    },
    {
     "name": "stdout",
     "output_type": "stream",
     "text": [
      "iteration 26000 loss 0.8263694047927856\n"
     ]
    },
    {
     "name": "stdout",
     "output_type": "stream",
     "text": [
      "iteration 26500 loss 0.8087980151176453\n"
     ]
    },
    {
     "name": "stdout",
     "output_type": "stream",
     "text": [
      "iteration 27000 loss 0.7957849502563477\n"
     ]
    },
    {
     "name": "stdout",
     "output_type": "stream",
     "text": [
      "iteration 27500 loss 0.7792273163795471\n"
     ]
    },
    {
     "name": "stdout",
     "output_type": "stream",
     "text": [
      "iteration 28000 loss 0.7627972364425659\n"
     ]
    },
    {
     "name": "stdout",
     "output_type": "stream",
     "text": [
      "iteration 28500 loss 0.7504118084907532\n"
     ]
    },
    {
     "name": "stdout",
     "output_type": "stream",
     "text": [
      "iteration 29000 loss 0.7373136281967163\n"
     ]
    },
    {
     "name": "stdout",
     "output_type": "stream",
     "text": [
      "iteration 29500 loss 0.7186152935028076\n"
     ]
    },
    {
     "name": "stdout",
     "output_type": "stream",
     "text": [
      "iteration 30000 loss 0.7051905989646912\n"
     ]
    },
    {
     "name": "stdout",
     "output_type": "stream",
     "text": [
      "iteration 30500 loss 0.6883307695388794\n"
     ]
    },
    {
     "name": "stdout",
     "output_type": "stream",
     "text": [
      "iteration 31000 loss 0.6748984456062317\n"
     ]
    },
    {
     "name": "stdout",
     "output_type": "stream",
     "text": [
      "iteration 31500 loss 0.658288836479187\n"
     ]
    },
    {
     "name": "stdout",
     "output_type": "stream",
     "text": [
      "iteration 32000 loss 0.6436313390731812\n"
     ]
    },
    {
     "name": "stdout",
     "output_type": "stream",
     "text": [
      "iteration 32500 loss 0.6284785270690918\n"
     ]
    },
    {
     "name": "stdout",
     "output_type": "stream",
     "text": [
      "iteration 33000 loss 0.6159652471542358\n"
     ]
    },
    {
     "name": "stdout",
     "output_type": "stream",
     "text": [
      "iteration 33500 loss 0.6520907282829285\n"
     ]
    },
    {
     "name": "stdout",
     "output_type": "stream",
     "text": [
      "iteration 34000 loss 0.5875710844993591\n"
     ]
    },
    {
     "name": "stdout",
     "output_type": "stream",
     "text": [
      "iteration 34500 loss 0.5744035840034485\n"
     ]
    },
    {
     "name": "stdout",
     "output_type": "stream",
     "text": [
      "iteration 35000 loss 0.5593999028205872\n"
     ]
    },
    {
     "name": "stdout",
     "output_type": "stream",
     "text": [
      "iteration 35500 loss 0.5457696914672852\n"
     ]
    },
    {
     "name": "stdout",
     "output_type": "stream",
     "text": [
      "iteration 36000 loss 0.5331230759620667\n"
     ]
    },
    {
     "name": "stdout",
     "output_type": "stream",
     "text": [
      "iteration 36500 loss 0.5199674963951111\n"
     ]
    },
    {
     "name": "stdout",
     "output_type": "stream",
     "text": [
      "iteration 37000 loss 0.5101811289787292\n"
     ]
    },
    {
     "name": "stdout",
     "output_type": "stream",
     "text": [
      "iteration 37500 loss 0.49709588289260864\n"
     ]
    },
    {
     "name": "stdout",
     "output_type": "stream",
     "text": [
      "iteration 38000 loss 0.5428388714790344\n"
     ]
    },
    {
     "name": "stdout",
     "output_type": "stream",
     "text": [
      "iteration 38500 loss 0.4744928479194641\n"
     ]
    },
    {
     "name": "stdout",
     "output_type": "stream",
     "text": [
      "iteration 39000 loss 0.46298739314079285\n"
     ]
    },
    {
     "name": "stdout",
     "output_type": "stream",
     "text": [
      "iteration 39500 loss 0.45177996158599854\n"
     ]
    },
    {
     "name": "stdout",
     "output_type": "stream",
     "text": [
      "iteration 40000 loss 0.4415408968925476\n"
     ]
    },
    {
     "name": "stdout",
     "output_type": "stream",
     "text": [
      "iteration 40500 loss 0.4319758713245392\n"
     ]
    },
    {
     "name": "stdout",
     "output_type": "stream",
     "text": [
      "iteration 41000 loss 0.421790212392807\n"
     ]
    },
    {
     "name": "stdout",
     "output_type": "stream",
     "text": [
      "iteration 41500 loss 0.4126495122909546\n"
     ]
    },
    {
     "name": "stdout",
     "output_type": "stream",
     "text": [
      "iteration 42000 loss 0.4030112326145172\n"
     ]
    },
    {
     "name": "stdout",
     "output_type": "stream",
     "text": [
      "iteration 42500 loss 0.39476293325424194\n"
     ]
    },
    {
     "name": "stdout",
     "output_type": "stream",
     "text": [
      "iteration 43000 loss 0.3859575688838959\n"
     ]
    },
    {
     "name": "stdout",
     "output_type": "stream",
     "text": [
      "iteration 43500 loss 0.377387672662735\n"
     ]
    },
    {
     "name": "stdout",
     "output_type": "stream",
     "text": [
      "iteration 44000 loss 0.36917635798454285\n"
     ]
    },
    {
     "name": "stdout",
     "output_type": "stream",
     "text": [
      "iteration 44500 loss 0.3668421804904938\n"
     ]
    },
    {
     "name": "stdout",
     "output_type": "stream",
     "text": [
      "iteration 45000 loss 0.35541293025016785\n"
     ]
    },
    {
     "name": "stdout",
     "output_type": "stream",
     "text": [
      "iteration 45500 loss 0.34670791029930115\n"
     ]
    },
    {
     "name": "stdout",
     "output_type": "stream",
     "text": [
      "iteration 46000 loss 0.3399583697319031\n"
     ]
    },
    {
     "name": "stdout",
     "output_type": "stream",
     "text": [
      "iteration 46500 loss 0.33299002051353455\n"
     ]
    },
    {
     "name": "stdout",
     "output_type": "stream",
     "text": [
      "iteration 47000 loss 0.3265582025051117\n"
     ]
    },
    {
     "name": "stdout",
     "output_type": "stream",
     "text": [
      "iteration 47500 loss 0.32307249307632446\n"
     ]
    },
    {
     "name": "stdout",
     "output_type": "stream",
     "text": [
      "iteration 48000 loss 0.3143622577190399\n"
     ]
    },
    {
     "name": "stdout",
     "output_type": "stream",
     "text": [
      "iteration 48500 loss 0.3085178732872009\n"
     ]
    },
    {
     "name": "stdout",
     "output_type": "stream",
     "text": [
      "iteration 49000 loss 0.30507180094718933\n"
     ]
    },
    {
     "name": "stdout",
     "output_type": "stream",
     "text": [
      "iteration 49500 loss 0.297698438167572\n"
     ]
    },
    {
     "name": "stdout",
     "output_type": "stream",
     "text": [
      "iteration 50000 loss 0.2922368049621582\n"
     ]
    },
    {
     "name": "stdout",
     "output_type": "stream",
     "text": [
      "iteration 50500 loss 0.28700360655784607\n"
     ]
    },
    {
     "name": "stdout",
     "output_type": "stream",
     "text": [
      "iteration 51000 loss 0.2819937467575073\n"
     ]
    },
    {
     "name": "stdout",
     "output_type": "stream",
     "text": [
      "iteration 51500 loss 0.2778862714767456\n"
     ]
    },
    {
     "name": "stdout",
     "output_type": "stream",
     "text": [
      "iteration 52000 loss 0.2730904519557953\n"
     ]
    },
    {
     "name": "stdout",
     "output_type": "stream",
     "text": [
      "iteration 52500 loss 0.27422279119491577\n"
     ]
    },
    {
     "name": "stdout",
     "output_type": "stream",
     "text": [
      "iteration 53000 loss 0.2643076479434967\n"
     ]
    },
    {
     "name": "stdout",
     "output_type": "stream",
     "text": [
      "iteration 53500 loss 0.2601288855075836\n"
     ]
    },
    {
     "name": "stdout",
     "output_type": "stream",
     "text": [
      "iteration 54000 loss 0.25807711482048035\n"
     ]
    },
    {
     "name": "stdout",
     "output_type": "stream",
     "text": [
      "iteration 54500 loss 0.2526353597640991\n"
     ]
    },
    {
     "name": "stdout",
     "output_type": "stream",
     "text": [
      "iteration 55000 loss 0.24965673685073853\n"
     ]
    },
    {
     "name": "stdout",
     "output_type": "stream",
     "text": [
      "iteration 55500 loss 0.24464818835258484\n"
     ]
    },
    {
     "name": "stdout",
     "output_type": "stream",
     "text": [
      "iteration 56000 loss 0.24095754325389862\n"
     ]
    },
    {
     "name": "stdout",
     "output_type": "stream",
     "text": [
      "iteration 56500 loss 0.26127707958221436\n"
     ]
    },
    {
     "name": "stdout",
     "output_type": "stream",
     "text": [
      "iteration 57000 loss 0.2340429127216339\n"
     ]
    },
    {
     "name": "stdout",
     "output_type": "stream",
     "text": [
      "iteration 57500 loss 0.23072020709514618\n"
     ]
    },
    {
     "name": "stdout",
     "output_type": "stream",
     "text": [
      "iteration 58000 loss 0.2307417392730713\n"
     ]
    },
    {
     "name": "stdout",
     "output_type": "stream",
     "text": [
      "iteration 58500 loss 0.2243829071521759\n"
     ]
    },
    {
     "name": "stdout",
     "output_type": "stream",
     "text": [
      "iteration 59000 loss 0.23660072684288025\n"
     ]
    },
    {
     "name": "stdout",
     "output_type": "stream",
     "text": [
      "iteration 59500 loss 0.21851633489131927\n"
     ]
    },
    {
     "name": "stdout",
     "output_type": "stream",
     "text": [
      "iteration 60000 loss 0.22604350745677948\n"
     ]
    },
    {
     "name": "stdout",
     "output_type": "stream",
     "text": [
      "iteration 60500 loss 0.21315595507621765\n"
     ]
    },
    {
     "name": "stdout",
     "output_type": "stream",
     "text": [
      "iteration 61000 loss 0.2107747495174408\n"
     ]
    },
    {
     "name": "stdout",
     "output_type": "stream",
     "text": [
      "iteration 61500 loss 0.20715463161468506\n"
     ]
    },
    {
     "name": "stdout",
     "output_type": "stream",
     "text": [
      "iteration 62000 loss 0.2044987678527832\n"
     ]
    },
    {
     "name": "stdout",
     "output_type": "stream",
     "text": [
      "iteration 62500 loss 0.20266523957252502\n"
     ]
    },
    {
     "name": "stdout",
     "output_type": "stream",
     "text": [
      "iteration 63000 loss 0.19978326559066772\n"
     ]
    },
    {
     "name": "stdout",
     "output_type": "stream",
     "text": [
      "iteration 63500 loss 0.1972815841436386\n"
     ]
    },
    {
     "name": "stdout",
     "output_type": "stream",
     "text": [
      "iteration 64000 loss 0.19981636106967926\n"
     ]
    },
    {
     "name": "stdout",
     "output_type": "stream",
     "text": [
      "iteration 64500 loss 0.19250065088272095\n"
     ]
    },
    {
     "name": "stdout",
     "output_type": "stream",
     "text": [
      "iteration 65000 loss 0.2232801765203476\n"
     ]
    },
    {
     "name": "stdout",
     "output_type": "stream",
     "text": [
      "iteration 65500 loss 0.18792787194252014\n"
     ]
    },
    {
     "name": "stdout",
     "output_type": "stream",
     "text": [
      "iteration 66000 loss 0.18697543442249298\n"
     ]
    },
    {
     "name": "stdout",
     "output_type": "stream",
     "text": [
      "iteration 66500 loss 0.18464307487010956\n"
     ]
    },
    {
     "name": "stdout",
     "output_type": "stream",
     "text": [
      "iteration 67000 loss 0.18438675999641418\n"
     ]
    },
    {
     "name": "stdout",
     "output_type": "stream",
     "text": [
      "iteration 67500 loss 0.17957082390785217\n"
     ]
    },
    {
     "name": "stdout",
     "output_type": "stream",
     "text": [
      "iteration 68000 loss 0.1804179847240448\n"
     ]
    },
    {
     "name": "stdout",
     "output_type": "stream",
     "text": [
      "iteration 68500 loss 0.1756410300731659\n"
     ]
    },
    {
     "name": "stdout",
     "output_type": "stream",
     "text": [
      "iteration 69000 loss 0.17386044561862946\n"
     ]
    },
    {
     "name": "stdout",
     "output_type": "stream",
     "text": [
      "iteration 69500 loss 0.17249388992786407\n"
     ]
    },
    {
     "name": "stdout",
     "output_type": "stream",
     "text": [
      "iteration 70000 loss 0.1704876571893692\n"
     ]
    },
    {
     "name": "stdout",
     "output_type": "stream",
     "text": [
      "iteration 70500 loss 0.17665910720825195\n"
     ]
    },
    {
     "name": "stdout",
     "output_type": "stream",
     "text": [
      "iteration 71000 loss 0.16666282713413239\n"
     ]
    },
    {
     "name": "stdout",
     "output_type": "stream",
     "text": [
      "iteration 71500 loss 0.17125271260738373\n"
     ]
    },
    {
     "name": "stdout",
     "output_type": "stream",
     "text": [
      "iteration 72000 loss 0.1632096916437149\n"
     ]
    },
    {
     "name": "stdout",
     "output_type": "stream",
     "text": [
      "iteration 72500 loss 0.1615970879793167\n"
     ]
    },
    {
     "name": "stdout",
     "output_type": "stream",
     "text": [
      "iteration 73000 loss 0.16139386594295502\n"
     ]
    },
    {
     "name": "stdout",
     "output_type": "stream",
     "text": [
      "iteration 73500 loss 0.15842176973819733\n"
     ]
    },
    {
     "name": "stdout",
     "output_type": "stream",
     "text": [
      "iteration 74000 loss 0.15685509145259857\n"
     ]
    },
    {
     "name": "stdout",
     "output_type": "stream",
     "text": [
      "iteration 74500 loss 0.15541206300258636\n"
     ]
    },
    {
     "name": "stdout",
     "output_type": "stream",
     "text": [
      "iteration 75000 loss 0.15388941764831543\n"
     ]
    },
    {
     "name": "stdout",
     "output_type": "stream",
     "text": [
      "iteration 75500 loss 0.1834123283624649\n"
     ]
    },
    {
     "name": "stdout",
     "output_type": "stream",
     "text": [
      "iteration 76000 loss 0.15101198852062225\n"
     ]
    },
    {
     "name": "stdout",
     "output_type": "stream",
     "text": [
      "iteration 76500 loss 0.1496766060590744\n"
     ]
    },
    {
     "name": "stdout",
     "output_type": "stream",
     "text": [
      "iteration 77000 loss 0.1518469899892807\n"
     ]
    },
    {
     "name": "stdout",
     "output_type": "stream",
     "text": [
      "iteration 77500 loss 0.1469188630580902\n"
     ]
    },
    {
     "name": "stdout",
     "output_type": "stream",
     "text": [
      "iteration 78000 loss 0.1508450210094452\n"
     ]
    },
    {
     "name": "stdout",
     "output_type": "stream",
     "text": [
      "iteration 78500 loss 0.14431534707546234\n"
     ]
    },
    {
     "name": "stdout",
     "output_type": "stream",
     "text": [
      "iteration 79000 loss 0.14305390417575836\n"
     ]
    },
    {
     "name": "stdout",
     "output_type": "stream",
     "text": [
      "iteration 79500 loss 0.1418377161026001\n"
     ]
    },
    {
     "name": "stdout",
     "output_type": "stream",
     "text": [
      "iteration 80000 loss 0.140616774559021\n"
     ]
    },
    {
     "name": "stdout",
     "output_type": "stream",
     "text": [
      "iteration 80500 loss 0.13950268924236298\n"
     ]
    },
    {
     "name": "stdout",
     "output_type": "stream",
     "text": [
      "iteration 81000 loss 0.138363316655159\n"
     ]
    },
    {
     "name": "stdout",
     "output_type": "stream",
     "text": [
      "iteration 81500 loss 0.1371515542268753\n"
     ]
    },
    {
     "name": "stdout",
     "output_type": "stream",
     "text": [
      "iteration 82000 loss 0.13603821396827698\n"
     ]
    },
    {
     "name": "stdout",
     "output_type": "stream",
     "text": [
      "iteration 82500 loss 0.13486601412296295\n"
     ]
    },
    {
     "name": "stdout",
     "output_type": "stream",
     "text": [
      "iteration 83000 loss 0.13392682373523712\n"
     ]
    },
    {
     "name": "stdout",
     "output_type": "stream",
     "text": [
      "iteration 83500 loss 0.13268423080444336\n"
     ]
    },
    {
     "name": "stdout",
     "output_type": "stream",
     "text": [
      "iteration 84000 loss 0.1316443532705307\n"
     ]
    },
    {
     "name": "stdout",
     "output_type": "stream",
     "text": [
      "iteration 84500 loss 0.1306062489748001\n"
     ]
    },
    {
     "name": "stdout",
     "output_type": "stream",
     "text": [
      "iteration 85000 loss 0.1300249546766281\n"
     ]
    },
    {
     "name": "stdout",
     "output_type": "stream",
     "text": [
      "iteration 85500 loss 0.13120615482330322\n"
     ]
    },
    {
     "name": "stdout",
     "output_type": "stream",
     "text": [
      "iteration 86000 loss 0.1300426721572876\n"
     ]
    },
    {
     "name": "stdout",
     "output_type": "stream",
     "text": [
      "iteration 86500 loss 0.12808586657047272\n"
     ]
    },
    {
     "name": "stdout",
     "output_type": "stream",
     "text": [
      "iteration 87000 loss 0.1257123053073883\n"
     ]
    },
    {
     "name": "stdout",
     "output_type": "stream",
     "text": [
      "iteration 87500 loss 0.12485889345407486\n"
     ]
    },
    {
     "name": "stdout",
     "output_type": "stream",
     "text": [
      "iteration 88000 loss 0.12390129268169403\n"
     ]
    },
    {
     "name": "stdout",
     "output_type": "stream",
     "text": [
      "iteration 88500 loss 0.12294577062129974\n"
     ]
    },
    {
     "name": "stdout",
     "output_type": "stream",
     "text": [
      "iteration 89000 loss 0.12220453470945358\n"
     ]
    },
    {
     "name": "stdout",
     "output_type": "stream",
     "text": [
      "iteration 89500 loss 0.1211920902132988\n"
     ]
    },
    {
     "name": "stdout",
     "output_type": "stream",
     "text": [
      "iteration 90000 loss 0.12254401296377182\n"
     ]
    },
    {
     "name": "stdout",
     "output_type": "stream",
     "text": [
      "iteration 90500 loss 0.12518595159053802\n"
     ]
    },
    {
     "name": "stdout",
     "output_type": "stream",
     "text": [
      "iteration 91000 loss 0.11863985657691956\n"
     ]
    },
    {
     "name": "stdout",
     "output_type": "stream",
     "text": [
      "iteration 91500 loss 0.11812310665845871\n"
     ]
    },
    {
     "name": "stdout",
     "output_type": "stream",
     "text": [
      "iteration 92000 loss 0.117180235683918\n"
     ]
    },
    {
     "name": "stdout",
     "output_type": "stream",
     "text": [
      "iteration 92500 loss 0.11902699619531631\n"
     ]
    },
    {
     "name": "stdout",
     "output_type": "stream",
     "text": [
      "iteration 93000 loss 0.11538247019052505\n"
     ]
    },
    {
     "name": "stdout",
     "output_type": "stream",
     "text": [
      "iteration 93500 loss 0.11460893601179123\n"
     ]
    },
    {
     "name": "stdout",
     "output_type": "stream",
     "text": [
      "iteration 94000 loss 0.11384500563144684\n"
     ]
    },
    {
     "name": "stdout",
     "output_type": "stream",
     "text": [
      "iteration 94500 loss 0.11717937886714935\n"
     ]
    },
    {
     "name": "stdout",
     "output_type": "stream",
     "text": [
      "iteration 95000 loss 0.12672796845436096\n"
     ]
    },
    {
     "name": "stdout",
     "output_type": "stream",
     "text": [
      "iteration 95500 loss 0.1140614002943039\n"
     ]
    },
    {
     "name": "stdout",
     "output_type": "stream",
     "text": [
      "iteration 96000 loss 0.11107446998357773\n"
     ]
    },
    {
     "name": "stdout",
     "output_type": "stream",
     "text": [
      "iteration 96500 loss 0.11102741211652756\n"
     ]
    },
    {
     "name": "stdout",
     "output_type": "stream",
     "text": [
      "iteration 97000 loss 0.14296197891235352\n"
     ]
    },
    {
     "name": "stdout",
     "output_type": "stream",
     "text": [
      "iteration 97500 loss 0.10909382253885269\n"
     ]
    },
    {
     "name": "stdout",
     "output_type": "stream",
     "text": [
      "iteration 98000 loss 0.10853908210992813\n"
     ]
    },
    {
     "name": "stdout",
     "output_type": "stream",
     "text": [
      "iteration 98500 loss 0.10734342038631439\n"
     ]
    },
    {
     "name": "stdout",
     "output_type": "stream",
     "text": [
      "iteration 99000 loss 0.1184677705168724\n"
     ]
    },
    {
     "name": "stdout",
     "output_type": "stream",
     "text": [
      "iteration 99500 loss 0.1137576624751091\n"
     ]
    }
   ],
   "source": [
    "\n",
    "# --- Train and Plot with L2 Loss for the new experiment ---\n",
    "print(\"\\n--- Training LPN for Concave Quadratic Prior (Quadratic H) ---\")\n",
    "lpn_model_concave_quad_l2 = LPN(in_dim=dim_exp, hidden=hidden, layers=layers, beta=beta,eps=1e-3).to(device)\n",
    "optimizer_concave_quad = torch.optim.Adam(lpn_model_concave_quad_l2.parameters(), lr=1e-4)\n",
    "\n",
    "# Initial shorter training phase with a higher learning rate\n",
    "for i in range(1):\n",
    "     single_iteration(i, data_points_exp, lpn_model_concave_quad_l2, optimizer_concave_quad, y_j_exp_tensor, psi_samples_exp_tensor, loss_type=2, gamma_loss=None)\n",
    "\n",
    "# Longer training phase with a reduced learning rate\n",
    "for g in optimizer_concave_quad.param_groups:\n",
    "    g[\"lr\"] = 1e-4\n",
    "for i in range(iterations_exp_long):\n",
    "    single_iteration(i, data_points_exp, lpn_model_concave_quad_l2, optimizer_concave_quad, y_j_exp_tensor, psi_samples_exp_tensor, loss_type=2, gamma_loss=None)\n",
    "\n",
    "torch.save(lpn_model_concave_quad_l2.state_dict(), os.path.join(MODEL_DIR, \"ConcaveQuadraticH_l2.pth\"))\n"
   ]
  },
  {
   "cell_type": "markdown",
   "metadata": {},
   "source": [
    "L2 loss -- Plot"
   ]
  },
  {
   "cell_type": "code",
   "execution_count": 8,
   "metadata": {
    "execution": {
     "iopub.execute_input": "2025-10-29T08:20:26.064655Z",
     "iopub.status.busy": "2025-10-29T08:20:26.063950Z",
     "iopub.status.idle": "2025-10-29T08:22:23.457594Z",
     "shell.execute_reply": "2025-10-29T08:22:23.457040Z"
    }
   },
   "outputs": [
    {
     "name": "stdout",
     "output_type": "stream",
     "text": [
      "\n",
      "--- Plotting Cross Sections for Quadratic H, Quadratic concave Prior (Dim=16) ---\n",
      "loss -0.43315589427948\n"
     ]
    },
    {
     "name": "stdout",
     "output_type": "stream",
     "text": [
      "loss -44.83955764770508\n"
     ]
    },
    {
     "name": "stdout",
     "output_type": "stream",
     "text": [
      "loss -65.17288970947266\n"
     ]
    },
    {
     "name": "stdout",
     "output_type": "stream",
     "text": [
      "loss -74.32701110839844\n"
     ]
    },
    {
     "name": "stdout",
     "output_type": "stream",
     "text": [
      "loss -77.8796157836914\n"
     ]
    },
    {
     "name": "stdout",
     "output_type": "stream",
     "text": [
      "loss -79.07450103759766\n"
     ]
    },
    {
     "name": "stdout",
     "output_type": "stream",
     "text": [
      "loss -79.40825653076172\n"
     ]
    },
    {
     "name": "stdout",
     "output_type": "stream",
     "text": [
      "loss -79.47947692871094\n"
     ]
    },
    {
     "name": "stdout",
     "output_type": "stream",
     "text": [
      "loss -79.48990631103516\n"
     ]
    },
    {
     "name": "stdout",
     "output_type": "stream",
     "text": [
      "loss -79.49083709716797\n"
     ]
    },
    {
     "name": "stdout",
     "output_type": "stream",
     "text": [
      "loss -79.4908676147461\n"
     ]
    },
    {
     "name": "stdout",
     "output_type": "stream",
     "text": [
      "loss -79.4908676147461\n"
     ]
    },
    {
     "name": "stdout",
     "output_type": "stream",
     "text": [
      "loss -79.4908676147461\n"
     ]
    },
    {
     "name": "stdout",
     "output_type": "stream",
     "text": [
      "loss -79.49087524414062\n"
     ]
    },
    {
     "name": "stdout",
     "output_type": "stream",
     "text": [
      "loss -79.4908676147461\n"
     ]
    },
    {
     "name": "stdout",
     "output_type": "stream",
     "text": [
      "loss -79.49085998535156\n"
     ]
    },
    {
     "name": "stdout",
     "output_type": "stream",
     "text": [
      "loss -79.4908676147461\n"
     ]
    },
    {
     "name": "stdout",
     "output_type": "stream",
     "text": [
      "loss -79.4908676147461\n"
     ]
    },
    {
     "name": "stdout",
     "output_type": "stream",
     "text": [
      "loss -79.4908676147461\n"
     ]
    },
    {
     "name": "stdout",
     "output_type": "stream",
     "text": [
      "loss -79.49087524414062\n"
     ]
    },
    {
     "name": "stdout",
     "output_type": "stream",
     "text": [
      "loss -79.4908676147461\n"
     ]
    },
    {
     "name": "stdout",
     "output_type": "stream",
     "text": [
      "loss -79.4908676147461\n"
     ]
    },
    {
     "name": "stdout",
     "output_type": "stream",
     "text": [
      "loss -79.4908676147461\n"
     ]
    },
    {
     "name": "stdout",
     "output_type": "stream",
     "text": [
      "loss -79.49087524414062\n"
     ]
    },
    {
     "name": "stdout",
     "output_type": "stream",
     "text": [
      "loss -79.49087524414062\n"
     ]
    },
    {
     "name": "stdout",
     "output_type": "stream",
     "text": [
      "loss -79.4908676147461\n"
     ]
    },
    {
     "name": "stdout",
     "output_type": "stream",
     "text": [
      "loss -79.4908676147461\n"
     ]
    },
    {
     "name": "stdout",
     "output_type": "stream",
     "text": [
      "loss -79.49085235595703\n"
     ]
    },
    {
     "name": "stdout",
     "output_type": "stream",
     "text": [
      "loss -79.49087524414062\n"
     ]
    },
    {
     "name": "stdout",
     "output_type": "stream",
     "text": [
      "loss -79.4908676147461\n"
     ]
    },
    {
     "name": "stdout",
     "output_type": "stream",
     "text": [
      "loss -79.4908676147461\n"
     ]
    },
    {
     "name": "stdout",
     "output_type": "stream",
     "text": [
      "loss -79.4908676147461\n"
     ]
    },
    {
     "name": "stdout",
     "output_type": "stream",
     "text": [
      "loss -79.49087524414062\n"
     ]
    },
    {
     "name": "stdout",
     "output_type": "stream",
     "text": [
      "loss -79.49087524414062\n"
     ]
    },
    {
     "name": "stdout",
     "output_type": "stream",
     "text": [
      "loss -79.49087524414062\n"
     ]
    },
    {
     "name": "stdout",
     "output_type": "stream",
     "text": [
      "loss -79.49087524414062\n"
     ]
    },
    {
     "name": "stdout",
     "output_type": "stream",
     "text": [
      "loss -79.4908676147461\n"
     ]
    },
    {
     "name": "stdout",
     "output_type": "stream",
     "text": [
      "loss -79.4908676147461\n"
     ]
    },
    {
     "name": "stdout",
     "output_type": "stream",
     "text": [
      "loss -79.4908676147461\n"
     ]
    },
    {
     "name": "stdout",
     "output_type": "stream",
     "text": [
      "loss -79.4908676147461\n"
     ]
    },
    {
     "name": "stdout",
     "output_type": "stream",
     "text": [
      "final mse:  5.140296632788477e-09\n",
      "max, min: 2.0230203 -1.931916\n",
      "loss -0.43315589427948\n"
     ]
    },
    {
     "name": "stdout",
     "output_type": "stream",
     "text": [
      "loss -45.408836364746094\n"
     ]
    },
    {
     "name": "stdout",
     "output_type": "stream",
     "text": [
      "loss -67.033447265625\n"
     ]
    },
    {
     "name": "stdout",
     "output_type": "stream",
     "text": [
      "loss -76.69332122802734\n"
     ]
    },
    {
     "name": "stdout",
     "output_type": "stream",
     "text": [
      "loss -80.21735382080078\n"
     ]
    },
    {
     "name": "stdout",
     "output_type": "stream",
     "text": [
      "loss -81.28191375732422\n"
     ]
    },
    {
     "name": "stdout",
     "output_type": "stream",
     "text": [
      "loss -81.53668212890625\n"
     ]
    },
    {
     "name": "stdout",
     "output_type": "stream",
     "text": [
      "loss -81.58126831054688\n"
     ]
    },
    {
     "name": "stdout",
     "output_type": "stream",
     "text": [
      "loss -81.58639526367188\n"
     ]
    },
    {
     "name": "stdout",
     "output_type": "stream",
     "text": [
      "loss -81.58673095703125\n"
     ]
    },
    {
     "name": "stdout",
     "output_type": "stream",
     "text": [
      "loss -81.58673095703125\n"
     ]
    },
    {
     "name": "stdout",
     "output_type": "stream",
     "text": [
      "loss -81.58673095703125\n"
     ]
    },
    {
     "name": "stdout",
     "output_type": "stream",
     "text": [
      "loss -81.58673858642578\n"
     ]
    },
    {
     "name": "stdout",
     "output_type": "stream",
     "text": [
      "loss -81.58674621582031\n"
     ]
    },
    {
     "name": "stdout",
     "output_type": "stream",
     "text": [
      "loss -81.58673858642578\n"
     ]
    },
    {
     "name": "stdout",
     "output_type": "stream",
     "text": [
      "loss -81.58674621582031\n"
     ]
    },
    {
     "name": "stdout",
     "output_type": "stream",
     "text": [
      "loss -81.58674621582031\n"
     ]
    },
    {
     "name": "stdout",
     "output_type": "stream",
     "text": [
      "loss -81.58673095703125\n"
     ]
    },
    {
     "name": "stdout",
     "output_type": "stream",
     "text": [
      "loss -81.58673095703125\n"
     ]
    },
    {
     "name": "stdout",
     "output_type": "stream",
     "text": [
      "loss -81.58673095703125\n"
     ]
    },
    {
     "name": "stdout",
     "output_type": "stream",
     "text": [
      "loss -81.58673858642578\n"
     ]
    },
    {
     "name": "stdout",
     "output_type": "stream",
     "text": [
      "loss -81.58673858642578\n"
     ]
    },
    {
     "name": "stdout",
     "output_type": "stream",
     "text": [
      "loss -81.58674621582031\n"
     ]
    },
    {
     "name": "stdout",
     "output_type": "stream",
     "text": [
      "loss -81.58673858642578\n"
     ]
    },
    {
     "name": "stdout",
     "output_type": "stream",
     "text": [
      "loss -81.58673095703125\n"
     ]
    },
    {
     "name": "stdout",
     "output_type": "stream",
     "text": [
      "loss -81.58673858642578\n"
     ]
    },
    {
     "name": "stdout",
     "output_type": "stream",
     "text": [
      "loss -81.58673858642578\n"
     ]
    },
    {
     "name": "stdout",
     "output_type": "stream",
     "text": [
      "loss -81.58674621582031\n"
     ]
    },
    {
     "name": "stdout",
     "output_type": "stream",
     "text": [
      "loss -81.58674621582031\n"
     ]
    },
    {
     "name": "stdout",
     "output_type": "stream",
     "text": [
      "loss -81.58673095703125\n"
     ]
    },
    {
     "name": "stdout",
     "output_type": "stream",
     "text": [
      "loss -81.58673095703125\n"
     ]
    },
    {
     "name": "stdout",
     "output_type": "stream",
     "text": [
      "loss -81.58673858642578\n"
     ]
    },
    {
     "name": "stdout",
     "output_type": "stream",
     "text": [
      "loss -81.58673858642578\n"
     ]
    },
    {
     "name": "stdout",
     "output_type": "stream",
     "text": [
      "loss -81.58674621582031\n"
     ]
    },
    {
     "name": "stdout",
     "output_type": "stream",
     "text": [
      "loss -81.58673858642578\n"
     ]
    },
    {
     "name": "stdout",
     "output_type": "stream",
     "text": [
      "loss -81.58673858642578\n"
     ]
    },
    {
     "name": "stdout",
     "output_type": "stream",
     "text": [
      "loss -81.58674621582031\n"
     ]
    },
    {
     "name": "stdout",
     "output_type": "stream",
     "text": [
      "loss -81.58673095703125\n"
     ]
    },
    {
     "name": "stdout",
     "output_type": "stream",
     "text": [
      "loss -81.58673095703125\n"
     ]
    },
    {
     "name": "stdout",
     "output_type": "stream",
     "text": [
      "loss -81.58673858642578\n"
     ]
    },
    {
     "name": "stdout",
     "output_type": "stream",
     "text": [
      "final mse:  4.357932237297746e-09\n",
      "max, min: 1.7593399 -2.035637\n"
     ]
    },
    {
     "data": {
      "image/png": "[encoded data removed]",
      "text/plain": [
       "<Figure size 1200x500 with 2 Axes>"
      ]
     },
     "metadata": {},
     "output_type": "display_data"
    },
    {
     "data": {
      "image/png": "[encoded data removed]",
      "text/plain": [
       "<Figure size 1200x500 with 2 Axes>"
      ]
     },
     "metadata": {},
     "output_type": "display_data"
    },
    {
     "data": {
      "image/png": "[encoded data removed]",
      "text/plain": [
       "<Figure size 600x500 with 1 Axes>"
      ]
     },
     "metadata": {},
     "output_type": "display_data"
    }
   ],
   "source": [
    "#print(\"\\n--- Plotting Cross Sections for Quadratic H, Concave Quad Prior (Dim=4) ---\")\n",
    "plot_all_concave_quad(lpn_model_concave_quad_l2, a_exp, spacing, INVERT_MODE, dim_exp)\n",
    "\n",
    "#print(\"\\n--- Plotting Learned Hamiltonian for Quadratic H, Concave Quad Prior ---\")\n",
    "evaluate_learned_H(lpn_model_concave_quad_l2, a_exp, spacing, dim_exp)"
   ]
  },
  {
   "cell_type": "code",
   "execution_count": 9,
   "metadata": {
    "execution": {
     "iopub.execute_input": "2025-10-29T08:22:23.460218Z",
     "iopub.status.busy": "2025-10-29T08:22:23.459941Z",
     "iopub.status.idle": "2025-10-29T08:22:24.472158Z",
     "shell.execute_reply": "2025-10-29T08:22:24.471609Z"
    }
   },
   "outputs": [
    {
     "name": "stdout",
     "output_type": "stream",
     "text": [
      "Generated G samples: G_samples_tensor shape torch.Size([20000, 1])\n",
      "\n",
      "--- Plotting Updated Prior j_hat(y) (Dim=16) ---\n"
     ]
    },
    {
     "data": {
      "image/png": "[encoded data removed]",
      "text/plain": [
       "<Figure size 1200x500 with 2 Axes>"
      ]
     },
     "metadata": {},
     "output_type": "display_data"
    }
   ],
   "source": [
    "# --- Generate New Training Data for the Second LPN G(x) ---\n",
    "# We use the same x_j_exp_tensor as the first LPN's training data for x_k\n",
    "x_k_tensor = y_j_exp_tensor.clone().to(device)\n",
    "x_k_tensor.requires_grad_(True)\n",
    "\n",
    "# 1. Compute the gradient y_k = grad_x psi_theta(x_k, t=1)\n",
    "# Get psi(x_k)\n",
    "psi_x_k = lpn_model_concave_quad_l2.scalar(x_k_tensor)\n",
    "\n",
    "# Get gradient y_k = grad_psi(x_k)\n",
    "y_k_tensor = lpn_model_concave_quad_l2(x_k_tensor)\n",
    "\n",
    "# 2. Evaluate the \"new\" samples G_k = <y_k, x_k> - psi_theta(x_k, 1) (from eq 26)\n",
    "inner_prod_yk_xk = torch.sum(y_k_tensor * x_k_tensor, dim=1, keepdim=True)\n",
    "G_samples_tensor_with_graph = inner_prod_yk_xk - psi_x_k\n",
    "\n",
    "# Detach the tensor to treat G_k as fixed targets, breaking the connection\n",
    "# to the first LPN's graph and preventing the RuntimeError during training.\n",
    "G_samples_tensor = G_samples_tensor_with_graph.detach().to(device) \n",
    "\n",
    "# The input tensor x_k_tensor is still needed for the second LPN training,\n",
    "# but it should also not require a gradient for that training.\n",
    "x_k_tensor = x_k_tensor.detach()\n",
    "x_k_tensor.requires_grad_(False) \n",
    "y_k_tensor = y_k_tensor.detach()\n",
    "y_k_tensor.requires_grad_(False)\n",
    "# G_samples_tensor now holds the target values G_k\n",
    "print(f\"Generated G samples: G_samples_tensor shape {G_samples_tensor.shape}\")\n",
    "\n",
    "\n",
    "def evaluate_updated_prior_J_hat(y_points, model, x_k_np):\n",
    "    \"\"\"\n",
    "    Implements the approximate prior.\n",
    "    \"\"\"\n",
    "    \n",
    "    # Pre-compute y_k = grad psi(x_k) from the training data\n",
    "    x_k_tensor = torch.from_numpy(x_k_np).float().to(device)\n",
    "    y_k_tensor = model(x_k_tensor)\n",
    "    y_k_np = y_k_tensor.detach().cpu().numpy()\n",
    "    \n",
    "    # Compute S(x_k, 1) = psi(x_k, t=1) from the LPN\n",
    "    S_x_k = model.scalar(x_k_tensor)  # Shape (K, 1)\n",
    "    S_x_k_np = S_x_k.detach().cpu().numpy().flatten()  # Shape (K,)\n",
    "    \n",
    "    # The constant term simplifies to just S(x_k, 1)\n",
    "    # Because: J_tilde(y_k) + 1/2||x_k - y_k||^2 \n",
    "    #        = [S(x_k,1) - 1/2||x_k - y_k||^2] + 1/2||x_k - y_k||^2 \n",
    "    #        = S(x_k, 1)\n",
    "    constants_k = S_x_k_np  # Shape (K,)\n",
    "    \n",
    "    # Term 3: -1/2 * ||x_k - y||^2\n",
    "    # Broadcasting: x_k_np (K, 1, dim), y_points (1, N, dim) -> (K, N)\n",
    "    term3 = -0.5 * np.sum((x_k_np[:, np.newaxis, :] - y_points[np.newaxis, :, :])**2, axis=2)\n",
    "    \n",
    "    # Term 4: 1/4 * ||y - y_k||^2\n",
    "    # Broadcasting: y_points (1, N, dim), y_k_np (K, 1, dim) -> (K, N)\n",
    "    term4 = 0.25 * np.sum((y_points[np.newaxis, :, :] - y_k_np[:, np.newaxis, :])**2, axis=2)\n",
    "\n",
    "    term5 = 0.5 * np.sum((x_k_np[:, np.newaxis, :])**2, axis=2)\n",
    "    all_terms = term5 - constants_k[:, np.newaxis] + term3 \n",
    "    \n",
    "    # # Combine all terms: constants_k (K, 1) + term3 (K, N) + term4 (K, N)\n",
    "    # all_terms = constants_k[:, np.newaxis] + term3 + term4\n",
    "    \n",
    "    # Take the max over K dimension\n",
    "    j_hat_est = np.max(all_terms, axis=0)\n",
    "    \n",
    "    return j_hat_est\n",
    "\n",
    "def plot_updated_prior_J_hat(model, a, spacing, dim, x_k_np):\n",
    "    \"\"\"\n",
    "    Generates cross-section plots for the prior j_hat(y) from the \"Update\".\n",
    "    \"\"\"\n",
    "    print(f\"\\n--- Plotting Updated Prior j_hat(y) (Dim={dim}) ---\")\n",
    "    xi, y1_0_points, y2_0_points = compute_square_cross_sections(a, spacing, dim)\n",
    "\n",
    "    # Compute true prior J(y)\n",
    "    y1_0_J_true = prior_true_concave_quad(y1_0_points)\n",
    "    \n",
    "    # Compute estimated prior j_hat(y)\n",
    "    y1_0_J_hat_est = evaluate_updated_prior_J_hat(y1_0_points, model, x_k_np)\n",
    "\n",
    "    plt.figure(figsize=(12, 5))\n",
    "    \n",
    "    plt.subplot(1, 2, 1)\n",
    "    plt.plot(xi, y1_0_J_hat_est, \"-\", label=\"Approximate Prior $\\\\hat{J}(y)$\")\n",
    "    plt.plot(xi, y1_0_J_true, \"--\", label=\"True Prior $J(y)=-1/4||y||_2^2$\")\n",
    "    plt.grid(True)\n",
    "    plt.title(f\"Updated Prior $\\\\hat{{J}}(y_1,0,...)$ - Dim {dim}\")\n",
    "    plt.xlabel('$y_1$')\n",
    "    plt.ylabel('Prior Value')\n",
    "    plt.legend()\n",
    "\n",
    "    if dim > 1:\n",
    "        y2_0_J_true = prior_true_concave_quad(y2_0_points)\n",
    "        y2_0_J_hat_est = evaluate_updated_prior_J_hat(y2_0_points, model, x_k_np)\n",
    "        \n",
    "        plt.subplot(1, 2, 2)\n",
    "        plt.plot(xi, y2_0_J_hat_est, \"-\", label=\"Approximate Prior $\\\\hat{J}(y)$\")\n",
    "        plt.plot(xi, y2_0_J_true, \"--\", label=\"True Prior $J(y)=-1/4||y||_2^2$\")\n",
    "        plt.grid(True)\n",
    "        plt.title(f\"Updated Prior $\\\\hat{{J}}(0,y_2,0,...)$ - Dim {dim}\")\n",
    "        plt.xlabel('$y_2$')\n",
    "        plt.ylabel('Prior Value')\n",
    "        plt.legend()\n",
    "        \n",
    "    plt.tight_layout()\n",
    "    plt.show()\n",
    "\n",
    "\n",
    "# We use the original training data 'x_j_exp_np' as our set of x_k points.\n",
    "#subset_size = 1000 \n",
    "x_k_subset_np = y_j_exp_np#[:subset_size, :]\n",
    "\n",
    "plot_updated_prior_J_hat(lpn_model_concave_quad_l2, a_exp, spacing, dim_exp, x_k_subset_np)\n"
   ]
  },
  {
   "cell_type": "code",
   "execution_count": 10,
   "metadata": {
    "execution": {
     "iopub.execute_input": "2025-10-29T08:22:24.474147Z",
     "iopub.status.busy": "2025-10-29T08:22:24.473889Z",
     "iopub.status.idle": "2025-10-29T08:27:16.146476Z",
     "shell.execute_reply": "2025-10-29T08:27:16.145947Z"
    }
   },
   "outputs": [
    {
     "name": "stdout",
     "output_type": "stream",
     "text": [
      "\n",
      "--- Training Second LPN G(x) for Concave Quadratic Prior ---\n",
      "iteration 0 loss 7894.66064453125\n",
      "iteration 0 loss 4907.2978515625\n"
     ]
    },
    {
     "name": "stdout",
     "output_type": "stream",
     "text": [
      "iteration 500 loss 128.81121826171875\n"
     ]
    },
    {
     "name": "stdout",
     "output_type": "stream",
     "text": [
      "iteration 1000 loss 109.77561950683594\n"
     ]
    },
    {
     "name": "stdout",
     "output_type": "stream",
     "text": [
      "iteration 1500 loss 101.16864776611328\n"
     ]
    },
    {
     "name": "stdout",
     "output_type": "stream",
     "text": [
      "iteration 2000 loss 96.79100036621094\n"
     ]
    },
    {
     "name": "stdout",
     "output_type": "stream",
     "text": [
      "iteration 2500 loss 93.16796112060547\n"
     ]
    },
    {
     "name": "stdout",
     "output_type": "stream",
     "text": [
      "iteration 3000 loss 89.13005828857422\n"
     ]
    },
    {
     "name": "stdout",
     "output_type": "stream",
     "text": [
      "iteration 3500 loss 84.35514831542969\n"
     ]
    },
    {
     "name": "stdout",
     "output_type": "stream",
     "text": [
      "iteration 4000 loss 78.75003814697266\n"
     ]
    },
    {
     "name": "stdout",
     "output_type": "stream",
     "text": [
      "iteration 4500 loss 72.07740020751953\n"
     ]
    },
    {
     "name": "stdout",
     "output_type": "stream",
     "text": [
      "iteration 5000 loss 63.55472183227539\n"
     ]
    },
    {
     "name": "stdout",
     "output_type": "stream",
     "text": [
      "iteration 5500 loss 51.19792556762695\n"
     ]
    },
    {
     "name": "stdout",
     "output_type": "stream",
     "text": [
      "iteration 6000 loss 30.226192474365234\n"
     ]
    },
    {
     "name": "stdout",
     "output_type": "stream",
     "text": [
      "iteration 6500 loss 11.71134090423584\n"
     ]
    },
    {
     "name": "stdout",
     "output_type": "stream",
     "text": [
      "iteration 7000 loss 7.279398441314697\n"
     ]
    },
    {
     "name": "stdout",
     "output_type": "stream",
     "text": [
      "iteration 7500 loss 5.334988117218018\n"
     ]
    },
    {
     "name": "stdout",
     "output_type": "stream",
     "text": [
      "iteration 8000 loss 4.227494239807129\n"
     ]
    },
    {
     "name": "stdout",
     "output_type": "stream",
     "text": [
      "iteration 8500 loss 3.537315845489502\n"
     ]
    },
    {
     "name": "stdout",
     "output_type": "stream",
     "text": [
      "iteration 9000 loss 3.0277669429779053\n"
     ]
    },
    {
     "name": "stdout",
     "output_type": "stream",
     "text": [
      "iteration 9500 loss 2.6574416160583496\n"
     ]
    },
    {
     "name": "stdout",
     "output_type": "stream",
     "text": [
      "iteration 10000 loss 2.3977787494659424\n"
     ]
    },
    {
     "name": "stdout",
     "output_type": "stream",
     "text": [
      "iteration 10500 loss 2.2109785079956055\n"
     ]
    },
    {
     "name": "stdout",
     "output_type": "stream",
     "text": [
      "iteration 11000 loss 2.053675651550293\n"
     ]
    },
    {
     "name": "stdout",
     "output_type": "stream",
     "text": [
      "iteration 11500 loss 1.9512206315994263\n"
     ]
    },
    {
     "name": "stdout",
     "output_type": "stream",
     "text": [
      "iteration 12000 loss 1.8474311828613281\n"
     ]
    },
    {
     "name": "stdout",
     "output_type": "stream",
     "text": [
      "iteration 12500 loss 1.774616003036499\n"
     ]
    },
    {
     "name": "stdout",
     "output_type": "stream",
     "text": [
      "iteration 13000 loss 1.7119343280792236\n"
     ]
    },
    {
     "name": "stdout",
     "output_type": "stream",
     "text": [
      "iteration 13500 loss 1.6459318399429321\n"
     ]
    },
    {
     "name": "stdout",
     "output_type": "stream",
     "text": [
      "iteration 14000 loss 1.604163646697998\n"
     ]
    },
    {
     "name": "stdout",
     "output_type": "stream",
     "text": [
      "iteration 14500 loss 1.5663032531738281\n"
     ]
    },
    {
     "name": "stdout",
     "output_type": "stream",
     "text": [
      "iteration 15000 loss 1.525831937789917\n"
     ]
    },
    {
     "name": "stdout",
     "output_type": "stream",
     "text": [
      "iteration 15500 loss 1.4968931674957275\n"
     ]
    },
    {
     "name": "stdout",
     "output_type": "stream",
     "text": [
      "iteration 16000 loss 1.4713655710220337\n"
     ]
    },
    {
     "name": "stdout",
     "output_type": "stream",
     "text": [
      "iteration 16500 loss 1.4413729906082153\n"
     ]
    },
    {
     "name": "stdout",
     "output_type": "stream",
     "text": [
      "iteration 17000 loss 1.418242335319519\n"
     ]
    },
    {
     "name": "stdout",
     "output_type": "stream",
     "text": [
      "iteration 17500 loss 1.3982722759246826\n"
     ]
    },
    {
     "name": "stdout",
     "output_type": "stream",
     "text": [
      "iteration 18000 loss 1.3744488954544067\n"
     ]
    },
    {
     "name": "stdout",
     "output_type": "stream",
     "text": [
      "iteration 18500 loss 1.3521536588668823\n"
     ]
    },
    {
     "name": "stdout",
     "output_type": "stream",
     "text": [
      "iteration 19000 loss 1.3346612453460693\n"
     ]
    },
    {
     "name": "stdout",
     "output_type": "stream",
     "text": [
      "iteration 19500 loss 1.3137081861495972\n"
     ]
    },
    {
     "name": "stdout",
     "output_type": "stream",
     "text": [
      "iteration 20000 loss 1.2938777208328247\n"
     ]
    },
    {
     "name": "stdout",
     "output_type": "stream",
     "text": [
      "iteration 20500 loss 1.2807791233062744\n"
     ]
    },
    {
     "name": "stdout",
     "output_type": "stream",
     "text": [
      "iteration 21000 loss 1.264416217803955\n"
     ]
    },
    {
     "name": "stdout",
     "output_type": "stream",
     "text": [
      "iteration 21500 loss 1.2458246946334839\n"
     ]
    },
    {
     "name": "stdout",
     "output_type": "stream",
     "text": [
      "iteration 22000 loss 1.2307451963424683\n"
     ]
    },
    {
     "name": "stdout",
     "output_type": "stream",
     "text": [
      "iteration 22500 loss 1.2186137437820435\n"
     ]
    },
    {
     "name": "stdout",
     "output_type": "stream",
     "text": [
      "iteration 23000 loss 1.2041298151016235\n"
     ]
    },
    {
     "name": "stdout",
     "output_type": "stream",
     "text": [
      "iteration 23500 loss 1.1875134706497192\n"
     ]
    },
    {
     "name": "stdout",
     "output_type": "stream",
     "text": [
      "iteration 24000 loss 1.178399920463562\n"
     ]
    },
    {
     "name": "stdout",
     "output_type": "stream",
     "text": [
      "iteration 24500 loss 1.168152093887329\n"
     ]
    },
    {
     "name": "stdout",
     "output_type": "stream",
     "text": [
      "iteration 25000 loss 1.156095266342163\n"
     ]
    },
    {
     "name": "stdout",
     "output_type": "stream",
     "text": [
      "iteration 25500 loss 1.142365574836731\n"
     ]
    },
    {
     "name": "stdout",
     "output_type": "stream",
     "text": [
      "iteration 26000 loss 1.1350749731063843\n"
     ]
    },
    {
     "name": "stdout",
     "output_type": "stream",
     "text": [
      "iteration 26500 loss 1.1261447668075562\n"
     ]
    },
    {
     "name": "stdout",
     "output_type": "stream",
     "text": [
      "iteration 27000 loss 1.1155540943145752\n"
     ]
    },
    {
     "name": "stdout",
     "output_type": "stream",
     "text": [
      "iteration 27500 loss 1.106058120727539\n"
     ]
    },
    {
     "name": "stdout",
     "output_type": "stream",
     "text": [
      "iteration 28000 loss 1.0997223854064941\n"
     ]
    },
    {
     "name": "stdout",
     "output_type": "stream",
     "text": [
      "iteration 28500 loss 1.0918920040130615\n"
     ]
    },
    {
     "name": "stdout",
     "output_type": "stream",
     "text": [
      "iteration 29000 loss 1.0823179483413696\n"
     ]
    },
    {
     "name": "stdout",
     "output_type": "stream",
     "text": [
      "iteration 29500 loss 1.0732474327087402\n"
     ]
    },
    {
     "name": "stdout",
     "output_type": "stream",
     "text": [
      "iteration 30000 loss 1.0683292150497437\n"
     ]
    },
    {
     "name": "stdout",
     "output_type": "stream",
     "text": [
      "iteration 30500 loss 1.0622206926345825\n"
     ]
    },
    {
     "name": "stdout",
     "output_type": "stream",
     "text": [
      "iteration 31000 loss 1.054829716682434\n"
     ]
    },
    {
     "name": "stdout",
     "output_type": "stream",
     "text": [
      "iteration 31500 loss 1.046759009361267\n"
     ]
    },
    {
     "name": "stdout",
     "output_type": "stream",
     "text": [
      "iteration 32000 loss 1.040716528892517\n"
     ]
    },
    {
     "name": "stdout",
     "output_type": "stream",
     "text": [
      "iteration 32500 loss 1.03606379032135\n"
     ]
    },
    {
     "name": "stdout",
     "output_type": "stream",
     "text": [
      "iteration 33000 loss 1.030256986618042\n"
     ]
    },
    {
     "name": "stdout",
     "output_type": "stream",
     "text": [
      "iteration 33500 loss 1.0231561660766602\n"
     ]
    },
    {
     "name": "stdout",
     "output_type": "stream",
     "text": [
      "iteration 34000 loss 1.017106533050537\n"
     ]
    },
    {
     "name": "stdout",
     "output_type": "stream",
     "text": [
      "iteration 34500 loss 1.0127296447753906\n"
     ]
    },
    {
     "name": "stdout",
     "output_type": "stream",
     "text": [
      "iteration 35000 loss 1.0072529315948486\n"
     ]
    },
    {
     "name": "stdout",
     "output_type": "stream",
     "text": [
      "iteration 35500 loss 1.0005332231521606\n"
     ]
    },
    {
     "name": "stdout",
     "output_type": "stream",
     "text": [
      "iteration 36000 loss 0.9952002763748169\n"
     ]
    },
    {
     "name": "stdout",
     "output_type": "stream",
     "text": [
      "iteration 36500 loss 0.9908552765846252\n"
     ]
    },
    {
     "name": "stdout",
     "output_type": "stream",
     "text": [
      "iteration 37000 loss 0.9853838682174683\n"
     ]
    },
    {
     "name": "stdout",
     "output_type": "stream",
     "text": [
      "iteration 37500 loss 0.9785623550415039\n"
     ]
    },
    {
     "name": "stdout",
     "output_type": "stream",
     "text": [
      "iteration 38000 loss 0.9740393161773682\n"
     ]
    },
    {
     "name": "stdout",
     "output_type": "stream",
     "text": [
      "iteration 38500 loss 0.9691656827926636\n"
     ]
    },
    {
     "name": "stdout",
     "output_type": "stream",
     "text": [
      "iteration 39000 loss 0.9629645943641663\n"
     ]
    },
    {
     "name": "stdout",
     "output_type": "stream",
     "text": [
      "iteration 39500 loss 0.9572451114654541\n"
     ]
    },
    {
     "name": "stdout",
     "output_type": "stream",
     "text": [
      "iteration 40000 loss 0.9536038637161255\n"
     ]
    },
    {
     "name": "stdout",
     "output_type": "stream",
     "text": [
      "iteration 40500 loss 0.9490247964859009\n"
     ]
    },
    {
     "name": "stdout",
     "output_type": "stream",
     "text": [
      "iteration 41000 loss 0.9436710476875305\n"
     ]
    },
    {
     "name": "stdout",
     "output_type": "stream",
     "text": [
      "iteration 41500 loss 0.9382110238075256\n"
     ]
    },
    {
     "name": "stdout",
     "output_type": "stream",
     "text": [
      "iteration 42000 loss 0.9351271986961365\n"
     ]
    },
    {
     "name": "stdout",
     "output_type": "stream",
     "text": [
      "iteration 42500 loss 0.9312368631362915\n"
     ]
    },
    {
     "name": "stdout",
     "output_type": "stream",
     "text": [
      "iteration 43000 loss 0.9269039630889893\n"
     ]
    },
    {
     "name": "stdout",
     "output_type": "stream",
     "text": [
      "iteration 43500 loss 0.9410424828529358\n"
     ]
    },
    {
     "name": "stdout",
     "output_type": "stream",
     "text": [
      "iteration 44000 loss 0.9176613092422485\n"
     ]
    },
    {
     "name": "stdout",
     "output_type": "stream",
     "text": [
      "iteration 44500 loss 0.9141108393669128\n"
     ]
    },
    {
     "name": "stdout",
     "output_type": "stream",
     "text": [
      "iteration 45000 loss 0.9090765118598938\n"
     ]
    },
    {
     "name": "stdout",
     "output_type": "stream",
     "text": [
      "iteration 45500 loss 0.9032657742500305\n"
     ]
    },
    {
     "name": "stdout",
     "output_type": "stream",
     "text": [
      "iteration 46000 loss 0.9004978537559509\n"
     ]
    },
    {
     "name": "stdout",
     "output_type": "stream",
     "text": [
      "iteration 46500 loss 0.8976278305053711\n"
     ]
    },
    {
     "name": "stdout",
     "output_type": "stream",
     "text": [
      "iteration 47000 loss 0.8940626978874207\n"
     ]
    },
    {
     "name": "stdout",
     "output_type": "stream",
     "text": [
      "iteration 47500 loss 0.889714241027832\n"
     ]
    },
    {
     "name": "stdout",
     "output_type": "stream",
     "text": [
      "iteration 48000 loss 0.8848358988761902\n"
     ]
    },
    {
     "name": "stdout",
     "output_type": "stream",
     "text": [
      "iteration 48500 loss 0.882267951965332\n"
     ]
    },
    {
     "name": "stdout",
     "output_type": "stream",
     "text": [
      "iteration 49000 loss 0.8794749975204468\n"
     ]
    },
    {
     "name": "stdout",
     "output_type": "stream",
     "text": [
      "iteration 49500 loss 0.8751150369644165\n"
     ]
    },
    {
     "name": "stdout",
     "output_type": "stream",
     "text": [
      "iteration 50000 loss 0.870315432548523\n"
     ]
    },
    {
     "name": "stdout",
     "output_type": "stream",
     "text": [
      "iteration 50500 loss 0.8671712875366211\n"
     ]
    },
    {
     "name": "stdout",
     "output_type": "stream",
     "text": [
      "iteration 51000 loss 0.8641663789749146\n"
     ]
    },
    {
     "name": "stdout",
     "output_type": "stream",
     "text": [
      "iteration 51500 loss 0.8602685332298279\n"
     ]
    },
    {
     "name": "stdout",
     "output_type": "stream",
     "text": [
      "iteration 52000 loss 0.8598177433013916\n"
     ]
    },
    {
     "name": "stdout",
     "output_type": "stream",
     "text": [
      "iteration 52500 loss 0.8534917831420898\n"
     ]
    },
    {
     "name": "stdout",
     "output_type": "stream",
     "text": [
      "iteration 53000 loss 0.8506833910942078\n"
     ]
    },
    {
     "name": "stdout",
     "output_type": "stream",
     "text": [
      "iteration 53500 loss 0.8469677567481995\n"
     ]
    },
    {
     "name": "stdout",
     "output_type": "stream",
     "text": [
      "iteration 54000 loss 0.8435236215591431\n"
     ]
    },
    {
     "name": "stdout",
     "output_type": "stream",
     "text": [
      "iteration 54500 loss 0.8405448794364929\n"
     ]
    },
    {
     "name": "stdout",
     "output_type": "stream",
     "text": [
      "iteration 55000 loss 0.8378201127052307\n"
     ]
    },
    {
     "name": "stdout",
     "output_type": "stream",
     "text": [
      "iteration 55500 loss 0.8343827724456787\n"
     ]
    },
    {
     "name": "stdout",
     "output_type": "stream",
     "text": [
      "iteration 56000 loss 0.8497782945632935\n"
     ]
    },
    {
     "name": "stdout",
     "output_type": "stream",
     "text": [
      "iteration 56500 loss 0.8283452987670898\n"
     ]
    },
    {
     "name": "stdout",
     "output_type": "stream",
     "text": [
      "iteration 57000 loss 0.8267671465873718\n"
     ]
    },
    {
     "name": "stdout",
     "output_type": "stream",
     "text": [
      "iteration 57500 loss 0.822981059551239\n"
     ]
    },
    {
     "name": "stdout",
     "output_type": "stream",
     "text": [
      "iteration 58000 loss 0.8199301362037659\n"
     ]
    },
    {
     "name": "stdout",
     "output_type": "stream",
     "text": [
      "iteration 58500 loss 0.8163689970970154\n"
     ]
    },
    {
     "name": "stdout",
     "output_type": "stream",
     "text": [
      "iteration 59000 loss 0.8137924671173096\n"
     ]
    },
    {
     "name": "stdout",
     "output_type": "stream",
     "text": [
      "iteration 59500 loss 0.8105608224868774\n"
     ]
    },
    {
     "name": "stdout",
     "output_type": "stream",
     "text": [
      "iteration 60000 loss 0.8065891265869141\n"
     ]
    },
    {
     "name": "stdout",
     "output_type": "stream",
     "text": [
      "iteration 60500 loss 0.8046860098838806\n"
     ]
    },
    {
     "name": "stdout",
     "output_type": "stream",
     "text": [
      "iteration 61000 loss 0.802635908126831\n"
     ]
    },
    {
     "name": "stdout",
     "output_type": "stream",
     "text": [
      "iteration 61500 loss 0.8000476360321045\n"
     ]
    },
    {
     "name": "stdout",
     "output_type": "stream",
     "text": [
      "iteration 62000 loss 0.7968304753303528\n"
     ]
    },
    {
     "name": "stdout",
     "output_type": "stream",
     "text": [
      "iteration 62500 loss 0.7933998703956604\n"
     ]
    },
    {
     "name": "stdout",
     "output_type": "stream",
     "text": [
      "iteration 63000 loss 0.7915876507759094\n"
     ]
    },
    {
     "name": "stdout",
     "output_type": "stream",
     "text": [
      "iteration 63500 loss 0.7893029451370239\n"
     ]
    },
    {
     "name": "stdout",
     "output_type": "stream",
     "text": [
      "iteration 64000 loss 0.7864239811897278\n"
     ]
    },
    {
     "name": "stdout",
     "output_type": "stream",
     "text": [
      "iteration 64500 loss 0.7869614362716675\n"
     ]
    },
    {
     "name": "stdout",
     "output_type": "stream",
     "text": [
      "iteration 65000 loss 0.780246913433075\n"
     ]
    },
    {
     "name": "stdout",
     "output_type": "stream",
     "text": [
      "iteration 65500 loss 0.7782908082008362\n"
     ]
    },
    {
     "name": "stdout",
     "output_type": "stream",
     "text": [
      "iteration 66000 loss 0.775787889957428\n"
     ]
    },
    {
     "name": "stdout",
     "output_type": "stream",
     "text": [
      "iteration 66500 loss 0.7732231020927429\n"
     ]
    },
    {
     "name": "stdout",
     "output_type": "stream",
     "text": [
      "iteration 67000 loss 1.0005884170532227\n"
     ]
    },
    {
     "name": "stdout",
     "output_type": "stream",
     "text": [
      "iteration 67500 loss 0.7672591805458069\n"
     ]
    },
    {
     "name": "stdout",
     "output_type": "stream",
     "text": [
      "iteration 68000 loss 0.7655957937240601\n"
     ]
    },
    {
     "name": "stdout",
     "output_type": "stream",
     "text": [
      "iteration 68500 loss 0.7636098861694336\n"
     ]
    },
    {
     "name": "stdout",
     "output_type": "stream",
     "text": [
      "iteration 69000 loss 0.7610856294631958\n"
     ]
    },
    {
     "name": "stdout",
     "output_type": "stream",
     "text": [
      "iteration 69500 loss 0.7569816708564758\n"
     ]
    },
    {
     "name": "stdout",
     "output_type": "stream",
     "text": [
      "iteration 70000 loss 0.7541735172271729\n"
     ]
    },
    {
     "name": "stdout",
     "output_type": "stream",
     "text": [
      "iteration 70500 loss 0.7656474709510803\n"
     ]
    },
    {
     "name": "stdout",
     "output_type": "stream",
     "text": [
      "iteration 71000 loss 0.7489008903503418\n"
     ]
    },
    {
     "name": "stdout",
     "output_type": "stream",
     "text": [
      "iteration 71500 loss 0.746626615524292\n"
     ]
    },
    {
     "name": "stdout",
     "output_type": "stream",
     "text": [
      "iteration 72000 loss 0.7436955571174622\n"
     ]
    },
    {
     "name": "stdout",
     "output_type": "stream",
     "text": [
      "iteration 72500 loss 0.7407260537147522\n"
     ]
    },
    {
     "name": "stdout",
     "output_type": "stream",
     "text": [
      "iteration 73000 loss 0.7385445833206177\n"
     ]
    },
    {
     "name": "stdout",
     "output_type": "stream",
     "text": [
      "iteration 73500 loss 0.7394683361053467\n"
     ]
    },
    {
     "name": "stdout",
     "output_type": "stream",
     "text": [
      "iteration 74000 loss 0.7323862910270691\n"
     ]
    },
    {
     "name": "stdout",
     "output_type": "stream",
     "text": [
      "iteration 74500 loss 0.7305520176887512\n"
     ]
    },
    {
     "name": "stdout",
     "output_type": "stream",
     "text": [
      "iteration 75000 loss 0.7284353375434875\n"
     ]
    },
    {
     "name": "stdout",
     "output_type": "stream",
     "text": [
      "iteration 75500 loss 0.725598931312561\n"
     ]
    },
    {
     "name": "stdout",
     "output_type": "stream",
     "text": [
      "iteration 76000 loss 0.7226415276527405\n"
     ]
    },
    {
     "name": "stdout",
     "output_type": "stream",
     "text": [
      "iteration 76500 loss 0.7200610041618347\n"
     ]
    },
    {
     "name": "stdout",
     "output_type": "stream",
     "text": [
      "iteration 77000 loss 0.7167955040931702\n"
     ]
    },
    {
     "name": "stdout",
     "output_type": "stream",
     "text": [
      "iteration 77500 loss 0.7144694328308105\n"
     ]
    },
    {
     "name": "stdout",
     "output_type": "stream",
     "text": [
      "iteration 78000 loss 0.7118809819221497\n"
     ]
    },
    {
     "name": "stdout",
     "output_type": "stream",
     "text": [
      "iteration 78500 loss 0.709735631942749\n"
     ]
    },
    {
     "name": "stdout",
     "output_type": "stream",
     "text": [
      "iteration 79000 loss 0.7064322233200073\n"
     ]
    },
    {
     "name": "stdout",
     "output_type": "stream",
     "text": [
      "iteration 79500 loss 0.7042639255523682\n"
     ]
    },
    {
     "name": "stdout",
     "output_type": "stream",
     "text": [
      "iteration 80000 loss 0.7017626762390137\n"
     ]
    },
    {
     "name": "stdout",
     "output_type": "stream",
     "text": [
      "iteration 80500 loss 0.703625500202179\n"
     ]
    },
    {
     "name": "stdout",
     "output_type": "stream",
     "text": [
      "iteration 81000 loss 0.6964156031608582\n"
     ]
    },
    {
     "name": "stdout",
     "output_type": "stream",
     "text": [
      "iteration 81500 loss 0.6940746903419495\n"
     ]
    },
    {
     "name": "stdout",
     "output_type": "stream",
     "text": [
      "iteration 82000 loss 0.6917763948440552\n"
     ]
    },
    {
     "name": "stdout",
     "output_type": "stream",
     "text": [
      "iteration 82500 loss 0.6878208518028259\n"
     ]
    },
    {
     "name": "stdout",
     "output_type": "stream",
     "text": [
      "iteration 83000 loss 0.6861575245857239\n"
     ]
    },
    {
     "name": "stdout",
     "output_type": "stream",
     "text": [
      "iteration 83500 loss 0.6840466856956482\n"
     ]
    },
    {
     "name": "stdout",
     "output_type": "stream",
     "text": [
      "iteration 84000 loss 0.6813692450523376\n"
     ]
    },
    {
     "name": "stdout",
     "output_type": "stream",
     "text": [
      "iteration 84500 loss 0.6780650019645691\n"
     ]
    },
    {
     "name": "stdout",
     "output_type": "stream",
     "text": [
      "iteration 85000 loss 0.675825297832489\n"
     ]
    },
    {
     "name": "stdout",
     "output_type": "stream",
     "text": [
      "iteration 85500 loss 0.6733762621879578\n"
     ]
    },
    {
     "name": "stdout",
     "output_type": "stream",
     "text": [
      "iteration 86000 loss 0.6702349781990051\n"
     ]
    },
    {
     "name": "stdout",
     "output_type": "stream",
     "text": [
      "iteration 86500 loss 0.6675859093666077\n"
     ]
    },
    {
     "name": "stdout",
     "output_type": "stream",
     "text": [
      "iteration 87000 loss 0.6652888655662537\n"
     ]
    },
    {
     "name": "stdout",
     "output_type": "stream",
     "text": [
      "iteration 87500 loss 0.6617157459259033\n"
     ]
    },
    {
     "name": "stdout",
     "output_type": "stream",
     "text": [
      "iteration 88000 loss 0.6593579649925232\n"
     ]
    },
    {
     "name": "stdout",
     "output_type": "stream",
     "text": [
      "iteration 88500 loss 0.6569625735282898\n"
     ]
    },
    {
     "name": "stdout",
     "output_type": "stream",
     "text": [
      "iteration 89000 loss 0.6540189385414124\n"
     ]
    },
    {
     "name": "stdout",
     "output_type": "stream",
     "text": [
      "iteration 89500 loss 0.650825560092926\n"
     ]
    },
    {
     "name": "stdout",
     "output_type": "stream",
     "text": [
      "iteration 90000 loss 0.6488487720489502\n"
     ]
    },
    {
     "name": "stdout",
     "output_type": "stream",
     "text": [
      "iteration 90500 loss 0.6463993787765503\n"
     ]
    },
    {
     "name": "stdout",
     "output_type": "stream",
     "text": [
      "iteration 91000 loss 0.6431947946548462\n"
     ]
    },
    {
     "name": "stdout",
     "output_type": "stream",
     "text": [
      "iteration 91500 loss 0.6404263377189636\n"
     ]
    },
    {
     "name": "stdout",
     "output_type": "stream",
     "text": [
      "iteration 92000 loss 0.6378807425498962\n"
     ]
    },
    {
     "name": "stdout",
     "output_type": "stream",
     "text": [
      "iteration 92500 loss 0.6345452666282654\n"
     ]
    },
    {
     "name": "stdout",
     "output_type": "stream",
     "text": [
      "iteration 93000 loss 0.6319972276687622\n"
     ]
    },
    {
     "name": "stdout",
     "output_type": "stream",
     "text": [
      "iteration 93500 loss 0.6292003989219666\n"
     ]
    },
    {
     "name": "stdout",
     "output_type": "stream",
     "text": [
      "iteration 94000 loss 0.6257516145706177\n"
     ]
    },
    {
     "name": "stdout",
     "output_type": "stream",
     "text": [
      "iteration 94500 loss 0.6235340237617493\n"
     ]
    },
    {
     "name": "stdout",
     "output_type": "stream",
     "text": [
      "iteration 95000 loss 0.6209703683853149\n"
     ]
    },
    {
     "name": "stdout",
     "output_type": "stream",
     "text": [
      "iteration 95500 loss 0.6175644397735596\n"
     ]
    },
    {
     "name": "stdout",
     "output_type": "stream",
     "text": [
      "iteration 96000 loss 0.6150332093238831\n"
     ]
    },
    {
     "name": "stdout",
     "output_type": "stream",
     "text": [
      "iteration 96500 loss 0.6144278049468994\n"
     ]
    },
    {
     "name": "stdout",
     "output_type": "stream",
     "text": [
      "iteration 97000 loss 0.609014630317688\n"
     ]
    },
    {
     "name": "stdout",
     "output_type": "stream",
     "text": [
      "iteration 97500 loss 0.6112499237060547\n"
     ]
    },
    {
     "name": "stdout",
     "output_type": "stream",
     "text": [
      "iteration 98000 loss 0.6116276979446411\n"
     ]
    },
    {
     "name": "stdout",
     "output_type": "stream",
     "text": [
      "iteration 98500 loss 0.6002746224403381\n"
     ]
    },
    {
     "name": "stdout",
     "output_type": "stream",
     "text": [
      "iteration 99000 loss 0.597135603427887\n"
     ]
    },
    {
     "name": "stdout",
     "output_type": "stream",
     "text": [
      "iteration 99500 loss 0.5942076444625854\n"
     ]
    },
    {
     "name": "stdout",
     "output_type": "stream",
     "text": [
      "Training of LPN for G(x) complete and model saved.\n"
     ]
    }
   ],
   "source": [
    "# --- Step 3: Train LPN G(x) ---\n",
    "print(\"\\n--- Training Second LPN G(x) for Concave Quadratic Prior ---\")\n",
    "# The target for this LPN is G_samples_tensor\n",
    "# The input for this LPN is x_k_tensor\n",
    "lpn_model_G = LPN(in_dim=dim_exp, hidden=hidden, layers=layers, beta=beta, eps=1e-3).to(device)\n",
    "optimizer_G = torch.optim.Adam(lpn_model_G.parameters(), lr=1e-4)\n",
    "\n",
    "# Initial shorter training phase\n",
    "for i in range(1):\n",
    "     single_iteration(i, data_points_exp, lpn_model_G, optimizer_G, y_k_tensor, G_samples_tensor, loss_type=2, gamma_loss=None)\n",
    "\n",
    "for g in optimizer_G.param_groups:\n",
    "    g[\"lr\"] = 1e-4 # Use a smaller learning rate for the long phase\n",
    "for i in range(iterations_exp_long):\n",
    "    single_iteration(i, data_points_exp, lpn_model_G, optimizer_G, y_k_tensor, G_samples_tensor, loss_type=2, gamma_loss=None)\n",
    "\n",
    "torch.save(lpn_model_G.state_dict(), os.path.join(MODEL_DIR, \"G_network_l2.pth\"))\n",
    "print(\"Training of LPN for G(x) complete and model saved.\")"
   ]
  },
  {
   "cell_type": "code",
   "execution_count": 11,
   "metadata": {
    "execution": {
     "iopub.execute_input": "2025-10-29T08:27:16.149024Z",
     "iopub.status.busy": "2025-10-29T08:27:16.148583Z",
     "iopub.status.idle": "2025-10-29T08:27:16.625936Z",
     "shell.execute_reply": "2025-10-29T08:27:16.625488Z"
    }
   },
   "outputs": [
    {
     "name": "stdout",
     "output_type": "stream",
     "text": [
      "\n",
      "--- Plotting Estimated Prior J(x) from LPN 2 ---\n"
     ]
    },
    {
     "data": {
      "image/png": "[encoded data removed]",
      "text/plain": [
       "<Figure size 1200x500 with 2 Axes>"
      ]
     },
     "metadata": {},
     "output_type": "display_data"
    }
   ],
   "source": [
    "def evaluate_learned_J_G_network(x_points, model_G):\n",
    "    \"\"\"\n",
    "    Evaluates the learned prior J(x) using the trained G(x) network.\n",
    "    J(x) = G(x) - 0.5 * ||x||^2\n",
    "    \"\"\"\n",
    "    # Convert to tensor\n",
    "    x_tensor = torch.from_numpy(x_points).float().to(device)\n",
    "    \n",
    "    # Get G(x) from the second LPN model\n",
    "    G_x = model_G.scalar(x_tensor)\n",
    "    \n",
    "    # Compute 0.5 * ||x||^2\n",
    "    x_norm_sq_np = euclid_norm_sq(x_points)\n",
    "    x_norm_sq_tensor = torch.from_numpy(x_norm_sq_np).float().to(device).reshape(-1, 1)\n",
    "\n",
    "    # Apply the formula: J_est = G(x) - 0.5 * ||x||^2\n",
    "    J_est = G_x - 0.5 * x_norm_sq_tensor\n",
    "    \n",
    "    # Convert back to numpy\n",
    "    J_est_np = J_est.detach().cpu().numpy().flatten()\n",
    "    \n",
    "    return J_est_np\n",
    "\n",
    "def plot_J_G_network(model_G, a, spacing, dim):\n",
    "    \"\"\"Plots the cross-sections of the estimated prior J(x) from the G network.\"\"\"\n",
    "    xi, x1_0_points, x2_0_points = compute_square_cross_sections(a, spacing, dim)\n",
    "    \n",
    "    # True Prior\n",
    "    x1_0_J_true = prior_true_concave_quad(x1_0_points)\n",
    "    if dim > 1:\n",
    "        x2_0_J_true = prior_true_concave_quad(x2_0_points)\n",
    "    else:\n",
    "        x2_0_J_true = x1_0_J_true\n",
    "        \n",
    "    # Estimated Prior from G(x) Network\n",
    "    x1_0_J_G_est = evaluate_learned_J_G_network(x1_0_points, model_G)\n",
    "    if dim > 1:\n",
    "        x2_0_J_G_est = evaluate_learned_J_G_network(x2_0_points, model_G)\n",
    "    else:\n",
    "        x2_0_J_G_est = x1_0_J_G_est\n",
    "    \n",
    "    print(\"\\n--- Plotting Estimated Prior J(x) from LPN 2 ---\")\n",
    "    plt.figure(figsize=(12,5))\n",
    "    \n",
    "    plt.subplot(1, 2, 1)\n",
    "    plt.plot(xi, x1_0_J_G_est, \"-\", label=\"LPN 2\")\n",
    "    plt.plot(xi, x1_0_J_true, \"--\", label=\"True $J(x)=-1/4||x||_2^2$\")\n",
    "    plt.grid(True)\n",
    "    plt.title(f\"Prior $J(x_1,0,...)$ Dim {dim}\")\n",
    "    plt.xlabel('$x_1$')\n",
    "    plt.ylabel('$J(x_1,0,...)$')\n",
    "    plt.legend()\n",
    "\n",
    "    if dim > 1:\n",
    "        plt.subplot(1, 2, 2)\n",
    "        plt.plot(xi, x2_0_J_G_est, \"-\", label=\"LPN 2\")\n",
    "        plt.plot(xi, x2_0_J_true, \"--\", label=\"True $J(x)=-1/4||x||_2^2$\")\n",
    "        plt.grid(True)\n",
    "        plt.title(f\"Prior $J(0,x_2,0,...)$ Dim {dim}\")\n",
    "        plt.xlabel('$x_2$')\n",
    "        plt.ylabel('$J(0,x_2,0,...)$')\n",
    "        plt.legend()\n",
    "    plt.tight_layout()\n",
    "    #plt.savefig('G_network_prior_plot.png')\n",
    "    \n",
    "# --- Execute Plotting ---\n",
    "plot_J_G_network(lpn_model_G, a_exp, spacing, dim_exp)"
   ]
  },
  {
   "cell_type": "markdown",
   "metadata": {},
   "source": [
    "L1 loss -- Train"
   ]
  },
  {
   "cell_type": "code",
   "execution_count": 12,
   "metadata": {
    "execution": {
     "iopub.execute_input": "2025-10-29T08:27:16.627889Z",
     "iopub.status.busy": "2025-10-29T08:27:16.627678Z",
     "iopub.status.idle": "2025-10-29T08:28:46.917972Z",
     "shell.execute_reply": "2025-10-29T08:28:46.917438Z"
    }
   },
   "outputs": [
    {
     "name": "stdout",
     "output_type": "stream",
     "text": [
      "\n",
      "--- Training LPN for Concave Quadratic Prior (Quadratic H) ---\n",
      "iteration 0 loss 7684.60791015625\n"
     ]
    },
    {
     "name": "stdout",
     "output_type": "stream",
     "text": [
      "iteration 500 loss 127.7834701538086\n"
     ]
    },
    {
     "name": "stdout",
     "output_type": "stream",
     "text": [
      "iteration 0 loss 108.53585052490234\n"
     ]
    },
    {
     "name": "stdout",
     "output_type": "stream",
     "text": [
      "iteration 500 loss 99.22538757324219\n"
     ]
    },
    {
     "name": "stdout",
     "output_type": "stream",
     "text": [
      "iteration 1000 loss 94.48136138916016\n"
     ]
    },
    {
     "name": "stdout",
     "output_type": "stream",
     "text": [
      "iteration 1500 loss 90.53084564208984\n"
     ]
    },
    {
     "name": "stdout",
     "output_type": "stream",
     "text": [
      "iteration 2000 loss 85.97055053710938\n"
     ]
    },
    {
     "name": "stdout",
     "output_type": "stream",
     "text": [
      "iteration 2500 loss 80.38365173339844\n"
     ]
    },
    {
     "name": "stdout",
     "output_type": "stream",
     "text": [
      "iteration 3000 loss 73.46652221679688\n"
     ]
    },
    {
     "name": "stdout",
     "output_type": "stream",
     "text": [
      "iteration 3500 loss 64.72273254394531\n"
     ]
    },
    {
     "name": "stdout",
     "output_type": "stream",
     "text": [
      "iteration 4000 loss 53.09415054321289\n"
     ]
    },
    {
     "name": "stdout",
     "output_type": "stream",
     "text": [
      "iteration 4500 loss 36.41126251220703\n"
     ]
    },
    {
     "name": "stdout",
     "output_type": "stream",
     "text": [
      "iteration 5000 loss 17.383865356445312\n"
     ]
    },
    {
     "name": "stdout",
     "output_type": "stream",
     "text": [
      "iteration 5500 loss 10.071274757385254\n"
     ]
    },
    {
     "name": "stdout",
     "output_type": "stream",
     "text": [
      "iteration 6000 loss 7.280810832977295\n"
     ]
    },
    {
     "name": "stdout",
     "output_type": "stream",
     "text": [
      "iteration 6500 loss 5.73390007019043\n"
     ]
    },
    {
     "name": "stdout",
     "output_type": "stream",
     "text": [
      "iteration 7000 loss 4.750308513641357\n"
     ]
    },
    {
     "name": "stdout",
     "output_type": "stream",
     "text": [
      "iteration 7500 loss 4.023308277130127\n"
     ]
    },
    {
     "name": "stdout",
     "output_type": "stream",
     "text": [
      "iteration 8000 loss 3.4469616413116455\n"
     ]
    },
    {
     "name": "stdout",
     "output_type": "stream",
     "text": [
      "iteration 8500 loss 2.9699323177337646\n"
     ]
    },
    {
     "name": "stdout",
     "output_type": "stream",
     "text": [
      "iteration 9000 loss 2.5817410945892334\n"
     ]
    },
    {
     "name": "stdout",
     "output_type": "stream",
     "text": [
      "iteration 9500 loss 2.283867597579956\n"
     ]
    },
    {
     "name": "stdout",
     "output_type": "stream",
     "text": [
      "iteration 10000 loss 2.071105480194092\n"
     ]
    },
    {
     "name": "stdout",
     "output_type": "stream",
     "text": [
      "iteration 10500 loss 1.9254069328308105\n"
     ]
    },
    {
     "name": "stdout",
     "output_type": "stream",
     "text": [
      "iteration 11000 loss 1.7922263145446777\n"
     ]
    },
    {
     "name": "stdout",
     "output_type": "stream",
     "text": [
      "iteration 11500 loss 1.7036831378936768\n"
     ]
    },
    {
     "name": "stdout",
     "output_type": "stream",
     "text": [
      "iteration 12000 loss 1.6164302825927734\n"
     ]
    },
    {
     "name": "stdout",
     "output_type": "stream",
     "text": [
      "iteration 12500 loss 1.5388575792312622\n"
     ]
    },
    {
     "name": "stdout",
     "output_type": "stream",
     "text": [
      "iteration 13000 loss 1.485336184501648\n"
     ]
    },
    {
     "name": "stdout",
     "output_type": "stream",
     "text": [
      "iteration 13500 loss 1.4254728555679321\n"
     ]
    },
    {
     "name": "stdout",
     "output_type": "stream",
     "text": [
      "iteration 14000 loss 1.3797839879989624\n"
     ]
    },
    {
     "name": "stdout",
     "output_type": "stream",
     "text": [
      "iteration 14500 loss 1.336747407913208\n"
     ]
    },
    {
     "name": "stdout",
     "output_type": "stream",
     "text": [
      "iteration 15000 loss 1.295310139656067\n"
     ]
    },
    {
     "name": "stdout",
     "output_type": "stream",
     "text": [
      "iteration 15500 loss 1.2667438983917236\n"
     ]
    },
    {
     "name": "stdout",
     "output_type": "stream",
     "text": [
      "iteration 16000 loss 1.2331100702285767\n"
     ]
    },
    {
     "name": "stdout",
     "output_type": "stream",
     "text": [
      "iteration 16500 loss 1.2030632495880127\n"
     ]
    },
    {
     "name": "stdout",
     "output_type": "stream",
     "text": [
      "iteration 17000 loss 1.1766583919525146\n"
     ]
    },
    {
     "name": "stdout",
     "output_type": "stream",
     "text": [
      "iteration 17500 loss 1.1451433897018433\n"
     ]
    },
    {
     "name": "stdout",
     "output_type": "stream",
     "text": [
      "iteration 18000 loss 1.124909520149231\n"
     ]
    },
    {
     "name": "stdout",
     "output_type": "stream",
     "text": [
      "iteration 18500 loss 1.1022007465362549\n"
     ]
    },
    {
     "name": "stdout",
     "output_type": "stream",
     "text": [
      "iteration 19000 loss 1.0743460655212402\n"
     ]
    },
    {
     "name": "stdout",
     "output_type": "stream",
     "text": [
      "iteration 19500 loss 1.052886724472046\n"
     ]
    },
    {
     "name": "stdout",
     "output_type": "stream",
     "text": [
      "iteration 20000 loss 1.0300571918487549\n"
     ]
    },
    {
     "name": "stdout",
     "output_type": "stream",
     "text": [
      "iteration 20500 loss 1.0066441297531128\n"
     ]
    },
    {
     "name": "stdout",
     "output_type": "stream",
     "text": [
      "iteration 21000 loss 0.9897400140762329\n"
     ]
    },
    {
     "name": "stdout",
     "output_type": "stream",
     "text": [
      "iteration 21500 loss 0.9687272906303406\n"
     ]
    },
    {
     "name": "stdout",
     "output_type": "stream",
     "text": [
      "iteration 22000 loss 0.9470075964927673\n"
     ]
    },
    {
     "name": "stdout",
     "output_type": "stream",
     "text": [
      "iteration 22500 loss 0.932263970375061\n"
     ]
    },
    {
     "name": "stdout",
     "output_type": "stream",
     "text": [
      "iteration 23000 loss 0.9139135479927063\n"
     ]
    },
    {
     "name": "stdout",
     "output_type": "stream",
     "text": [
      "iteration 23500 loss 0.893380343914032\n"
     ]
    },
    {
     "name": "stdout",
     "output_type": "stream",
     "text": [
      "iteration 24000 loss 0.8792148232460022\n"
     ]
    },
    {
     "name": "stdout",
     "output_type": "stream",
     "text": [
      "iteration 24500 loss 0.8616089820861816\n"
     ]
    },
    {
     "name": "stdout",
     "output_type": "stream",
     "text": [
      "iteration 25000 loss 0.844070315361023\n"
     ]
    },
    {
     "name": "stdout",
     "output_type": "stream",
     "text": [
      "iteration 25500 loss 0.8303741812705994\n"
     ]
    },
    {
     "name": "stdout",
     "output_type": "stream",
     "text": [
      "iteration 26000 loss 0.8134064674377441\n"
     ]
    },
    {
     "name": "stdout",
     "output_type": "stream",
     "text": [
      "iteration 26500 loss 0.798520565032959\n"
     ]
    },
    {
     "name": "stdout",
     "output_type": "stream",
     "text": [
      "iteration 27000 loss 0.7843355536460876\n"
     ]
    },
    {
     "name": "stdout",
     "output_type": "stream",
     "text": [
      "iteration 27500 loss 0.7676336765289307\n"
     ]
    },
    {
     "name": "stdout",
     "output_type": "stream",
     "text": [
      "iteration 28000 loss 0.7550970911979675\n"
     ]
    },
    {
     "name": "stdout",
     "output_type": "stream",
     "text": [
      "iteration 28500 loss 0.7390588521957397\n"
     ]
    },
    {
     "name": "stdout",
     "output_type": "stream",
     "text": [
      "iteration 29000 loss 0.7261524796485901\n"
     ]
    },
    {
     "name": "stdout",
     "output_type": "stream",
     "text": [
      "iteration 29500 loss 0.7117549777030945\n"
     ]
    }
   ],
   "source": [
    "\n",
    "# --- Train and Plot with L1 Loss for the new experiment ---\n",
    "print(\"\\n--- Training LPN for Concave Quadratic Prior (Quadratic H) ---\")\n",
    "lpn_model_concave_quad_l1 = LPN(in_dim=dim_exp, hidden=hidden, layers=layers, beta=beta,eps=1e-3).to(device)\n",
    "optimizer_concave_quad_l1 = torch.optim.Adam(lpn_model_concave_quad_l1.parameters(), lr=1e-4)\n",
    "\n",
    "# Initial shorter training phase with a higher learning rate\n",
    "for i in range(1000):\n",
    "     single_iteration(i, data_points_exp, lpn_model_concave_quad_l1, optimizer_concave_quad_l1, y_j_exp_tensor, psi_samples_exp_tensor, loss_type=2, gamma_loss=None)\n",
    "\n",
    "# Longer training phase with a reduced learning rate\n",
    "for g in optimizer_concave_quad_l1.param_groups:\n",
    "    g[\"lr\"] = 1e-4\n",
    "for i in range(30000):\n",
    "    single_iteration(i, data_points_exp, lpn_model_concave_quad_l1, optimizer_concave_quad_l1, y_j_exp_tensor, psi_samples_exp_tensor, loss_type=2, gamma_loss=None)\n",
    "\n",
    "torch.save(lpn_model_concave_quad_l1.state_dict(), os.path.join(MODEL_DIR, \"ConcaveQuadraticH_l2.pth\"))\n"
   ]
  },
  {
   "cell_type": "markdown",
   "metadata": {},
   "source": [
    "L1 loss -- Plot"
   ]
  },
  {
   "cell_type": "code",
   "execution_count": 13,
   "metadata": {
    "execution": {
     "iopub.execute_input": "2025-10-29T08:28:46.919998Z",
     "iopub.status.busy": "2025-10-29T08:28:46.919762Z",
     "iopub.status.idle": "2025-10-29T08:30:41.959385Z",
     "shell.execute_reply": "2025-10-29T08:30:41.958824Z"
    }
   },
   "outputs": [
    {
     "name": "stdout",
     "output_type": "stream",
     "text": [
      "\n",
      "--- Plotting Cross Sections for Quadratic H, Quadratic concave Prior (Dim=16) ---\n",
      "loss -19.4398193359375\n"
     ]
    },
    {
     "name": "stdout",
     "output_type": "stream",
     "text": [
      "loss -75.94328308105469\n"
     ]
    },
    {
     "name": "stdout",
     "output_type": "stream",
     "text": [
      "loss -111.40811157226562\n"
     ]
    },
    {
     "name": "stdout",
     "output_type": "stream",
     "text": [
      "loss -132.32431030273438\n"
     ]
    },
    {
     "name": "stdout",
     "output_type": "stream",
     "text": [
      "loss -141.0080108642578\n"
     ]
    },
    {
     "name": "stdout",
     "output_type": "stream",
     "text": [
      "loss -143.76870727539062\n"
     ]
    },
    {
     "name": "stdout",
     "output_type": "stream",
     "text": [
      "loss -144.4292449951172\n"
     ]
    },
    {
     "name": "stdout",
     "output_type": "stream",
     "text": [
      "loss -144.5491180419922\n"
     ]
    },
    {
     "name": "stdout",
     "output_type": "stream",
     "text": [
      "loss -144.56564331054688\n"
     ]
    },
    {
     "name": "stdout",
     "output_type": "stream",
     "text": [
      "loss -144.56723022460938\n"
     ]
    },
    {
     "name": "stdout",
     "output_type": "stream",
     "text": [
      "loss -144.5673065185547\n"
     ]
    },
    {
     "name": "stdout",
     "output_type": "stream",
     "text": [
      "loss -144.5673065185547\n"
     ]
    },
    {
     "name": "stdout",
     "output_type": "stream",
     "text": [
      "loss -144.56732177734375\n"
     ]
    },
    {
     "name": "stdout",
     "output_type": "stream",
     "text": [
      "loss -144.5673065185547\n"
     ]
    },
    {
     "name": "stdout",
     "output_type": "stream",
     "text": [
      "loss -144.56732177734375\n"
     ]
    },
    {
     "name": "stdout",
     "output_type": "stream",
     "text": [
      "loss -144.5673065185547\n"
     ]
    },
    {
     "name": "stdout",
     "output_type": "stream",
     "text": [
      "loss -144.56732177734375\n"
     ]
    },
    {
     "name": "stdout",
     "output_type": "stream",
     "text": [
      "loss -144.5673065185547\n"
     ]
    },
    {
     "name": "stdout",
     "output_type": "stream",
     "text": [
      "loss -144.5673065185547\n"
     ]
    },
    {
     "name": "stdout",
     "output_type": "stream",
     "text": [
      "loss -144.5673065185547\n"
     ]
    },
    {
     "name": "stdout",
     "output_type": "stream",
     "text": [
      "loss -144.56732177734375\n"
     ]
    },
    {
     "name": "stdout",
     "output_type": "stream",
     "text": [
      "loss -144.5673065185547\n"
     ]
    },
    {
     "name": "stdout",
     "output_type": "stream",
     "text": [
      "loss -144.5673065185547\n"
     ]
    },
    {
     "name": "stdout",
     "output_type": "stream",
     "text": [
      "loss -144.56732177734375\n"
     ]
    },
    {
     "name": "stdout",
     "output_type": "stream",
     "text": [
      "loss -144.56732177734375\n"
     ]
    },
    {
     "name": "stdout",
     "output_type": "stream",
     "text": [
      "loss -144.5673065185547\n"
     ]
    },
    {
     "name": "stdout",
     "output_type": "stream",
     "text": [
      "loss -144.56732177734375\n"
     ]
    },
    {
     "name": "stdout",
     "output_type": "stream",
     "text": [
      "loss -144.5673065185547\n"
     ]
    },
    {
     "name": "stdout",
     "output_type": "stream",
     "text": [
      "loss -144.5673065185547\n"
     ]
    },
    {
     "name": "stdout",
     "output_type": "stream",
     "text": [
      "loss -144.5673065185547\n"
     ]
    },
    {
     "name": "stdout",
     "output_type": "stream",
     "text": [
      "loss -144.56732177734375\n"
     ]
    },
    {
     "name": "stdout",
     "output_type": "stream",
     "text": [
      "loss -144.5673065185547\n"
     ]
    },
    {
     "name": "stdout",
     "output_type": "stream",
     "text": [
      "loss -144.5673065185547\n"
     ]
    },
    {
     "name": "stdout",
     "output_type": "stream",
     "text": [
      "loss -144.5673065185547\n"
     ]
    },
    {
     "name": "stdout",
     "output_type": "stream",
     "text": [
      "loss -144.56732177734375\n"
     ]
    },
    {
     "name": "stdout",
     "output_type": "stream",
     "text": [
      "loss -144.5673065185547\n"
     ]
    },
    {
     "name": "stdout",
     "output_type": "stream",
     "text": [
      "loss -144.5673065185547\n"
     ]
    },
    {
     "name": "stdout",
     "output_type": "stream",
     "text": [
      "loss -144.5673065185547\n"
     ]
    },
    {
     "name": "stdout",
     "output_type": "stream",
     "text": [
      "loss -144.5673065185547\n"
     ]
    },
    {
     "name": "stdout",
     "output_type": "stream",
     "text": [
      "loss -144.5673065185547\n"
     ]
    },
    {
     "name": "stdout",
     "output_type": "stream",
     "text": [
      "final mse:  6.199885049795739e-09\n",
      "max, min: 2.2051568 -2.1963003\n",
      "loss -19.4398193359375\n"
     ]
    },
    {
     "name": "stdout",
     "output_type": "stream",
     "text": [
      "loss -78.38606262207031\n"
     ]
    },
    {
     "name": "stdout",
     "output_type": "stream",
     "text": [
      "loss -106.52645874023438\n"
     ]
    },
    {
     "name": "stdout",
     "output_type": "stream",
     "text": [
      "loss -118.98749542236328\n"
     ]
    },
    {
     "name": "stdout",
     "output_type": "stream",
     "text": [
      "loss -122.64559173583984\n"
     ]
    },
    {
     "name": "stdout",
     "output_type": "stream",
     "text": [
      "loss -123.49909210205078\n"
     ]
    },
    {
     "name": "stdout",
     "output_type": "stream",
     "text": [
      "loss -123.66212463378906\n"
     ]
    },
    {
     "name": "stdout",
     "output_type": "stream",
     "text": [
      "loss -123.68446350097656\n"
     ]
    },
    {
     "name": "stdout",
     "output_type": "stream",
     "text": [
      "loss -123.68635559082031\n"
     ]
    },
    {
     "name": "stdout",
     "output_type": "stream",
     "text": [
      "loss -123.68643188476562\n"
     ]
    },
    {
     "name": "stdout",
     "output_type": "stream",
     "text": [
      "loss -123.68643951416016\n"
     ]
    },
    {
     "name": "stdout",
     "output_type": "stream",
     "text": [
      "loss -123.68644714355469\n"
     ]
    },
    {
     "name": "stdout",
     "output_type": "stream",
     "text": [
      "loss -123.68644714355469\n"
     ]
    },
    {
     "name": "stdout",
     "output_type": "stream",
     "text": [
      "loss -123.68644714355469\n"
     ]
    },
    {
     "name": "stdout",
     "output_type": "stream",
     "text": [
      "loss -123.68644714355469\n"
     ]
    },
    {
     "name": "stdout",
     "output_type": "stream",
     "text": [
      "loss -123.68643951416016\n"
     ]
    },
    {
     "name": "stdout",
     "output_type": "stream",
     "text": [
      "loss -123.68644714355469\n"
     ]
    },
    {
     "name": "stdout",
     "output_type": "stream",
     "text": [
      "loss -123.68644714355469\n"
     ]
    },
    {
     "name": "stdout",
     "output_type": "stream",
     "text": [
      "loss -123.68644714355469\n"
     ]
    },
    {
     "name": "stdout",
     "output_type": "stream",
     "text": [
      "loss -123.68644714355469\n"
     ]
    },
    {
     "name": "stdout",
     "output_type": "stream",
     "text": [
      "loss -123.68644714355469\n"
     ]
    },
    {
     "name": "stdout",
     "output_type": "stream",
     "text": [
      "loss -123.68644714355469\n"
     ]
    },
    {
     "name": "stdout",
     "output_type": "stream",
     "text": [
      "loss -123.68643951416016\n"
     ]
    },
    {
     "name": "stdout",
     "output_type": "stream",
     "text": [
      "loss -123.68644714355469\n"
     ]
    },
    {
     "name": "stdout",
     "output_type": "stream",
     "text": [
      "loss -123.68644714355469\n"
     ]
    },
    {
     "name": "stdout",
     "output_type": "stream",
     "text": [
      "loss -123.68644714355469\n"
     ]
    },
    {
     "name": "stdout",
     "output_type": "stream",
     "text": [
      "loss -123.68644714355469\n"
     ]
    },
    {
     "name": "stdout",
     "output_type": "stream",
     "text": [
      "loss -123.68644714355469\n"
     ]
    },
    {
     "name": "stdout",
     "output_type": "stream",
     "text": [
      "loss -123.68644714355469\n"
     ]
    },
    {
     "name": "stdout",
     "output_type": "stream",
     "text": [
      "loss -123.68644714355469\n"
     ]
    },
    {
     "name": "stdout",
     "output_type": "stream",
     "text": [
      "loss -123.68644714355469\n"
     ]
    },
    {
     "name": "stdout",
     "output_type": "stream",
     "text": [
      "loss -123.68644714355469\n"
     ]
    },
    {
     "name": "stdout",
     "output_type": "stream",
     "text": [
      "loss -123.68644714355469\n"
     ]
    },
    {
     "name": "stdout",
     "output_type": "stream",
     "text": [
      "loss -123.68644714355469\n"
     ]
    },
    {
     "name": "stdout",
     "output_type": "stream",
     "text": [
      "loss -123.68644714355469\n"
     ]
    },
    {
     "name": "stdout",
     "output_type": "stream",
     "text": [
      "loss -123.68644714355469\n"
     ]
    },
    {
     "name": "stdout",
     "output_type": "stream",
     "text": [
      "loss -123.68644714355469\n"
     ]
    },
    {
     "name": "stdout",
     "output_type": "stream",
     "text": [
      "loss -123.68644714355469\n"
     ]
    },
    {
     "name": "stdout",
     "output_type": "stream",
     "text": [
      "loss -123.68644714355469\n"
     ]
    },
    {
     "name": "stdout",
     "output_type": "stream",
     "text": [
      "loss -123.68644714355469\n"
     ]
    },
    {
     "name": "stdout",
     "output_type": "stream",
     "text": [
      "final mse:  7.471274265924421e-09\n",
      "max, min: 1.9453346 -1.7003548\n"
     ]
    },
    {
     "data": {
      "image/png": "[encoded data removed]",
      "text/plain": [
       "<Figure size 1200x500 with 2 Axes>"
      ]
     },
     "metadata": {},
     "output_type": "display_data"
    },
    {
     "data": {
      "image/png": "[encoded data removed]",
      "text/plain": [
       "<Figure size 1200x500 with 2 Axes>"
      ]
     },
     "metadata": {},
     "output_type": "display_data"
    },
    {
     "data": {
      "image/png": "[encoded data removed]",
      "text/plain": [
       "<Figure size 600x500 with 1 Axes>"
      ]
     },
     "metadata": {},
     "output_type": "display_data"
    }
   ],
   "source": [
    "#print(\"\\n--- Plotting Cross Sections for Quadratic H, Concave Quad Prior (Dim=4) ---\")\n",
    "plot_all_concave_quad(lpn_model_concave_quad_l1, a_exp, spacing, INVERT_MODE, dim_exp)\n",
    "\n",
    "#print(\"\\n--- Plotting Learned Hamiltonian for Quadratic H, Concave Quad Prior ---\")\n",
    "evaluate_learned_H(lpn_model_concave_quad_l1, a_exp, spacing, dim_exp)\n"
   ]
  },
  {
   "cell_type": "markdown",
   "metadata": {},
   "source": [
    "Proximal matching loss.\n",
    "We perform proximal matching loss with a decreasing sequence of gamma parameters.\n",
    "\n",
    "gamma = 20 -- Train"
   ]
  },
  {
   "cell_type": "code",
   "execution_count": 14,
   "metadata": {
    "execution": {
     "iopub.execute_input": "2025-10-29T08:30:41.961540Z",
     "iopub.status.busy": "2025-10-29T08:30:41.961238Z",
     "iopub.status.idle": "2025-10-29T08:30:41.964130Z",
     "shell.execute_reply": "2025-10-29T08:30:41.963708Z"
    }
   },
   "outputs": [],
   "source": [
    "# lpn_model = LPN(in_dim=dim, hidden=hidden, layers=layers, beta=beta).to(device)\n",
    "# optimizer = torch.optim.Adam(lpn_model.parameters(), lr=1e-3)\n",
    "\n",
    "# loss_type = 0\n",
    "# gamma_loss = 20\n",
    "\n",
    "# # set learning rate\n",
    "# for g in optimizer.param_groups:\n",
    "#     g[\"lr\"] = 1e-4\n",
    "\n",
    "# for i in range(3000):\n",
    "#     single_iteration(i, data_points, lpn_model, optimizer, loss_type, gamma_loss)\n",
    "\n",
    "# for g in optimizer.param_groups:\n",
    "#     g[\"lr\"] = 1e-5\n",
    "\n",
    "# for i in range(3000):\n",
    "#     single_iteration(i, data_points, lpn_model, optimizer, loss_type, gamma_loss)\n",
    "\n",
    "# torch.save(lpn_model.state_dict(), os.path.join(MODEL_DIR, f\"l_{gamma_loss}.pth\"))"
   ]
  },
  {
   "cell_type": "markdown",
   "metadata": {},
   "source": [
    "gamma = 20 -- Plot"
   ]
  },
  {
   "cell_type": "code",
   "execution_count": 15,
   "metadata": {
    "execution": {
     "iopub.execute_input": "2025-10-29T08:30:41.966146Z",
     "iopub.status.busy": "2025-10-29T08:30:41.965713Z",
     "iopub.status.idle": "2025-10-29T08:30:41.968287Z",
     "shell.execute_reply": "2025-10-29T08:30:41.967878Z"
    }
   },
   "outputs": [],
   "source": [
    "# plot_all(lpn_model,a,spacing,mu1,mu2,sigma1,sigma2,INVERT_MODE,dim)"
   ]
  },
  {
   "cell_type": "markdown",
   "metadata": {},
   "source": [
    "gamma = 12.5 -- Train"
   ]
  },
  {
   "cell_type": "code",
   "execution_count": 16,
   "metadata": {
    "execution": {
     "iopub.execute_input": "2025-10-29T08:30:41.970226Z",
     "iopub.status.busy": "2025-10-29T08:30:41.969971Z",
     "iopub.status.idle": "2025-10-29T08:30:41.972569Z",
     "shell.execute_reply": "2025-10-29T08:30:41.972151Z"
    }
   },
   "outputs": [],
   "source": [
    "# gamma_loss = 12.5\n",
    "\n",
    "# for g in optimizer.param_groups:\n",
    "#     g[\"lr\"] = 1e-5\n",
    "\n",
    "# for i in range(6000):\n",
    "#     single_iteration(i, data_points, lpn_model, optimizer, loss_type, gamma_loss)\n",
    "\n",
    "# torch.save(lpn_model.state_dict(), os.path.join(MODEL_DIR, f\"l_{gamma_loss}.pth\"))"
   ]
  },
  {
   "cell_type": "markdown",
   "metadata": {},
   "source": [
    "gamma = 12.5 -- Plot"
   ]
  },
  {
   "cell_type": "code",
   "execution_count": 17,
   "metadata": {
    "execution": {
     "iopub.execute_input": "2025-10-29T08:30:41.974551Z",
     "iopub.status.busy": "2025-10-29T08:30:41.974219Z",
     "iopub.status.idle": "2025-10-29T08:30:41.976671Z",
     "shell.execute_reply": "2025-10-29T08:30:41.976152Z"
    }
   },
   "outputs": [],
   "source": [
    "# plot_all(lpn_model,a,spacing,mu1,mu2,sigma1,sigma2,INVERT_MODE,dim)"
   ]
  },
  {
   "cell_type": "markdown",
   "metadata": {},
   "source": [
    "gamma = 10 -- Train"
   ]
  },
  {
   "cell_type": "code",
   "execution_count": 18,
   "metadata": {
    "execution": {
     "iopub.execute_input": "2025-10-29T08:30:41.978648Z",
     "iopub.status.busy": "2025-10-29T08:30:41.978263Z",
     "iopub.status.idle": "2025-10-29T08:30:41.980894Z",
     "shell.execute_reply": "2025-10-29T08:30:41.980397Z"
    }
   },
   "outputs": [],
   "source": [
    "# gamma_loss = 10\n",
    "\n",
    "# for g in optimizer.param_groups:\n",
    "#     g[\"lr\"] = 1e-5\n",
    "\n",
    "# for i in range(10000):\n",
    "#     single_iteration(i, data_points, lpn_model, optimizer, loss_type, gamma_loss)\n",
    "\n",
    "# torch.save(lpn_model.state_dict(), os.path.join(MODEL_DIR, f\"l_{gamma_loss}.pth\"))"
   ]
  },
  {
   "cell_type": "markdown",
   "metadata": {},
   "source": [
    "gamma = 10 -- Plot"
   ]
  },
  {
   "cell_type": "code",
   "execution_count": 19,
   "metadata": {
    "execution": {
     "iopub.execute_input": "2025-10-29T08:30:41.982840Z",
     "iopub.status.busy": "2025-10-29T08:30:41.982471Z",
     "iopub.status.idle": "2025-10-29T08:30:41.985124Z",
     "shell.execute_reply": "2025-10-29T08:30:41.984645Z"
    }
   },
   "outputs": [],
   "source": [
    "# plot_all(lpn_model,a,spacing,mu1,mu2,sigma1,sigma2,INVERT_MODE,dim)"
   ]
  }
 ],
 "metadata": {
  "colab": {
   "provenance": []
  },
  "kernelspec": {
   "display_name": "lpn_env_image",
   "language": "python",
   "name": "python3"
  },
  "language_info": {
   "codemirror_mode": {
    "name": "ipython",
    "version": 3
   },
   "file_extension": ".py",
   "mimetype": "text/x-python",
   "name": "python",
   "nbconvert_exporter": "python",
   "pygments_lexer": "ipython3",
   "version": "3.13.5"
  }
 },
 "nbformat": 4,
 "nbformat_minor": 4
}
