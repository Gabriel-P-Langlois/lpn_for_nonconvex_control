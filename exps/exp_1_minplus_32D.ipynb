{
 "cells": [
  {
   "cell_type": "markdown",
   "metadata": {},
   "source": [
    "# Minplus algebra experiment"
   ]
  },
  {
   "cell_type": "markdown",
   "metadata": {},
   "source": [
    "This code attempts to learn the 32D mixture prior\n",
    "$J(x) = min(\\frac{1}{2t\\sigma_{1}}||x-\\mu_{1}||^{2}, \\frac{1}{2\\sigma_{2}}||x-\\mu_{2}||^{2})$\n",
    "assuming we have access to training data $\\{y_i, S(y_i)\\} = min_{x \\in \\R} \\ \\{0.5||x-y_i||^{2}_{2} + J(x)\\}\\}$."
   ]
  },
  {
   "cell_type": "markdown",
   "metadata": {},
   "source": [
    "## Import modules "
   ]
  },
  {
   "cell_type": "code",
   "execution_count": 1,
   "metadata": {
    "execution": {
     "iopub.execute_input": "2025-10-28T22:55:17.171928Z",
     "iopub.status.busy": "2025-10-28T22:55:17.171714Z",
     "iopub.status.idle": "2025-10-28T22:55:20.758190Z",
     "shell.execute_reply": "2025-10-28T22:55:20.757476Z"
    },
    "id": "Mtd5gx1tv90z"
   },
   "outputs": [],
   "source": [
    "import os\n",
    "import numpy as np\n",
    "import torch\n",
    "\n",
    "import matplotlib.pyplot as plt\n",
    "from matplotlib import cm\n",
    "from matplotlib.ticker import LinearLocator\n",
    "import seaborn as sns\n",
    "\n",
    "from network import LPN\n",
    "from lib.utils import cvx\n",
    "from lib.invert import invert\n",
    "\n",
    "# set location\n",
    "MODEL_DIR = \"experiments/models/minplus_32D\"\n",
    "os.makedirs(MODEL_DIR, exist_ok=True)\n",
    "device = torch.device(\"cuda:0\" if torch.cuda.is_available() else \"cpu\")\n",
    "\n",
    "# set random seeds\n",
    "np.random.seed(1)\n",
    "torch.manual_seed(1)\n",
    "\n",
    "# plotting options\n",
    "plt.rcParams.update({\"text.usetex\": False})\n",
    "sns.set_theme()"
   ]
  },
  {
   "cell_type": "markdown",
   "metadata": {},
   "source": [
    "# Utility functions and plotting tools"
   ]
  },
  {
   "cell_type": "code",
   "execution_count": 2,
   "metadata": {
    "execution": {
     "iopub.execute_input": "2025-10-28T22:55:20.761095Z",
     "iopub.status.busy": "2025-10-28T22:55:20.760727Z",
     "iopub.status.idle": "2025-10-28T22:55:20.891363Z",
     "shell.execute_reply": "2025-10-28T22:55:20.890772Z"
    }
   },
   "outputs": [],
   "source": [
    "##############################\n",
    "#----- Utlity functions -----#\n",
    "##############################\n",
    "\n",
    "# Elementary functions, with the axis specified.\n",
    "def euclid_norm(x):\n",
    "    return np.linalg.norm(x, ord = 2, axis = 1)\n",
    "\n",
    "\n",
    "def inner_prod(x,y):\n",
    "    return np.sum(x*y, axis = 1)\n",
    "\n",
    "def euclid_norm_sq(x):\n",
    "    if x.ndim == 1:\n",
    "        return np.sum(x*x)\n",
    "    return np.sum(x * x, axis=1)\n",
    "\n",
    "\n",
    "def exp_func(x, gamma):\n",
    "    ''' Proximal matching loss -- x |-> 1 - exp(-(||x||_{2}^{2}/gamma)^{2})\n",
    "        for training learned proximal networks.\n",
    "    '''\n",
    "    return -torch.exp(-((torch.linalg.vector_norm(x, ord = 2, dim = 1)/ gamma) ** 2)) + 1.0\n",
    "\n",
    "\n",
    "def hjsol_true(y,mu1,mu2,sigma1,sigma2):\n",
    "    '''This function computes the solution S(y,t) of the Hamilton--Jacobi\n",
    "    PDE for the minplus algebra example at t = 1.\n",
    "\n",
    "    Args:\n",
    "        y:      An n-dimensional numpy array of numbers\n",
    "        mu1:    An n-dimensional numpy array of numbers\n",
    "        mu2:    An n-dimensional numpy array of numbers\n",
    "        sigma1: A positive number\n",
    "        sigma2: A positive number\n",
    "    Returns:\n",
    "        hjsol:  An n-dimensional numpy array of numbers\n",
    "    '''\n",
    "\n",
    "    val1 = 0.5*pow(euclid_norm(y-mu1),2)/(1+sigma1)\n",
    "    val2 = 0.5*pow(euclid_norm(y-mu2),2)/(1+sigma2)\n",
    "    hjsol = np.minimum(val1,val2)\n",
    "    return hjsol\n",
    "\n",
    "\n",
    "def prior_true(y,mu1,mu2,sigma1,sigma2):\n",
    "    '''This function computes the initial data of the Hamilton--Jacobi\n",
    "    PDE for the minplus algebra example.\n",
    "\n",
    "    Args:\n",
    "        y:      An n-dimensional numpy array of numbers\n",
    "        mu1:    An n-dimensional numpy array of numbers\n",
    "        mu2:    An n-dimensional numpy array of numbers\n",
    "        sigma1: A positive number\n",
    "        sigma2: A positive number\n",
    "    Returns:\n",
    "        prior:  An n-dimensional numpy array of numbers\n",
    "    '''\n",
    "        \n",
    "    val1 = 0.5*pow(euclid_norm(y-mu1),2)/sigma1\n",
    "    val2 = 0.5*pow(euclid_norm(y-mu2),2)/sigma2\n",
    "    prior = np.minimum(val1,val2)\n",
    "    return prior\n",
    "\n",
    "\n",
    "def cvx_true(y,mu1,mu2,sigma1,sigma2):\n",
    "    '''This function computes 0.5*norm(y)_{2}^{2} - S(y,t) at t = 1.\n",
    "\n",
    "    Args:\n",
    "        y:      An n-dimensional numpy array of numbers\n",
    "        mu1:    An n-dimensional numpy array of numbers\n",
    "        mu2:    An n-dimensional numpy array of numbers\n",
    "        sigma1: A positive number\n",
    "        sigma2: A positive number\n",
    "    Returns:\n",
    "        cvx:  An n-dimensional numpy array of numbers\n",
    "    '''\n",
    "\n",
    "    cvx = 0.5*pow(euclid_norm(y),2) - hjsol_true(y,mu1,mu2,sigma1,sigma2)\n",
    "    return cvx\n",
    "\n",
    "\n",
    "def invert_prior(x, model, INVERT_MODE):\n",
    "    ''' This function inverts the learned prior at a set of query points x.\n",
    "    That is, we compute the points y for which nabla_{y}psi(y) = x, \n",
    "    where nabla_{y}*psi denotes the gradient of the LPN network.\n",
    "\n",
    "        Args:\n",
    "            x:              A numpy array of real numbers at which to invert the prior.\n",
    "            model:          The trained LPN model object.\n",
    "            INVERT_MODE:    The method for inverting the LPN network.\n",
    "\n",
    "        Returns:    y:      The (approximate) set of points for which nabla_{y}psi(y) = x,\n",
    "                            as a numpy array.\n",
    "    '''\n",
    "\n",
    "    y = invert(x,model,INVERT_MODE)\n",
    "    return y\n",
    "\n",
    "\n",
    "def evaluate_learned_prior(x, y, model, INVERT_MODE):\n",
    "    ''' This function evaluates the learned prior at the points y obtained from\n",
    "    inverting the prior, that is, for which nabla_{y}psi(y) = x, where nabla_{y}psi denotes\n",
    "    the gradient of the LPN network.\n",
    "    \n",
    "    Args:\n",
    "            x:              A numpy array of real numbers at which to invert the prior.\n",
    "            model:          The trained LPN model object.\n",
    "            INVERT_MODE:    The method for inverting the LPN network.\n",
    "\n",
    "    Returns:    prior_est   The learned initial data (prior) of the HJ PDE at the points x.\n",
    "    '''\n",
    "\n",
    "    psi = model.scalar(torch.tensor(y).float().to(device)).squeeze(1).detach().cpu().numpy()\n",
    "    prior_est = np.sum(x*y, axis = 1) - 0.5 * euclid_norm(x) - psi\n",
    "\n",
    "    return prior_est\n",
    "\n",
    "############################\n",
    "#----- Plotting tools -----#\n",
    "############################\n",
    "\n",
    "def compute_square_cross_sections(a, spacing, dim):\n",
    "    ''' Compute the cross sections (xi,0,...,0) and (0,xi,0,...,0) \n",
    "    on the grid [-a,a]^{dim} along the first and second dimensions.\n",
    "\n",
    "    Args:       a:      A positive number\n",
    "                spacing: Number of grid spacing along [-a,a]\n",
    "                dim:    Dimension of the Hamilton--Jacobi PDE\n",
    "\n",
    "    Returns:    xi:             The numpy array np.linspace(-a, a, spacing)\n",
    "\n",
    "                x1_0_points:    k x dim numpy array of points, where\n",
    "                                x_1_0_points[:,0] = np.linspace(-a, a, spacing)\n",
    "                                with the rest of the entries equal to 0, and\n",
    "                                k = xi.size\n",
    "\n",
    "                x2_0_points:    k x dim numpy array of points, where\n",
    "                                x_2_0_points[:,1] = np.linspace(-a, a, spacing)\n",
    "                                with the rest of the entries equal to 0, and\n",
    "                                k = xi.size\n",
    "    '''\n",
    "\n",
    "    xi = np.linspace(-a,a,spacing)\n",
    "    grid = np.zeros((xi.size, dim))\n",
    "    x1_0_points = np.copy(grid); x1_0_points[:,0] = xi\n",
    "    x2_0_points = np.copy(grid); x2_0_points[:,1] = xi\n",
    "\n",
    "    return xi, x1_0_points, x2_0_points\n",
    "\n",
    "\n",
    "def cross_sections_plots(model,a,spacing,mu1,mu2,sigma1,sigma2,INVERT_MODE,dim):\n",
    "    ''' Compare the true solution of the Hamilton--Jacobi PDE vs the LPN model\n",
    "        on a square grid [-a,a]^{dim} by overlaying their cross sections along the first and second axes.\n",
    "\n",
    "    Args:\n",
    "            model:          The trained LPN model object.\n",
    "            a:              Measure of the grid [-a,a]^{dim}\n",
    "            spacing:        Number of points in the interval [-a,a]\n",
    "            mu1, mu2:       n-dimensional numpy arrays for specifying the initial data\n",
    "            sigma1, sigma2: Positive numbers for specifying the initial data\n",
    "            INVERT_MODE:    The method for inverting the LPN network.\n",
    "            dim:            Spatial dimension of the problem\n",
    "    '''\n",
    "\n",
    "    # Compute the cross sections in the first and second axes of the grid [-a,a]^{dim}. \n",
    "    xi, x1_0_points, x2_0_points = compute_square_cross_sections(a, spacing, dim)\n",
    "\n",
    "    # Compute the true initial data and convex functions at the cross section points\n",
    "    x1_0_cvx_true = cvx_true(x1_0_points,mu1,mu2,sigma1,sigma2)\n",
    "    x2_0_cvx_true = cvx_true(x2_0_points,mu1,mu2,sigma1,sigma2)\n",
    "\n",
    "    x1_0_prior_true = prior_true(x1_0_points,mu1,mu2,sigma1,sigma2)\n",
    "    x2_0_prior_true = prior_true(x2_0_points,mu1,mu2,sigma1,sigma2)\n",
    "\n",
    "    # Compute the learned initial data and convex functions at the cross section points\n",
    "    x1_0_cvx_est = cvx(x1_0_points,model)\n",
    "    x2_0_cvx_est = cvx(x2_0_points,model)\n",
    "    \n",
    "    y1 = invert(x1_0_points,model,INVERT_MODE)\n",
    "    y2 = invert(x2_0_points,model,INVERT_MODE)\n",
    "    x1_0_prior_est = evaluate_learned_prior(x1_0_points, y1, model, INVERT_MODE)\n",
    "    x2_0_prior_est = evaluate_learned_prior(x2_0_points, y2, model, INVERT_MODE)\n",
    "\n",
    "    # Plot cross sections of the convex function\n",
    "    plt.subplots()\n",
    "    plt.plot(xi, x1_0_cvx_est, \"-\", ms=5,label=\"LPN\")\n",
    "    plt.plot(xi, x1_0_cvx_true, \"-\", ms=5,label=\"Ref\")\n",
    "    plt.grid(\"on\")\n",
    "    plt.title(\"Cross sections ($x_1$,0) of the convex function\")\n",
    "    plt.xlabel('$x_1$')\n",
    "    plt.ylabel('Convex functions ($x_1$,0)')\n",
    "    plt.legend()\n",
    "\n",
    "    plt.subplots()\n",
    "    plt.plot(xi, x2_0_cvx_est, \"-\", ms=5,label=\"LPN\")\n",
    "    plt.plot(xi, x2_0_cvx_true, \"-\", ms=5,label=\"Ref\")\n",
    "    plt.grid(\"on\")\n",
    "    plt.title(\"Cross sections (0,$x_2$) of the convex function\")\n",
    "    plt.xlabel('$x_2$')\n",
    "    plt.ylabel('Convex functions (0, $x_2$)')\n",
    "    plt.legend()\n",
    "\n",
    "    # Plot cross sections of the prior function\n",
    "    plt.subplots()\n",
    "    plt.plot(xi, x1_0_prior_est, \"-\", label=\"LPN\")\n",
    "    plt.plot(xi, x1_0_prior_true, \"-\", label=\"Ref\")\n",
    "    plt.grid(\"on\")\n",
    "    plt.title(\"Cross sections ($x_1$,0) of the prior function\")\n",
    "    plt.xlabel('$x_1$')\n",
    "    plt.ylabel('Prior functions ($x_1$,0)')\n",
    "    plt.legend()\n",
    "\n",
    "    plt.subplots()\n",
    "    plt.plot(xi, x2_0_prior_est, \"-\", label=\"LPN\")\n",
    "    plt.plot(xi, x2_0_prior_true, \"-\", label=\"Ref\")\n",
    "    plt.grid(\"on\")\n",
    "    plt.title(\"Cross sections (0,$x_2$) of the prior function\")\n",
    "    plt.xlabel('$x_2$')\n",
    "    plt.ylabel('Prior functions (0, $x_2$)')\n",
    "    plt.legend()\n",
    "\n",
    "\n",
    "\n",
    "\n",
    "def plot_all(model,a,spacing,mu1,mu2,sigma1,sigma2,INVERT_MODE,dim):\n",
    "\n",
    "    # Plot cross sections of the HJ PDEs vs learned proximal network along the first and second dimensions.\n",
    "    cross_sections_plots(model,a,spacing,mu1,mu2,sigma1,sigma2,INVERT_MODE,dim)"
   ]
  },
  {
   "cell_type": "markdown",
   "metadata": {},
   "source": [
    "## Parameters"
   ]
  },
  {
   "cell_type": "code",
   "execution_count": 3,
   "metadata": {
    "execution": {
     "iopub.execute_input": "2025-10-28T22:55:20.893542Z",
     "iopub.status.busy": "2025-10-28T22:55:20.893282Z",
     "iopub.status.idle": "2025-10-28T22:55:20.896959Z",
     "shell.execute_reply": "2025-10-28T22:55:20.896531Z"
    }
   },
   "outputs": [],
   "source": [
    "# Dimension\n",
    "dim = 32\n",
    "\n",
    "# Prior parameters\n",
    "mu1 = np.zeros(dim); mu1[0] = 1.0;  sigma1 = 1.0\n",
    "mu2 = np.ones(dim)/np.sqrt(dim);    sigma2 = 1.0\n",
    "\n",
    "# Define the spatial grid [-a,a]^{dim}\n",
    "a, spacing = 4, 100\n",
    "\n",
    "# Number of samples from the solution we have access to\n",
    "data_points = 40000\n",
    "Iterations = 500000\n",
    "\n",
    "# LPN model parameters\n",
    "# Note: The defaults parameters are beta = 10, hidden = 50, layers = 4\n",
    "beta = 10       # beta of softplus\n",
    "hidden = 128     # number of hidden units\n",
    "layers = 6      # number of layers\n",
    "\n",
    "# optimization algorithm to use for computing the prior (cvx_cg, cvx_gd)\n",
    "INVERT_MODE = \"cvx_gd\""
   ]
  },
  {
   "cell_type": "markdown",
   "metadata": {},
   "source": [
    "## Generate training data"
   ]
  },
  {
   "cell_type": "code",
   "execution_count": 4,
   "metadata": {
    "execution": {
     "iopub.execute_input": "2025-10-28T22:55:20.898965Z",
     "iopub.status.busy": "2025-10-28T22:55:20.898702Z",
     "iopub.status.idle": "2025-10-28T22:55:21.136634Z",
     "shell.execute_reply": "2025-10-28T22:55:21.136051Z"
    }
   },
   "outputs": [],
   "source": [
    "# Generate samples {yi} uniformly in the grid [-a,a]^{dim}\n",
    "input = np.zeros((dim,data_points))\n",
    "\n",
    "if(dim>1):\n",
    "    for k in range(0,dim):\n",
    "        input[k] = np.random.uniform(-a,a,data_points)\n",
    "else:\n",
    "    input = np.random.uniform(-a,a,data_points)\n",
    "\n",
    "input = input.reshape(data_points,dim)\n",
    "\n",
    "# Generate the samples\n",
    "cvx_samples = cvx_true(input,mu1,mu2,sigma1,sigma2).reshape(data_points,-1)\n",
    "\n",
    "# Recast the samples as tensors\n",
    "input = torch.from_numpy(input).float()\n",
    "cvx_samples = torch.from_numpy(cvx_samples).float()\n",
    "\n",
    "# --- ADD THIS TO MOVE DATA TO GPU ---\n",
    "input = input.to(device)\n",
    "cvx_samples = cvx_samples.to(device)"
   ]
  },
  {
   "cell_type": "markdown",
   "metadata": {},
   "source": [
    "## Training function"
   ]
  },
  {
   "cell_type": "code",
   "execution_count": 5,
   "metadata": {
    "execution": {
     "iopub.execute_input": "2025-10-28T22:55:21.139007Z",
     "iopub.status.busy": "2025-10-28T22:55:21.138731Z",
     "iopub.status.idle": "2025-10-28T22:55:21.142895Z",
     "shell.execute_reply": "2025-10-28T22:55:21.142442Z"
    }
   },
   "outputs": [],
   "source": [
    "def single_iteration(i, data_points, lpn_model, optimizer, input,cvx_samples,loss_type, gamma_loss=None):\n",
    "    # Compute the convex function from the input.\n",
    "    cvx_out = lpn_model.scalar(input)\n",
    "\n",
    "    # Calculate the loss function\n",
    "    if loss_type == 2:\n",
    "        loss = (cvx_out - cvx_samples).pow(2).sum() / data_points   # MSE loss\n",
    "    elif loss_type == 1:\n",
    "        loss = (cvx_out - cvx_samples).abs().sum() / data_points    # MAE loss\n",
    "    elif loss_type == 0:\n",
    "        loss = exp_func(cvx_out - cvx_samples, gamma_loss).mean()   # proximal matching loss\n",
    "    else:\n",
    "        raise ValueError(\"loss_type must be 0, 1, or 2\")\n",
    "\n",
    "\n",
    "    optimizer.zero_grad()\n",
    "    loss.backward()\n",
    "    optimizer.step()\n",
    "\n",
    "    lpn_model.wclip()\n",
    "\n",
    "    # monitor\n",
    "    # loss_lstar = exp_func(out - target, 0.1).mean()\n",
    "\n",
    "    if not i % 5000:\n",
    "        print(\"iteration\", i, \"loss\", loss.item()) #, \"loss_lstar\", loss_lstar.item())"
   ]
  },
  {
   "cell_type": "markdown",
   "metadata": {},
   "source": [
    "# Train"
   ]
  },
  {
   "cell_type": "markdown",
   "metadata": {},
   "source": [
    "L2 loss -- Train"
   ]
  },
  {
   "cell_type": "code",
   "execution_count": 6,
   "metadata": {
    "execution": {
     "iopub.execute_input": "2025-10-28T22:55:21.145142Z",
     "iopub.status.busy": "2025-10-28T22:55:21.144615Z",
     "iopub.status.idle": "2025-10-28T23:45:42.101642Z",
     "shell.execute_reply": "2025-10-28T23:45:42.100942Z"
    }
   },
   "outputs": [
    {
     "name": "stdout",
     "output_type": "stream",
     "text": [
      "iteration 0 loss 1856.2318115234375\n",
      "iteration 0 loss 903369.375\n"
     ]
    },
    {
     "name": "stdout",
     "output_type": "stream",
     "text": [
      "iteration 5000 loss 14.528374671936035\n"
     ]
    },
    {
     "name": "stdout",
     "output_type": "stream",
     "text": [
      "iteration 10000 loss 11.145769119262695\n"
     ]
    },
    {
     "name": "stdout",
     "output_type": "stream",
     "text": [
      "iteration 15000 loss 5.306774139404297\n"
     ]
    },
    {
     "name": "stdout",
     "output_type": "stream",
     "text": [
      "iteration 20000 loss 0.04200145602226257\n"
     ]
    },
    {
     "name": "stdout",
     "output_type": "stream",
     "text": [
      "iteration 25000 loss 0.035265155136585236\n"
     ]
    },
    {
     "name": "stdout",
     "output_type": "stream",
     "text": [
      "iteration 30000 loss 0.005654017440974712\n"
     ]
    },
    {
     "name": "stdout",
     "output_type": "stream",
     "text": [
      "iteration 35000 loss 0.003150222124531865\n"
     ]
    },
    {
     "name": "stdout",
     "output_type": "stream",
     "text": [
      "iteration 40000 loss 0.0018920815782621503\n"
     ]
    },
    {
     "name": "stdout",
     "output_type": "stream",
     "text": [
      "iteration 45000 loss 0.0011615720577538013\n"
     ]
    },
    {
     "name": "stdout",
     "output_type": "stream",
     "text": [
      "iteration 50000 loss 0.15178744494915009\n"
     ]
    },
    {
     "name": "stdout",
     "output_type": "stream",
     "text": [
      "iteration 55000 loss 0.000500894442666322\n"
     ]
    },
    {
     "name": "stdout",
     "output_type": "stream",
     "text": [
      "iteration 60000 loss 0.00034124148078262806\n"
     ]
    },
    {
     "name": "stdout",
     "output_type": "stream",
     "text": [
      "iteration 65000 loss 0.00023818635963834822\n"
     ]
    },
    {
     "name": "stdout",
     "output_type": "stream",
     "text": [
      "iteration 70000 loss 0.00017197514534927905\n"
     ]
    },
    {
     "name": "stdout",
     "output_type": "stream",
     "text": [
      "iteration 75000 loss 0.0001251254725502804\n"
     ]
    },
    {
     "name": "stdout",
     "output_type": "stream",
     "text": [
      "iteration 80000 loss 9.251029405277222e-05\n"
     ]
    },
    {
     "name": "stdout",
     "output_type": "stream",
     "text": [
      "iteration 85000 loss 7.309378997888416e-05\n"
     ]
    },
    {
     "name": "stdout",
     "output_type": "stream",
     "text": [
      "iteration 90000 loss 0.02292538434267044\n"
     ]
    },
    {
     "name": "stdout",
     "output_type": "stream",
     "text": [
      "iteration 95000 loss 4.2723386286525056e-05\n"
     ]
    },
    {
     "name": "stdout",
     "output_type": "stream",
     "text": [
      "iteration 100000 loss 5.027395309298299e-05\n"
     ]
    },
    {
     "name": "stdout",
     "output_type": "stream",
     "text": [
      "iteration 105000 loss 0.0016158801736310124\n"
     ]
    },
    {
     "name": "stdout",
     "output_type": "stream",
     "text": [
      "iteration 110000 loss 0.004804391413927078\n"
     ]
    },
    {
     "name": "stdout",
     "output_type": "stream",
     "text": [
      "iteration 115000 loss 0.0033989818766713142\n"
     ]
    },
    {
     "name": "stdout",
     "output_type": "stream",
     "text": [
      "iteration 120000 loss 0.1272554248571396\n"
     ]
    },
    {
     "name": "stdout",
     "output_type": "stream",
     "text": [
      "iteration 125000 loss 6.971684342715889e-05\n"
     ]
    },
    {
     "name": "stdout",
     "output_type": "stream",
     "text": [
      "iteration 130000 loss 1.6909198166104034e-05\n"
     ]
    },
    {
     "name": "stdout",
     "output_type": "stream",
     "text": [
      "iteration 135000 loss 1.5856554455240257e-05\n"
     ]
    },
    {
     "name": "stdout",
     "output_type": "stream",
     "text": [
      "iteration 140000 loss 1.4427819223783445e-05\n"
     ]
    },
    {
     "name": "stdout",
     "output_type": "stream",
     "text": [
      "iteration 145000 loss 4.57458954770118e-05\n"
     ]
    },
    {
     "name": "stdout",
     "output_type": "stream",
     "text": [
      "iteration 150000 loss 1.668663571763318e-05\n"
     ]
    },
    {
     "name": "stdout",
     "output_type": "stream",
     "text": [
      "iteration 155000 loss 3.2887426641536877e-05\n"
     ]
    },
    {
     "name": "stdout",
     "output_type": "stream",
     "text": [
      "iteration 160000 loss 1.708835225144867e-05\n"
     ]
    },
    {
     "name": "stdout",
     "output_type": "stream",
     "text": [
      "iteration 165000 loss 1.4755050870007835e-05\n"
     ]
    },
    {
     "name": "stdout",
     "output_type": "stream",
     "text": [
      "iteration 170000 loss 0.000150849053170532\n"
     ]
    },
    {
     "name": "stdout",
     "output_type": "stream",
     "text": [
      "iteration 175000 loss 1.4273291526478715e-05\n"
     ]
    },
    {
     "name": "stdout",
     "output_type": "stream",
     "text": [
      "iteration 180000 loss 0.0008530599297955632\n"
     ]
    },
    {
     "name": "stdout",
     "output_type": "stream",
     "text": [
      "iteration 185000 loss 1.3062220205029007e-05\n"
     ]
    },
    {
     "name": "stdout",
     "output_type": "stream",
     "text": [
      "iteration 190000 loss 1.1808549970737658e-05\n"
     ]
    },
    {
     "name": "stdout",
     "output_type": "stream",
     "text": [
      "iteration 195000 loss 1.216492000821745e-05\n"
     ]
    },
    {
     "name": "stdout",
     "output_type": "stream",
     "text": [
      "iteration 200000 loss 0.09211049973964691\n"
     ]
    },
    {
     "name": "stdout",
     "output_type": "stream",
     "text": [
      "iteration 205000 loss 1.2217864423291758e-05\n"
     ]
    },
    {
     "name": "stdout",
     "output_type": "stream",
     "text": [
      "iteration 210000 loss 1.1923716556339059e-05\n"
     ]
    },
    {
     "name": "stdout",
     "output_type": "stream",
     "text": [
      "iteration 215000 loss 1.196732137032086e-05\n"
     ]
    },
    {
     "name": "stdout",
     "output_type": "stream",
     "text": [
      "iteration 220000 loss 1.5268065908458084e-05\n"
     ]
    },
    {
     "name": "stdout",
     "output_type": "stream",
     "text": [
      "iteration 225000 loss 1.1935293514397927e-05\n"
     ]
    },
    {
     "name": "stdout",
     "output_type": "stream",
     "text": [
      "iteration 230000 loss 1.1009433364961296e-05\n"
     ]
    },
    {
     "name": "stdout",
     "output_type": "stream",
     "text": [
      "iteration 235000 loss 1.2338962733338121e-05\n"
     ]
    },
    {
     "name": "stdout",
     "output_type": "stream",
     "text": [
      "iteration 240000 loss 1.555395283503458e-05\n"
     ]
    },
    {
     "name": "stdout",
     "output_type": "stream",
     "text": [
      "iteration 245000 loss 1.326248275290709e-05\n"
     ]
    },
    {
     "name": "stdout",
     "output_type": "stream",
     "text": [
      "iteration 250000 loss 1.0981181731040124e-05\n"
     ]
    },
    {
     "name": "stdout",
     "output_type": "stream",
     "text": [
      "iteration 255000 loss 1.1396615263947751e-05\n"
     ]
    },
    {
     "name": "stdout",
     "output_type": "stream",
     "text": [
      "iteration 260000 loss 5.328483530320227e-05\n"
     ]
    },
    {
     "name": "stdout",
     "output_type": "stream",
     "text": [
      "iteration 265000 loss 1.2977507140021771e-05\n"
     ]
    },
    {
     "name": "stdout",
     "output_type": "stream",
     "text": [
      "iteration 270000 loss 1.8743281543720514e-05\n"
     ]
    },
    {
     "name": "stdout",
     "output_type": "stream",
     "text": [
      "iteration 275000 loss 0.009172722697257996\n"
     ]
    },
    {
     "name": "stdout",
     "output_type": "stream",
     "text": [
      "iteration 280000 loss 0.0024465147871524096\n"
     ]
    },
    {
     "name": "stdout",
     "output_type": "stream",
     "text": [
      "iteration 285000 loss 1.3272684554976877e-05\n"
     ]
    },
    {
     "name": "stdout",
     "output_type": "stream",
     "text": [
      "iteration 290000 loss 9.74677186604822e-06\n"
     ]
    },
    {
     "name": "stdout",
     "output_type": "stream",
     "text": [
      "iteration 295000 loss 1.3069567103229929e-05\n"
     ]
    },
    {
     "name": "stdout",
     "output_type": "stream",
     "text": [
      "iteration 300000 loss 1.1369193998689298e-05\n"
     ]
    },
    {
     "name": "stdout",
     "output_type": "stream",
     "text": [
      "iteration 305000 loss 0.001067837351001799\n"
     ]
    },
    {
     "name": "stdout",
     "output_type": "stream",
     "text": [
      "iteration 310000 loss 1.0821705473063048e-05\n"
     ]
    },
    {
     "name": "stdout",
     "output_type": "stream",
     "text": [
      "iteration 315000 loss 0.0003503667248878628\n"
     ]
    },
    {
     "name": "stdout",
     "output_type": "stream",
     "text": [
      "iteration 320000 loss 1.117248393711634e-05\n"
     ]
    },
    {
     "name": "stdout",
     "output_type": "stream",
     "text": [
      "iteration 325000 loss 9.149859579338226e-06\n"
     ]
    },
    {
     "name": "stdout",
     "output_type": "stream",
     "text": [
      "iteration 330000 loss 1.0864935575227719e-05\n"
     ]
    },
    {
     "name": "stdout",
     "output_type": "stream",
     "text": [
      "iteration 335000 loss 0.00010123436368303373\n"
     ]
    },
    {
     "name": "stdout",
     "output_type": "stream",
     "text": [
      "iteration 340000 loss 1.0364397894591093e-05\n"
     ]
    },
    {
     "name": "stdout",
     "output_type": "stream",
     "text": [
      "iteration 345000 loss 1.3964213394501712e-05\n"
     ]
    },
    {
     "name": "stdout",
     "output_type": "stream",
     "text": [
      "iteration 350000 loss 9.91587876342237e-06\n"
     ]
    },
    {
     "name": "stdout",
     "output_type": "stream",
     "text": [
      "iteration 355000 loss 1.057085955835646e-05\n"
     ]
    },
    {
     "name": "stdout",
     "output_type": "stream",
     "text": [
      "iteration 360000 loss 8.677532605361193e-06\n"
     ]
    },
    {
     "name": "stdout",
     "output_type": "stream",
     "text": [
      "iteration 365000 loss 9.905466868076473e-06\n"
     ]
    },
    {
     "name": "stdout",
     "output_type": "stream",
     "text": [
      "iteration 370000 loss 9.449332537769806e-06\n"
     ]
    },
    {
     "name": "stdout",
     "output_type": "stream",
     "text": [
      "iteration 375000 loss 8.743915714148898e-06\n"
     ]
    },
    {
     "name": "stdout",
     "output_type": "stream",
     "text": [
      "iteration 380000 loss 0.0013008132809773088\n"
     ]
    },
    {
     "name": "stdout",
     "output_type": "stream",
     "text": [
      "iteration 385000 loss 1.1855482625833247e-05\n"
     ]
    },
    {
     "name": "stdout",
     "output_type": "stream",
     "text": [
      "iteration 390000 loss 1.001902091957163e-05\n"
     ]
    },
    {
     "name": "stdout",
     "output_type": "stream",
     "text": [
      "iteration 395000 loss 8.673369848111179e-06\n"
     ]
    },
    {
     "name": "stdout",
     "output_type": "stream",
     "text": [
      "iteration 400000 loss 8.459883247269318e-06\n"
     ]
    },
    {
     "name": "stdout",
     "output_type": "stream",
     "text": [
      "iteration 405000 loss 0.03716377913951874\n"
     ]
    },
    {
     "name": "stdout",
     "output_type": "stream",
     "text": [
      "iteration 410000 loss 0.0014003325486555696\n"
     ]
    },
    {
     "name": "stdout",
     "output_type": "stream",
     "text": [
      "iteration 415000 loss 1.4676561477244832e-05\n"
     ]
    },
    {
     "name": "stdout",
     "output_type": "stream",
     "text": [
      "iteration 420000 loss 8.934899597079493e-06\n"
     ]
    },
    {
     "name": "stdout",
     "output_type": "stream",
     "text": [
      "iteration 425000 loss 8.747776519157924e-06\n"
     ]
    },
    {
     "name": "stdout",
     "output_type": "stream",
     "text": [
      "iteration 430000 loss 8.319912922161166e-06\n"
     ]
    },
    {
     "name": "stdout",
     "output_type": "stream",
     "text": [
      "iteration 435000 loss 9.15399596124189e-06\n"
     ]
    },
    {
     "name": "stdout",
     "output_type": "stream",
     "text": [
      "iteration 440000 loss 8.105589586193673e-06\n"
     ]
    },
    {
     "name": "stdout",
     "output_type": "stream",
     "text": [
      "iteration 445000 loss 8.33776175568346e-06\n"
     ]
    },
    {
     "name": "stdout",
     "output_type": "stream",
     "text": [
      "iteration 450000 loss 8.280393558379728e-06\n"
     ]
    },
    {
     "name": "stdout",
     "output_type": "stream",
     "text": [
      "iteration 455000 loss 7.65958429838065e-06\n"
     ]
    },
    {
     "name": "stdout",
     "output_type": "stream",
     "text": [
      "iteration 460000 loss 7.819709935574792e-06\n"
     ]
    },
    {
     "name": "stdout",
     "output_type": "stream",
     "text": [
      "iteration 465000 loss 0.0010219214018434286\n"
     ]
    },
    {
     "name": "stdout",
     "output_type": "stream",
     "text": [
      "iteration 470000 loss 0.002377008553594351\n"
     ]
    },
    {
     "name": "stdout",
     "output_type": "stream",
     "text": [
      "iteration 475000 loss 1.3648214917338919e-05\n"
     ]
    },
    {
     "name": "stdout",
     "output_type": "stream",
     "text": [
      "iteration 480000 loss 0.07150079309940338\n"
     ]
    },
    {
     "name": "stdout",
     "output_type": "stream",
     "text": [
      "iteration 485000 loss 9.955857967725024e-05\n"
     ]
    },
    {
     "name": "stdout",
     "output_type": "stream",
     "text": [
      "iteration 490000 loss 9.69622669799719e-06\n"
     ]
    },
    {
     "name": "stdout",
     "output_type": "stream",
     "text": [
      "iteration 495000 loss 8.26079303806182e-06\n"
     ]
    }
   ],
   "source": [
    "# initialize\n",
    "lpn_model = LPN(in_dim=dim, hidden=hidden, layers=layers, beta=beta).to(device)\n",
    "optimizer = torch.optim.Adam(lpn_model.parameters(), lr=1e-3)\n",
    "\n",
    "for i in range(1):\n",
    "    single_iteration(i, data_points, lpn_model, optimizer,input,cvx_samples,loss_type=2)\n",
    "\n",
    "for g in optimizer.param_groups:\n",
    "    g[\"lr\"] = 1e-4\n",
    "for i in range(Iterations):\n",
    "    if (i % 20000 == 0) and (i > 0): \n",
    "        # Multiply the current learning rate by 1e-1\n",
    "        for g in optimizer.param_groups:\n",
    "            new_lr = g[\"lr\"] * 1e-1\n",
    "            g[\"lr\"] = new_lr\n",
    "        print(f\"Learning rate decreased to {new_lr} at iteration {i}\")    \n",
    "    single_iteration(i, data_points, lpn_model, optimizer,input,cvx_samples,loss_type=2)\n",
    "\n",
    "\n",
    "# save the model\n",
    "torch.save(lpn_model.state_dict(), os.path.join(MODEL_DIR, \"l2.pth\"))"
   ]
  },
  {
   "cell_type": "markdown",
   "metadata": {},
   "source": [
    "L2 loss -- Plot"
   ]
  },
  {
   "cell_type": "code",
   "execution_count": 7,
   "metadata": {
    "execution": {
     "iopub.execute_input": "2025-10-28T23:45:42.104304Z",
     "iopub.status.busy": "2025-10-28T23:45:42.103671Z",
     "iopub.status.idle": "2025-10-28T23:48:04.086565Z",
     "shell.execute_reply": "2025-10-28T23:48:04.085999Z"
    }
   },
   "outputs": [
    {
     "name": "stdout",
     "output_type": "stream",
     "text": [
      "loss -35.13438034057617\n"
     ]
    },
    {
     "name": "stdout",
     "output_type": "stream",
     "text": [
      "loss -200.59725952148438\n"
     ]
    },
    {
     "name": "stdout",
     "output_type": "stream",
     "text": [
      "loss -298.94696044921875\n"
     ]
    },
    {
     "name": "stdout",
     "output_type": "stream",
     "text": [
      "loss -380.9298400878906\n"
     ]
    },
    {
     "name": "stdout",
     "output_type": "stream",
     "text": [
      "loss -455.4067077636719\n"
     ]
    },
    {
     "name": "stdout",
     "output_type": "stream",
     "text": [
      "loss -522.0591430664062\n"
     ]
    },
    {
     "name": "stdout",
     "output_type": "stream",
     "text": [
      "loss -578.7123413085938\n"
     ]
    },
    {
     "name": "stdout",
     "output_type": "stream",
     "text": [
      "loss -623.8831787109375\n"
     ]
    },
    {
     "name": "stdout",
     "output_type": "stream",
     "text": [
      "loss -656.2770385742188\n"
     ]
    },
    {
     "name": "stdout",
     "output_type": "stream",
     "text": [
      "loss -678.3900146484375\n"
     ]
    },
    {
     "name": "stdout",
     "output_type": "stream",
     "text": [
      "loss -693.9043579101562\n"
     ]
    },
    {
     "name": "stdout",
     "output_type": "stream",
     "text": [
      "loss -704.7391357421875\n"
     ]
    },
    {
     "name": "stdout",
     "output_type": "stream",
     "text": [
      "loss -712.1417236328125\n"
     ]
    },
    {
     "name": "stdout",
     "output_type": "stream",
     "text": [
      "loss -716.9951171875\n"
     ]
    },
    {
     "name": "stdout",
     "output_type": "stream",
     "text": [
      "loss -719.9732666015625\n"
     ]
    },
    {
     "name": "stdout",
     "output_type": "stream",
     "text": [
      "loss -721.6389770507812\n"
     ]
    },
    {
     "name": "stdout",
     "output_type": "stream",
     "text": [
      "loss -722.465087890625\n"
     ]
    },
    {
     "name": "stdout",
     "output_type": "stream",
     "text": [
      "loss -722.81640625\n"
     ]
    },
    {
     "name": "stdout",
     "output_type": "stream",
     "text": [
      "loss -722.9388427734375\n"
     ]
    },
    {
     "name": "stdout",
     "output_type": "stream",
     "text": [
      "loss -722.9716796875\n"
     ]
    },
    {
     "name": "stdout",
     "output_type": "stream",
     "text": [
      "loss -722.9779663085938\n"
     ]
    },
    {
     "name": "stdout",
     "output_type": "stream",
     "text": [
      "loss -722.9786987304688\n"
     ]
    },
    {
     "name": "stdout",
     "output_type": "stream",
     "text": [
      "loss -722.978759765625\n"
     ]
    },
    {
     "name": "stdout",
     "output_type": "stream",
     "text": [
      "loss -722.9788208007812\n"
     ]
    },
    {
     "name": "stdout",
     "output_type": "stream",
     "text": [
      "loss -722.978759765625\n"
     ]
    },
    {
     "name": "stdout",
     "output_type": "stream",
     "text": [
      "loss -722.978759765625\n"
     ]
    },
    {
     "name": "stdout",
     "output_type": "stream",
     "text": [
      "loss -722.978759765625\n"
     ]
    },
    {
     "name": "stdout",
     "output_type": "stream",
     "text": [
      "loss -722.9788208007812\n"
     ]
    },
    {
     "name": "stdout",
     "output_type": "stream",
     "text": [
      "loss -722.978759765625\n"
     ]
    },
    {
     "name": "stdout",
     "output_type": "stream",
     "text": [
      "loss -722.978759765625\n"
     ]
    },
    {
     "name": "stdout",
     "output_type": "stream",
     "text": [
      "loss -722.978759765625\n"
     ]
    },
    {
     "name": "stdout",
     "output_type": "stream",
     "text": [
      "loss -722.978759765625\n"
     ]
    },
    {
     "name": "stdout",
     "output_type": "stream",
     "text": [
      "loss -722.978759765625\n"
     ]
    },
    {
     "name": "stdout",
     "output_type": "stream",
     "text": [
      "loss -722.978759765625\n"
     ]
    },
    {
     "name": "stdout",
     "output_type": "stream",
     "text": [
      "loss -722.978759765625\n"
     ]
    },
    {
     "name": "stdout",
     "output_type": "stream",
     "text": [
      "loss -722.978759765625\n"
     ]
    },
    {
     "name": "stdout",
     "output_type": "stream",
     "text": [
      "loss -722.978759765625\n"
     ]
    },
    {
     "name": "stdout",
     "output_type": "stream",
     "text": [
      "loss -722.978759765625\n"
     ]
    },
    {
     "name": "stdout",
     "output_type": "stream",
     "text": [
      "loss -722.9788208007812\n"
     ]
    },
    {
     "name": "stdout",
     "output_type": "stream",
     "text": [
      "loss -722.978759765625\n"
     ]
    },
    {
     "name": "stdout",
     "output_type": "stream",
     "text": [
      "final mse:  4.623361415934113e-10\n",
      "max, min: 5.7844157 -6.8589153\n",
      "loss -35.13438034057617\n"
     ]
    },
    {
     "name": "stdout",
     "output_type": "stream",
     "text": [
      "loss -204.6858367919922\n"
     ]
    },
    {
     "name": "stdout",
     "output_type": "stream",
     "text": [
      "loss -305.6558837890625\n"
     ]
    },
    {
     "name": "stdout",
     "output_type": "stream",
     "text": [
      "loss -390.7265930175781\n"
     ]
    },
    {
     "name": "stdout",
     "output_type": "stream",
     "text": [
      "loss -469.61065673828125\n"
     ]
    },
    {
     "name": "stdout",
     "output_type": "stream",
     "text": [
      "loss -542.5126953125\n"
     ]
    },
    {
     "name": "stdout",
     "output_type": "stream",
     "text": [
      "loss -607.4920654296875\n"
     ]
    },
    {
     "name": "stdout",
     "output_type": "stream",
     "text": [
      "loss -661.8812255859375\n"
     ]
    },
    {
     "name": "stdout",
     "output_type": "stream",
     "text": [
      "loss -704.5\n"
     ]
    },
    {
     "name": "stdout",
     "output_type": "stream",
     "text": [
      "loss -735.9444580078125\n"
     ]
    },
    {
     "name": "stdout",
     "output_type": "stream",
     "text": [
      "loss -758.4285888671875\n"
     ]
    },
    {
     "name": "stdout",
     "output_type": "stream",
     "text": [
      "loss -773.936279296875\n"
     ]
    },
    {
     "name": "stdout",
     "output_type": "stream",
     "text": [
      "loss -784.2037963867188\n"
     ]
    },
    {
     "name": "stdout",
     "output_type": "stream",
     "text": [
      "loss -790.7699584960938\n"
     ]
    },
    {
     "name": "stdout",
     "output_type": "stream",
     "text": [
      "loss -794.829833984375\n"
     ]
    },
    {
     "name": "stdout",
     "output_type": "stream",
     "text": [
      "loss -797.2049560546875\n"
     ]
    },
    {
     "name": "stdout",
     "output_type": "stream",
     "text": [
      "loss -798.475830078125\n"
     ]
    },
    {
     "name": "stdout",
     "output_type": "stream",
     "text": [
      "loss -799.0759887695312\n"
     ]
    },
    {
     "name": "stdout",
     "output_type": "stream",
     "text": [
      "loss -799.31689453125\n"
     ]
    },
    {
     "name": "stdout",
     "output_type": "stream",
     "text": [
      "loss -799.3955078125\n"
     ]
    },
    {
     "name": "stdout",
     "output_type": "stream",
     "text": [
      "loss -799.4152221679688\n"
     ]
    },
    {
     "name": "stdout",
     "output_type": "stream",
     "text": [
      "loss -799.4187622070312\n"
     ]
    },
    {
     "name": "stdout",
     "output_type": "stream",
     "text": [
      "loss -799.419189453125\n"
     ]
    },
    {
     "name": "stdout",
     "output_type": "stream",
     "text": [
      "loss -799.419189453125\n"
     ]
    },
    {
     "name": "stdout",
     "output_type": "stream",
     "text": [
      "loss -799.419189453125\n"
     ]
    },
    {
     "name": "stdout",
     "output_type": "stream",
     "text": [
      "loss -799.419189453125\n"
     ]
    },
    {
     "name": "stdout",
     "output_type": "stream",
     "text": [
      "loss -799.419189453125\n"
     ]
    },
    {
     "name": "stdout",
     "output_type": "stream",
     "text": [
      "loss -799.419189453125\n"
     ]
    },
    {
     "name": "stdout",
     "output_type": "stream",
     "text": [
      "loss -799.419189453125\n"
     ]
    },
    {
     "name": "stdout",
     "output_type": "stream",
     "text": [
      "loss -799.419189453125\n"
     ]
    },
    {
     "name": "stdout",
     "output_type": "stream",
     "text": [
      "loss -799.419189453125\n"
     ]
    },
    {
     "name": "stdout",
     "output_type": "stream",
     "text": [
      "loss -799.419189453125\n"
     ]
    },
    {
     "name": "stdout",
     "output_type": "stream",
     "text": [
      "loss -799.419189453125\n"
     ]
    },
    {
     "name": "stdout",
     "output_type": "stream",
     "text": [
      "loss -799.419189453125\n"
     ]
    },
    {
     "name": "stdout",
     "output_type": "stream",
     "text": [
      "loss -799.419189453125\n"
     ]
    },
    {
     "name": "stdout",
     "output_type": "stream",
     "text": [
      "loss -799.419189453125\n"
     ]
    },
    {
     "name": "stdout",
     "output_type": "stream",
     "text": [
      "loss -799.419189453125\n"
     ]
    },
    {
     "name": "stdout",
     "output_type": "stream",
     "text": [
      "loss -799.419189453125\n"
     ]
    },
    {
     "name": "stdout",
     "output_type": "stream",
     "text": [
      "loss -799.419189453125\n"
     ]
    },
    {
     "name": "stdout",
     "output_type": "stream",
     "text": [
      "loss -799.419189453125\n"
     ]
    },
    {
     "name": "stdout",
     "output_type": "stream",
     "text": [
      "final mse:  3.5600367098709285e-10\n",
      "max, min: 6.6050763 -7.115871\n"
     ]
    },
    {
     "data": {
      "image/png": "[encoded data removed]",
      "text/plain": [
       "<Figure size 640x480 with 1 Axes>"
      ]
     },
     "metadata": {},
     "output_type": "display_data"
    },
    {
     "data": {
      "image/png": "[encoded data removed]",
      "text/plain": [
       "<Figure size 640x480 with 1 Axes>"
      ]
     },
     "metadata": {},
     "output_type": "display_data"
    },
    {
     "data": {
      "image/png": "[encoded data removed]",
      "text/plain": [
       "<Figure size 640x480 with 1 Axes>"
      ]
     },
     "metadata": {},
     "output_type": "display_data"
    },
    {
     "data": {
      "image/png": "[encoded data removed]",
      "text/plain": [
       "<Figure size 640x480 with 1 Axes>"
      ]
     },
     "metadata": {},
     "output_type": "display_data"
    }
   ],
   "source": [
    "plot_all(lpn_model,a,spacing,mu1,mu2,sigma1,sigma2,INVERT_MODE,dim)"
   ]
  },
  {
   "cell_type": "code",
   "execution_count": 8,
   "metadata": {
    "execution": {
     "iopub.execute_input": "2025-10-28T23:48:04.089014Z",
     "iopub.status.busy": "2025-10-28T23:48:04.088749Z",
     "iopub.status.idle": "2025-10-29T00:38:21.348740Z",
     "shell.execute_reply": "2025-10-29T00:38:21.348070Z"
    }
   },
   "outputs": [
    {
     "name": "stdout",
     "output_type": "stream",
     "text": [
      "Generated G samples: G_samples_tensor shape torch.Size([20000, 1])\n",
      "\n",
      "--- Training Second LPN G(x) for Concave Quadratic Prior ---\n",
      "iteration 0 loss 1527.2542724609375\n",
      "iteration 0 loss 186597.65625\n"
     ]
    },
    {
     "name": "stdout",
     "output_type": "stream",
     "text": [
      "iteration 5000 loss 3.9245147705078125\n"
     ]
    },
    {
     "name": "stdout",
     "output_type": "stream",
     "text": [
      "iteration 10000 loss 1.9575302600860596\n"
     ]
    },
    {
     "name": "stdout",
     "output_type": "stream",
     "text": [
      "iteration 15000 loss 0.9709562063217163\n"
     ]
    },
    {
     "name": "stdout",
     "output_type": "stream",
     "text": [
      "iteration 20000 loss 0.09070529788732529\n"
     ]
    },
    {
     "name": "stdout",
     "output_type": "stream",
     "text": [
      "iteration 25000 loss 0.043358318507671356\n"
     ]
    },
    {
     "name": "stdout",
     "output_type": "stream",
     "text": [
      "iteration 30000 loss 0.02716338075697422\n"
     ]
    },
    {
     "name": "stdout",
     "output_type": "stream",
     "text": [
      "iteration 35000 loss 0.018763689324259758\n"
     ]
    },
    {
     "name": "stdout",
     "output_type": "stream",
     "text": [
      "iteration 40000 loss 0.013974044471979141\n"
     ]
    },
    {
     "name": "stdout",
     "output_type": "stream",
     "text": [
      "iteration 45000 loss 0.011008992791175842\n"
     ]
    },
    {
     "name": "stdout",
     "output_type": "stream",
     "text": [
      "iteration 50000 loss 0.00882671307772398\n"
     ]
    },
    {
     "name": "stdout",
     "output_type": "stream",
     "text": [
      "iteration 55000 loss 0.007232927717268467\n"
     ]
    },
    {
     "name": "stdout",
     "output_type": "stream",
     "text": [
      "iteration 60000 loss 0.006011308170855045\n"
     ]
    },
    {
     "name": "stdout",
     "output_type": "stream",
     "text": [
      "iteration 65000 loss 0.005060145631432533\n"
     ]
    },
    {
     "name": "stdout",
     "output_type": "stream",
     "text": [
      "iteration 70000 loss 0.004399512428790331\n"
     ]
    },
    {
     "name": "stdout",
     "output_type": "stream",
     "text": [
      "iteration 75000 loss 0.0037575948517769575\n"
     ]
    },
    {
     "name": "stdout",
     "output_type": "stream",
     "text": [
      "iteration 80000 loss 0.0032453907188028097\n"
     ]
    },
    {
     "name": "stdout",
     "output_type": "stream",
     "text": [
      "iteration 85000 loss 0.002818317385390401\n"
     ]
    },
    {
     "name": "stdout",
     "output_type": "stream",
     "text": [
      "iteration 90000 loss 0.00246637687087059\n"
     ]
    },
    {
     "name": "stdout",
     "output_type": "stream",
     "text": [
      "iteration 95000 loss 0.0021742370445281267\n"
     ]
    },
    {
     "name": "stdout",
     "output_type": "stream",
     "text": [
      "iteration 100000 loss 0.0019298053812235594\n"
     ]
    },
    {
     "name": "stdout",
     "output_type": "stream",
     "text": [
      "iteration 105000 loss 0.0017089362954720855\n"
     ]
    },
    {
     "name": "stdout",
     "output_type": "stream",
     "text": [
      "iteration 110000 loss 0.0015198951587080956\n"
     ]
    },
    {
     "name": "stdout",
     "output_type": "stream",
     "text": [
      "iteration 115000 loss 0.001361280563287437\n"
     ]
    },
    {
     "name": "stdout",
     "output_type": "stream",
     "text": [
      "iteration 120000 loss 0.0012437315890565515\n"
     ]
    },
    {
     "name": "stdout",
     "output_type": "stream",
     "text": [
      "iteration 125000 loss 0.001096404273994267\n"
     ]
    },
    {
     "name": "stdout",
     "output_type": "stream",
     "text": [
      "iteration 130000 loss 0.0009894983377307653\n"
     ]
    },
    {
     "name": "stdout",
     "output_type": "stream",
     "text": [
      "iteration 135000 loss 0.0008969111950136721\n"
     ]
    },
    {
     "name": "stdout",
     "output_type": "stream",
     "text": [
      "iteration 140000 loss 0.0010036679450422525\n"
     ]
    },
    {
     "name": "stdout",
     "output_type": "stream",
     "text": [
      "iteration 145000 loss 0.0007471494609490037\n"
     ]
    },
    {
     "name": "stdout",
     "output_type": "stream",
     "text": [
      "iteration 150000 loss 0.000669050554279238\n"
     ]
    },
    {
     "name": "stdout",
     "output_type": "stream",
     "text": [
      "iteration 155000 loss 0.0006107956869527698\n"
     ]
    },
    {
     "name": "stdout",
     "output_type": "stream",
     "text": [
      "iteration 160000 loss 0.000553853518795222\n"
     ]
    },
    {
     "name": "stdout",
     "output_type": "stream",
     "text": [
      "iteration 165000 loss 0.02519823983311653\n"
     ]
    },
    {
     "name": "stdout",
     "output_type": "stream",
     "text": [
      "iteration 170000 loss 0.0004594774218276143\n"
     ]
    },
    {
     "name": "stdout",
     "output_type": "stream",
     "text": [
      "iteration 175000 loss 0.00042197617585770786\n"
     ]
    },
    {
     "name": "stdout",
     "output_type": "stream",
     "text": [
      "iteration 180000 loss 0.0003867097257170826\n"
     ]
    },
    {
     "name": "stdout",
     "output_type": "stream",
     "text": [
      "iteration 185000 loss 0.0008801541989669204\n"
     ]
    },
    {
     "name": "stdout",
     "output_type": "stream",
     "text": [
      "iteration 190000 loss 0.0003255822230130434\n"
     ]
    },
    {
     "name": "stdout",
     "output_type": "stream",
     "text": [
      "iteration 195000 loss 0.0002967682376038283\n"
     ]
    },
    {
     "name": "stdout",
     "output_type": "stream",
     "text": [
      "iteration 200000 loss 0.0003654712054412812\n"
     ]
    },
    {
     "name": "stdout",
     "output_type": "stream",
     "text": [
      "iteration 205000 loss 0.00025126044056378305\n"
     ]
    },
    {
     "name": "stdout",
     "output_type": "stream",
     "text": [
      "iteration 210000 loss 0.0002322202199138701\n"
     ]
    },
    {
     "name": "stdout",
     "output_type": "stream",
     "text": [
      "iteration 215000 loss 0.0002131024084519595\n"
     ]
    },
    {
     "name": "stdout",
     "output_type": "stream",
     "text": [
      "iteration 220000 loss 0.00019690395856741816\n"
     ]
    },
    {
     "name": "stdout",
     "output_type": "stream",
     "text": [
      "iteration 225000 loss 0.00018143192573916167\n"
     ]
    },
    {
     "name": "stdout",
     "output_type": "stream",
     "text": [
      "iteration 230000 loss 0.0026253892574459314\n"
     ]
    },
    {
     "name": "stdout",
     "output_type": "stream",
     "text": [
      "iteration 235000 loss 0.00015581723710056394\n"
     ]
    },
    {
     "name": "stdout",
     "output_type": "stream",
     "text": [
      "iteration 240000 loss 0.00021979922894388437\n"
     ]
    },
    {
     "name": "stdout",
     "output_type": "stream",
     "text": [
      "iteration 245000 loss 0.0001339259761152789\n"
     ]
    },
    {
     "name": "stdout",
     "output_type": "stream",
     "text": [
      "iteration 250000 loss 0.00012388084724079818\n"
     ]
    },
    {
     "name": "stdout",
     "output_type": "stream",
     "text": [
      "iteration 255000 loss 0.00013539691281039268\n"
     ]
    },
    {
     "name": "stdout",
     "output_type": "stream",
     "text": [
      "iteration 260000 loss 0.00010885023948503658\n"
     ]
    },
    {
     "name": "stdout",
     "output_type": "stream",
     "text": [
      "iteration 265000 loss 0.018846092745661736\n"
     ]
    },
    {
     "name": "stdout",
     "output_type": "stream",
     "text": [
      "iteration 270000 loss 9.319672244600952e-05\n"
     ]
    },
    {
     "name": "stdout",
     "output_type": "stream",
     "text": [
      "iteration 275000 loss 8.654970588395372e-05\n"
     ]
    },
    {
     "name": "stdout",
     "output_type": "stream",
     "text": [
      "iteration 280000 loss 8.187432104023173e-05\n"
     ]
    },
    {
     "name": "stdout",
     "output_type": "stream",
     "text": [
      "iteration 285000 loss 7.57508969400078e-05\n"
     ]
    },
    {
     "name": "stdout",
     "output_type": "stream",
     "text": [
      "iteration 290000 loss 7.09940868546255e-05\n"
     ]
    },
    {
     "name": "stdout",
     "output_type": "stream",
     "text": [
      "iteration 295000 loss 6.703111284878105e-05\n"
     ]
    },
    {
     "name": "stdout",
     "output_type": "stream",
     "text": [
      "iteration 300000 loss 6.222756928764284e-05\n"
     ]
    },
    {
     "name": "stdout",
     "output_type": "stream",
     "text": [
      "iteration 305000 loss 5.909751416766085e-05\n"
     ]
    },
    {
     "name": "stdout",
     "output_type": "stream",
     "text": [
      "iteration 310000 loss 6.448513158829883e-05\n"
     ]
    },
    {
     "name": "stdout",
     "output_type": "stream",
     "text": [
      "iteration 315000 loss 6.590639532078058e-05\n"
     ]
    },
    {
     "name": "stdout",
     "output_type": "stream",
     "text": [
      "iteration 320000 loss 4.919926868751645e-05\n"
     ]
    },
    {
     "name": "stdout",
     "output_type": "stream",
     "text": [
      "iteration 325000 loss 4.850105688092299e-05\n"
     ]
    },
    {
     "name": "stdout",
     "output_type": "stream",
     "text": [
      "iteration 330000 loss 4.3576263124123216e-05\n"
     ]
    },
    {
     "name": "stdout",
     "output_type": "stream",
     "text": [
      "iteration 335000 loss 4.25409380113706e-05\n"
     ]
    },
    {
     "name": "stdout",
     "output_type": "stream",
     "text": [
      "iteration 340000 loss 0.015495422296226025\n"
     ]
    },
    {
     "name": "stdout",
     "output_type": "stream",
     "text": [
      "iteration 345000 loss 3.768341048271395e-05\n"
     ]
    },
    {
     "name": "stdout",
     "output_type": "stream",
     "text": [
      "iteration 350000 loss 3.526773798512295e-05\n"
     ]
    },
    {
     "name": "stdout",
     "output_type": "stream",
     "text": [
      "iteration 355000 loss 3.353453939780593e-05\n"
     ]
    },
    {
     "name": "stdout",
     "output_type": "stream",
     "text": [
      "iteration 360000 loss 3.204978202120401e-05\n"
     ]
    },
    {
     "name": "stdout",
     "output_type": "stream",
     "text": [
      "iteration 365000 loss 3.122176349279471e-05\n"
     ]
    },
    {
     "name": "stdout",
     "output_type": "stream",
     "text": [
      "iteration 370000 loss 2.9266386263770983e-05\n"
     ]
    },
    {
     "name": "stdout",
     "output_type": "stream",
     "text": [
      "iteration 375000 loss 2.8246025976841338e-05\n"
     ]
    },
    {
     "name": "stdout",
     "output_type": "stream",
     "text": [
      "iteration 380000 loss 0.0027898463886231184\n"
     ]
    },
    {
     "name": "stdout",
     "output_type": "stream",
     "text": [
      "iteration 385000 loss 2.5496494345134124e-05\n"
     ]
    },
    {
     "name": "stdout",
     "output_type": "stream",
     "text": [
      "iteration 390000 loss 2.43749309447594e-05\n"
     ]
    },
    {
     "name": "stdout",
     "output_type": "stream",
     "text": [
      "iteration 395000 loss 2.3879700165707618e-05\n"
     ]
    },
    {
     "name": "stdout",
     "output_type": "stream",
     "text": [
      "iteration 400000 loss 0.00024398665118496865\n"
     ]
    },
    {
     "name": "stdout",
     "output_type": "stream",
     "text": [
      "iteration 405000 loss 2.1681058569811285e-05\n"
     ]
    },
    {
     "name": "stdout",
     "output_type": "stream",
     "text": [
      "iteration 410000 loss 0.0004288993659429252\n"
     ]
    },
    {
     "name": "stdout",
     "output_type": "stream",
     "text": [
      "iteration 415000 loss 2.0099809262319468e-05\n"
     ]
    },
    {
     "name": "stdout",
     "output_type": "stream",
     "text": [
      "iteration 420000 loss 1.9501512724673375e-05\n"
     ]
    },
    {
     "name": "stdout",
     "output_type": "stream",
     "text": [
      "iteration 425000 loss 2.8709529942716472e-05\n"
     ]
    },
    {
     "name": "stdout",
     "output_type": "stream",
     "text": [
      "iteration 430000 loss 1.8381449990556575e-05\n"
     ]
    },
    {
     "name": "stdout",
     "output_type": "stream",
     "text": [
      "iteration 435000 loss 1.7766629753168672e-05\n"
     ]
    },
    {
     "name": "stdout",
     "output_type": "stream",
     "text": [
      "iteration 440000 loss 1.821392470446881e-05\n"
     ]
    },
    {
     "name": "stdout",
     "output_type": "stream",
     "text": [
      "iteration 445000 loss 0.011916189454495907\n"
     ]
    },
    {
     "name": "stdout",
     "output_type": "stream",
     "text": [
      "iteration 450000 loss 1.646380769670941e-05\n"
     ]
    },
    {
     "name": "stdout",
     "output_type": "stream",
     "text": [
      "iteration 455000 loss 2.0130391931161284e-05\n"
     ]
    },
    {
     "name": "stdout",
     "output_type": "stream",
     "text": [
      "iteration 460000 loss 0.01866120472550392\n"
     ]
    },
    {
     "name": "stdout",
     "output_type": "stream",
     "text": [
      "iteration 465000 loss 0.015398659743368626\n"
     ]
    },
    {
     "name": "stdout",
     "output_type": "stream",
     "text": [
      "iteration 470000 loss 0.0011179220164194703\n"
     ]
    },
    {
     "name": "stdout",
     "output_type": "stream",
     "text": [
      "iteration 475000 loss 1.4214580914995167e-05\n"
     ]
    },
    {
     "name": "stdout",
     "output_type": "stream",
     "text": [
      "iteration 480000 loss 0.017055587843060493\n"
     ]
    },
    {
     "name": "stdout",
     "output_type": "stream",
     "text": [
      "iteration 485000 loss 1.3879689504392445e-05\n"
     ]
    },
    {
     "name": "stdout",
     "output_type": "stream",
     "text": [
      "iteration 490000 loss 1.3317295270098839e-05\n"
     ]
    },
    {
     "name": "stdout",
     "output_type": "stream",
     "text": [
      "iteration 495000 loss 0.0005671446560882032\n"
     ]
    },
    {
     "name": "stdout",
     "output_type": "stream",
     "text": [
      "Training of LPN for G(x) complete and model saved.\n"
     ]
    }
   ],
   "source": [
    "# --- Generate New Training Data for the Second LPN G(x) ---\n",
    "# We use the same x_j_exp_tensor as the first LPN's training data for x_k\n",
    "x_k_tensor = input.clone().to(device)\n",
    "x_k_tensor.requires_grad_(True)\n",
    "\n",
    "# 1. Compute the gradient y_k = grad_x psi_theta(x_k, t=1)\n",
    "# Get psi(x_k)\n",
    "psi_x_k = lpn_model.scalar(x_k_tensor)\n",
    "\n",
    "# Get gradient y_k = grad_psi(x_k)\n",
    "y_k_tensor = lpn_model(x_k_tensor)\n",
    "\n",
    "# 2. Evaluate the \"new\" samples G_k = <y_k, x_k> - psi_theta(x_k, 1) (from eq 26)\n",
    "inner_prod_yk_xk = torch.sum(y_k_tensor * x_k_tensor, dim=1, keepdim=True)\n",
    "G_samples_tensor_with_graph = inner_prod_yk_xk - psi_x_k\n",
    "\n",
    "# Detach the tensor to treat G_k as fixed targets, breaking the connection\n",
    "# to the first LPN's graph and preventing the RuntimeError during training.\n",
    "G_samples_tensor = G_samples_tensor_with_graph.detach().to(device) \n",
    "\n",
    "# The input tensor x_k_tensor is still needed for the second LPN training,\n",
    "# but it should also not require a gradient for that training.\n",
    "x_k_tensor = x_k_tensor.detach()\n",
    "x_k_tensor.requires_grad_(False) \n",
    "y_k_tensor = y_k_tensor.detach()\n",
    "y_k_tensor.requires_grad_(False)\n",
    "# G_samples_tensor now holds the target values G_k\n",
    "print(f\"Generated G samples: G_samples_tensor shape {G_samples_tensor.shape}\")\n",
    "\n",
    "# --- Step 3: Train LPN G(x) ---\n",
    "print(\"\\n--- Training Second LPN G(x) for Concave Quadratic Prior ---\")\n",
    "# The target for this LPN is G_samples_tensor\n",
    "# The input for this LPN is x_k_tensor\n",
    "lpn_model_G = LPN(in_dim=dim, hidden=hidden, layers=layers, beta=beta, eps=1e-3).to(device)\n",
    "optimizer_G = torch.optim.Adam(lpn_model_G.parameters(), lr=1e-4)\n",
    "\n",
    "# Initial shorter training phase\n",
    "for i in range(1):\n",
    "     single_iteration(i, data_points, lpn_model_G, optimizer_G, y_k_tensor, G_samples_tensor, loss_type=2, gamma_loss=None)\n",
    "\n",
    "for g in optimizer_G.param_groups:\n",
    "    g[\"lr\"] = 1e-4 \n",
    "for i in range(Iterations):\n",
    "    if (i % 20000 == 0) and (i > 0): \n",
    "        # Multiply the current learning rate by 1e-1\n",
    "        for g in optimizer_G.param_groups:\n",
    "            new_lr = g[\"lr\"] * 1e-1\n",
    "            g[\"lr\"] = new_lr\n",
    "        print(f\"Learning rate decreased to {new_lr} at iteration {i}\")\n",
    "    single_iteration(i, data_points, lpn_model_G, optimizer_G, y_k_tensor, G_samples_tensor, loss_type=2, gamma_loss=None)\n",
    "\n",
    "torch.save(lpn_model_G.state_dict(), os.path.join(MODEL_DIR, \"G_network_l2.pth\"))\n",
    "print(\"Training of LPN for G(x) complete and model saved.\")"
   ]
  },
  {
   "cell_type": "code",
   "execution_count": 9,
   "metadata": {
    "execution": {
     "iopub.execute_input": "2025-10-29T00:38:21.351038Z",
     "iopub.status.busy": "2025-10-29T00:38:21.350791Z",
     "iopub.status.idle": "2025-10-29T00:38:22.005272Z",
     "shell.execute_reply": "2025-10-29T00:38:22.004735Z"
    }
   },
   "outputs": [
    {
     "name": "stdout",
     "output_type": "stream",
     "text": [
      "\n",
      "--- Plotting Estimated Prior J(x) from 2nd LPN---\n"
     ]
    },
    {
     "data": {
      "image/png": "[encoded data removed]",
      "text/plain": [
       "<Figure size 1200x500 with 2 Axes>"
      ]
     },
     "metadata": {},
     "output_type": "display_data"
    }
   ],
   "source": [
    "def evaluate_learned_J_G_network(x_points, model_G):\n",
    "    \"\"\"\n",
    "    Evaluates the learned prior J(x) using the trained G(x) network.\n",
    "    J(x) = G(x) - 0.5 * ||x||^2\n",
    "    \"\"\"\n",
    "    # Convert to tensor\n",
    "    x_tensor = torch.from_numpy(x_points).float().to(device)\n",
    "    \n",
    "    # Get G(x) from the second LPN model\n",
    "    G_x = model_G.scalar(x_tensor)\n",
    "    \n",
    "    # Compute 0.5 * ||x||^2\n",
    "    x_norm_sq_np = euclid_norm_sq(x_points)\n",
    "    x_norm_sq_tensor = torch.from_numpy(x_norm_sq_np).float().to(device).reshape(-1, 1)\n",
    "\n",
    "    # Apply the formula: J_est = G(x) - 0.5 * ||x||^2\n",
    "    J_est = G_x - 0.5 * x_norm_sq_tensor\n",
    "    \n",
    "    # Convert back to numpy\n",
    "    J_est_np = J_est.detach().cpu().numpy().flatten()\n",
    "    \n",
    "    return J_est_np\n",
    "\n",
    "def plot_J_G_network(model_G, a, spacing, dim,mu1,mu2,sigma1,sigma2):\n",
    "    \"\"\"Plots the cross-sections of the estimated prior J(x) from the G network.\"\"\"\n",
    "    xi, x1_0_points, x2_0_points = compute_square_cross_sections(a, spacing, dim)\n",
    "    # True Prior\n",
    "    x1_0_J_true = prior_true(x1_0_points,mu1,mu2,sigma1,sigma2)\n",
    "    if dim > 1:\n",
    "        x2_0_J_true = prior_true(x2_0_points,mu1,mu2,sigma1,sigma2)\n",
    "    else:\n",
    "        x2_0_J_true = x1_0_J_true\n",
    "        \n",
    "    # Estimated Prior from G(x) Network\n",
    "    x1_0_J_G_est = evaluate_learned_J_G_network(x1_0_points, model_G)\n",
    "    if dim > 1:\n",
    "        x2_0_J_G_est = evaluate_learned_J_G_network(x2_0_points, model_G)\n",
    "    else:\n",
    "        x2_0_J_G_est = x1_0_J_G_est\n",
    "    \n",
    "    print(\"\\n--- Plotting Estimated Prior J(x) from 2nd LPN---\")\n",
    "    plt.figure(figsize=(12,5))\n",
    "    \n",
    "    plt.subplot(1, 2, 1)\n",
    "    plt.plot(xi, x1_0_J_G_est, \"-\", label=\"LPN 2\")\n",
    "    plt.plot(xi, x1_0_J_true, \"--\", label=\"Ref $J(x)=-1/4||x||_2^2$\")\n",
    "    plt.grid(True)\n",
    "    plt.title(f\"Cross sections of $J(x_1,0,...)$ Dim {dim}\")\n",
    "    plt.xlabel('$x_1$')\n",
    "    plt.ylabel('$Prior functions (x_1,0,...)$')\n",
    "    plt.legend()\n",
    "\n",
    "    if dim > 1:\n",
    "        plt.subplot(1, 2, 2)\n",
    "        plt.plot(xi, x2_0_J_G_est, \"-\", label=\"LPN 2\")\n",
    "        plt.plot(xi, x2_0_J_true, \"--\", label=\"Ref $J(x)=-1/4||x||_2^2$\")\n",
    "        plt.grid(True)\n",
    "        plt.title(f\"Cross sections of $J(0,x_2,0,...)$ Dim {dim}\")\n",
    "        plt.xlabel('$x_2$')\n",
    "        plt.ylabel('$Prior functions (0,x_2,0,...)$')\n",
    "        plt.legend()\n",
    "    plt.tight_layout()\n",
    "    #plt.savefig('G_network_prior_plot.png')\n",
    "    \n",
    "# --- Execute Plotting ---\n",
    "plot_J_G_network(lpn_model_G, a, spacing, dim,mu1,mu2,sigma1,sigma2)"
   ]
  }
 ],
 "metadata": {
  "colab": {
   "provenance": []
  },
  "kernelspec": {
   "display_name": "lpn_env_image",
   "language": "python",
   "name": "python3"
  },
  "language_info": {
   "codemirror_mode": {
    "name": "ipython",
    "version": 3
   },
   "file_extension": ".py",
   "mimetype": "text/x-python",
   "name": "python",
   "nbconvert_exporter": "python",
   "pygments_lexer": "ipython3",
   "version": "3.13.5"
  }
 },
 "nbformat": 4,
 "nbformat_minor": 4
}
