{
 "cells": [
  {
   "cell_type": "markdown",
   "metadata": {},
   "source": [
    "# Learning a quadratic prior"
   ]
  },
  {
   "cell_type": "markdown",
   "metadata": {},
   "source": [
    "This code attempts to learn a concave quadratic prior $J(x) = -\\frac{1}{4}||x||_2^2$ in the context of a Hamilton-Jacobi PDE with a quadratic Hamiltonian $H(p) = \\frac{1}{2}||p||_2^2$.\n",
    "The LPN learns the function $\\psi(x) = ||x||_2^2$."
   ]
  },
  {
   "cell_type": "markdown",
   "metadata": {},
   "source": [
    "## Import modules "
   ]
  },
  {
   "cell_type": "code",
   "execution_count": 1,
   "metadata": {
    "execution": {
     "iopub.execute_input": "2025-10-30T02:18:20.381867Z",
     "iopub.status.busy": "2025-10-30T02:18:20.381652Z",
     "iopub.status.idle": "2025-10-30T02:18:24.199916Z",
     "shell.execute_reply": "2025-10-30T02:18:24.199184Z"
    },
    "id": "Mtd5gx1tv90z"
   },
   "outputs": [],
   "source": [
    "import os\n",
    "import numpy as np\n",
    "import torch\n",
    "\n",
    "import matplotlib.pyplot as plt\n",
    "from matplotlib import cm\n",
    "from matplotlib.ticker import LinearLocator\n",
    "import seaborn as sns\n",
    "\n",
    "from network import LPN\n",
    "from lib.utils import cvx\n",
    "from lib.invert import invert\n",
    "\n",
    "# set location\n",
    "MODEL_DIR = \"experiments/models/concave_quadratic_prior_2D\"\n",
    "os.makedirs(MODEL_DIR, exist_ok=True)\n",
    "device = torch.device(\"cuda:0\" if torch.cuda.is_available() else \"cpu\")\n",
    "\n",
    "# set random seeds\n",
    "np.random.seed(1)\n",
    "torch.manual_seed(1)\n",
    "\n",
    "# plotting options\n",
    "plt.rcParams.update({\"text.usetex\": False})\n",
    "sns.set_theme()"
   ]
  },
  {
   "cell_type": "markdown",
   "metadata": {},
   "source": [
    "## Parameters"
   ]
  },
  {
   "cell_type": "code",
   "execution_count": 2,
   "metadata": {
    "execution": {
     "iopub.execute_input": "2025-10-30T02:18:24.202646Z",
     "iopub.status.busy": "2025-10-30T02:18:24.202319Z",
     "iopub.status.idle": "2025-10-30T02:18:24.206247Z",
     "shell.execute_reply": "2025-10-30T02:18:24.205770Z"
    }
   },
   "outputs": [],
   "source": [
    "# Parameters\n",
    "# --- Parameters fof Experiment ---\n",
    "dim_exp = 2  # Dimension (e.g., 2D, 4D, 8D as in the paper)\n",
    "data_points_exp = 20000 # Example number of data points\n",
    "iterations_exp_initial = 1 # Iterations for initial training phase\n",
    "iterations_exp_long = 30000 # Iterations for longer training phase\n",
    "a_exp = 4 # Grid limit for sampling y_j if using uniform, e.g., y_j in [-a, a]^d\n",
    "spacing = 50 # For plotting cross-sections\n",
    "\n",
    "\n",
    "# LPN model parameters\n",
    "# Note: The defaults parameters are beta = 10, hidden = 50, layers = 4\n",
    "beta = 10       # beta of softplus\n",
    "hidden = 50     # number of hidden units\n",
    "layers = 4      # number of layers\n",
    "eps = 0.5\n",
    "# optimization algorithm to use for computing the prior (cvx_cg, cvx_gd)\n",
    "INVERT_MODE = \"cvx_gd\""
   ]
  },
  {
   "cell_type": "markdown",
   "metadata": {},
   "source": [
    "# === Section ==="
   ]
  },
  {
   "cell_type": "code",
   "execution_count": 3,
   "metadata": {
    "execution": {
     "iopub.execute_input": "2025-10-30T02:18:24.208616Z",
     "iopub.status.busy": "2025-10-30T02:18:24.208194Z",
     "iopub.status.idle": "2025-10-30T02:18:24.351111Z",
     "shell.execute_reply": "2025-10-30T02:18:24.350500Z"
    }
   },
   "outputs": [],
   "source": [
    "import numpy as np\n",
    "import matplotlib.pyplot as plt\n",
    "import torch \n",
    "\n",
    "# === Section 4.1.2: L1 Prior Helper Functions ===\n",
    "\n",
    "def inner_prod(x, y):\n",
    "    return np.sum(x * y, axis=1)\n",
    "\n",
    "def euclid_norm_sq(x):\n",
    "    if x.ndim == 1:\n",
    "        return np.sum(x*x)\n",
    "    return np.sum(x * x, axis=1)\n",
    "\n",
    "\n",
    "def cvx_true_concave_quad(y_points): # y_points is N x dim\n",
    "    \"\"\"\n",
    "    Computes the target function psi(y) = ||y||_2^2 for the given problem.\n",
    "    \"\"\"\n",
    "    return euclid_norm_sq(y_points)\n",
    "\n",
    "def prior_true_concave_quad(x_points):\n",
    "    \"\"\"\n",
    "    Computes the true concave prior J(x) = -1/4 * ||x||_2^2.\n",
    "    \"\"\"\n",
    "    return -0.25 * euclid_norm_sq(x_points)\n",
    "\n",
    "def invert_prior_lpn(x, model, INVERT_MODE):\n",
    "    y = invert(x,model,INVERT_MODE)\n",
    "    return y\n",
    "\n",
    "def evaluate_learned_prior_lpn(x_eval_points, y_inverted_points, model):\n",
    "    try:\n",
    "        y_tensor = torch.from_numpy(y_inverted_points).float().to(device)\n",
    "        psi_of_y_inverted = model.scalar(y_tensor).squeeze(1).detach().cpu().numpy()\n",
    "    except NameError: \n",
    "        print(\"Warning: 'device' not defined. Assuming CPU for evaluate_learned_prior.\")\n",
    "        y_tensor = torch.from_numpy(y_inverted_points).float()\n",
    "        psi_of_y_inverted = model.scalar(y_tensor).squeeze(1).detach().numpy()\n",
    "    prior_est = inner_prod(x_eval_points, y_inverted_points) - 0.5 * euclid_norm_sq(x_eval_points) - psi_of_y_inverted\n",
    "    return prior_est\n",
    "\n",
    "\n",
    "def compute_square_cross_sections(a, spacing, dim):\n",
    "    xi = np.linspace(-a, a, spacing)\n",
    "    grid = np.zeros((xi.size, dim))\n",
    "    x1_0_points = np.copy(grid)\n",
    "    x1_0_points[:, 0] = xi\n",
    "    x2_0_points = np.copy(grid)\n",
    "    if dim > 1:\n",
    "        x2_0_points[:, 1] = xi\n",
    "    elif dim == 1:\n",
    "        x2_0_points = x1_0_points.copy()\n",
    "    return xi, x1_0_points, x2_0_points\n",
    "\n",
    "def cross_sections_plots_concave_quad(model, a, spacing, INVERT_MODE, dim):\n",
    "    xi, x1_0_points, x2_0_points = compute_square_cross_sections(a, spacing, dim)\n",
    "    \n",
    "    x1_0_psi_true = cvx_true_concave_quad(x1_0_points)\n",
    "    x1_0_J_true = prior_true_concave_quad(x1_0_points)\n",
    "    if dim > 1:\n",
    "        x2_0_psi_true = cvx_true_concave_quad(x2_0_points)\n",
    "        x2_0_J_true = prior_true_concave_quad(x2_0_points)\n",
    "    else: \n",
    "        x2_0_psi_true = x1_0_psi_true \n",
    "        x2_0_J_true = x1_0_J_true\n",
    "        \n",
    "    x1_0_psi_est = cvx(x1_0_points, model) \n",
    "    y1_inverted = invert_prior_lpn(x1_0_points, model, INVERT_MODE)\n",
    "    x1_0_J_est = evaluate_learned_prior_lpn(x1_0_points,y1_inverted, model)\n",
    "    if dim > 1:\n",
    "        x2_0_psi_est = cvx(x2_0_points, model)\n",
    "        y2_inverted = invert_prior_lpn(x2_0_points, model, INVERT_MODE)\n",
    "        x2_0_J_est = evaluate_learned_prior_lpn(x2_0_points,y2_inverted, model)\n",
    "    else:\n",
    "        x2_0_psi_est = x1_0_psi_est\n",
    "        x2_0_J_est = x1_0_J_est\n",
    "        \n",
    "    plt.figure(figsize=(12,5))\n",
    "    plt.subplot(1, 2, 1)\n",
    "    plt.plot(xi, x1_0_psi_est, \"-\", ms=5, label=\"LPN (Learned $\\\\psi$)\")\n",
    "    plt.plot(xi, x1_0_psi_true, \"--\", ms=5, label=\"True $\\\\psi$ for $J(x)=\\\\|x\\\\|_1$\")\n",
    "    plt.grid(True)\n",
    "    plt.title(f\"$\\\\psi(y_1,0,...)$ - Dim {dim}, $J(x)=\\\\|x\\\\|_1$\")\n",
    "    plt.xlabel('$y_1$')\n",
    "    plt.ylabel('$\\\\psi(y_1,0,...)$')\n",
    "    plt.legend()\n",
    "\n",
    "    if dim > 1:\n",
    "        plt.subplot(1, 2, 2) # Second plot for psi if dim > 1\n",
    "        plt.plot(xi, x2_0_psi_est, \"-\", ms=5, label=\"LPN (Learned $\\\\psi$)\")\n",
    "        plt.plot(xi, x2_0_psi_true, \"--\", ms=5, label=\"True $\\\\psi$ for $J(x)=-1/4\\\\|x\\\\|_2^2$\")\n",
    "        plt.grid(True)\n",
    "        plt.title(f\"$\\\\psi(0,y_2,0,...)$ - Dim {dim}, $J(x)=-1/4\\\\|x\\\\|_2^2$\")\n",
    "        plt.xlabel('$y_2$')\n",
    "        plt.ylabel('$\\\\psi(0,y_2,0,...)$')\n",
    "        plt.legend()\n",
    "    plt.tight_layout()\n",
    "    plt.show()\n",
    "\n",
    "    plt.figure(figsize=(12,5))\n",
    "    plt.subplot(1, 2, 1)\n",
    "    plt.plot(xi, x1_0_J_est, \"-\", label=\"LPN (Learned $J$)\")\n",
    "    plt.plot(xi, x1_0_J_true, \"--\", label=\"True $J(x)=-1/4\\\\|x\\\\|_2^2$\")\n",
    "    plt.grid(True)\n",
    "    plt.title(f\"Prior $J(x_1,0,...)$ - Dim {dim}, $J(x)=-1/4\\\\|x\\\\|_2^2$\")\n",
    "    plt.xlabel('$x_1$')\n",
    "    plt.ylabel('$J(x_1,0,...)$')\n",
    "    plt.legend()\n",
    "\n",
    "    if dim > 1:\n",
    "        plt.subplot(1, 2, 2)\n",
    "        plt.plot(xi, x2_0_J_est, \"-\", label=\"LPN (Learned $J$)\")\n",
    "        plt.plot(xi, x2_0_J_true, \"--\", label=\"True $J(x)=-1/4\\\\|x\\\\|_2^2$\")\n",
    "        plt.grid(True)\n",
    "        plt.title(f\"Prior $J(0,x_2,0,...)$ - Dim {dim}, $J(x)=-1/4\\\\|x\\\\|_2^2$\")\n",
    "        plt.xlabel('$x_2$')\n",
    "        plt.ylabel('$J(0,x_2,0,...)$')\n",
    "        plt.legend()\n",
    "    plt.tight_layout()\n",
    "    plt.show()\n",
    "\n",
    "def plot_all_concave_quad(model, a, spacing, INVERT_MODE, dim):\n",
    "    print(f\"\\n--- Plotting Cross Sections for Quadratic H, Quadratic concave Prior (Dim={dim}) ---\")\n",
    "    cross_sections_plots_concave_quad(model, a, spacing, INVERT_MODE, dim)\n",
    "\n"
   ]
  },
  {
   "cell_type": "code",
   "execution_count": 4,
   "metadata": {
    "execution": {
     "iopub.execute_input": "2025-10-30T02:18:24.353189Z",
     "iopub.status.busy": "2025-10-30T02:18:24.352929Z",
     "iopub.status.idle": "2025-10-30T02:18:24.358089Z",
     "shell.execute_reply": "2025-10-30T02:18:24.357629Z"
    }
   },
   "outputs": [],
   "source": [
    "def evaluate_learned_H(model, a, spacing, dim):\n",
    "    \"\"\"\n",
    "    Calculates and plots the approximate Hamiltonian H_theta.\n",
    "    H_theta(p) = max_k { <p, eta_k> - b_k }\n",
    "    where eta_k = x_k - grad_psi(x_k) and b_k = 0.5 * ||eta_k||^2\n",
    "    \"\"\"\n",
    "    x_k_np = np.random.uniform(-a, a, (data_points_exp, dim))\n",
    "    x_k_tensor = torch.from_numpy(x_k_np).float().to(device)\n",
    "    x_k_tensor.requires_grad_(True)\n",
    "    grad_psi_k_tensor = model(x_k_tensor)\n",
    "\n",
    "    eta_k_tensor = x_k_tensor - grad_psi_k_tensor\n",
    "    b_k_tensor = 0.5 * torch.sum(eta_k_tensor**2, dim=1, keepdim=True)\n",
    "\n",
    "    xi = np.linspace(-a, a, spacing)\n",
    "    p_eval_points_np = np.zeros((xi.size, dim))\n",
    "    p_eval_points_np[:, 0] = xi\n",
    "    p_eval_tensor = torch.from_numpy(p_eval_points_np).float().to(device)\n",
    "\n",
    "    # Compute H_theta(p) for the cross-section\n",
    "    inner_prods = torch.matmul(p_eval_tensor, eta_k_tensor.T)  # (spacing x data_points)\n",
    "    H_theta_p_tensor = torch.max(inner_prods - b_k_tensor.T, dim=1, keepdim=True)[0]\n",
    "    H_theta_p_np = H_theta_p_tensor.detach().cpu().numpy().flatten()\n",
    "\n",
    "    # Compute true Hamiltonian H(p) = 0.5 * ||p||^2\n",
    "    H_true_p_np = 0.5 * euclid_norm_sq(p_eval_points_np)\n",
    "\n",
    "    plt.figure(figsize=(6,5))\n",
    "    plt.plot(xi, H_theta_p_np, \"-\", label=\"Learned Hamiltonian $H_{\\\\theta}(p_1,0,...)$\")\n",
    "    plt.plot(xi, H_true_p_np, \"--\", label=\"True Hamiltonian $H(p)=1/2||p||_2^2$\")\n",
    "    plt.grid(True)\n",
    "    plt.title(f\"Hamiltonian Comparison - Dim {dim}\")\n",
    "    plt.xlabel('$p_1$')\n",
    "    plt.ylabel('H(p)')\n",
    "    plt.legend()\n",
    "    plt.tight_layout()\n",
    "    plt.show()\n"
   ]
  },
  {
   "cell_type": "code",
   "execution_count": 5,
   "metadata": {},
   "outputs": [],
   "source": []
  },
  {
   "cell_type": "markdown",
   "metadata": {},
   "source": [
    "# --- Generate Training Data"
   ]
  },
  {
   "cell_type": "code",
   "execution_count": 5,
   "metadata": {
    "execution": {
     "iopub.execute_input": "2025-10-30T02:18:24.360159Z",
     "iopub.status.busy": "2025-10-30T02:18:24.359887Z",
     "iopub.status.idle": "2025-10-30T02:18:24.590104Z",
     "shell.execute_reply": "2025-10-30T02:18:24.589525Z"
    }
   },
   "outputs": [
    {
     "name": "stdout",
     "output_type": "stream",
     "text": [
      "--- Generating Training Data for Concave Quadratic Prior ---\n"
     ]
    },
    {
     "name": "stdout",
     "output_type": "stream",
     "text": [
      "Generated training data: y_j_exp_tensor shape torch.Size([20000, 2]), psi_samples_exp_tensor shape torch.Size([20000, 1])\n"
     ]
    }
   ],
   "source": [
    "# --- Generate Training Data for the new experiment ---\n",
    "print(\"--- Generating Training Data for Concave Quadratic Prior ---\")\n",
    "y_j_exp_np = np.random.uniform(-a_exp, a_exp, (data_points_exp, dim_exp))\n",
    "psi_samples_exp_np = cvx_true_concave_quad(y_j_exp_np)\n",
    "psi_samples_exp_np = psi_samples_exp_np.reshape(-1, 1)\n",
    "\n",
    "y_j_exp_tensor = torch.from_numpy(y_j_exp_np).float().to(device)\n",
    "psi_samples_exp_tensor = torch.from_numpy(psi_samples_exp_np).float().to(device)\n",
    "print(f\"Generated training data: y_j_exp_tensor shape {y_j_exp_tensor.shape}, psi_samples_exp_tensor shape {psi_samples_exp_tensor.shape}\")\n",
    "\n",
    "# --- ADD THIS TO MOVE DATA TO GPU ---\n",
    "y_j_exp_tensor = y_j_exp_tensor.to(device)\n",
    "psi_samples_exp_tensor = psi_samples_exp_tensor.to(device)"
   ]
  },
  {
   "cell_type": "markdown",
   "metadata": {},
   "source": [
    "## Training function"
   ]
  },
  {
   "cell_type": "code",
   "execution_count": 6,
   "metadata": {
    "execution": {
     "iopub.execute_input": "2025-10-30T02:18:24.602885Z",
     "iopub.status.busy": "2025-10-30T02:18:24.602625Z",
     "iopub.status.idle": "2025-10-30T02:18:24.606751Z",
     "shell.execute_reply": "2025-10-30T02:18:24.606301Z"
    }
   },
   "outputs": [],
   "source": [
    "def single_iteration(i, data_points, lpn_model, optimizer,input,cvx_samples,loss_type, gamma_loss=None):\n",
    "    # Compute the convex function from the input.\n",
    "    cvx_out = lpn_model.scalar(input)\n",
    "\n",
    "    # Calculate the loss function\n",
    "    if loss_type == 2:\n",
    "        loss = (cvx_out - cvx_samples).pow(2).sum() / data_points # MSE loss\n",
    "    elif loss_type == 1:\n",
    "        loss = (cvx_out - cvx_samples).abs().sum() / data_points    # MAE loss\n",
    "    #elif loss_type == 0:\n",
    "    #    loss = exp_func(cvx_out - cvx_samples, gamma_loss).mean()   # proximal matching loss\n",
    "    else:\n",
    "        raise ValueError(\"loss_type must be 0, 1, or 2\")\n",
    "\n",
    "\n",
    "    optimizer.zero_grad()\n",
    "    loss.backward()\n",
    "    optimizer.step()\n",
    "\n",
    "    lpn_model.wclip()\n",
    "\n",
    "    # monitor\n",
    "    # loss_lstar = exp_func(out - target, 0.1).mean()\n",
    "\n",
    "    if not i % 500:\n",
    "        print(\"iteration\", i, \"loss\", loss.item()) #, \"loss_lstar\", loss_lstar.item())"
   ]
  },
  {
   "cell_type": "markdown",
   "metadata": {},
   "source": [
    "# Train"
   ]
  },
  {
   "cell_type": "markdown",
   "metadata": {},
   "source": [
    "L2 loss -- Train"
   ]
  },
  {
   "cell_type": "code",
   "execution_count": 7,
   "metadata": {
    "execution": {
     "iopub.execute_input": "2025-10-30T02:18:24.608914Z",
     "iopub.status.busy": "2025-10-30T02:18:24.608661Z",
     "iopub.status.idle": "2025-10-30T02:19:58.021125Z",
     "shell.execute_reply": "2025-10-30T02:19:58.020377Z"
    }
   },
   "outputs": [
    {
     "name": "stdout",
     "output_type": "stream",
     "text": [
      "\n",
      "--- Training LPN for Concave Quadratic Prior (Quadratic H) ---\n"
     ]
    },
    {
     "name": "stdout",
     "output_type": "stream",
     "text": [
      "iteration 0 loss 151.51388549804688\n",
      "iteration 0 loss 13.073627471923828\n"
     ]
    },
    {
     "name": "stdout",
     "output_type": "stream",
     "text": [
      "iteration 500 loss 2.934948444366455\n"
     ]
    },
    {
     "name": "stdout",
     "output_type": "stream",
     "text": [
      "iteration 1000 loss 0.39060360193252563\n"
     ]
    },
    {
     "name": "stdout",
     "output_type": "stream",
     "text": [
      "iteration 1500 loss 0.08762705326080322\n"
     ]
    },
    {
     "name": "stdout",
     "output_type": "stream",
     "text": [
      "iteration 2000 loss 0.04017912596464157\n"
     ]
    },
    {
     "name": "stdout",
     "output_type": "stream",
     "text": [
      "iteration 2500 loss 0.023133007809519768\n"
     ]
    },
    {
     "name": "stdout",
     "output_type": "stream",
     "text": [
      "iteration 3000 loss 0.014657162129878998\n"
     ]
    },
    {
     "name": "stdout",
     "output_type": "stream",
     "text": [
      "iteration 3500 loss 0.009900033473968506\n"
     ]
    },
    {
     "name": "stdout",
     "output_type": "stream",
     "text": [
      "iteration 4000 loss 0.006924924906343222\n"
     ]
    },
    {
     "name": "stdout",
     "output_type": "stream",
     "text": [
      "iteration 4500 loss 0.0049931565299630165\n"
     ]
    },
    {
     "name": "stdout",
     "output_type": "stream",
     "text": [
      "iteration 5000 loss 0.003655441105365753\n"
     ]
    },
    {
     "name": "stdout",
     "output_type": "stream",
     "text": [
      "iteration 5500 loss 0.0027049430646002293\n"
     ]
    },
    {
     "name": "stdout",
     "output_type": "stream",
     "text": [
      "iteration 6000 loss 0.0020058932714164257\n"
     ]
    },
    {
     "name": "stdout",
     "output_type": "stream",
     "text": [
      "iteration 6500 loss 0.0014888877049088478\n"
     ]
    },
    {
     "name": "stdout",
     "output_type": "stream",
     "text": [
      "iteration 7000 loss 0.0011637629941105843\n"
     ]
    },
    {
     "name": "stdout",
     "output_type": "stream",
     "text": [
      "iteration 7500 loss 0.0009055513073690236\n"
     ]
    },
    {
     "name": "stdout",
     "output_type": "stream",
     "text": [
      "iteration 8000 loss 0.000688256521243602\n"
     ]
    },
    {
     "name": "stdout",
     "output_type": "stream",
     "text": [
      "iteration 8500 loss 0.000527380034327507\n"
     ]
    },
    {
     "name": "stdout",
     "output_type": "stream",
     "text": [
      "iteration 9000 loss 0.0004339862789493054\n"
     ]
    },
    {
     "name": "stdout",
     "output_type": "stream",
     "text": [
      "iteration 9500 loss 0.00035080889938399196\n"
     ]
    },
    {
     "name": "stdout",
     "output_type": "stream",
     "text": [
      "iteration 10000 loss 0.00027840532129630446\n"
     ]
    },
    {
     "name": "stdout",
     "output_type": "stream",
     "text": [
      "iteration 10500 loss 0.00022686035663355142\n"
     ]
    },
    {
     "name": "stdout",
     "output_type": "stream",
     "text": [
      "iteration 11000 loss 0.00020109565230086446\n"
     ]
    },
    {
     "name": "stdout",
     "output_type": "stream",
     "text": [
      "iteration 11500 loss 0.0001756887650117278\n"
     ]
    },
    {
     "name": "stdout",
     "output_type": "stream",
     "text": [
      "iteration 12000 loss 0.00015082665777299553\n"
     ]
    },
    {
     "name": "stdout",
     "output_type": "stream",
     "text": [
      "iteration 12500 loss 0.0001273066591238603\n"
     ]
    },
    {
     "name": "stdout",
     "output_type": "stream",
     "text": [
      "iteration 13000 loss 0.00011767222895286977\n"
     ]
    },
    {
     "name": "stdout",
     "output_type": "stream",
     "text": [
      "iteration 13500 loss 0.00010817690781550482\n"
     ]
    },
    {
     "name": "stdout",
     "output_type": "stream",
     "text": [
      "iteration 14000 loss 9.802654676605016e-05\n"
     ]
    },
    {
     "name": "stdout",
     "output_type": "stream",
     "text": [
      "iteration 14500 loss 8.744237129576504e-05\n"
     ]
    },
    {
     "name": "stdout",
     "output_type": "stream",
     "text": [
      "iteration 15000 loss 8.07713222457096e-05\n"
     ]
    },
    {
     "name": "stdout",
     "output_type": "stream",
     "text": [
      "iteration 15500 loss 7.632545020896941e-05\n"
     ]
    },
    {
     "name": "stdout",
     "output_type": "stream",
     "text": [
      "iteration 16000 loss 7.145308336475864e-05\n"
     ]
    },
    {
     "name": "stdout",
     "output_type": "stream",
     "text": [
      "iteration 16500 loss 6.607556861126795e-05\n"
     ]
    },
    {
     "name": "stdout",
     "output_type": "stream",
     "text": [
      "iteration 17000 loss 6.173852307256311e-05\n"
     ]
    },
    {
     "name": "stdout",
     "output_type": "stream",
     "text": [
      "iteration 17500 loss 5.891446926398203e-05\n"
     ]
    },
    {
     "name": "stdout",
     "output_type": "stream",
     "text": [
      "iteration 18000 loss 5.623472679872066e-05\n"
     ]
    },
    {
     "name": "stdout",
     "output_type": "stream",
     "text": [
      "iteration 18500 loss 5.321592107065953e-05\n"
     ]
    },
    {
     "name": "stdout",
     "output_type": "stream",
     "text": [
      "iteration 19000 loss 4.98400186188519e-05\n"
     ]
    },
    {
     "name": "stdout",
     "output_type": "stream",
     "text": [
      "iteration 19500 loss 4.824659845326096e-05\n"
     ]
    },
    {
     "name": "stdout",
     "output_type": "stream",
     "text": [
      "Learning rate decreased to 1e-05 at iteration 20000\n",
      "iteration 20000 loss 4.643175270757638e-05\n"
     ]
    },
    {
     "name": "stdout",
     "output_type": "stream",
     "text": [
      "iteration 20500 loss 4.6216529881348833e-05\n"
     ]
    },
    {
     "name": "stdout",
     "output_type": "stream",
     "text": [
      "iteration 21000 loss 4.594479105435312e-05\n"
     ]
    },
    {
     "name": "stdout",
     "output_type": "stream",
     "text": [
      "iteration 21500 loss 4.560216257232241e-05\n"
     ]
    },
    {
     "name": "stdout",
     "output_type": "stream",
     "text": [
      "iteration 22000 loss 4.517097841016948e-05\n"
     ]
    },
    {
     "name": "stdout",
     "output_type": "stream",
     "text": [
      "iteration 22500 loss 4.463186996872537e-05\n"
     ]
    },
    {
     "name": "stdout",
     "output_type": "stream",
     "text": [
      "iteration 23000 loss 4.396327494760044e-05\n"
     ]
    },
    {
     "name": "stdout",
     "output_type": "stream",
     "text": [
      "iteration 23500 loss 4.313909448683262e-05\n"
     ]
    },
    {
     "name": "stdout",
     "output_type": "stream",
     "text": [
      "iteration 24000 loss 4.2133411625400186e-05\n"
     ]
    },
    {
     "name": "stdout",
     "output_type": "stream",
     "text": [
      "iteration 24500 loss 4.092016752110794e-05\n"
     ]
    },
    {
     "name": "stdout",
     "output_type": "stream",
     "text": [
      "iteration 25000 loss 3.9479025872424245e-05\n"
     ]
    },
    {
     "name": "stdout",
     "output_type": "stream",
     "text": [
      "iteration 25500 loss 3.7798428820678964e-05\n"
     ]
    },
    {
     "name": "stdout",
     "output_type": "stream",
     "text": [
      "iteration 26000 loss 3.6909248592564836e-05\n"
     ]
    },
    {
     "name": "stdout",
     "output_type": "stream",
     "text": [
      "iteration 26500 loss 3.597179602365941e-05\n"
     ]
    },
    {
     "name": "stdout",
     "output_type": "stream",
     "text": [
      "iteration 27000 loss 3.484789704089053e-05\n"
     ]
    },
    {
     "name": "stdout",
     "output_type": "stream",
     "text": [
      "iteration 27500 loss 3.354098225827329e-05\n"
     ]
    },
    {
     "name": "stdout",
     "output_type": "stream",
     "text": [
      "iteration 28000 loss 3.288033985882066e-05\n"
     ]
    },
    {
     "name": "stdout",
     "output_type": "stream",
     "text": [
      "iteration 28500 loss 3.211685179849155e-05\n"
     ]
    },
    {
     "name": "stdout",
     "output_type": "stream",
     "text": [
      "iteration 29000 loss 3.119508983218111e-05\n"
     ]
    },
    {
     "name": "stdout",
     "output_type": "stream",
     "text": [
      "iteration 29500 loss 3.0321203666971996e-05\n"
     ]
    }
   ],
   "source": [
    "\n",
    "# --- Train and Plot with L2 Loss for the new experiment ---\n",
    "print(\"\\n--- Training LPN for Concave Quadratic Prior (Quadratic H) ---\")\n",
    "lpn_model_concave_quad_l2 = LPN(in_dim=dim_exp, hidden=hidden, layers=layers, beta=beta,eps=1e-3).to(device)\n",
    "optimizer_concave_quad = torch.optim.Adam(lpn_model_concave_quad_l2.parameters(), lr=1e-4)\n",
    "\n",
    "# Initial shorter training phase with a higher learning rate\n",
    "for i in range(1):\n",
    "     single_iteration(i, data_points_exp, lpn_model_concave_quad_l2, optimizer_concave_quad, y_j_exp_tensor, psi_samples_exp_tensor, loss_type=2, gamma_loss=None)\n",
    "\n",
    "# Longer training phase with a reduced learning rate\n",
    "for g in optimizer_concave_quad.param_groups:\n",
    "    g[\"lr\"] = 1e-4\n",
    "for i in range(iterations_exp_long):\n",
    "    if (i % 20000 == 0) and (i > 0): \n",
    "        # Multiply the current learning rate by 1e-1\n",
    "        for g in optimizer_concave_quad.param_groups:\n",
    "            new_lr = g[\"lr\"] * 1e-1\n",
    "            g[\"lr\"] = new_lr\n",
    "        print(f\"Learning rate decreased to {new_lr} at iteration {i}\")    \n",
    "    single_iteration(i, data_points_exp, lpn_model_concave_quad_l2, optimizer_concave_quad, y_j_exp_tensor, psi_samples_exp_tensor, loss_type=2, gamma_loss=None)\n",
    "\n",
    "torch.save(lpn_model_concave_quad_l2.state_dict(), os.path.join(MODEL_DIR, \"ConcaveQuadraticH_l2.pth\"))\n"
   ]
  },
  {
   "cell_type": "markdown",
   "metadata": {},
   "source": [
    "L2 loss -- Plot"
   ]
  },
  {
   "cell_type": "code",
   "execution_count": 8,
   "metadata": {
    "execution": {
     "iopub.execute_input": "2025-10-30T02:19:58.024098Z",
     "iopub.status.busy": "2025-10-30T02:19:58.023304Z",
     "iopub.status.idle": "2025-10-30T02:21:59.471276Z",
     "shell.execute_reply": "2025-10-30T02:21:59.470695Z"
    }
   },
   "outputs": [
    {
     "name": "stdout",
     "output_type": "stream",
     "text": [
      "\n",
      "--- Plotting Cross Sections for Quadratic H, Quadratic concave Prior (Dim=2) ---\n",
      "loss 1.1135220527648926\n"
     ]
    },
    {
     "name": "stdout",
     "output_type": "stream",
     "text": [
      "loss -36.38802719116211\n"
     ]
    },
    {
     "name": "stdout",
     "output_type": "stream",
     "text": [
      "loss -55.1014289855957\n"
     ]
    },
    {
     "name": "stdout",
     "output_type": "stream",
     "text": [
      "loss -63.547576904296875\n"
     ]
    },
    {
     "name": "stdout",
     "output_type": "stream",
     "text": [
      "loss -67.30192565917969\n"
     ]
    },
    {
     "name": "stdout",
     "output_type": "stream",
     "text": [
      "loss -68.66034698486328\n"
     ]
    },
    {
     "name": "stdout",
     "output_type": "stream",
     "text": [
      "loss -69.03206634521484\n"
     ]
    },
    {
     "name": "stdout",
     "output_type": "stream",
     "text": [
      "loss -69.10800170898438\n"
     ]
    },
    {
     "name": "stdout",
     "output_type": "stream",
     "text": [
      "loss -69.1187515258789\n"
     ]
    },
    {
     "name": "stdout",
     "output_type": "stream",
     "text": [
      "loss -69.11968231201172\n"
     ]
    },
    {
     "name": "stdout",
     "output_type": "stream",
     "text": [
      "loss -69.11972045898438\n"
     ]
    },
    {
     "name": "stdout",
     "output_type": "stream",
     "text": [
      "loss -69.1197280883789\n"
     ]
    },
    {
     "name": "stdout",
     "output_type": "stream",
     "text": [
      "loss -69.1197280883789\n"
     ]
    },
    {
     "name": "stdout",
     "output_type": "stream",
     "text": [
      "loss -69.1197280883789\n"
     ]
    },
    {
     "name": "stdout",
     "output_type": "stream",
     "text": [
      "loss -69.1197280883789\n"
     ]
    },
    {
     "name": "stdout",
     "output_type": "stream",
     "text": [
      "loss -69.1197280883789\n"
     ]
    },
    {
     "name": "stdout",
     "output_type": "stream",
     "text": [
      "loss -69.1197280883789\n"
     ]
    },
    {
     "name": "stdout",
     "output_type": "stream",
     "text": [
      "loss -69.1197280883789\n"
     ]
    },
    {
     "name": "stdout",
     "output_type": "stream",
     "text": [
      "loss -69.1197280883789\n"
     ]
    },
    {
     "name": "stdout",
     "output_type": "stream",
     "text": [
      "loss -69.1197280883789\n"
     ]
    },
    {
     "name": "stdout",
     "output_type": "stream",
     "text": [
      "loss -69.1197280883789\n"
     ]
    },
    {
     "name": "stdout",
     "output_type": "stream",
     "text": [
      "loss -69.1197280883789\n"
     ]
    },
    {
     "name": "stdout",
     "output_type": "stream",
     "text": [
      "loss -69.11972045898438\n"
     ]
    },
    {
     "name": "stdout",
     "output_type": "stream",
     "text": [
      "loss -69.1197280883789\n"
     ]
    },
    {
     "name": "stdout",
     "output_type": "stream",
     "text": [
      "loss -69.1197280883789\n"
     ]
    },
    {
     "name": "stdout",
     "output_type": "stream",
     "text": [
      "loss -69.11972045898438\n"
     ]
    },
    {
     "name": "stdout",
     "output_type": "stream",
     "text": [
      "loss -69.1197280883789\n"
     ]
    },
    {
     "name": "stdout",
     "output_type": "stream",
     "text": [
      "loss -69.1197280883789\n"
     ]
    },
    {
     "name": "stdout",
     "output_type": "stream",
     "text": [
      "loss -69.1197280883789\n"
     ]
    },
    {
     "name": "stdout",
     "output_type": "stream",
     "text": [
      "loss -69.1197280883789\n"
     ]
    },
    {
     "name": "stdout",
     "output_type": "stream",
     "text": [
      "loss -69.11972045898438\n"
     ]
    },
    {
     "name": "stdout",
     "output_type": "stream",
     "text": [
      "loss -69.1197280883789\n"
     ]
    },
    {
     "name": "stdout",
     "output_type": "stream",
     "text": [
      "loss -69.11972045898438\n"
     ]
    },
    {
     "name": "stdout",
     "output_type": "stream",
     "text": [
      "loss -69.11972045898438\n"
     ]
    },
    {
     "name": "stdout",
     "output_type": "stream",
     "text": [
      "loss -69.1197280883789\n"
     ]
    },
    {
     "name": "stdout",
     "output_type": "stream",
     "text": [
      "loss -69.1197280883789\n"
     ]
    },
    {
     "name": "stdout",
     "output_type": "stream",
     "text": [
      "loss -69.1197280883789\n"
     ]
    },
    {
     "name": "stdout",
     "output_type": "stream",
     "text": [
      "loss -69.11972045898438\n"
     ]
    },
    {
     "name": "stdout",
     "output_type": "stream",
     "text": [
      "loss -69.11972045898438\n"
     ]
    },
    {
     "name": "stdout",
     "output_type": "stream",
     "text": [
      "loss -69.1197280883789\n"
     ]
    },
    {
     "name": "stdout",
     "output_type": "stream",
     "text": [
      "final mse:  1.176235109312529e-09\n",
      "max, min: 2.0075684 -1.990625\n",
      "loss 1.1135220527648926\n"
     ]
    },
    {
     "name": "stdout",
     "output_type": "stream",
     "text": [
      "loss -37.301055908203125\n"
     ]
    },
    {
     "name": "stdout",
     "output_type": "stream",
     "text": [
      "loss -55.2291259765625\n"
     ]
    },
    {
     "name": "stdout",
     "output_type": "stream",
     "text": [
      "loss -63.73869705200195\n"
     ]
    },
    {
     "name": "stdout",
     "output_type": "stream",
     "text": [
      "loss -67.53077697753906\n"
     ]
    },
    {
     "name": "stdout",
     "output_type": "stream",
     "text": [
      "loss -68.86598205566406\n"
     ]
    },
    {
     "name": "stdout",
     "output_type": "stream",
     "text": [
      "loss -69.23977661132812\n"
     ]
    },
    {
     "name": "stdout",
     "output_type": "stream",
     "text": [
      "loss -69.32001495361328\n"
     ]
    },
    {
     "name": "stdout",
     "output_type": "stream",
     "text": [
      "loss -69.33184051513672\n"
     ]
    },
    {
     "name": "stdout",
     "output_type": "stream",
     "text": [
      "loss -69.3328628540039\n"
     ]
    },
    {
     "name": "stdout",
     "output_type": "stream",
     "text": [
      "loss -69.33291625976562\n"
     ]
    },
    {
     "name": "stdout",
     "output_type": "stream",
     "text": [
      "loss -69.33291625976562\n"
     ]
    },
    {
     "name": "stdout",
     "output_type": "stream",
     "text": [
      "loss -69.33291625976562\n"
     ]
    },
    {
     "name": "stdout",
     "output_type": "stream",
     "text": [
      "loss -69.33291625976562\n"
     ]
    },
    {
     "name": "stdout",
     "output_type": "stream",
     "text": [
      "loss -69.33291625976562\n"
     ]
    },
    {
     "name": "stdout",
     "output_type": "stream",
     "text": [
      "loss -69.33291625976562\n"
     ]
    },
    {
     "name": "stdout",
     "output_type": "stream",
     "text": [
      "loss -69.33291625976562\n"
     ]
    },
    {
     "name": "stdout",
     "output_type": "stream",
     "text": [
      "loss -69.3329086303711\n"
     ]
    },
    {
     "name": "stdout",
     "output_type": "stream",
     "text": [
      "loss -69.33291625976562\n"
     ]
    },
    {
     "name": "stdout",
     "output_type": "stream",
     "text": [
      "loss -69.33291625976562\n"
     ]
    },
    {
     "name": "stdout",
     "output_type": "stream",
     "text": [
      "loss -69.33291625976562\n"
     ]
    },
    {
     "name": "stdout",
     "output_type": "stream",
     "text": [
      "loss -69.33291625976562\n"
     ]
    },
    {
     "name": "stdout",
     "output_type": "stream",
     "text": [
      "loss -69.33291625976562\n"
     ]
    },
    {
     "name": "stdout",
     "output_type": "stream",
     "text": [
      "loss -69.33291625976562\n"
     ]
    },
    {
     "name": "stdout",
     "output_type": "stream",
     "text": [
      "loss -69.33291625976562\n"
     ]
    },
    {
     "name": "stdout",
     "output_type": "stream",
     "text": [
      "loss -69.33291625976562\n"
     ]
    },
    {
     "name": "stdout",
     "output_type": "stream",
     "text": [
      "loss -69.33291625976562\n"
     ]
    },
    {
     "name": "stdout",
     "output_type": "stream",
     "text": [
      "loss -69.33291625976562\n"
     ]
    },
    {
     "name": "stdout",
     "output_type": "stream",
     "text": [
      "loss -69.3329086303711\n"
     ]
    },
    {
     "name": "stdout",
     "output_type": "stream",
     "text": [
      "loss -69.3329086303711\n"
     ]
    },
    {
     "name": "stdout",
     "output_type": "stream",
     "text": [
      "loss -69.3329086303711\n"
     ]
    },
    {
     "name": "stdout",
     "output_type": "stream",
     "text": [
      "loss -69.33291625976562\n"
     ]
    },
    {
     "name": "stdout",
     "output_type": "stream",
     "text": [
      "loss -69.33291625976562\n"
     ]
    },
    {
     "name": "stdout",
     "output_type": "stream",
     "text": [
      "loss -69.33291625976562\n"
     ]
    },
    {
     "name": "stdout",
     "output_type": "stream",
     "text": [
      "loss -69.33291625976562\n"
     ]
    },
    {
     "name": "stdout",
     "output_type": "stream",
     "text": [
      "loss -69.33291625976562\n"
     ]
    },
    {
     "name": "stdout",
     "output_type": "stream",
     "text": [
      "loss -69.33291625976562\n"
     ]
    },
    {
     "name": "stdout",
     "output_type": "stream",
     "text": [
      "loss -69.33291625976562\n"
     ]
    },
    {
     "name": "stdout",
     "output_type": "stream",
     "text": [
      "loss -69.33291625976562\n"
     ]
    },
    {
     "name": "stdout",
     "output_type": "stream",
     "text": [
      "loss -69.33291625976562\n"
     ]
    },
    {
     "name": "stdout",
     "output_type": "stream",
     "text": [
      "final mse:  1.4899607103657786e-09\n",
      "max, min: 2.0157638 -1.9790889\n"
     ]
    },
    {
     "data": {
      "image/png": "[encoded data removed]",
      "text/plain": [
       "<Figure size 1200x500 with 2 Axes>"
      ]
     },
     "metadata": {},
     "output_type": "display_data"
    },
    {
     "data": {
      "image/png": "[encoded data removed]",
      "text/plain": [
       "<Figure size 1200x500 with 2 Axes>"
      ]
     },
     "metadata": {},
     "output_type": "display_data"
    },
    {
     "data": {
      "image/png": "[encoded data removed]",
      "text/plain": [
       "<Figure size 600x500 with 1 Axes>"
      ]
     },
     "metadata": {},
     "output_type": "display_data"
    }
   ],
   "source": [
    "#print(\"\\n--- Plotting Cross Sections for Quadratic H, Concave Quad Prior (Dim=4) ---\")\n",
    "plot_all_concave_quad(lpn_model_concave_quad_l2, a_exp, spacing, INVERT_MODE, dim_exp)\n",
    "\n",
    "#print(\"\\n--- Plotting Learned Hamiltonian for Quadratic H, Concave Quad Prior ---\")\n",
    "evaluate_learned_H(lpn_model_concave_quad_l2, a_exp, spacing, dim_exp)"
   ]
  },
  {
   "cell_type": "code",
   "execution_count": 9,
   "metadata": {
    "execution": {
     "iopub.execute_input": "2025-10-30T02:21:59.473600Z",
     "iopub.status.busy": "2025-10-30T02:21:59.473316Z",
     "iopub.status.idle": "2025-10-30T02:21:59.483957Z",
     "shell.execute_reply": "2025-10-30T02:21:59.483393Z"
    }
   },
   "outputs": [
    {
     "name": "stdout",
     "output_type": "stream",
     "text": [
      "Generated G samples: G_samples_tensor shape torch.Size([20000, 1])\n"
     ]
    }
   ],
   "source": [
    "# --- Generate New Training Data for the Second LPN G(x) ---\n",
    "# We use the same x_j_exp_tensor as the first LPN's training data for x_k\n",
    "x_k_tensor = y_j_exp_tensor.clone().to(device)\n",
    "x_k_tensor.requires_grad_(True)\n",
    "\n",
    "# 1. Compute the gradient y_k = grad_x psi_theta(x_k, t=1)\n",
    "# Get psi(x_k)\n",
    "psi_x_k = lpn_model_concave_quad_l2.scalar(x_k_tensor)\n",
    "\n",
    "# Get gradient y_k = grad_psi(x_k)\n",
    "y_k_tensor = lpn_model_concave_quad_l2(x_k_tensor)\n",
    "\n",
    "# 2. Evaluate the \"new\" samples G_k = <y_k, x_k> - psi_theta(x_k, 1) (from eq 26)\n",
    "inner_prod_yk_xk = torch.sum(y_k_tensor * x_k_tensor, dim=1, keepdim=True)\n",
    "G_samples_tensor_with_graph = inner_prod_yk_xk - psi_x_k\n",
    "\n",
    "# Detach the tensor to treat G_k as fixed targets, breaking the connection\n",
    "# to the first LPN's graph and preventing the RuntimeError during training.\n",
    "G_samples_tensor = G_samples_tensor_with_graph.detach().to(device) \n",
    "\n",
    "# The input tensor x_k_tensor is still needed for the second LPN training,\n",
    "# but it should also not require a gradient for that training.\n",
    "x_k_tensor = x_k_tensor.detach()\n",
    "x_k_tensor.requires_grad_(False) \n",
    "y_k_tensor = y_k_tensor.detach()\n",
    "y_k_tensor.requires_grad_(False)\n",
    "# G_samples_tensor now holds the target values G_k\n",
    "print(f\"Generated G samples: G_samples_tensor shape {G_samples_tensor.shape}\")\n",
    "\n",
    "\n",
    "# def evaluate_updated_prior_J_hat(y_points, model, x_k_np):\n",
    "#     \"\"\"\n",
    "#     Implements the approximate prior.\n",
    "#     \"\"\"\n",
    "    \n",
    "#     # Pre-compute y_k = grad psi(x_k) from the training data\n",
    "#     x_k_tensor = torch.from_numpy(x_k_np).float().to(device)\n",
    "#     y_k_tensor = model(x_k_tensor)\n",
    "#     y_k_np = y_k_tensor.detach().cpu().numpy()\n",
    "    \n",
    "#     # Compute S(x_k, 1) = psi(x_k, t=1) from the LPN\n",
    "#     S_x_k = model.scalar(x_k_tensor)  # Shape (K, 1)\n",
    "#     S_x_k_np = S_x_k.detach().cpu().numpy().flatten()  # Shape (K,)\n",
    "    \n",
    "#     # The constant term simplifies to just S(x_k, 1)\n",
    "#     # Because: J_tilde(y_k) + 1/2||x_k - y_k||^2 \n",
    "#     #        = [S(x_k,1) - 1/2||x_k - y_k||^2] + 1/2||x_k - y_k||^2 \n",
    "#     #        = S(x_k, 1)\n",
    "#     constants_k = S_x_k_np  # Shape (K,)\n",
    "    \n",
    "#     # Term 3: -1/2 * ||x_k - y||^2\n",
    "#     # Broadcasting: x_k_np (K, 1, dim), y_points (1, N, dim) -> (K, N)\n",
    "#     term3 = -0.5 * np.sum((x_k_np[:, np.newaxis, :] - y_points[np.newaxis, :, :])**2, axis=2)\n",
    "    \n",
    "#     # Term 4: 1/4 * ||y - y_k||^2\n",
    "#     # Broadcasting: y_points (1, N, dim), y_k_np (K, 1, dim) -> (K, N)\n",
    "#     term4 = 0.25 * np.sum((y_points[np.newaxis, :, :] - y_k_np[:, np.newaxis, :])**2, axis=2)\n",
    "\n",
    "#     term5 = 0.5 * np.sum((x_k_np[:, np.newaxis, :])**2, axis=2)\n",
    "#     all_terms = term5 - constants_k[:, np.newaxis] + term3 \n",
    "    \n",
    "#     # # Combine all terms: constants_k (K, 1) + term3 (K, N) + term4 (K, N)\n",
    "#     # all_terms = constants_k[:, np.newaxis] + term3 + term4\n",
    "    \n",
    "#     # Take the max over K dimension\n",
    "#     j_hat_est = np.max(all_terms, axis=0)\n",
    "    \n",
    "#     return j_hat_est\n",
    "\n",
    "# def plot_updated_prior_J_hat(model, a, spacing, dim, x_k_np):\n",
    "#     \"\"\"\n",
    "#     Generates cross-section plots for the prior j_hat(y) from the \"Update\".\n",
    "#     \"\"\"\n",
    "#     print(f\"\\n--- Plotting Updated Prior j_hat(y) (Dim={dim}) ---\")\n",
    "#     xi, y1_0_points, y2_0_points = compute_square_cross_sections(a, spacing, dim)\n",
    "\n",
    "#     # Compute true prior J(y)\n",
    "#     y1_0_J_true = prior_true_concave_quad(y1_0_points)\n",
    "    \n",
    "#     # Compute estimated prior j_hat(y)\n",
    "#     y1_0_J_hat_est = evaluate_updated_prior_J_hat(y1_0_points, model, x_k_np)\n",
    "\n",
    "#     plt.figure(figsize=(12, 5))\n",
    "    \n",
    "#     plt.subplot(1, 2, 1)\n",
    "#     plt.plot(xi, y1_0_J_hat_est, \"-\", label=\"Approximate Prior $\\\\hat{J}(y)$\")\n",
    "#     plt.plot(xi, y1_0_J_true, \"--\", label=\"True Prior $J(y)=-1/4||y||_2^2$\")\n",
    "#     plt.grid(True)\n",
    "#     plt.title(f\"Updated Prior $\\\\hat{{J}}(y_1,0,...)$ - Dim {dim}\")\n",
    "#     plt.xlabel('$y_1$')\n",
    "#     plt.ylabel('Prior Value')\n",
    "#     plt.legend()\n",
    "\n",
    "#     if dim > 1:\n",
    "#         y2_0_J_true = prior_true_concave_quad(y2_0_points)\n",
    "#         y2_0_J_hat_est = evaluate_updated_prior_J_hat(y2_0_points, model, x_k_np)\n",
    "        \n",
    "#         plt.subplot(1, 2, 2)\n",
    "#         plt.plot(xi, y2_0_J_hat_est, \"-\", label=\"Approximate Prior $\\\\hat{J}(y)$\")\n",
    "#         plt.plot(xi, y2_0_J_true, \"--\", label=\"True Prior $J(y)=-1/4||y||_2^2$\")\n",
    "#         plt.grid(True)\n",
    "#         plt.title(f\"Updated Prior $\\\\hat{{J}}(0,y_2,0,...)$ - Dim {dim}\")\n",
    "#         plt.xlabel('$y_2$')\n",
    "#         plt.ylabel('Prior Value')\n",
    "#         plt.legend()\n",
    "        \n",
    "#     plt.tight_layout()\n",
    "#     plt.show()\n",
    "\n",
    "\n",
    "# # We use the original training data 'x_j_exp_np' as our set of x_k points.\n",
    "# #subset_size = 1000 \n",
    "# x_k_subset_np = y_j_exp_np#[:subset_size, :]\n",
    "\n",
    "# plot_updated_prior_J_hat(lpn_model_concave_quad_l2, a_exp, spacing, dim_exp, x_k_subset_np)\n"
   ]
  },
  {
   "cell_type": "code",
   "execution_count": 10,
   "metadata": {
    "execution": {
     "iopub.execute_input": "2025-10-30T02:21:59.485971Z",
     "iopub.status.busy": "2025-10-30T02:21:59.485709Z",
     "iopub.status.idle": "2025-10-30T02:23:31.685932Z",
     "shell.execute_reply": "2025-10-30T02:23:31.685330Z"
    }
   },
   "outputs": [
    {
     "name": "stdout",
     "output_type": "stream",
     "text": [
      "\n",
      "--- Training Second LPN G(x) for Concave Quadratic Prior ---\n",
      "iteration 0 loss 188.77186584472656\n",
      "iteration 0 loss 195.44444274902344\n"
     ]
    },
    {
     "name": "stdout",
     "output_type": "stream",
     "text": [
      "iteration 500 loss 7.896753787994385\n"
     ]
    },
    {
     "name": "stdout",
     "output_type": "stream",
     "text": [
      "iteration 1000 loss 6.950098991394043\n"
     ]
    },
    {
     "name": "stdout",
     "output_type": "stream",
     "text": [
      "iteration 1500 loss 6.159341335296631\n"
     ]
    },
    {
     "name": "stdout",
     "output_type": "stream",
     "text": [
      "iteration 2000 loss 5.2688212394714355\n"
     ]
    },
    {
     "name": "stdout",
     "output_type": "stream",
     "text": [
      "iteration 2500 loss 4.254556655883789\n"
     ]
    },
    {
     "name": "stdout",
     "output_type": "stream",
     "text": [
      "iteration 3000 loss 3.082005500793457\n"
     ]
    },
    {
     "name": "stdout",
     "output_type": "stream",
     "text": [
      "iteration 3500 loss 1.8893018960952759\n"
     ]
    },
    {
     "name": "stdout",
     "output_type": "stream",
     "text": [
      "iteration 4000 loss 0.9231316447257996\n"
     ]
    },
    {
     "name": "stdout",
     "output_type": "stream",
     "text": [
      "iteration 4500 loss 0.3853801190853119\n"
     ]
    },
    {
     "name": "stdout",
     "output_type": "stream",
     "text": [
      "iteration 5000 loss 0.17747673392295837\n"
     ]
    },
    {
     "name": "stdout",
     "output_type": "stream",
     "text": [
      "iteration 5500 loss 0.09050743281841278\n"
     ]
    },
    {
     "name": "stdout",
     "output_type": "stream",
     "text": [
      "iteration 6000 loss 0.047547705471515656\n"
     ]
    },
    {
     "name": "stdout",
     "output_type": "stream",
     "text": [
      "iteration 6500 loss 0.02622056193649769\n"
     ]
    },
    {
     "name": "stdout",
     "output_type": "stream",
     "text": [
      "iteration 7000 loss 0.015867751091718674\n"
     ]
    },
    {
     "name": "stdout",
     "output_type": "stream",
     "text": [
      "iteration 7500 loss 0.010217889212071896\n"
     ]
    },
    {
     "name": "stdout",
     "output_type": "stream",
     "text": [
      "iteration 8000 loss 0.006478414870798588\n"
     ]
    },
    {
     "name": "stdout",
     "output_type": "stream",
     "text": [
      "iteration 8500 loss 0.004139808006584644\n"
     ]
    },
    {
     "name": "stdout",
     "output_type": "stream",
     "text": [
      "iteration 9000 loss 0.0027202912606298923\n"
     ]
    },
    {
     "name": "stdout",
     "output_type": "stream",
     "text": [
      "iteration 9500 loss 0.0018314418848603964\n"
     ]
    },
    {
     "name": "stdout",
     "output_type": "stream",
     "text": [
      "iteration 10000 loss 0.0012548323720693588\n"
     ]
    },
    {
     "name": "stdout",
     "output_type": "stream",
     "text": [
      "iteration 10500 loss 0.0009053912945091724\n"
     ]
    },
    {
     "name": "stdout",
     "output_type": "stream",
     "text": [
      "iteration 11000 loss 0.0006941183819435537\n"
     ]
    },
    {
     "name": "stdout",
     "output_type": "stream",
     "text": [
      "iteration 11500 loss 0.0005405572010204196\n"
     ]
    },
    {
     "name": "stdout",
     "output_type": "stream",
     "text": [
      "iteration 12000 loss 0.00044991052709519863\n"
     ]
    },
    {
     "name": "stdout",
     "output_type": "stream",
     "text": [
      "iteration 12500 loss 0.0003990733530372381\n"
     ]
    },
    {
     "name": "stdout",
     "output_type": "stream",
     "text": [
      "iteration 13000 loss 0.0003503046464174986\n"
     ]
    },
    {
     "name": "stdout",
     "output_type": "stream",
     "text": [
      "iteration 13500 loss 0.00030314753530547023\n"
     ]
    },
    {
     "name": "stdout",
     "output_type": "stream",
     "text": [
      "iteration 14000 loss 0.0002613952092360705\n"
     ]
    },
    {
     "name": "stdout",
     "output_type": "stream",
     "text": [
      "iteration 14500 loss 0.00024090675287880003\n"
     ]
    },
    {
     "name": "stdout",
     "output_type": "stream",
     "text": [
      "iteration 15000 loss 0.00022575826733373106\n"
     ]
    },
    {
     "name": "stdout",
     "output_type": "stream",
     "text": [
      "iteration 15500 loss 0.00021025132446084172\n"
     ]
    },
    {
     "name": "stdout",
     "output_type": "stream",
     "text": [
      "iteration 16000 loss 0.00019418905139900744\n"
     ]
    },
    {
     "name": "stdout",
     "output_type": "stream",
     "text": [
      "iteration 16500 loss 0.02692379057407379\n"
     ]
    },
    {
     "name": "stdout",
     "output_type": "stream",
     "text": [
      "iteration 17000 loss 0.0001731204247334972\n"
     ]
    },
    {
     "name": "stdout",
     "output_type": "stream",
     "text": [
      "iteration 17500 loss 0.0001664810552028939\n"
     ]
    },
    {
     "name": "stdout",
     "output_type": "stream",
     "text": [
      "iteration 18000 loss 0.0001592537300894037\n"
     ]
    },
    {
     "name": "stdout",
     "output_type": "stream",
     "text": [
      "iteration 18500 loss 0.0001512061571702361\n"
     ]
    },
    {
     "name": "stdout",
     "output_type": "stream",
     "text": [
      "iteration 19000 loss 0.0001423494250047952\n"
     ]
    },
    {
     "name": "stdout",
     "output_type": "stream",
     "text": [
      "iteration 19500 loss 0.00013833971752319485\n"
     ]
    },
    {
     "name": "stdout",
     "output_type": "stream",
     "text": [
      "Learning rate decreased to 1e-05 at iteration 20000\n",
      "iteration 20000 loss 0.00013405914069153368\n"
     ]
    },
    {
     "name": "stdout",
     "output_type": "stream",
     "text": [
      "iteration 20500 loss 0.0001335622218903154\n"
     ]
    },
    {
     "name": "stdout",
     "output_type": "stream",
     "text": [
      "iteration 21000 loss 0.00013292994117364287\n"
     ]
    },
    {
     "name": "stdout",
     "output_type": "stream",
     "text": [
      "iteration 21500 loss 0.00013212983321864158\n"
     ]
    },
    {
     "name": "stdout",
     "output_type": "stream",
     "text": [
      "iteration 22000 loss 0.0001311269006691873\n"
     ]
    },
    {
     "name": "stdout",
     "output_type": "stream",
     "text": [
      "iteration 22500 loss 0.00012987462105229497\n"
     ]
    },
    {
     "name": "stdout",
     "output_type": "stream",
     "text": [
      "iteration 23000 loss 0.00012832123320549726\n"
     ]
    },
    {
     "name": "stdout",
     "output_type": "stream",
     "text": [
      "iteration 23500 loss 0.00012640228669624776\n"
     ]
    },
    {
     "name": "stdout",
     "output_type": "stream",
     "text": [
      "iteration 24000 loss 0.00012405375309754163\n"
     ]
    },
    {
     "name": "stdout",
     "output_type": "stream",
     "text": [
      "iteration 24500 loss 0.00012121035979362205\n"
     ]
    },
    {
     "name": "stdout",
     "output_type": "stream",
     "text": [
      "iteration 25000 loss 0.00011782068759202957\n"
     ]
    },
    {
     "name": "stdout",
     "output_type": "stream",
     "text": [
      "iteration 25500 loss 0.0001138382067438215\n"
     ]
    },
    {
     "name": "stdout",
     "output_type": "stream",
     "text": [
      "iteration 26000 loss 0.00011059288954129443\n"
     ]
    },
    {
     "name": "stdout",
     "output_type": "stream",
     "text": [
      "iteration 26500 loss 0.00010875384759856388\n"
     ]
    },
    {
     "name": "stdout",
     "output_type": "stream",
     "text": [
      "iteration 27000 loss 0.00010654472862370312\n"
     ]
    },
    {
     "name": "stdout",
     "output_type": "stream",
     "text": [
      "iteration 27500 loss 0.00010390448005637154\n"
     ]
    },
    {
     "name": "stdout",
     "output_type": "stream",
     "text": [
      "iteration 28000 loss 0.00010079381172545254\n"
     ]
    },
    {
     "name": "stdout",
     "output_type": "stream",
     "text": [
      "iteration 28500 loss 9.893957758322358e-05\n"
     ]
    },
    {
     "name": "stdout",
     "output_type": "stream",
     "text": [
      "iteration 29000 loss 9.722325194161385e-05\n"
     ]
    },
    {
     "name": "stdout",
     "output_type": "stream",
     "text": [
      "iteration 29500 loss 9.513024997431785e-05\n"
     ]
    },
    {
     "name": "stdout",
     "output_type": "stream",
     "text": [
      "Training of LPN for G(x) complete and model saved.\n"
     ]
    }
   ],
   "source": [
    "# --- Step 3: Train LPN G(x) ---\n",
    "print(\"\\n--- Training Second LPN G(x) for Concave Quadratic Prior ---\")\n",
    "# The target for this LPN is G_samples_tensor\n",
    "# The input for this LPN is x_k_tensor\n",
    "lpn_model_G = LPN(in_dim=dim_exp, hidden=hidden, layers=layers, beta=beta, eps=1e-3).to(device)\n",
    "optimizer_G = torch.optim.Adam(lpn_model_G.parameters(), lr=1e-4)\n",
    "\n",
    "# Initial shorter training phase\n",
    "for i in range(1):\n",
    "     single_iteration(i, data_points_exp, lpn_model_G, optimizer_G, y_k_tensor, G_samples_tensor, loss_type=2, gamma_loss=None)\n",
    "\n",
    "for g in optimizer_G.param_groups:\n",
    "    g[\"lr\"] = 1e-4 # Use a smaller learning rate for the long phase\n",
    "for i in range(iterations_exp_long):\n",
    "    if (i % 20000 == 0) and (i > 0): \n",
    "        # Multiply the current learning rate by 1e-1\n",
    "        for g in optimizer_G.param_groups:\n",
    "            new_lr = g[\"lr\"] * 1e-1\n",
    "            g[\"lr\"] = new_lr\n",
    "        print(f\"Learning rate decreased to {new_lr} at iteration {i}\")\n",
    "    single_iteration(i, data_points_exp, lpn_model_G, optimizer_G, y_k_tensor, G_samples_tensor, loss_type=2, gamma_loss=None)\n",
    "\n",
    "torch.save(lpn_model_G.state_dict(), os.path.join(MODEL_DIR, \"G_network_l2.pth\"))\n",
    "print(\"Training of LPN for G(x) complete and model saved.\")"
   ]
  },
  {
   "cell_type": "code",
   "execution_count": 11,
   "metadata": {
    "execution": {
     "iopub.execute_input": "2025-10-30T02:23:31.688281Z",
     "iopub.status.busy": "2025-10-30T02:23:31.687877Z",
     "iopub.status.idle": "2025-10-30T02:23:32.208483Z",
     "shell.execute_reply": "2025-10-30T02:23:32.207912Z"
    }
   },
   "outputs": [
    {
     "name": "stdout",
     "output_type": "stream",
     "text": [
      "\n",
      "--- Plotting Estimated Prior J(x) from LPN 2 ---\n"
     ]
    },
    {
     "data": {
      "image/png": "[encoded data removed]",
      "text/plain": [
       "<Figure size 1200x500 with 2 Axes>"
      ]
     },
     "metadata": {},
     "output_type": "display_data"
    }
   ],
   "source": [
    "def evaluate_learned_J_G_network(x_points, model_G):\n",
    "    \"\"\"\n",
    "    Evaluates the learned prior J(x) using the trained G(x) network.\n",
    "    J(x) = G(x) - 0.5 * ||x||^2\n",
    "    \"\"\"\n",
    "    # Convert to tensor\n",
    "    x_tensor = torch.from_numpy(x_points).float().to(device)\n",
    "    \n",
    "    # Get G(x) from the second LPN model\n",
    "    G_x = model_G.scalar(x_tensor)\n",
    "    \n",
    "    # Compute 0.5 * ||x||^2\n",
    "    x_norm_sq_np = euclid_norm_sq(x_points)\n",
    "    x_norm_sq_tensor = torch.from_numpy(x_norm_sq_np).float().to(device).reshape(-1, 1)\n",
    "\n",
    "    # Apply the formula: J_est = G(x) - 0.5 * ||x||^2\n",
    "    J_est = G_x - 0.5 * x_norm_sq_tensor\n",
    "    \n",
    "    # Convert back to numpy\n",
    "    J_est_np = J_est.detach().cpu().numpy().flatten()\n",
    "    \n",
    "    return J_est_np\n",
    "\n",
    "def plot_J_G_network(model_G, a, spacing, dim):\n",
    "    \"\"\"Plots the cross-sections of the estimated prior J(x) from the G network.\"\"\"\n",
    "    xi, x1_0_points, x2_0_points = compute_square_cross_sections(a, spacing, dim)\n",
    "    \n",
    "    # True Prior\n",
    "    x1_0_J_true = prior_true_concave_quad(x1_0_points)\n",
    "    if dim > 1:\n",
    "        x2_0_J_true = prior_true_concave_quad(x2_0_points)\n",
    "    else:\n",
    "        x2_0_J_true = x1_0_J_true\n",
    "        \n",
    "    # Estimated Prior from G(x) Network\n",
    "    x1_0_J_G_est = evaluate_learned_J_G_network(x1_0_points, model_G)\n",
    "    if dim > 1:\n",
    "        x2_0_J_G_est = evaluate_learned_J_G_network(x2_0_points, model_G)\n",
    "    else:\n",
    "        x2_0_J_G_est = x1_0_J_G_est\n",
    "    \n",
    "    print(\"\\n--- Plotting Estimated Prior J(x) from LPN 2 ---\")\n",
    "    plt.figure(figsize=(12,5))\n",
    "    \n",
    "    plt.subplot(1, 2, 1)\n",
    "    plt.plot(xi, x1_0_J_G_est, \"-\", label=\"LPN 2\")\n",
    "    plt.plot(xi, x1_0_J_true, \"--\", label=\"True $J(x)=-1/4||x||_2^2$\")\n",
    "    plt.grid(True)\n",
    "    plt.title(f\"Prior $J(x_1,0,...)$ Dim {dim}\")\n",
    "    plt.xlabel('$x_1$')\n",
    "    plt.ylabel('$J(x_1,0,...)$')\n",
    "    plt.legend()\n",
    "\n",
    "    if dim > 1:\n",
    "        plt.subplot(1, 2, 2)\n",
    "        plt.plot(xi, x2_0_J_G_est, \"-\", label=\"LPN 2\")\n",
    "        plt.plot(xi, x2_0_J_true, \"--\", label=\"True $J(x)=-1/4||x||_2^2$\")\n",
    "        plt.grid(True)\n",
    "        plt.title(f\"Prior $J(0,x_2,0,...)$ Dim {dim}\")\n",
    "        plt.xlabel('$x_2$')\n",
    "        plt.ylabel('$J(0,x_2,0,...)$')\n",
    "        plt.legend()\n",
    "    plt.tight_layout()\n",
    "    #plt.savefig('G_network_prior_plot.png')\n",
    "    \n",
    "# --- Execute Plotting ---\n",
    "plot_J_G_network(lpn_model_G, a_exp, spacing, dim_exp)"
   ]
  }
 ],
 "metadata": {
  "colab": {
   "provenance": []
  },
  "kernelspec": {
   "display_name": "lpn_env_image",
   "language": "python",
   "name": "python3"
  },
  "language_info": {
   "codemirror_mode": {
    "name": "ipython",
    "version": 3
   },
   "file_extension": ".py",
   "mimetype": "text/x-python",
   "name": "python",
   "nbconvert_exporter": "python",
   "pygments_lexer": "ipython3",
   "version": "3.13.5"
  }
 },
 "nbformat": 4,
 "nbformat_minor": 4
}
