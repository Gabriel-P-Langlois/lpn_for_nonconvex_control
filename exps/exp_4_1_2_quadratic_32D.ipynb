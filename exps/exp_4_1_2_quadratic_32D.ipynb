{
 "cells": [
  {
   "cell_type": "markdown",
   "metadata": {},
   "source": [
    "# GPL Paper Section 4.1.2 Experiment: Quadratic Hamiltonian with L1 Prior"
   ]
  },
  {
   "cell_type": "markdown",
   "metadata": {},
   "source": [
    "This code attempts to learn 32D prior $J(x) = \\|x\\|_1$ in the context of a Hamilton-Jacobi PDE with a quadratic Hamiltonian\n",
    "$H(p) = \\frac{1}{2}\\|p\\|_2^2$ (Using the method of characterization).\n",
    "The LPN learns the function $\\psi(y) = J^*(y) - \\frac{1}{2}\\|y\\|_2^2$.\n",
    "Training data uses samples $\\{y_j,\\psi(y_j)\\}$ where $\\psi(y_j) = \\frac{1}{2}\\|y_j\\|_2^2 - S(y_j,1)$, and,\n",
    "$S(y_j,1) = \\min_{x \\in \\mathbb{R}^d} \\{\\frac{1}{2}\\|x-y_j\\|_2^2 + \\|x\\|_1\\}$ (Moreau envelope of $J(x)=\\|x\\|_1$ at $t=1$)."
   ]
  },
  {
   "cell_type": "markdown",
   "metadata": {},
   "source": [
    "## Import modules "
   ]
  },
  {
   "cell_type": "code",
   "execution_count": 1,
   "metadata": {
    "execution": {
     "iopub.execute_input": "2025-10-29T13:47:37.939503Z",
     "iopub.status.busy": "2025-10-29T13:47:37.939047Z",
     "iopub.status.idle": "2025-10-29T13:47:41.674279Z",
     "shell.execute_reply": "2025-10-29T13:47:41.673670Z"
    },
    "id": "Mtd5gx1tv90z"
   },
   "outputs": [],
   "source": [
    "import os\n",
    "import numpy as np\n",
    "import torch\n",
    "\n",
    "import matplotlib.pyplot as plt\n",
    "from matplotlib import cm\n",
    "from matplotlib.ticker import LinearLocator\n",
    "import seaborn as sns\n",
    "\n",
    "from network import LPN\n",
    "from lib.utils import cvx\n",
    "from lib.invert import invert\n",
    "\n",
    "# set location\n",
    "MODEL_DIR = \"experiments/models/minplus_4_1_2_quadratic_32D\"\n",
    "os.makedirs(MODEL_DIR, exist_ok=True)\n",
    "device = torch.device(\"cuda:0\" if torch.cuda.is_available() else \"cpu\")\n",
    "\n",
    "# set random seeds\n",
    "np.random.seed(1)\n",
    "torch.manual_seed(1)\n",
    "\n",
    "# plotting options\n",
    "plt.rcParams.update({\"text.usetex\": False})\n",
    "sns.set_theme()"
   ]
  },
  {
   "cell_type": "markdown",
   "metadata": {},
   "source": [
    "## Parameters"
   ]
  },
  {
   "cell_type": "code",
   "execution_count": 2,
   "metadata": {
    "execution": {
     "iopub.execute_input": "2025-10-29T13:47:41.676790Z",
     "iopub.status.busy": "2025-10-29T13:47:41.676437Z",
     "iopub.status.idle": "2025-10-29T13:47:41.680172Z",
     "shell.execute_reply": "2025-10-29T13:47:41.679634Z"
    }
   },
   "outputs": [],
   "source": [
    "# Parameters\n",
    "# --- Parameters for Sec 4.1.2 L1 Prior Experiment ---\n",
    "dim_exp = 32  # Dimension (e.g., 2D, 4D, 8D as in the paper)\n",
    "data_points_exp = 20000 # Example number of data points\n",
    "iterations_exp_initial = 1 # Iterations for initial training phase\n",
    "iterations_exp_long = 500000 # Iterations for longer training phase\n",
    "a_exp = 4 # Grid limit for sampling y_j if using uniform, e.g., y_j in [-a, a]^d\n",
    "spacing = 50 # For plotting cross-sections\n",
    "\n",
    "\n",
    "# LPN model parameters\n",
    "# Note: The defaults parameters are beta = 10, hidden = 50, layers = 4\n",
    "beta = 10       # beta of softplus\n",
    "hidden = 128     # number of hidden units\n",
    "layers = 8      # number of layers\n",
    "eps = 0.5\n",
    "# optimization algorithm to use for computing the prior (cvx_cg, cvx_gd)\n",
    "INVERT_MODE = \"cvx_gd\""
   ]
  },
  {
   "cell_type": "markdown",
   "metadata": {},
   "source": [
    "# === Section 4.1.2==="
   ]
  },
  {
   "cell_type": "code",
   "execution_count": 3,
   "metadata": {
    "execution": {
     "iopub.execute_input": "2025-10-29T13:47:41.682425Z",
     "iopub.status.busy": "2025-10-29T13:47:41.682166Z",
     "iopub.status.idle": "2025-10-29T13:47:41.801349Z",
     "shell.execute_reply": "2025-10-29T13:47:41.800785Z"
    }
   },
   "outputs": [],
   "source": [
    "import numpy as np\n",
    "import matplotlib.pyplot as plt\n",
    "import torch \n",
    "\n",
    "# === Section 4.1.2: L1 Prior Helper Functions ===\n",
    "\n",
    "def inner_prod(x, y):\n",
    "    return np.sum(x * y, axis=1)\n",
    "\n",
    "def euclid_norm_sq(x):\n",
    "    if x.ndim == 1:\n",
    "        return np.sum(x*x)\n",
    "    return np.sum(x * x, axis=1)\n",
    "\n",
    "def prox_l1_vec(y, t_lambda):\n",
    "    \"\"\" Element-wise proximal operator of t_lambda*||x||_1 (soft-thresholding). \"\"\"\n",
    "    return np.sign(y) * np.maximum(np.abs(y) - t_lambda, 0)\n",
    "\n",
    "def hjsol_true_quadratic_l1(y_points,n=1.0, t=1.0): # y_points is N x dim\n",
    "    \"\"\"\n",
    "    Computes S(y, t=1) for J(x)=||x||_1.\n",
    "    S(y, 1) = ||x||_1 + nt/2 }\n",
    "    \"\"\"\n",
    "    t_moreau = 1.0\n",
    "    prox_y = prox_l1_vec(y_points, t_moreau) # element-wise for N x dim\n",
    "    s_values = np.sum(np.abs(prox_y), axis=1) +n * t/2 # L1 norm for each vector y_j \n",
    "    return s_values # N-dimensional array\n",
    "\n",
    "def prior_true_quadratic_l1(y_points): # y_points is N x dim\n",
    "    \"\"\" Computes the true prior J(y) = ||y||_1. \"\"\"\n",
    "    return np.sum(np.abs(y_points), axis=1) # N-dimensional array\n",
    "\n",
    "def cvx_true_quadratic_l1(y_points): # y_points is N x dim\n",
    "    \"\"\"\n",
    "    Computes the target function psi(y) = 0.5*||y||_2^2 - S(y, t=1) for J(x)=||x||_1.\n",
    "    \"\"\"\n",
    "    s_y_1 = hjsol_true_quadratic_l1(y_points)\n",
    "    psi_y = 0.5 * euclid_norm_sq(y_points) - s_y_1\n",
    "    return psi_y # N-dimensional array\n",
    "\n",
    "# def invert_prior_lpn(x, model, INVERT_MODE):\n",
    "#     y = invert(x,model,INVERT_MODE)\n",
    "#     return y\n",
    "\n",
    "# def evaluate_learned_prior_lpn(x_eval_points, y_inverted_points, model):\n",
    "#     try:\n",
    "#         y_tensor = torch.from_numpy(y_inverted_points).float().to(device)\n",
    "#         psi_of_y_inverted = model.scalar(y_tensor).squeeze(1).detach().cpu().numpy()\n",
    "#     except NameError: \n",
    "#         print(\"Warning: 'device' not defined. Assuming CPU for evaluate_learned_prior.\")\n",
    "#         y_tensor = torch.from_numpy(y_inverted_points).float()\n",
    "#         psi_of_y_inverted = model.scalar(y_tensor).squeeze(1).detach().numpy()\n",
    "#     prior_est = inner_prod(x_eval_points, y_inverted_points) - 0.5 * euclid_norm_sq(x_eval_points) - psi_of_y_inverted\n",
    "#     return prior_est\n",
    "\n",
    "\n",
    "def evaluate_learned_J_HJ_approx(x_eval_points_np, model, t_val=1.0):\n",
    "    \"\"\"\n",
    "    Evaluates the learned prior J_est(x) using the LPN and HJ approximation.\n",
    "    J(x) ≈ S(x + t*grad_S(x,t), t) - (t/2)*||grad_S(x,t)||^2\n",
    "    where S(x,t) = (1/2t)||x||^2 - (1/t)psi_t(x) if LPN learns psi_t(x).\n",
    "    Here, LPN learns psi(x) which is psi_1(x), so we use t=1.\n",
    "    S(x,1) = 0.5*||x||^2 - psi(x)\n",
    "    grad_S(x,1) = x - grad_psi(x)\n",
    "    \n",
    "    Args:\n",
    "        x_eval_points_np (np.ndarray): N x dim array of points to estimate J(x) at.\n",
    "        model: The trained LPN model object (e.g., a torch.nn.Module).\n",
    "        t_val (float): Time parameter, typically 1.0 for this setup.\n",
    "    \n",
    "    Returns:\n",
    "        np.ndarray: N-dimensional array of estimated prior values J_est(x_eval_points).\n",
    "    \"\"\"\n",
    "    x_tensor = torch.from_numpy(x_eval_points_np).float().to(device)\n",
    "    x_tensor.requires_grad_(True)  # Ensure grad can be computed\n",
    "    \n",
    "    # grad_psi_x = nabla_psi(x)\n",
    "    # The LPN's forward() method (model(x_tensor)) should return nabla_psi(x)\n",
    "    grad_psi_x_tensor = model(x_tensor) \n",
    "    \n",
    "    # p_eval = nabla_S(x,1) = x - nabla_psi(x)\n",
    "    p_eval_tensor = x_tensor - grad_psi_x_tensor\n",
    "    \n",
    "    # x_new = x + t * p_eval\n",
    "    x_new_tensor = x_tensor + t_val * p_eval_tensor\n",
    "    \n",
    "    # psi_x_new = psi(x_new)\n",
    "    psi_x_new_tensor = model.scalar(x_new_tensor)  # Should be N x 1\n",
    "    \n",
    "    # S(x_new, 1) = 0.5*||x_new||^2 - psi(x_new)\n",
    "    norm_sq_x_new_tensor = torch.sum(x_new_tensor**2, dim=1, keepdim=True)  # N x 1\n",
    "    S_x_new_t_tensor = 0.5 * norm_sq_x_new_tensor - psi_x_new_tensor  # N x 1\n",
    "    \n",
    "    # (t/2)*||p_eval||^2\n",
    "    norm_sq_p_eval_tensor = torch.sum(p_eval_tensor**2, dim=1, keepdim=True)  # N x 1\n",
    "    term2_tensor = (t_val / 2.0) * norm_sq_p_eval_tensor  # N x 1\n",
    "    \n",
    "    J_approx_tensor = S_x_new_t_tensor - term2_tensor  # N x 1\n",
    "    \n",
    "    return J_approx_tensor.detach().cpu().numpy().flatten()  # N-dimensional\n",
    "\n",
    "def compute_square_cross_sections(a, spacing, dim):\n",
    "    xi = np.linspace(-a, a, spacing)\n",
    "    grid = np.zeros((xi.size, dim))\n",
    "    x1_0_points = np.copy(grid)\n",
    "    x1_0_points[:, 0] = xi\n",
    "    x2_0_points = np.copy(grid)\n",
    "    if dim > 1:\n",
    "        x2_0_points[:, 1] = xi\n",
    "    elif dim == 1:\n",
    "        x2_0_points = x1_0_points.copy()\n",
    "    return xi, x1_0_points, x2_0_points\n",
    "\n",
    "def cross_sections_plots_quadratic_l1(model, a, spacing, INVERT_MODE, dim):\n",
    "    xi, x1_0_points, x2_0_points = compute_square_cross_sections(a, spacing, dim)\n",
    "    \n",
    "    x1_0_psi_true = cvx_true_quadratic_l1(x1_0_points)\n",
    "    x1_0_J_true = prior_true_quadratic_l1(x1_0_points)\n",
    "    if dim > 1:\n",
    "        x2_0_psi_true = cvx_true_quadratic_l1(x2_0_points)\n",
    "        x2_0_J_true = prior_true_quadratic_l1(x2_0_points)\n",
    "    else: \n",
    "        x2_0_psi_true = x1_0_psi_true \n",
    "        x2_0_J_true = x1_0_J_true\n",
    "        \n",
    "    x1_0_psi_est = cvx(x1_0_points, model) \n",
    "    #y1_inverted = invert_prior_lpn(x1_0_points, model, INVERT_MODE)\n",
    "    x1_0_J_est = evaluate_learned_J_HJ_approx(x1_0_points, model)\n",
    "    if dim > 1:\n",
    "        x2_0_psi_est = cvx(x2_0_points, model)\n",
    "        #y2_inverted = invert_prior_lpn(x2_0_points, model, INVERT_MODE)\n",
    "        x2_0_J_est = evaluate_learned_J_HJ_approx(x2_0_points, model)\n",
    "    else:\n",
    "        x2_0_psi_est = x1_0_psi_est\n",
    "        x2_0_J_est = x1_0_J_est\n",
    "        \n",
    "    plt.figure(figsize=(12,5))\n",
    "    plt.subplot(1, 2, 1)\n",
    "    plt.plot(xi, x1_0_psi_est, \"-\", ms=5, label=\"LPN (Learned $\\\\psi$)\")\n",
    "    plt.plot(xi, x1_0_psi_true, \"--\", ms=5, label=\"True $\\\\psi$ for $J(x)=\\\\|x\\\\|_1$\")\n",
    "    plt.grid(True)\n",
    "    plt.title(f\"$\\\\psi(y_1,0,...)$ - Dim {dim}, $J(x)=\\\\|x\\\\|_1$\")\n",
    "    plt.xlabel('$y_1$')\n",
    "    plt.ylabel('$\\\\psi(y_1,0,...)$')\n",
    "    plt.legend()\n",
    "\n",
    "    if dim > 1:\n",
    "        plt.subplot(1, 2, 2) # Second plot for psi if dim > 1\n",
    "        plt.plot(xi, x2_0_psi_est, \"-\", ms=5, label=\"LPN (Learned $\\\\psi$)\")\n",
    "        plt.plot(xi, x2_0_psi_true, \"--\", ms=5, label=\"True $\\\\psi$ for $J(x)=\\\\|x\\\\|_1$\")\n",
    "        plt.grid(True)\n",
    "        plt.title(f\"$\\\\psi(0,y_2,0,...)$ - Dim {dim}, $J(x)=\\\\|x\\\\|_1$\")\n",
    "        plt.xlabel('$y_2$')\n",
    "        plt.ylabel('$\\\\psi(0,y_2,0,...)$')\n",
    "        plt.legend()\n",
    "    plt.tight_layout()\n",
    "    plt.show()\n",
    "\n",
    "    plt.figure(figsize=(12,5))\n",
    "    plt.subplot(1, 2, 1)\n",
    "    plt.plot(xi, x1_0_J_est, \"-\", label=\"LPN (Learned $J$)\")\n",
    "    plt.plot(xi, x1_0_J_true, \"--\", label=\"True $J(x)=\\\\|x\\\\|_1$\")\n",
    "    plt.grid(True)\n",
    "    plt.title(f\"Prior $J(x_1,0,...)$ - Dim {dim}, $J(x)=\\\\|x\\\\|_1$\")\n",
    "    plt.xlabel('$x_1$')\n",
    "    plt.ylabel('$J(x_1,0,...)$')\n",
    "    plt.legend()\n",
    "\n",
    "    if dim > 1:\n",
    "        plt.subplot(1, 2, 2)\n",
    "        plt.plot(xi, x2_0_J_est, \"-\", label=\"LPN (Learned $J$)\")\n",
    "        plt.plot(xi, x2_0_J_true, \"--\", label=\"True $J(x)=\\\\|x\\\\|_1$\")\n",
    "        plt.grid(True)\n",
    "        plt.title(f\"Prior $J(0,x_2,0,...)$ - Dim {dim}, $J(x)=\\\\|x\\\\|_1$\")\n",
    "        plt.xlabel('$x_2$')\n",
    "        plt.ylabel('$J(0,x_2,0,...)$')\n",
    "        plt.legend()\n",
    "    plt.tight_layout()\n",
    "    plt.show()\n",
    "\n",
    "def plot_all_quadratic_l1(model, a, spacing, INVERT_MODE, dim):\n",
    "    print(f\"\\n--- Plotting Cross Sections for Quadratic H, L1 Prior (Dim={dim}) ---\")\n",
    "    cross_sections_plots_quadratic_l1(model, a, spacing, INVERT_MODE, dim)\n",
    "\n"
   ]
  },
  {
   "cell_type": "code",
   "execution_count": 4,
   "metadata": {
    "execution": {
     "iopub.execute_input": "2025-10-29T13:47:41.803486Z",
     "iopub.status.busy": "2025-10-29T13:47:41.803198Z",
     "iopub.status.idle": "2025-10-29T13:47:41.806435Z",
     "shell.execute_reply": "2025-10-29T13:47:41.805992Z"
    }
   },
   "outputs": [],
   "source": [
    "\n",
    "def exp_func(x, gamma):\n",
    "    # Ensure x is a 1D tensor for vector_norm if it comes in as N x 1\n",
    "    if x.ndim > 1 and x.shape[1] == 1:\n",
    "        x = x.squeeze(1)\n",
    "    return -torch.exp(-((torch.linalg.vector_norm(x, ord = 2, dim=-1)/ gamma) ** 2)) + 1.0\n"
   ]
  },
  {
   "cell_type": "markdown",
   "metadata": {},
   "source": [
    "# --- Generate Training Data (using Moreau envelope target as per notebook) ---"
   ]
  },
  {
   "cell_type": "code",
   "execution_count": 5,
   "metadata": {
    "execution": {
     "iopub.execute_input": "2025-10-29T13:47:41.808443Z",
     "iopub.status.busy": "2025-10-29T13:47:41.808158Z",
     "iopub.status.idle": "2025-10-29T13:47:42.046966Z",
     "shell.execute_reply": "2025-10-29T13:47:42.046397Z"
    }
   },
   "outputs": [
    {
     "name": "stdout",
     "output_type": "stream",
     "text": [
      "Generated training data: y_j_exp_tensor shape torch.Size([20000, 32]), cvx_samples_exp_tensor shape torch.Size([20000, 1])\n"
     ]
    }
   ],
   "source": [
    "# --- Generate Training Data ---\n",
    "y_j_exp_np = np.random.uniform(-a_exp, a_exp, (data_points_exp, dim_exp))\n",
    "\n",
    "cvx_samples_exp_np = cvx_true_quadratic_l1(y_j_exp_np)\n",
    "cvx_samples_exp_np = cvx_samples_exp_np.reshape(-1, 1)\n",
    "\n",
    "y_j_exp_tensor = torch.from_numpy(y_j_exp_np).float()\n",
    "cvx_samples_exp_tensor = torch.from_numpy(cvx_samples_exp_np).float()\n",
    "print(f\"Generated training data: y_j_exp_tensor shape {y_j_exp_tensor.shape}, cvx_samples_exp_tensor shape {cvx_samples_exp_tensor.shape}\")\n",
    "# --- ADD THIS TO MOVE DATA TO GPU ---\n",
    "y_j_exp_tensor = y_j_exp_tensor.to(device)\n",
    "cvx_samples_exp_tensor = cvx_samples_exp_tensor.to(device)"
   ]
  },
  {
   "cell_type": "markdown",
   "metadata": {},
   "source": [
    "## Training function"
   ]
  },
  {
   "cell_type": "code",
   "execution_count": 6,
   "metadata": {
    "execution": {
     "iopub.execute_input": "2025-10-29T13:47:42.071184Z",
     "iopub.status.busy": "2025-10-29T13:47:42.070894Z",
     "iopub.status.idle": "2025-10-29T13:47:42.075096Z",
     "shell.execute_reply": "2025-10-29T13:47:42.074655Z"
    }
   },
   "outputs": [],
   "source": [
    "def single_iteration(i, data_points, lpn_model, optimizer,input,cvx_samples,loss_type, gamma_loss=None):\n",
    "    # Compute the convex function from the input.\n",
    "    cvx_out = lpn_model.scalar(input)\n",
    "\n",
    "    # Calculate the loss function\n",
    "    if loss_type == 2:\n",
    "        loss = (cvx_out - cvx_samples).pow(2).sum() / data_points # MSE loss\n",
    "    elif loss_type == 1:\n",
    "        loss = (cvx_out - cvx_samples).abs().sum() / data_points    # MAE loss\n",
    "    elif loss_type == 0:\n",
    "        loss = exp_func(cvx_out - cvx_samples, gamma_loss).mean()   # proximal matching loss\n",
    "    else:\n",
    "        raise ValueError(\"loss_type must be 0, 1, or 2\")\n",
    "\n",
    "\n",
    "    optimizer.zero_grad()\n",
    "    loss.backward()\n",
    "    optimizer.step()\n",
    "\n",
    "    lpn_model.wclip()\n",
    "\n",
    "    # monitor\n",
    "    # loss_lstar = exp_func(out - target, 0.1).mean()\n",
    "\n",
    "    if not i % 5000:\n",
    "        print(\"iteration\", i, \"loss\", loss.item()) #, \"loss_lstar\", loss_lstar.item())"
   ]
  },
  {
   "cell_type": "markdown",
   "metadata": {},
   "source": [
    "# Train"
   ]
  },
  {
   "cell_type": "markdown",
   "metadata": {},
   "source": [
    "L2 loss -- Train"
   ]
  },
  {
   "cell_type": "code",
   "execution_count": 7,
   "metadata": {
    "execution": {
     "iopub.execute_input": "2025-10-29T13:47:42.077080Z",
     "iopub.status.busy": "2025-10-29T13:47:42.076840Z",
     "iopub.status.idle": "2025-10-29T14:53:33.527874Z",
     "shell.execute_reply": "2025-10-29T14:53:33.527226Z"
    }
   },
   "outputs": [
    {
     "name": "stdout",
     "output_type": "stream",
     "text": [
      "--- Training LPN for J(x)=||x||_1 (Quadratic H) ---\n"
     ]
    },
    {
     "name": "stdout",
     "output_type": "stream",
     "text": [
      "iteration 0 loss 2463.5546875\n",
      "iteration 0 loss 45421536.0\n"
     ]
    },
    {
     "name": "stdout",
     "output_type": "stream",
     "text": [
      "iteration 5000 loss 854.9513549804688\n"
     ]
    },
    {
     "name": "stdout",
     "output_type": "stream",
     "text": [
      "iteration 10000 loss 20.82046127319336\n"
     ]
    },
    {
     "name": "stdout",
     "output_type": "stream",
     "text": [
      "iteration 15000 loss 16.228252410888672\n"
     ]
    },
    {
     "name": "stdout",
     "output_type": "stream",
     "text": [
      "iteration 20000 loss 7.7823052406311035\n"
     ]
    },
    {
     "name": "stdout",
     "output_type": "stream",
     "text": [
      "iteration 25000 loss 0.1481238752603531\n"
     ]
    },
    {
     "name": "stdout",
     "output_type": "stream",
     "text": [
      "iteration 30000 loss 0.04980658367276192\n"
     ]
    },
    {
     "name": "stdout",
     "output_type": "stream",
     "text": [
      "iteration 35000 loss 0.026999937370419502\n"
     ]
    },
    {
     "name": "stdout",
     "output_type": "stream",
     "text": [
      "iteration 40000 loss 0.01622769981622696\n"
     ]
    },
    {
     "name": "stdout",
     "output_type": "stream",
     "text": [
      "iteration 45000 loss 0.010542429983615875\n"
     ]
    },
    {
     "name": "stdout",
     "output_type": "stream",
     "text": [
      "iteration 50000 loss 0.006978228688240051\n"
     ]
    },
    {
     "name": "stdout",
     "output_type": "stream",
     "text": [
      "iteration 55000 loss 0.004769660532474518\n"
     ]
    },
    {
     "name": "stdout",
     "output_type": "stream",
     "text": [
      "iteration 60000 loss 0.008282376453280449\n"
     ]
    },
    {
     "name": "stdout",
     "output_type": "stream",
     "text": [
      "iteration 65000 loss 0.0024934851098805666\n"
     ]
    },
    {
     "name": "stdout",
     "output_type": "stream",
     "text": [
      "iteration 70000 loss 0.001777082565240562\n"
     ]
    },
    {
     "name": "stdout",
     "output_type": "stream",
     "text": [
      "iteration 75000 loss 0.0014344291994348168\n"
     ]
    },
    {
     "name": "stdout",
     "output_type": "stream",
     "text": [
      "iteration 80000 loss 0.004114770330488682\n"
     ]
    },
    {
     "name": "stdout",
     "output_type": "stream",
     "text": [
      "iteration 85000 loss 0.00079346977872774\n"
     ]
    },
    {
     "name": "stdout",
     "output_type": "stream",
     "text": [
      "iteration 90000 loss 0.056025292724370956\n"
     ]
    },
    {
     "name": "stdout",
     "output_type": "stream",
     "text": [
      "iteration 95000 loss 0.0005049448227509856\n"
     ]
    },
    {
     "name": "stdout",
     "output_type": "stream",
     "text": [
      "iteration 100000 loss 0.0329756997525692\n"
     ]
    },
    {
     "name": "stdout",
     "output_type": "stream",
     "text": [
      "iteration 105000 loss 0.00033621478360146284\n"
     ]
    },
    {
     "name": "stdout",
     "output_type": "stream",
     "text": [
      "iteration 110000 loss 0.00028670227038674057\n"
     ]
    },
    {
     "name": "stdout",
     "output_type": "stream",
     "text": [
      "iteration 115000 loss 0.004992270842194557\n"
     ]
    },
    {
     "name": "stdout",
     "output_type": "stream",
     "text": [
      "iteration 120000 loss 0.00021111068781465292\n"
     ]
    },
    {
     "name": "stdout",
     "output_type": "stream",
     "text": [
      "iteration 125000 loss 0.00017369176202919334\n"
     ]
    },
    {
     "name": "stdout",
     "output_type": "stream",
     "text": [
      "iteration 130000 loss 0.0001666681928327307\n"
     ]
    },
    {
     "name": "stdout",
     "output_type": "stream",
     "text": [
      "iteration 135000 loss 0.008599081076681614\n"
     ]
    },
    {
     "name": "stdout",
     "output_type": "stream",
     "text": [
      "iteration 140000 loss 0.00046574295265600085\n"
     ]
    },
    {
     "name": "stdout",
     "output_type": "stream",
     "text": [
      "iteration 145000 loss 0.00014042954717297107\n"
     ]
    },
    {
     "name": "stdout",
     "output_type": "stream",
     "text": [
      "iteration 150000 loss 0.00011618845019256696\n"
     ]
    },
    {
     "name": "stdout",
     "output_type": "stream",
     "text": [
      "iteration 155000 loss 0.00010815716814249754\n"
     ]
    },
    {
     "name": "stdout",
     "output_type": "stream",
     "text": [
      "iteration 160000 loss 0.00010163225670112297\n"
     ]
    },
    {
     "name": "stdout",
     "output_type": "stream",
     "text": [
      "iteration 165000 loss 0.017621347680687904\n"
     ]
    },
    {
     "name": "stdout",
     "output_type": "stream",
     "text": [
      "iteration 170000 loss 0.04154448211193085\n"
     ]
    },
    {
     "name": "stdout",
     "output_type": "stream",
     "text": [
      "iteration 175000 loss 8.709329995326698e-05\n"
     ]
    },
    {
     "name": "stdout",
     "output_type": "stream",
     "text": [
      "iteration 180000 loss 8.101465209620073e-05\n"
     ]
    },
    {
     "name": "stdout",
     "output_type": "stream",
     "text": [
      "iteration 185000 loss 7.935045141493902e-05\n"
     ]
    },
    {
     "name": "stdout",
     "output_type": "stream",
     "text": [
      "iteration 190000 loss 9.087015496334061e-05\n"
     ]
    },
    {
     "name": "stdout",
     "output_type": "stream",
     "text": [
      "iteration 195000 loss 0.00012537538714241236\n"
     ]
    },
    {
     "name": "stdout",
     "output_type": "stream",
     "text": [
      "iteration 200000 loss 7.150117016863078e-05\n"
     ]
    },
    {
     "name": "stdout",
     "output_type": "stream",
     "text": [
      "iteration 205000 loss 0.00031292624771595\n"
     ]
    },
    {
     "name": "stdout",
     "output_type": "stream",
     "text": [
      "iteration 210000 loss 7.014171569608152e-05\n"
     ]
    },
    {
     "name": "stdout",
     "output_type": "stream",
     "text": [
      "iteration 215000 loss 0.0188603512942791\n"
     ]
    },
    {
     "name": "stdout",
     "output_type": "stream",
     "text": [
      "iteration 220000 loss 7.121127418940887e-05\n"
     ]
    },
    {
     "name": "stdout",
     "output_type": "stream",
     "text": [
      "iteration 225000 loss 0.00033442993299104273\n"
     ]
    },
    {
     "name": "stdout",
     "output_type": "stream",
     "text": [
      "iteration 230000 loss 6.887732888571918e-05\n"
     ]
    },
    {
     "name": "stdout",
     "output_type": "stream",
     "text": [
      "iteration 235000 loss 7.756516424706206e-05\n"
     ]
    },
    {
     "name": "stdout",
     "output_type": "stream",
     "text": [
      "iteration 240000 loss 6.913287506904453e-05\n"
     ]
    },
    {
     "name": "stdout",
     "output_type": "stream",
     "text": [
      "iteration 245000 loss 0.36058321595191956\n"
     ]
    },
    {
     "name": "stdout",
     "output_type": "stream",
     "text": [
      "iteration 250000 loss 0.0001890519488370046\n"
     ]
    },
    {
     "name": "stdout",
     "output_type": "stream",
     "text": [
      "iteration 255000 loss 6.92668036208488e-05\n"
     ]
    },
    {
     "name": "stdout",
     "output_type": "stream",
     "text": [
      "iteration 260000 loss 6.365318404277787e-05\n"
     ]
    },
    {
     "name": "stdout",
     "output_type": "stream",
     "text": [
      "iteration 265000 loss 5.8241639635525644e-05\n"
     ]
    },
    {
     "name": "stdout",
     "output_type": "stream",
     "text": [
      "iteration 270000 loss 0.0029082419350743294\n"
     ]
    },
    {
     "name": "stdout",
     "output_type": "stream",
     "text": [
      "iteration 275000 loss 0.017589149996638298\n"
     ]
    },
    {
     "name": "stdout",
     "output_type": "stream",
     "text": [
      "iteration 280000 loss 0.0338386707007885\n"
     ]
    },
    {
     "name": "stdout",
     "output_type": "stream",
     "text": [
      "iteration 285000 loss 0.0007458208710886538\n"
     ]
    },
    {
     "name": "stdout",
     "output_type": "stream",
     "text": [
      "iteration 290000 loss 5.370415237848647e-05\n"
     ]
    },
    {
     "name": "stdout",
     "output_type": "stream",
     "text": [
      "iteration 295000 loss 9.326665167463943e-05\n"
     ]
    },
    {
     "name": "stdout",
     "output_type": "stream",
     "text": [
      "iteration 300000 loss 6.0216836573090404e-05\n"
     ]
    },
    {
     "name": "stdout",
     "output_type": "stream",
     "text": [
      "iteration 305000 loss 0.35098251700401306\n"
     ]
    },
    {
     "name": "stdout",
     "output_type": "stream",
     "text": [
      "iteration 310000 loss 0.0001681080466369167\n"
     ]
    },
    {
     "name": "stdout",
     "output_type": "stream",
     "text": [
      "iteration 315000 loss 0.021699728444218636\n"
     ]
    },
    {
     "name": "stdout",
     "output_type": "stream",
     "text": [
      "iteration 320000 loss 0.00012165655789431185\n"
     ]
    },
    {
     "name": "stdout",
     "output_type": "stream",
     "text": [
      "iteration 325000 loss 0.00031769007910043\n"
     ]
    },
    {
     "name": "stdout",
     "output_type": "stream",
     "text": [
      "iteration 330000 loss 0.002771934727206826\n"
     ]
    },
    {
     "name": "stdout",
     "output_type": "stream",
     "text": [
      "iteration 335000 loss 4.75161723443307e-05\n"
     ]
    },
    {
     "name": "stdout",
     "output_type": "stream",
     "text": [
      "iteration 340000 loss 0.027189532294869423\n"
     ]
    },
    {
     "name": "stdout",
     "output_type": "stream",
     "text": [
      "iteration 345000 loss 5.6299428251804784e-05\n"
     ]
    },
    {
     "name": "stdout",
     "output_type": "stream",
     "text": [
      "iteration 350000 loss 0.013539852574467659\n"
     ]
    },
    {
     "name": "stdout",
     "output_type": "stream",
     "text": [
      "iteration 355000 loss 0.03341502696275711\n"
     ]
    },
    {
     "name": "stdout",
     "output_type": "stream",
     "text": [
      "iteration 360000 loss 0.2975238561630249\n"
     ]
    },
    {
     "name": "stdout",
     "output_type": "stream",
     "text": [
      "iteration 365000 loss 0.005530705209821463\n"
     ]
    },
    {
     "name": "stdout",
     "output_type": "stream",
     "text": [
      "iteration 370000 loss 0.0006631799624301493\n"
     ]
    },
    {
     "name": "stdout",
     "output_type": "stream",
     "text": [
      "iteration 375000 loss 4.579343294608407e-05\n"
     ]
    },
    {
     "name": "stdout",
     "output_type": "stream",
     "text": [
      "iteration 380000 loss 4.9354151997249573e-05\n"
     ]
    },
    {
     "name": "stdout",
     "output_type": "stream",
     "text": [
      "iteration 385000 loss 4.84093397972174e-05\n"
     ]
    },
    {
     "name": "stdout",
     "output_type": "stream",
     "text": [
      "iteration 390000 loss 0.010853312909603119\n"
     ]
    },
    {
     "name": "stdout",
     "output_type": "stream",
     "text": [
      "iteration 395000 loss 5.9809492086060345e-05\n"
     ]
    },
    {
     "name": "stdout",
     "output_type": "stream",
     "text": [
      "iteration 400000 loss 5.0760638259816915e-05\n"
     ]
    },
    {
     "name": "stdout",
     "output_type": "stream",
     "text": [
      "iteration 405000 loss 0.08615812659263611\n"
     ]
    },
    {
     "name": "stdout",
     "output_type": "stream",
     "text": [
      "iteration 410000 loss 0.018345411866903305\n"
     ]
    },
    {
     "name": "stdout",
     "output_type": "stream",
     "text": [
      "iteration 415000 loss 4.612035627360456e-05\n"
     ]
    },
    {
     "name": "stdout",
     "output_type": "stream",
     "text": [
      "iteration 420000 loss 8.173708920367062e-05\n"
     ]
    },
    {
     "name": "stdout",
     "output_type": "stream",
     "text": [
      "iteration 425000 loss 0.0004724660830106586\n"
     ]
    },
    {
     "name": "stdout",
     "output_type": "stream",
     "text": [
      "iteration 430000 loss 4.4536242057802156e-05\n"
     ]
    },
    {
     "name": "stdout",
     "output_type": "stream",
     "text": [
      "iteration 435000 loss 3.994463259004988e-05\n"
     ]
    },
    {
     "name": "stdout",
     "output_type": "stream",
     "text": [
      "iteration 440000 loss 0.00011915747745661065\n"
     ]
    },
    {
     "name": "stdout",
     "output_type": "stream",
     "text": [
      "iteration 445000 loss 4.9330719775753096e-05\n"
     ]
    },
    {
     "name": "stdout",
     "output_type": "stream",
     "text": [
      "iteration 450000 loss 4.15432768932078e-05\n"
     ]
    },
    {
     "name": "stdout",
     "output_type": "stream",
     "text": [
      "iteration 455000 loss 5.036247966927476e-05\n"
     ]
    },
    {
     "name": "stdout",
     "output_type": "stream",
     "text": [
      "iteration 460000 loss 0.00011793504381785169\n"
     ]
    },
    {
     "name": "stdout",
     "output_type": "stream",
     "text": [
      "iteration 465000 loss 0.040117714554071426\n"
     ]
    },
    {
     "name": "stdout",
     "output_type": "stream",
     "text": [
      "iteration 470000 loss 0.0003386704484000802\n"
     ]
    },
    {
     "name": "stdout",
     "output_type": "stream",
     "text": [
      "iteration 475000 loss 3.7713904021074995e-05\n"
     ]
    },
    {
     "name": "stdout",
     "output_type": "stream",
     "text": [
      "iteration 480000 loss 0.1361016035079956\n"
     ]
    },
    {
     "name": "stdout",
     "output_type": "stream",
     "text": [
      "iteration 485000 loss 3.913724503945559e-05\n"
     ]
    },
    {
     "name": "stdout",
     "output_type": "stream",
     "text": [
      "iteration 490000 loss 0.0009292024187743664\n"
     ]
    },
    {
     "name": "stdout",
     "output_type": "stream",
     "text": [
      "iteration 495000 loss 0.025226542726159096\n"
     ]
    }
   ],
   "source": [
    "\n",
    "print(\"--- Training LPN for J(x)=||x||_1 (Quadratic H) ---\")\n",
    "lpn_model_quad_l2 = LPN(in_dim=dim_exp, hidden=hidden, layers=layers, beta=beta,eps=1e-3).to(device)\n",
    "optimizer_quad_l2 = torch.optim.Adam(lpn_model_quad_l2.parameters(), lr=1e-4)\n",
    "\n",
    "for i in range(iterations_exp_initial):\n",
    "     single_iteration(i, data_points_exp, lpn_model_quad_l2, optimizer_quad_l2, y_j_exp_tensor,cvx_samples_exp_tensor,loss_type=2,gamma_loss=None)\n",
    "\n",
    "for g in optimizer_quad_l2.param_groups:\n",
    "    g[\"lr\"] = 1e-4 \n",
    "for i in range(iterations_exp_long):\n",
    "    single_iteration(i, data_points_exp, lpn_model_quad_l2, optimizer_quad_l2, y_j_exp_tensor,cvx_samples_exp_tensor,loss_type=2,gamma_loss=None)\n",
    "\n",
    "torch.save(lpn_model_quad_l2.state_dict(), os.path.join(MODEL_DIR, \"QuadraticH_L1prior_l2.pth\"))"
   ]
  },
  {
   "cell_type": "markdown",
   "metadata": {},
   "source": [
    "L2 loss -- Plot"
   ]
  },
  {
   "cell_type": "code",
   "execution_count": 8,
   "metadata": {
    "execution": {
     "iopub.execute_input": "2025-10-29T14:53:33.530794Z",
     "iopub.status.busy": "2025-10-29T14:53:33.530225Z",
     "iopub.status.idle": "2025-10-29T14:53:34.586252Z",
     "shell.execute_reply": "2025-10-29T14:53:34.585709Z"
    }
   },
   "outputs": [
    {
     "name": "stdout",
     "output_type": "stream",
     "text": [
      "\n",
      "--- Plotting Cross Sections for Quadratic H, L1 Prior (Dim=32) ---\n"
     ]
    },
    {
     "data": {
      "image/png": "[encoded data removed]",
      "text/plain": [
       "<Figure size 1200x500 with 2 Axes>"
      ]
     },
     "metadata": {},
     "output_type": "display_data"
    },
    {
     "data": {
      "image/png": "[encoded data removed]",
      "text/plain": [
       "<Figure size 1200x500 with 2 Axes>"
      ]
     },
     "metadata": {},
     "output_type": "display_data"
    }
   ],
   "source": [
    "# L2 loss -- Plot\n",
    "plot_all_quadratic_l1(lpn_model_quad_l2, a_exp, spacing, INVERT_MODE, dim_exp)"
   ]
  },
  {
   "cell_type": "code",
   "execution_count": 9,
   "metadata": {
    "execution": {
     "iopub.execute_input": "2025-10-29T14:53:34.588332Z",
     "iopub.status.busy": "2025-10-29T14:53:34.588096Z",
     "iopub.status.idle": "2025-10-29T14:53:36.030044Z",
     "shell.execute_reply": "2025-10-29T14:53:36.029486Z"
    }
   },
   "outputs": [
    {
     "name": "stdout",
     "output_type": "stream",
     "text": [
      "Generated G samples: G_samples_tensor shape torch.Size([20000, 1])\n",
      "\n",
      "--- Plotting Updated Prior j_hat(y) (Dim=32) ---\n"
     ]
    },
    {
     "data": {
      "image/png": "[encoded data removed]",
      "text/plain": [
       "<Figure size 1200x500 with 2 Axes>"
      ]
     },
     "metadata": {},
     "output_type": "display_data"
    }
   ],
   "source": [
    "# --- Generate New Training Data for the Second LPN G(x) ---\n",
    "# We use the same x_j_exp_tensor as the first LPN's training data for x_k\n",
    "x_k_tensor = y_j_exp_tensor.clone()\n",
    "x_k_tensor.requires_grad_(True)\n",
    "\n",
    "# 1. Compute the gradient y_k = grad_x psi_theta(x_k, t=1)\n",
    "# Get psi(x_k)\n",
    "psi_x_k = lpn_model_quad_l2.scalar(x_k_tensor)\n",
    "\n",
    "# Get gradient y_k = grad_psi(x_k)\n",
    "y_k_tensor = lpn_model_quad_l2(x_k_tensor)\n",
    "\n",
    "# 2. Evaluate the \"new\" samples G_k = <y_k, x_k> - psi_theta(x_k, 1) (from eq 26)\n",
    "inner_prod_yk_xk = torch.sum(y_k_tensor * x_k_tensor, dim=1, keepdim=True)\n",
    "G_samples_tensor_with_graph = inner_prod_yk_xk - psi_x_k\n",
    "\n",
    "# Detach the tensor to treat G_k as fixed targets, breaking the connection\n",
    "# to the first LPN's graph and preventing the RuntimeError during training.\n",
    "G_samples_tensor = G_samples_tensor_with_graph.detach() \n",
    "\n",
    "# The input tensor x_k_tensor is still needed for the second LPN training,\n",
    "# but it should also not require a gradient for that training.\n",
    "x_k_tensor = x_k_tensor.detach()\n",
    "x_k_tensor.requires_grad_(False) \n",
    "y_k_tensor = y_k_tensor.detach()\n",
    "y_k_tensor.requires_grad_(False)\n",
    "# G_samples_tensor now holds the target values G_k\n",
    "print(f\"Generated G samples: G_samples_tensor shape {G_samples_tensor.shape}\")\n",
    "\n",
    "\n",
    "def evaluate_updated_prior_J_hat(y_points, model, x_k_np):\n",
    "    \"\"\"\n",
    "    Implements the approximate prior.\n",
    "    \"\"\"\n",
    "    \n",
    "    # Pre-compute y_k = grad psi(x_k) from the training data\n",
    "    x_k_tensor = torch.from_numpy(x_k_np).float().to(device)\n",
    "    y_k_tensor = model(x_k_tensor)\n",
    "    y_k_np = y_k_tensor.detach().cpu().numpy()\n",
    "    \n",
    "    # Compute S(x_k, 1) = psi(x_k, t=1) from the LPN\n",
    "    S_x_k = model.scalar(x_k_tensor)  # Shape (K, 1)\n",
    "    S_x_k_np = S_x_k.detach().cpu().numpy().flatten()  # Shape (K,)\n",
    "    \n",
    "    # The constant term simplifies to just S(x_k, 1)\n",
    "    # Because: J_tilde(y_k) + 1/2||x_k - y_k||^2 \n",
    "    #        = [S(x_k,1) - 1/2||x_k - y_k||^2] + 1/2||x_k - y_k||^2 \n",
    "    #        = S(x_k, 1)\n",
    "    constants_k = S_x_k_np  # Shape (K,)\n",
    "    \n",
    "    # Term 3: -1/2 * ||x_k - y||^2\n",
    "    # Broadcasting: x_k_np (K, 1, dim), y_points (1, N, dim) -> (K, N)\n",
    "    term3 = -0.5 * np.sum((x_k_np[:, np.newaxis, :] - y_points[np.newaxis, :, :])**2, axis=2)\n",
    "    \n",
    "    # Term 4: 1/4 * ||y - y_k||^2\n",
    "    # Broadcasting: y_points (1, N, dim), y_k_np (K, 1, dim) -> (K, N)\n",
    "    term4 = 0.25 * np.sum((y_points[np.newaxis, :, :] - y_k_np[:, np.newaxis, :])**2, axis=2)\n",
    "\n",
    "    term5 = 0.5 * np.sum((x_k_np[:, np.newaxis, :])**2, axis=2)\n",
    "    all_terms = term5 - constants_k[:, np.newaxis] + term3 \n",
    "    \n",
    "    # # Combine all terms: constants_k (K, 1) + term3 (K, N) + term4 (K, N)\n",
    "    # all_terms = constants_k[:, np.newaxis] + term3 + term4\n",
    "    \n",
    "    # Take the max over K dimension\n",
    "    j_hat_est = np.max(all_terms, axis=0)\n",
    "    \n",
    "    return j_hat_est\n",
    "\n",
    "def plot_updated_prior_J_hat(model, a, spacing, dim, x_k_np):\n",
    "    \"\"\"\n",
    "    Generates cross-section plots for the prior j_hat(y) from the \"Update\".\n",
    "    \"\"\"\n",
    "    print(f\"\\n--- Plotting Updated Prior j_hat(y) (Dim={dim}) ---\")\n",
    "    xi, y1_0_points, y2_0_points = compute_square_cross_sections(a, spacing, dim)\n",
    "\n",
    "    # Compute true prior J(y)\n",
    "    y1_0_J_true = prior_true_quadratic_l1(y1_0_points)\n",
    "    \n",
    "    # Compute estimated prior j_hat(y)\n",
    "    y1_0_J_hat_est = evaluate_updated_prior_J_hat(y1_0_points, model, x_k_np)\n",
    "\n",
    "    plt.figure(figsize=(12, 5))\n",
    "    \n",
    "    plt.subplot(1, 2, 1)\n",
    "    plt.plot(xi, y1_0_J_hat_est, \"-\", label=\"Approximate Prior $\\\\hat{J}(y)$\")\n",
    "    plt.plot(xi, y1_0_J_true, \"--\", label=\"True Prior $J(y)=-1/4||y||_2^2$\")\n",
    "    plt.grid(True)\n",
    "    plt.title(f\"Updated Prior $\\\\hat{{J}}(y_1,0,...)$ - Dim {dim}\")\n",
    "    plt.xlabel('$y_1$')\n",
    "    plt.ylabel('Prior Value')\n",
    "    plt.legend()\n",
    "\n",
    "    if dim > 1:\n",
    "        y2_0_J_true = prior_true_quadratic_l1(y2_0_points)\n",
    "        y2_0_J_hat_est = evaluate_updated_prior_J_hat(y2_0_points, model, x_k_np)\n",
    "        \n",
    "        plt.subplot(1, 2, 2)\n",
    "        plt.plot(xi, y2_0_J_hat_est, \"-\", label=\"Approximate Prior $\\\\hat{J}(y)$\")\n",
    "        plt.plot(xi, y2_0_J_true, \"--\", label=\"True Prior $J(y)=-1/4||y||_2^2$\")\n",
    "        plt.grid(True)\n",
    "        plt.title(f\"Updated Prior $\\\\hat{{J}}(0,y_2,0,...)$ - Dim {dim}\")\n",
    "        plt.xlabel('$y_2$')\n",
    "        plt.ylabel('Prior Value')\n",
    "        plt.legend()\n",
    "        \n",
    "    plt.tight_layout()\n",
    "    plt.show()\n",
    "\n",
    "\n",
    "# We use the original training data 'x_j_exp_np' as our set of x_k points.\n",
    "#subset_size = 1000 \n",
    "x_k_subset_np = y_j_exp_np#[:subset_size, :]\n",
    "\n",
    "plot_updated_prior_J_hat(lpn_model_quad_l2, a_exp, spacing, dim_exp, x_k_subset_np)\n"
   ]
  },
  {
   "cell_type": "code",
   "execution_count": 10,
   "metadata": {
    "execution": {
     "iopub.execute_input": "2025-10-29T14:53:36.032017Z",
     "iopub.status.busy": "2025-10-29T14:53:36.031759Z",
     "iopub.status.idle": "2025-10-29T15:59:19.874258Z",
     "shell.execute_reply": "2025-10-29T15:59:19.873694Z"
    }
   },
   "outputs": [
    {
     "name": "stdout",
     "output_type": "stream",
     "text": [
      "\n",
      "--- Training Second LPN G(x) for Concave Quadratic Prior ---\n",
      "iteration 0 loss 2390.064697265625\n",
      "iteration 0 loss 8255446.0\n"
     ]
    },
    {
     "name": "stdout",
     "output_type": "stream",
     "text": [
      "iteration 5000 loss 14.67231559753418\n"
     ]
    },
    {
     "name": "stdout",
     "output_type": "stream",
     "text": [
      "iteration 10000 loss 5.3883891105651855\n"
     ]
    },
    {
     "name": "stdout",
     "output_type": "stream",
     "text": [
      "iteration 15000 loss 2.0642144680023193\n"
     ]
    },
    {
     "name": "stdout",
     "output_type": "stream",
     "text": [
      "iteration 20000 loss 1.0134539604187012\n"
     ]
    },
    {
     "name": "stdout",
     "output_type": "stream",
     "text": [
      "iteration 25000 loss 0.20336543023586273\n"
     ]
    },
    {
     "name": "stdout",
     "output_type": "stream",
     "text": [
      "iteration 30000 loss 0.09548649936914444\n"
     ]
    },
    {
     "name": "stdout",
     "output_type": "stream",
     "text": [
      "iteration 35000 loss 0.05977793410420418\n"
     ]
    },
    {
     "name": "stdout",
     "output_type": "stream",
     "text": [
      "iteration 40000 loss 0.04124382138252258\n"
     ]
    },
    {
     "name": "stdout",
     "output_type": "stream",
     "text": [
      "iteration 45000 loss 0.03098653256893158\n"
     ]
    },
    {
     "name": "stdout",
     "output_type": "stream",
     "text": [
      "iteration 50000 loss 0.024245548993349075\n"
     ]
    },
    {
     "name": "stdout",
     "output_type": "stream",
     "text": [
      "iteration 55000 loss 0.01940414123237133\n"
     ]
    },
    {
     "name": "stdout",
     "output_type": "stream",
     "text": [
      "iteration 60000 loss 0.015945788472890854\n"
     ]
    },
    {
     "name": "stdout",
     "output_type": "stream",
     "text": [
      "iteration 65000 loss 0.013191022910177708\n"
     ]
    },
    {
     "name": "stdout",
     "output_type": "stream",
     "text": [
      "iteration 70000 loss 0.011007793247699738\n"
     ]
    },
    {
     "name": "stdout",
     "output_type": "stream",
     "text": [
      "iteration 75000 loss 0.009294984862208366\n"
     ]
    },
    {
     "name": "stdout",
     "output_type": "stream",
     "text": [
      "iteration 80000 loss 0.007929727435112\n"
     ]
    },
    {
     "name": "stdout",
     "output_type": "stream",
     "text": [
      "iteration 85000 loss 0.006817614659667015\n"
     ]
    },
    {
     "name": "stdout",
     "output_type": "stream",
     "text": [
      "iteration 90000 loss 0.005902185570448637\n"
     ]
    },
    {
     "name": "stdout",
     "output_type": "stream",
     "text": [
      "iteration 95000 loss 0.005230045411735773\n"
     ]
    },
    {
     "name": "stdout",
     "output_type": "stream",
     "text": [
      "iteration 100000 loss 0.004515181761234999\n"
     ]
    },
    {
     "name": "stdout",
     "output_type": "stream",
     "text": [
      "iteration 105000 loss 0.003961552400141954\n"
     ]
    },
    {
     "name": "stdout",
     "output_type": "stream",
     "text": [
      "iteration 110000 loss 0.1912253350019455\n"
     ]
    },
    {
     "name": "stdout",
     "output_type": "stream",
     "text": [
      "iteration 115000 loss 0.00311179063282907\n"
     ]
    },
    {
     "name": "stdout",
     "output_type": "stream",
     "text": [
      "iteration 120000 loss 0.005113496910780668\n"
     ]
    },
    {
     "name": "stdout",
     "output_type": "stream",
     "text": [
      "iteration 125000 loss 0.0025251952465623617\n"
     ]
    },
    {
     "name": "stdout",
     "output_type": "stream",
     "text": [
      "iteration 130000 loss 0.0022361313458532095\n"
     ]
    },
    {
     "name": "stdout",
     "output_type": "stream",
     "text": [
      "iteration 135000 loss 0.001999491360038519\n"
     ]
    },
    {
     "name": "stdout",
     "output_type": "stream",
     "text": [
      "iteration 140000 loss 0.0018005010206252337\n"
     ]
    },
    {
     "name": "stdout",
     "output_type": "stream",
     "text": [
      "iteration 145000 loss 0.0016247493913397193\n"
     ]
    },
    {
     "name": "stdout",
     "output_type": "stream",
     "text": [
      "iteration 150000 loss 0.0014821803197264671\n"
     ]
    },
    {
     "name": "stdout",
     "output_type": "stream",
     "text": [
      "iteration 155000 loss 0.0019650172907859087\n"
     ]
    },
    {
     "name": "stdout",
     "output_type": "stream",
     "text": [
      "iteration 160000 loss 0.0012189432745799422\n"
     ]
    },
    {
     "name": "stdout",
     "output_type": "stream",
     "text": [
      "iteration 165000 loss 0.0011088146129623055\n"
     ]
    },
    {
     "name": "stdout",
     "output_type": "stream",
     "text": [
      "iteration 170000 loss 0.0030026109889149666\n"
     ]
    },
    {
     "name": "stdout",
     "output_type": "stream",
     "text": [
      "iteration 175000 loss 0.0009260274819098413\n"
     ]
    },
    {
     "name": "stdout",
     "output_type": "stream",
     "text": [
      "iteration 180000 loss 0.0008583110757172108\n"
     ]
    },
    {
     "name": "stdout",
     "output_type": "stream",
     "text": [
      "iteration 185000 loss 0.0007763411267660558\n"
     ]
    },
    {
     "name": "stdout",
     "output_type": "stream",
     "text": [
      "iteration 190000 loss 0.0007149641751311719\n"
     ]
    },
    {
     "name": "stdout",
     "output_type": "stream",
     "text": [
      "iteration 195000 loss 0.001667009317316115\n"
     ]
    },
    {
     "name": "stdout",
     "output_type": "stream",
     "text": [
      "iteration 200000 loss 0.0006083526532165706\n"
     ]
    },
    {
     "name": "stdout",
     "output_type": "stream",
     "text": [
      "iteration 205000 loss 0.041046835482120514\n"
     ]
    },
    {
     "name": "stdout",
     "output_type": "stream",
     "text": [
      "iteration 210000 loss 0.0005212210235185921\n"
     ]
    },
    {
     "name": "stdout",
     "output_type": "stream",
     "text": [
      "iteration 215000 loss 0.00048384760157205164\n"
     ]
    },
    {
     "name": "stdout",
     "output_type": "stream",
     "text": [
      "iteration 220000 loss 0.0004435656301211566\n"
     ]
    },
    {
     "name": "stdout",
     "output_type": "stream",
     "text": [
      "iteration 225000 loss 0.00041141375550068915\n"
     ]
    },
    {
     "name": "stdout",
     "output_type": "stream",
     "text": [
      "iteration 230000 loss 0.0005904373829253018\n"
     ]
    },
    {
     "name": "stdout",
     "output_type": "stream",
     "text": [
      "iteration 235000 loss 0.00035944677074439824\n"
     ]
    },
    {
     "name": "stdout",
     "output_type": "stream",
     "text": [
      "iteration 240000 loss 0.0007797173457220197\n"
     ]
    },
    {
     "name": "stdout",
     "output_type": "stream",
     "text": [
      "iteration 245000 loss 0.0003098916495218873\n"
     ]
    },
    {
     "name": "stdout",
     "output_type": "stream",
     "text": [
      "iteration 250000 loss 0.0002911146148107946\n"
     ]
    },
    {
     "name": "stdout",
     "output_type": "stream",
     "text": [
      "iteration 255000 loss 0.0002733245200943202\n"
     ]
    },
    {
     "name": "stdout",
     "output_type": "stream",
     "text": [
      "iteration 260000 loss 0.00025406660279259086\n"
     ]
    },
    {
     "name": "stdout",
     "output_type": "stream",
     "text": [
      "iteration 265000 loss 0.0002414930349914357\n"
     ]
    },
    {
     "name": "stdout",
     "output_type": "stream",
     "text": [
      "iteration 270000 loss 0.00022521833307109773\n"
     ]
    },
    {
     "name": "stdout",
     "output_type": "stream",
     "text": [
      "iteration 275000 loss 0.09001632034778595\n"
     ]
    },
    {
     "name": "stdout",
     "output_type": "stream",
     "text": [
      "iteration 280000 loss 0.0002142965968232602\n"
     ]
    },
    {
     "name": "stdout",
     "output_type": "stream",
     "text": [
      "iteration 285000 loss 0.0001895318564493209\n"
     ]
    },
    {
     "name": "stdout",
     "output_type": "stream",
     "text": [
      "iteration 290000 loss 0.0001773889089236036\n"
     ]
    },
    {
     "name": "stdout",
     "output_type": "stream",
     "text": [
      "iteration 295000 loss 0.00017920436221174896\n"
     ]
    },
    {
     "name": "stdout",
     "output_type": "stream",
     "text": [
      "iteration 300000 loss 0.00016195792704820633\n"
     ]
    },
    {
     "name": "stdout",
     "output_type": "stream",
     "text": [
      "iteration 305000 loss 0.0006453465321101248\n"
     ]
    },
    {
     "name": "stdout",
     "output_type": "stream",
     "text": [
      "iteration 310000 loss 0.0003271041205152869\n"
     ]
    },
    {
     "name": "stdout",
     "output_type": "stream",
     "text": [
      "iteration 315000 loss 0.0001378429587930441\n"
     ]
    },
    {
     "name": "stdout",
     "output_type": "stream",
     "text": [
      "iteration 320000 loss 0.000650731788482517\n"
     ]
    },
    {
     "name": "stdout",
     "output_type": "stream",
     "text": [
      "iteration 325000 loss 0.00012513113324530423\n"
     ]
    },
    {
     "name": "stdout",
     "output_type": "stream",
     "text": [
      "iteration 330000 loss 0.0011769220000132918\n"
     ]
    },
    {
     "name": "stdout",
     "output_type": "stream",
     "text": [
      "iteration 335000 loss 0.00013722719450015575\n"
     ]
    },
    {
     "name": "stdout",
     "output_type": "stream",
     "text": [
      "iteration 340000 loss 0.0001082344533642754\n"
     ]
    },
    {
     "name": "stdout",
     "output_type": "stream",
     "text": [
      "iteration 345000 loss 0.00010236786329187453\n"
     ]
    },
    {
     "name": "stdout",
     "output_type": "stream",
     "text": [
      "iteration 350000 loss 0.20997309684753418\n"
     ]
    },
    {
     "name": "stdout",
     "output_type": "stream",
     "text": [
      "iteration 355000 loss 0.009156346321105957\n"
     ]
    },
    {
     "name": "stdout",
     "output_type": "stream",
     "text": [
      "iteration 360000 loss 0.023287104442715645\n"
     ]
    },
    {
     "name": "stdout",
     "output_type": "stream",
     "text": [
      "iteration 365000 loss 8.656209683977067e-05\n"
     ]
    },
    {
     "name": "stdout",
     "output_type": "stream",
     "text": [
      "iteration 370000 loss 8.606837945990264e-05\n"
     ]
    },
    {
     "name": "stdout",
     "output_type": "stream",
     "text": [
      "iteration 375000 loss 0.00016300048446282744\n"
     ]
    },
    {
     "name": "stdout",
     "output_type": "stream",
     "text": [
      "iteration 380000 loss 0.004820203874260187\n"
     ]
    },
    {
     "name": "stdout",
     "output_type": "stream",
     "text": [
      "iteration 385000 loss 7.599855598527938e-05\n"
     ]
    },
    {
     "name": "stdout",
     "output_type": "stream",
     "text": [
      "iteration 390000 loss 7.324305624933913e-05\n"
     ]
    },
    {
     "name": "stdout",
     "output_type": "stream",
     "text": [
      "iteration 395000 loss 7.09027299308218e-05\n"
     ]
    },
    {
     "name": "stdout",
     "output_type": "stream",
     "text": [
      "iteration 400000 loss 6.859979475848377e-05\n"
     ]
    },
    {
     "name": "stdout",
     "output_type": "stream",
     "text": [
      "iteration 405000 loss 0.0011154066305607557\n"
     ]
    },
    {
     "name": "stdout",
     "output_type": "stream",
     "text": [
      "iteration 410000 loss 6.490513624157757e-05\n"
     ]
    },
    {
     "name": "stdout",
     "output_type": "stream",
     "text": [
      "iteration 415000 loss 6.340033723972738e-05\n"
     ]
    },
    {
     "name": "stdout",
     "output_type": "stream",
     "text": [
      "iteration 420000 loss 6.195550668053329e-05\n"
     ]
    },
    {
     "name": "stdout",
     "output_type": "stream",
     "text": [
      "iteration 425000 loss 5.9820489695994183e-05\n"
     ]
    },
    {
     "name": "stdout",
     "output_type": "stream",
     "text": [
      "iteration 430000 loss 5.863326805410907e-05\n"
     ]
    },
    {
     "name": "stdout",
     "output_type": "stream",
     "text": [
      "iteration 435000 loss 5.757468898082152e-05\n"
     ]
    },
    {
     "name": "stdout",
     "output_type": "stream",
     "text": [
      "iteration 440000 loss 5.652259278576821e-05\n"
     ]
    },
    {
     "name": "stdout",
     "output_type": "stream",
     "text": [
      "iteration 445000 loss 6.698224024148658e-05\n"
     ]
    },
    {
     "name": "stdout",
     "output_type": "stream",
     "text": [
      "iteration 450000 loss 0.003929844591766596\n"
     ]
    },
    {
     "name": "stdout",
     "output_type": "stream",
     "text": [
      "iteration 455000 loss 0.0076249707490205765\n"
     ]
    },
    {
     "name": "stdout",
     "output_type": "stream",
     "text": [
      "iteration 460000 loss 0.020613254979252815\n"
     ]
    },
    {
     "name": "stdout",
     "output_type": "stream",
     "text": [
      "iteration 465000 loss 5.1283113862155005e-05\n"
     ]
    },
    {
     "name": "stdout",
     "output_type": "stream",
     "text": [
      "iteration 470000 loss 5.2274692279752344e-05\n"
     ]
    },
    {
     "name": "stdout",
     "output_type": "stream",
     "text": [
      "iteration 475000 loss 0.008421325124800205\n"
     ]
    },
    {
     "name": "stdout",
     "output_type": "stream",
     "text": [
      "iteration 480000 loss 5.1626673666760325e-05\n"
     ]
    },
    {
     "name": "stdout",
     "output_type": "stream",
     "text": [
      "iteration 485000 loss 4.7302761231549084e-05\n"
     ]
    },
    {
     "name": "stdout",
     "output_type": "stream",
     "text": [
      "iteration 490000 loss 7.324249600060284e-05\n"
     ]
    },
    {
     "name": "stdout",
     "output_type": "stream",
     "text": [
      "iteration 495000 loss 4.626106601790525e-05\n"
     ]
    },
    {
     "name": "stdout",
     "output_type": "stream",
     "text": [
      "Training of LPN for G(x) complete and model saved.\n"
     ]
    }
   ],
   "source": [
    "# --- Step 3: Train LPN G(x) ---\n",
    "print(\"\\n--- Training Second LPN G(x) for Concave Quadratic Prior ---\")\n",
    "# The target for this LPN is G_samples_tensor\n",
    "# The input for this LPN is x_k_tensor\n",
    "lpn_model_G = LPN(in_dim=dim_exp, hidden=hidden, layers=layers, beta=beta, eps=1e-3).to(device)\n",
    "optimizer_G = torch.optim.Adam(lpn_model_G.parameters(), lr=1e-4)\n",
    "\n",
    "# Initial shorter training phase\n",
    "for i in range(iterations_exp_initial):\n",
    "     single_iteration(i, data_points_exp, lpn_model_G, optimizer_G, y_k_tensor, G_samples_tensor, loss_type=2, gamma_loss=None)\n",
    "\n",
    "for g in optimizer_G.param_groups:\n",
    "    g[\"lr\"] = 1e-4 # Use a smaller learning rate for the long phase\n",
    "for i in range(iterations_exp_long):\n",
    "    single_iteration(i, data_points_exp, lpn_model_G, optimizer_G, y_k_tensor, G_samples_tensor, loss_type=2, gamma_loss=None)\n",
    "\n",
    "torch.save(lpn_model_G.state_dict(), os.path.join(MODEL_DIR, \"G_network_l2.pth\"))\n",
    "print(\"Training of LPN for G(x) complete and model saved.\")"
   ]
  },
  {
   "cell_type": "code",
   "execution_count": 11,
   "metadata": {
    "execution": {
     "iopub.execute_input": "2025-10-29T15:59:19.876427Z",
     "iopub.status.busy": "2025-10-29T15:59:19.876150Z",
     "iopub.status.idle": "2025-10-29T15:59:20.332984Z",
     "shell.execute_reply": "2025-10-29T15:59:20.332515Z"
    }
   },
   "outputs": [
    {
     "name": "stdout",
     "output_type": "stream",
     "text": [
      "\n",
      "--- Plotting Estimated Prior J(x) from LPN 2 ---\n"
     ]
    },
    {
     "data": {
      "image/png": "[encoded data removed]",
      "text/plain": [
       "<Figure size 1200x500 with 2 Axes>"
      ]
     },
     "metadata": {},
     "output_type": "display_data"
    }
   ],
   "source": [
    "def evaluate_learned_J_G_network(x_points, model_G):\n",
    "    \"\"\"\n",
    "    Evaluates the learned prior J(x) using the trained G(x) network.\n",
    "    J(x) = G(x) - 0.5 * ||x||^2\n",
    "    \"\"\"\n",
    "    # Convert to tensor\n",
    "    x_tensor = torch.from_numpy(x_points).float().to(device)\n",
    "    \n",
    "    # Get G(x) from the second LPN model\n",
    "    G_x = model_G.scalar(x_tensor)\n",
    "    \n",
    "    # Compute 0.5 * ||x||^2\n",
    "    x_norm_sq_np = euclid_norm_sq(x_points)\n",
    "    x_norm_sq_tensor = torch.from_numpy(x_norm_sq_np).float().to(device).reshape(-1, 1)\n",
    "\n",
    "    # Apply the formula: J_est = G(x) - 0.5 * ||x||^2\n",
    "    J_est = G_x - 0.5 * x_norm_sq_tensor\n",
    "    \n",
    "    # Convert back to numpy\n",
    "    J_est_np = J_est.detach().cpu().numpy().flatten()\n",
    "    \n",
    "    return J_est_np\n",
    "\n",
    "def plot_J_G_network(model_G, a, spacing, dim):\n",
    "    \"\"\"Plots the cross-sections of the estimated prior J(x) from the G network.\"\"\"\n",
    "    xi, x1_0_points, x2_0_points = compute_square_cross_sections(a, spacing, dim)\n",
    "    \n",
    "    # True Prior\n",
    "    x1_0_J_true = prior_true_quadratic_l1(x1_0_points)\n",
    "    if dim > 1:\n",
    "        x2_0_J_true = prior_true_quadratic_l1(x2_0_points)\n",
    "    else:\n",
    "        x2_0_J_true = x1_0_J_true\n",
    "        \n",
    "    # Estimated Prior from G(x) Network\n",
    "    x1_0_J_G_est = evaluate_learned_J_G_network(x1_0_points, model_G)\n",
    "    if dim > 1:\n",
    "        x2_0_J_G_est = evaluate_learned_J_G_network(x2_0_points, model_G)\n",
    "    else:\n",
    "        x2_0_J_G_est = x1_0_J_G_est\n",
    "    \n",
    "    print(\"\\n--- Plotting Estimated Prior J(x) from LPN 2 ---\")\n",
    "    plt.figure(figsize=(12,5))\n",
    "    \n",
    "    plt.subplot(1, 2, 1)\n",
    "    plt.plot(xi, x1_0_J_G_est, \"-\", label=\"LPN 2\")\n",
    "    plt.plot(xi, x1_0_J_true, \"--\", label=\"True $J(x)=-1/4||x||_2^2$\")\n",
    "    plt.grid(True)\n",
    "    plt.title(f\"Prior $J(x_1,0,...)$ Dim {dim}\")\n",
    "    plt.xlabel('$x_1$')\n",
    "    plt.ylabel('$J(x_1,0,...)$')\n",
    "    plt.legend()\n",
    "\n",
    "    if dim > 1:\n",
    "        plt.subplot(1, 2, 2)\n",
    "        plt.plot(xi, x2_0_J_G_est, \"-\", label=\"LPN 2\")\n",
    "        plt.plot(xi, x2_0_J_true, \"--\", label=\"True $J(x)=-1/4||x||_2^2$\")\n",
    "        plt.grid(True)\n",
    "        plt.title(f\"Prior $J(0,x_2,0,...)$ Dim {dim}\")\n",
    "        plt.xlabel('$x_2$')\n",
    "        plt.ylabel('$J(0,x_2,0,...)$')\n",
    "        plt.legend()\n",
    "    plt.tight_layout()\n",
    "   # plt.savefig('G_network_prior_plot.png')\n",
    "    \n",
    "# --- Execute Plotting ---\n",
    "plot_J_G_network(lpn_model_G, a_exp, spacing, dim_exp)"
   ]
  },
  {
   "cell_type": "markdown",
   "metadata": {},
   "source": [
    "L1 loss -- Train"
   ]
  },
  {
   "cell_type": "code",
   "execution_count": 12,
   "metadata": {
    "execution": {
     "iopub.execute_input": "2025-10-29T15:59:20.335051Z",
     "iopub.status.busy": "2025-10-29T15:59:20.334784Z",
     "iopub.status.idle": "2025-10-29T17:05:04.684613Z",
     "shell.execute_reply": "2025-10-29T17:05:04.683929Z"
    }
   },
   "outputs": [
    {
     "name": "stdout",
     "output_type": "stream",
     "text": [
      "--- Training LPN for J(x)=||x||_1 (Quadratic H) ---\n",
      "iteration 0 loss 48.812068939208984\n",
      "iteration 0 loss 6529.86865234375\n"
     ]
    },
    {
     "name": "stdout",
     "output_type": "stream",
     "text": [
      "iteration 5000 loss 2.8115897178649902\n"
     ]
    },
    {
     "name": "stdout",
     "output_type": "stream",
     "text": [
      "iteration 10000 loss 0.5795893669128418\n"
     ]
    },
    {
     "name": "stdout",
     "output_type": "stream",
     "text": [
      "iteration 15000 loss 0.3314986228942871\n"
     ]
    },
    {
     "name": "stdout",
     "output_type": "stream",
     "text": [
      "iteration 20000 loss 0.25227466225624084\n"
     ]
    },
    {
     "name": "stdout",
     "output_type": "stream",
     "text": [
      "iteration 25000 loss 0.2638668715953827\n"
     ]
    },
    {
     "name": "stdout",
     "output_type": "stream",
     "text": [
      "iteration 30000 loss 0.1838713139295578\n"
     ]
    },
    {
     "name": "stdout",
     "output_type": "stream",
     "text": [
      "iteration 35000 loss 0.32612958550453186\n"
     ]
    },
    {
     "name": "stdout",
     "output_type": "stream",
     "text": [
      "iteration 40000 loss 0.17295201122760773\n"
     ]
    },
    {
     "name": "stdout",
     "output_type": "stream",
     "text": [
      "iteration 45000 loss 0.16976580023765564\n"
     ]
    },
    {
     "name": "stdout",
     "output_type": "stream",
     "text": [
      "iteration 50000 loss 0.15063519775867462\n"
     ]
    },
    {
     "name": "stdout",
     "output_type": "stream",
     "text": [
      "iteration 55000 loss 0.1885581910610199\n"
     ]
    },
    {
     "name": "stdout",
     "output_type": "stream",
     "text": [
      "iteration 60000 loss 0.26625433564186096\n"
     ]
    },
    {
     "name": "stdout",
     "output_type": "stream",
     "text": [
      "iteration 65000 loss 0.26772427558898926\n"
     ]
    },
    {
     "name": "stdout",
     "output_type": "stream",
     "text": [
      "iteration 70000 loss 0.09896383434534073\n"
     ]
    },
    {
     "name": "stdout",
     "output_type": "stream",
     "text": [
      "iteration 75000 loss 0.1953752636909485\n"
     ]
    },
    {
     "name": "stdout",
     "output_type": "stream",
     "text": [
      "iteration 80000 loss 0.19077366590499878\n"
     ]
    },
    {
     "name": "stdout",
     "output_type": "stream",
     "text": [
      "iteration 85000 loss 0.10523228347301483\n"
     ]
    },
    {
     "name": "stdout",
     "output_type": "stream",
     "text": [
      "iteration 90000 loss 0.08231253176927567\n"
     ]
    },
    {
     "name": "stdout",
     "output_type": "stream",
     "text": [
      "iteration 95000 loss 0.2608242332935333\n"
     ]
    },
    {
     "name": "stdout",
     "output_type": "stream",
     "text": [
      "iteration 100000 loss 0.1770963817834854\n"
     ]
    },
    {
     "name": "stdout",
     "output_type": "stream",
     "text": [
      "iteration 105000 loss 0.21435365080833435\n"
     ]
    },
    {
     "name": "stdout",
     "output_type": "stream",
     "text": [
      "iteration 110000 loss 0.24486376345157623\n"
     ]
    },
    {
     "name": "stdout",
     "output_type": "stream",
     "text": [
      "iteration 115000 loss 0.21276679635047913\n"
     ]
    },
    {
     "name": "stdout",
     "output_type": "stream",
     "text": [
      "iteration 120000 loss 0.25945979356765747\n"
     ]
    },
    {
     "name": "stdout",
     "output_type": "stream",
     "text": [
      "iteration 125000 loss 0.11443862318992615\n"
     ]
    },
    {
     "name": "stdout",
     "output_type": "stream",
     "text": [
      "iteration 130000 loss 0.20763559639453888\n"
     ]
    },
    {
     "name": "stdout",
     "output_type": "stream",
     "text": [
      "iteration 135000 loss 0.19440986216068268\n"
     ]
    },
    {
     "name": "stdout",
     "output_type": "stream",
     "text": [
      "iteration 140000 loss 0.15115894377231598\n"
     ]
    },
    {
     "name": "stdout",
     "output_type": "stream",
     "text": [
      "iteration 145000 loss 0.16238032281398773\n"
     ]
    },
    {
     "name": "stdout",
     "output_type": "stream",
     "text": [
      "iteration 150000 loss 0.18714392185211182\n"
     ]
    },
    {
     "name": "stdout",
     "output_type": "stream",
     "text": [
      "iteration 155000 loss 0.23093651235103607\n"
     ]
    },
    {
     "name": "stdout",
     "output_type": "stream",
     "text": [
      "iteration 160000 loss 0.1484050452709198\n"
     ]
    },
    {
     "name": "stdout",
     "output_type": "stream",
     "text": [
      "iteration 165000 loss 0.2563549876213074\n"
     ]
    },
    {
     "name": "stdout",
     "output_type": "stream",
     "text": [
      "iteration 170000 loss 0.1607091873884201\n"
     ]
    },
    {
     "name": "stdout",
     "output_type": "stream",
     "text": [
      "iteration 175000 loss 0.17992368340492249\n"
     ]
    },
    {
     "name": "stdout",
     "output_type": "stream",
     "text": [
      "iteration 180000 loss 0.2556121051311493\n"
     ]
    },
    {
     "name": "stdout",
     "output_type": "stream",
     "text": [
      "iteration 185000 loss 0.26097244024276733\n"
     ]
    },
    {
     "name": "stdout",
     "output_type": "stream",
     "text": [
      "iteration 190000 loss 0.1406756192445755\n"
     ]
    },
    {
     "name": "stdout",
     "output_type": "stream",
     "text": [
      "iteration 195000 loss 0.08255723118782043\n"
     ]
    },
    {
     "name": "stdout",
     "output_type": "stream",
     "text": [
      "iteration 200000 loss 0.16816401481628418\n"
     ]
    },
    {
     "name": "stdout",
     "output_type": "stream",
     "text": [
      "iteration 205000 loss 0.11431955546140671\n"
     ]
    },
    {
     "name": "stdout",
     "output_type": "stream",
     "text": [
      "iteration 210000 loss 0.1627408117055893\n"
     ]
    },
    {
     "name": "stdout",
     "output_type": "stream",
     "text": [
      "iteration 215000 loss 0.08238852769136429\n"
     ]
    },
    {
     "name": "stdout",
     "output_type": "stream",
     "text": [
      "iteration 220000 loss 0.1697099506855011\n"
     ]
    },
    {
     "name": "stdout",
     "output_type": "stream",
     "text": [
      "iteration 225000 loss 0.16786979138851166\n"
     ]
    },
    {
     "name": "stdout",
     "output_type": "stream",
     "text": [
      "iteration 230000 loss 0.20670658349990845\n"
     ]
    },
    {
     "name": "stdout",
     "output_type": "stream",
     "text": [
      "iteration 235000 loss 0.060902684926986694\n"
     ]
    },
    {
     "name": "stdout",
     "output_type": "stream",
     "text": [
      "iteration 240000 loss 0.18551522493362427\n"
     ]
    },
    {
     "name": "stdout",
     "output_type": "stream",
     "text": [
      "iteration 245000 loss 0.11516787111759186\n"
     ]
    },
    {
     "name": "stdout",
     "output_type": "stream",
     "text": [
      "iteration 250000 loss 0.07900075614452362\n"
     ]
    },
    {
     "name": "stdout",
     "output_type": "stream",
     "text": [
      "iteration 255000 loss 0.17227184772491455\n"
     ]
    },
    {
     "name": "stdout",
     "output_type": "stream",
     "text": [
      "iteration 260000 loss 0.22998371720314026\n"
     ]
    },
    {
     "name": "stdout",
     "output_type": "stream",
     "text": [
      "iteration 265000 loss 0.12939931452274323\n"
     ]
    },
    {
     "name": "stdout",
     "output_type": "stream",
     "text": [
      "iteration 270000 loss 0.2886049151420593\n"
     ]
    },
    {
     "name": "stdout",
     "output_type": "stream",
     "text": [
      "iteration 275000 loss 0.25849461555480957\n"
     ]
    },
    {
     "name": "stdout",
     "output_type": "stream",
     "text": [
      "iteration 280000 loss 0.681856632232666\n"
     ]
    },
    {
     "name": "stdout",
     "output_type": "stream",
     "text": [
      "iteration 285000 loss 0.402771532535553\n"
     ]
    },
    {
     "name": "stdout",
     "output_type": "stream",
     "text": [
      "iteration 290000 loss 0.1214682012796402\n"
     ]
    },
    {
     "name": "stdout",
     "output_type": "stream",
     "text": [
      "iteration 295000 loss 0.3885570764541626\n"
     ]
    },
    {
     "name": "stdout",
     "output_type": "stream",
     "text": [
      "iteration 300000 loss 0.15286654233932495\n"
     ]
    },
    {
     "name": "stdout",
     "output_type": "stream",
     "text": [
      "iteration 305000 loss 0.1314193457365036\n"
     ]
    },
    {
     "name": "stdout",
     "output_type": "stream",
     "text": [
      "iteration 310000 loss 0.04561896249651909\n"
     ]
    },
    {
     "name": "stdout",
     "output_type": "stream",
     "text": [
      "iteration 315000 loss 0.1893870234489441\n"
     ]
    },
    {
     "name": "stdout",
     "output_type": "stream",
     "text": [
      "iteration 320000 loss 0.10918568819761276\n"
     ]
    },
    {
     "name": "stdout",
     "output_type": "stream",
     "text": [
      "iteration 325000 loss 0.10530180484056473\n"
     ]
    },
    {
     "name": "stdout",
     "output_type": "stream",
     "text": [
      "iteration 330000 loss 0.09876387566328049\n"
     ]
    },
    {
     "name": "stdout",
     "output_type": "stream",
     "text": [
      "iteration 335000 loss 0.08016961812973022\n"
     ]
    },
    {
     "name": "stdout",
     "output_type": "stream",
     "text": [
      "iteration 340000 loss 0.1331942230463028\n"
     ]
    },
    {
     "name": "stdout",
     "output_type": "stream",
     "text": [
      "iteration 345000 loss 0.1184908077120781\n"
     ]
    },
    {
     "name": "stdout",
     "output_type": "stream",
     "text": [
      "iteration 350000 loss 0.07225774973630905\n"
     ]
    },
    {
     "name": "stdout",
     "output_type": "stream",
     "text": [
      "iteration 355000 loss 0.3470456600189209\n"
     ]
    },
    {
     "name": "stdout",
     "output_type": "stream",
     "text": [
      "iteration 360000 loss 0.1685299426317215\n"
     ]
    },
    {
     "name": "stdout",
     "output_type": "stream",
     "text": [
      "iteration 365000 loss 0.12807616591453552\n"
     ]
    },
    {
     "name": "stdout",
     "output_type": "stream",
     "text": [
      "iteration 370000 loss 0.06945528835058212\n"
     ]
    },
    {
     "name": "stdout",
     "output_type": "stream",
     "text": [
      "iteration 375000 loss 0.22003768384456635\n"
     ]
    },
    {
     "name": "stdout",
     "output_type": "stream",
     "text": [
      "iteration 380000 loss 0.11872033029794693\n"
     ]
    },
    {
     "name": "stdout",
     "output_type": "stream",
     "text": [
      "iteration 385000 loss 0.16451965272426605\n"
     ]
    },
    {
     "name": "stdout",
     "output_type": "stream",
     "text": [
      "iteration 390000 loss 0.07240500301122665\n"
     ]
    },
    {
     "name": "stdout",
     "output_type": "stream",
     "text": [
      "iteration 395000 loss 0.06038494035601616\n"
     ]
    },
    {
     "name": "stdout",
     "output_type": "stream",
     "text": [
      "iteration 400000 loss 0.21332870423793793\n"
     ]
    },
    {
     "name": "stdout",
     "output_type": "stream",
     "text": [
      "iteration 405000 loss 0.18901506066322327\n"
     ]
    },
    {
     "name": "stdout",
     "output_type": "stream",
     "text": [
      "iteration 410000 loss 0.060870714485645294\n"
     ]
    },
    {
     "name": "stdout",
     "output_type": "stream",
     "text": [
      "iteration 415000 loss 0.3480888605117798\n"
     ]
    },
    {
     "name": "stdout",
     "output_type": "stream",
     "text": [
      "iteration 420000 loss 0.286100834608078\n"
     ]
    },
    {
     "name": "stdout",
     "output_type": "stream",
     "text": [
      "iteration 425000 loss 0.1535622775554657\n"
     ]
    },
    {
     "name": "stdout",
     "output_type": "stream",
     "text": [
      "iteration 430000 loss 0.3671407699584961\n"
     ]
    },
    {
     "name": "stdout",
     "output_type": "stream",
     "text": [
      "iteration 435000 loss 0.21432572603225708\n"
     ]
    },
    {
     "name": "stdout",
     "output_type": "stream",
     "text": [
      "iteration 440000 loss 0.07556787133216858\n"
     ]
    },
    {
     "name": "stdout",
     "output_type": "stream",
     "text": [
      "iteration 445000 loss 0.21330322325229645\n"
     ]
    },
    {
     "name": "stdout",
     "output_type": "stream",
     "text": [
      "iteration 450000 loss 0.2696610391139984\n"
     ]
    },
    {
     "name": "stdout",
     "output_type": "stream",
     "text": [
      "iteration 455000 loss 0.22650280594825745\n"
     ]
    },
    {
     "name": "stdout",
     "output_type": "stream",
     "text": [
      "iteration 460000 loss 0.1666276752948761\n"
     ]
    },
    {
     "name": "stdout",
     "output_type": "stream",
     "text": [
      "iteration 465000 loss 0.2260926514863968\n"
     ]
    },
    {
     "name": "stdout",
     "output_type": "stream",
     "text": [
      "iteration 470000 loss 0.04564379155635834\n"
     ]
    },
    {
     "name": "stdout",
     "output_type": "stream",
     "text": [
      "iteration 475000 loss 0.09397348761558533\n"
     ]
    },
    {
     "name": "stdout",
     "output_type": "stream",
     "text": [
      "iteration 480000 loss 0.5007967352867126\n"
     ]
    },
    {
     "name": "stdout",
     "output_type": "stream",
     "text": [
      "iteration 485000 loss 0.1307101547718048\n"
     ]
    },
    {
     "name": "stdout",
     "output_type": "stream",
     "text": [
      "iteration 490000 loss 0.21661986410617828\n"
     ]
    },
    {
     "name": "stdout",
     "output_type": "stream",
     "text": [
      "iteration 495000 loss 0.11042225360870361\n"
     ]
    }
   ],
   "source": [
    "\n",
    "print(\"--- Training LPN for J(x)=||x||_1 (Quadratic H) ---\")\n",
    "lpn_model_quad_l1 = LPN(in_dim=dim_exp, hidden=hidden, layers=layers, beta=beta,eps=1e-3).to(device)\n",
    "optimizer_quad_l1 = torch.optim.Adam(lpn_model_quad_l1.parameters(), lr=1e-4)\n",
    "\n",
    "for i in range(iterations_exp_initial):\n",
    "     single_iteration(i, data_points_exp, lpn_model_quad_l1, optimizer_quad_l1, y_j_exp_tensor,cvx_samples_exp_tensor,loss_type=1,gamma_loss=None)\n",
    "\n",
    "for g in optimizer_quad_l1.param_groups:\n",
    "    g[\"lr\"] = 1e-4 \n",
    "for i in range(iterations_exp_long):\n",
    "    single_iteration(i, data_points_exp, lpn_model_quad_l1, optimizer_quad_l1, y_j_exp_tensor,cvx_samples_exp_tensor,loss_type=1,gamma_loss=None)\n",
    "\n",
    "torch.save(lpn_model_quad_l1.state_dict(), os.path.join(MODEL_DIR, \"QuadraticH_L1prior_l1.pth\"))"
   ]
  },
  {
   "cell_type": "markdown",
   "metadata": {},
   "source": [
    "L1 loss -- Plot"
   ]
  },
  {
   "cell_type": "code",
   "execution_count": 13,
   "metadata": {
    "execution": {
     "iopub.execute_input": "2025-10-29T17:05:04.686959Z",
     "iopub.status.busy": "2025-10-29T17:05:04.686688Z",
     "iopub.status.idle": "2025-10-29T17:05:05.479650Z",
     "shell.execute_reply": "2025-10-29T17:05:05.479139Z"
    }
   },
   "outputs": [
    {
     "name": "stdout",
     "output_type": "stream",
     "text": [
      "\n",
      "--- Plotting Cross Sections for Quadratic H, L1 Prior (Dim=32) ---\n"
     ]
    },
    {
     "data": {
      "image/png": "[encoded data removed]",
      "text/plain": [
       "<Figure size 1200x500 with 2 Axes>"
      ]
     },
     "metadata": {},
     "output_type": "display_data"
    },
    {
     "data": {
      "image/png": "[encoded data removed]",
      "text/plain": [
       "<Figure size 1200x500 with 2 Axes>"
      ]
     },
     "metadata": {},
     "output_type": "display_data"
    }
   ],
   "source": [
    "# L1 loss -- Plot\n",
    "plot_all_quadratic_l1(lpn_model_quad_l1, a_exp, spacing, INVERT_MODE, dim_exp)\n"
   ]
  },
  {
   "cell_type": "code",
   "execution_count": 14,
   "metadata": {
    "execution": {
     "iopub.execute_input": "2025-10-29T17:05:05.481683Z",
     "iopub.status.busy": "2025-10-29T17:05:05.481440Z",
     "iopub.status.idle": "2025-10-29T18:10:50.744623Z",
     "shell.execute_reply": "2025-10-29T18:10:50.743890Z"
    }
   },
   "outputs": [
    {
     "name": "stdout",
     "output_type": "stream",
     "text": [
      "Generated G samples: G_samples_tensor shape torch.Size([20000, 1])\n",
      "\n",
      "--- Training Second LPN G(x) for Concave Quadratic Prior ---\n",
      "iteration 0 loss 2259.93505859375\n",
      "iteration 0 loss 11105417.0\n"
     ]
    },
    {
     "name": "stdout",
     "output_type": "stream",
     "text": [
      "iteration 5000 loss 37.17922592163086\n"
     ]
    },
    {
     "name": "stdout",
     "output_type": "stream",
     "text": [
      "iteration 10000 loss 6.707846641540527\n"
     ]
    },
    {
     "name": "stdout",
     "output_type": "stream",
     "text": [
      "iteration 15000 loss 3.078259229660034\n"
     ]
    },
    {
     "name": "stdout",
     "output_type": "stream",
     "text": [
      "iteration 20000 loss 1.5517857074737549\n"
     ]
    },
    {
     "name": "stdout",
     "output_type": "stream",
     "text": [
      "iteration 25000 loss 0.17204247415065765\n"
     ]
    },
    {
     "name": "stdout",
     "output_type": "stream",
     "text": [
      "iteration 30000 loss 0.0746481865644455\n"
     ]
    },
    {
     "name": "stdout",
     "output_type": "stream",
     "text": [
      "iteration 35000 loss 0.04342004284262657\n"
     ]
    },
    {
     "name": "stdout",
     "output_type": "stream",
     "text": [
      "iteration 40000 loss 0.029014073312282562\n"
     ]
    },
    {
     "name": "stdout",
     "output_type": "stream",
     "text": [
      "iteration 45000 loss 0.02106573060154915\n"
     ]
    },
    {
     "name": "stdout",
     "output_type": "stream",
     "text": [
      "iteration 50000 loss 0.015862835571169853\n"
     ]
    },
    {
     "name": "stdout",
     "output_type": "stream",
     "text": [
      "iteration 55000 loss 0.012471811845898628\n"
     ]
    },
    {
     "name": "stdout",
     "output_type": "stream",
     "text": [
      "iteration 60000 loss 0.00997497420758009\n"
     ]
    },
    {
     "name": "stdout",
     "output_type": "stream",
     "text": [
      "iteration 65000 loss 0.008081890642642975\n"
     ]
    },
    {
     "name": "stdout",
     "output_type": "stream",
     "text": [
      "iteration 70000 loss 0.00659731263294816\n"
     ]
    },
    {
     "name": "stdout",
     "output_type": "stream",
     "text": [
      "iteration 75000 loss 0.005477351136505604\n"
     ]
    },
    {
     "name": "stdout",
     "output_type": "stream",
     "text": [
      "iteration 80000 loss 0.0045822998508811\n"
     ]
    },
    {
     "name": "stdout",
     "output_type": "stream",
     "text": [
      "iteration 85000 loss 0.00384267489425838\n"
     ]
    },
    {
     "name": "stdout",
     "output_type": "stream",
     "text": [
      "iteration 90000 loss 0.0032619237899780273\n"
     ]
    },
    {
     "name": "stdout",
     "output_type": "stream",
     "text": [
      "iteration 95000 loss 0.0027924510650336742\n"
     ]
    },
    {
     "name": "stdout",
     "output_type": "stream",
     "text": [
      "iteration 100000 loss 0.0024133266415446997\n"
     ]
    },
    {
     "name": "stdout",
     "output_type": "stream",
     "text": [
      "iteration 105000 loss 0.0020932520274072886\n"
     ]
    },
    {
     "name": "stdout",
     "output_type": "stream",
     "text": [
      "iteration 110000 loss 0.0018311456078663468\n"
     ]
    },
    {
     "name": "stdout",
     "output_type": "stream",
     "text": [
      "iteration 115000 loss 0.001597317517735064\n"
     ]
    },
    {
     "name": "stdout",
     "output_type": "stream",
     "text": [
      "iteration 120000 loss 0.0014014572370797396\n"
     ]
    },
    {
     "name": "stdout",
     "output_type": "stream",
     "text": [
      "iteration 125000 loss 0.001244981773197651\n"
     ]
    },
    {
     "name": "stdout",
     "output_type": "stream",
     "text": [
      "iteration 130000 loss 0.00111045700032264\n"
     ]
    },
    {
     "name": "stdout",
     "output_type": "stream",
     "text": [
      "iteration 135000 loss 0.0009768663439899683\n"
     ]
    },
    {
     "name": "stdout",
     "output_type": "stream",
     "text": [
      "iteration 140000 loss 0.0008676440920680761\n"
     ]
    },
    {
     "name": "stdout",
     "output_type": "stream",
     "text": [
      "iteration 145000 loss 0.0007769378134980798\n"
     ]
    },
    {
     "name": "stdout",
     "output_type": "stream",
     "text": [
      "iteration 150000 loss 0.0007175228674896061\n"
     ]
    },
    {
     "name": "stdout",
     "output_type": "stream",
     "text": [
      "iteration 155000 loss 0.000629396119620651\n"
     ]
    },
    {
     "name": "stdout",
     "output_type": "stream",
     "text": [
      "iteration 160000 loss 0.0005796383484266698\n"
     ]
    },
    {
     "name": "stdout",
     "output_type": "stream",
     "text": [
      "iteration 165000 loss 0.3239693343639374\n"
     ]
    },
    {
     "name": "stdout",
     "output_type": "stream",
     "text": [
      "iteration 170000 loss 0.0004608145682141185\n"
     ]
    },
    {
     "name": "stdout",
     "output_type": "stream",
     "text": [
      "iteration 175000 loss 0.0004163487465120852\n"
     ]
    },
    {
     "name": "stdout",
     "output_type": "stream",
     "text": [
      "iteration 180000 loss 0.00043418025597929955\n"
     ]
    },
    {
     "name": "stdout",
     "output_type": "stream",
     "text": [
      "iteration 185000 loss 0.0005221562460064888\n"
     ]
    },
    {
     "name": "stdout",
     "output_type": "stream",
     "text": [
      "iteration 190000 loss 0.001131553784944117\n"
     ]
    },
    {
     "name": "stdout",
     "output_type": "stream",
     "text": [
      "iteration 195000 loss 0.0002904202265199274\n"
     ]
    },
    {
     "name": "stdout",
     "output_type": "stream",
     "text": [
      "iteration 200000 loss 0.024594567716121674\n"
     ]
    },
    {
     "name": "stdout",
     "output_type": "stream",
     "text": [
      "iteration 205000 loss 0.0002751472347881645\n"
     ]
    },
    {
     "name": "stdout",
     "output_type": "stream",
     "text": [
      "iteration 210000 loss 0.00022663931304123253\n"
     ]
    },
    {
     "name": "stdout",
     "output_type": "stream",
     "text": [
      "iteration 215000 loss 0.00020646752091124654\n"
     ]
    },
    {
     "name": "stdout",
     "output_type": "stream",
     "text": [
      "iteration 220000 loss 0.00019267929019406438\n"
     ]
    },
    {
     "name": "stdout",
     "output_type": "stream",
     "text": [
      "iteration 225000 loss 0.00017699890304356813\n"
     ]
    },
    {
     "name": "stdout",
     "output_type": "stream",
     "text": [
      "iteration 230000 loss 0.00016441196203231812\n"
     ]
    },
    {
     "name": "stdout",
     "output_type": "stream",
     "text": [
      "iteration 235000 loss 0.000174339089426212\n"
     ]
    },
    {
     "name": "stdout",
     "output_type": "stream",
     "text": [
      "iteration 240000 loss 0.00014234897389542311\n"
     ]
    },
    {
     "name": "stdout",
     "output_type": "stream",
     "text": [
      "iteration 245000 loss 0.00013551046140491962\n"
     ]
    },
    {
     "name": "stdout",
     "output_type": "stream",
     "text": [
      "iteration 250000 loss 0.00016348644567187876\n"
     ]
    },
    {
     "name": "stdout",
     "output_type": "stream",
     "text": [
      "iteration 255000 loss 0.05755378305912018\n"
     ]
    },
    {
     "name": "stdout",
     "output_type": "stream",
     "text": [
      "iteration 260000 loss 0.00011816227197414264\n"
     ]
    },
    {
     "name": "stdout",
     "output_type": "stream",
     "text": [
      "iteration 265000 loss 0.0012992784613743424\n"
     ]
    },
    {
     "name": "stdout",
     "output_type": "stream",
     "text": [
      "iteration 270000 loss 0.0001016359674395062\n"
     ]
    },
    {
     "name": "stdout",
     "output_type": "stream",
     "text": [
      "iteration 275000 loss 9.366012818645686e-05\n"
     ]
    },
    {
     "name": "stdout",
     "output_type": "stream",
     "text": [
      "iteration 280000 loss 0.0068545774556696415\n"
     ]
    },
    {
     "name": "stdout",
     "output_type": "stream",
     "text": [
      "iteration 285000 loss 0.005566341802477837\n"
     ]
    },
    {
     "name": "stdout",
     "output_type": "stream",
     "text": [
      "iteration 290000 loss 0.00010686094174161553\n"
     ]
    },
    {
     "name": "stdout",
     "output_type": "stream",
     "text": [
      "iteration 295000 loss 0.00012625358067452908\n"
     ]
    },
    {
     "name": "stdout",
     "output_type": "stream",
     "text": [
      "iteration 300000 loss 7.435902080032974e-05\n"
     ]
    },
    {
     "name": "stdout",
     "output_type": "stream",
     "text": [
      "iteration 305000 loss 7.638939132448286e-05\n"
     ]
    },
    {
     "name": "stdout",
     "output_type": "stream",
     "text": [
      "iteration 310000 loss 7.019373151706532e-05\n"
     ]
    },
    {
     "name": "stdout",
     "output_type": "stream",
     "text": [
      "iteration 315000 loss 0.3403187692165375\n"
     ]
    },
    {
     "name": "stdout",
     "output_type": "stream",
     "text": [
      "iteration 320000 loss 0.034671343863010406\n"
     ]
    },
    {
     "name": "stdout",
     "output_type": "stream",
     "text": [
      "iteration 325000 loss 6.221135117812082e-05\n"
     ]
    },
    {
     "name": "stdout",
     "output_type": "stream",
     "text": [
      "iteration 330000 loss 6.107374065322801e-05\n"
     ]
    },
    {
     "name": "stdout",
     "output_type": "stream",
     "text": [
      "iteration 335000 loss 6.034843318047933e-05\n"
     ]
    },
    {
     "name": "stdout",
     "output_type": "stream",
     "text": [
      "iteration 340000 loss 5.645363125950098e-05\n"
     ]
    },
    {
     "name": "stdout",
     "output_type": "stream",
     "text": [
      "iteration 345000 loss 5.6687931646592915e-05\n"
     ]
    },
    {
     "name": "stdout",
     "output_type": "stream",
     "text": [
      "iteration 350000 loss 5.386849443311803e-05\n"
     ]
    },
    {
     "name": "stdout",
     "output_type": "stream",
     "text": [
      "iteration 355000 loss 5.1845083362422884e-05\n"
     ]
    },
    {
     "name": "stdout",
     "output_type": "stream",
     "text": [
      "iteration 360000 loss 0.002261057263240218\n"
     ]
    },
    {
     "name": "stdout",
     "output_type": "stream",
     "text": [
      "iteration 365000 loss 0.0156457107514143\n"
     ]
    },
    {
     "name": "stdout",
     "output_type": "stream",
     "text": [
      "iteration 370000 loss 7.012959395069629e-05\n"
     ]
    },
    {
     "name": "stdout",
     "output_type": "stream",
     "text": [
      "iteration 375000 loss 0.0020578266121447086\n"
     ]
    },
    {
     "name": "stdout",
     "output_type": "stream",
     "text": [
      "iteration 380000 loss 4.7292225644923747e-05\n"
     ]
    },
    {
     "name": "stdout",
     "output_type": "stream",
     "text": [
      "iteration 385000 loss 4.9558260798221454e-05\n"
     ]
    },
    {
     "name": "stdout",
     "output_type": "stream",
     "text": [
      "iteration 390000 loss 0.00010126054985448718\n"
     ]
    },
    {
     "name": "stdout",
     "output_type": "stream",
     "text": [
      "iteration 395000 loss 0.0002960832789540291\n"
     ]
    },
    {
     "name": "stdout",
     "output_type": "stream",
     "text": [
      "iteration 400000 loss 4.7802393964957446e-05\n"
     ]
    },
    {
     "name": "stdout",
     "output_type": "stream",
     "text": [
      "iteration 405000 loss 4.637660094886087e-05\n"
     ]
    },
    {
     "name": "stdout",
     "output_type": "stream",
     "text": [
      "iteration 410000 loss 4.3408432247815654e-05\n"
     ]
    },
    {
     "name": "stdout",
     "output_type": "stream",
     "text": [
      "iteration 415000 loss 4.339629231253639e-05\n"
     ]
    },
    {
     "name": "stdout",
     "output_type": "stream",
     "text": [
      "iteration 420000 loss 4.3157400796189904e-05\n"
     ]
    },
    {
     "name": "stdout",
     "output_type": "stream",
     "text": [
      "iteration 425000 loss 4.221113340463489e-05\n"
     ]
    },
    {
     "name": "stdout",
     "output_type": "stream",
     "text": [
      "iteration 430000 loss 4.2799416405614465e-05\n"
     ]
    },
    {
     "name": "stdout",
     "output_type": "stream",
     "text": [
      "iteration 435000 loss 0.0002386547566857189\n"
     ]
    },
    {
     "name": "stdout",
     "output_type": "stream",
     "text": [
      "iteration 440000 loss 4.050427014590241e-05\n"
     ]
    },
    {
     "name": "stdout",
     "output_type": "stream",
     "text": [
      "iteration 445000 loss 4.102863385924138e-05\n"
     ]
    },
    {
     "name": "stdout",
     "output_type": "stream",
     "text": [
      "iteration 450000 loss 5.331805732566863e-05\n"
     ]
    },
    {
     "name": "stdout",
     "output_type": "stream",
     "text": [
      "iteration 455000 loss 0.000329926231643185\n"
     ]
    },
    {
     "name": "stdout",
     "output_type": "stream",
     "text": [
      "iteration 460000 loss 4.19636708102189e-05\n"
     ]
    },
    {
     "name": "stdout",
     "output_type": "stream",
     "text": [
      "iteration 465000 loss 3.910126179107465e-05\n"
     ]
    },
    {
     "name": "stdout",
     "output_type": "stream",
     "text": [
      "iteration 470000 loss 0.0009308193111792207\n"
     ]
    },
    {
     "name": "stdout",
     "output_type": "stream",
     "text": [
      "iteration 475000 loss 4.0040944440988824e-05\n"
     ]
    },
    {
     "name": "stdout",
     "output_type": "stream",
     "text": [
      "iteration 480000 loss 0.005401181057095528\n"
     ]
    },
    {
     "name": "stdout",
     "output_type": "stream",
     "text": [
      "iteration 485000 loss 3.9259830373339355e-05\n"
     ]
    },
    {
     "name": "stdout",
     "output_type": "stream",
     "text": [
      "iteration 490000 loss 3.7858033465454355e-05\n"
     ]
    },
    {
     "name": "stdout",
     "output_type": "stream",
     "text": [
      "iteration 495000 loss 0.11106672137975693\n"
     ]
    },
    {
     "name": "stdout",
     "output_type": "stream",
     "text": [
      "Training of LPN for G(x) complete and model saved.\n"
     ]
    }
   ],
   "source": [
    "# --- Generate New Training Data for the Second LPN G(x) ---\n",
    "# We use the same x_j_exp_tensor as the first LPN's training data for x_k\n",
    "x_k_tensor = y_j_exp_tensor.clone().to(device)\n",
    "x_k_tensor.requires_grad_(True)\n",
    "\n",
    "# 1. Compute the gradient y_k = grad_x psi_theta(x_k, t=1)\n",
    "# Get psi(x_k)\n",
    "psi_x_k = lpn_model_quad_l1.scalar(x_k_tensor)\n",
    "\n",
    "# Get gradient y_k = grad_psi(x_k)\n",
    "y_k_tensor = lpn_model_quad_l1(x_k_tensor)\n",
    "\n",
    "# 2. Evaluate the \"new\" samples G_k = <y_k, x_k> - psi_theta(x_k, 1) (from eq 26)\n",
    "inner_prod_yk_xk = torch.sum(y_k_tensor * x_k_tensor, dim=1, keepdim=True)\n",
    "G_samples_tensor_with_graph = inner_prod_yk_xk - psi_x_k\n",
    "\n",
    "# Detach the tensor to treat G_k as fixed targets, breaking the connection\n",
    "# to the first LPN's graph and preventing the RuntimeError during training.\n",
    "G_samples_tensor = G_samples_tensor_with_graph.detach().to(device) \n",
    "\n",
    "# The input tensor x_k_tensor is still needed for the second LPN training,\n",
    "# but it should also not require a gradient for that training.\n",
    "x_k_tensor = x_k_tensor.detach()\n",
    "x_k_tensor.requires_grad_(False) \n",
    "y_k_tensor = y_k_tensor.detach()\n",
    "y_k_tensor.requires_grad_(False)\n",
    "# G_samples_tensor now holds the target values G_k\n",
    "print(f\"Generated G samples: G_samples_tensor shape {G_samples_tensor.shape}\")\n",
    "\n",
    "# --- Step 3: Train LPN G(x) ---\n",
    "print(\"\\n--- Training Second LPN G(x) for Concave Quadratic Prior ---\")\n",
    "# The target for this LPN is G_samples_tensor\n",
    "# The input for this LPN is x_k_tensor\n",
    "lpn_model_G = LPN(in_dim=dim_exp, hidden=hidden, layers=layers, beta=beta, eps=1e-3).to(device)\n",
    "optimizer_G = torch.optim.Adam(lpn_model_G.parameters(), lr=1e-4)\n",
    "\n",
    "# Initial shorter training phase\n",
    "for i in range(iterations_exp_initial):\n",
    "     single_iteration(i, data_points_exp, lpn_model_G, optimizer_G, y_k_tensor, G_samples_tensor, loss_type=2, gamma_loss=None)\n",
    "\n",
    "for g in optimizer_G.param_groups:\n",
    "    g[\"lr\"] = 1e-4 \n",
    "for i in range(iterations_exp_long):\n",
    "    single_iteration(i, data_points_exp, lpn_model_G, optimizer_G, y_k_tensor, G_samples_tensor, loss_type=2, gamma_loss=None)\n",
    "\n",
    "torch.save(lpn_model_G.state_dict(), os.path.join(MODEL_DIR, \"G_network_l2.pth\"))\n",
    "print(\"Training of LPN for G(x) complete and model saved.\")"
   ]
  },
  {
   "cell_type": "code",
   "execution_count": 15,
   "metadata": {
    "execution": {
     "iopub.execute_input": "2025-10-29T18:10:50.747022Z",
     "iopub.status.busy": "2025-10-29T18:10:50.746720Z",
     "iopub.status.idle": "2025-10-29T18:10:51.194066Z",
     "shell.execute_reply": "2025-10-29T18:10:51.193605Z"
    }
   },
   "outputs": [
    {
     "name": "stdout",
     "output_type": "stream",
     "text": [
      "\n",
      "--- Plotting Estimated Prior J(x) from LPN 2 ---\n"
     ]
    },
    {
     "data": {
      "image/png": "[encoded data removed]",
      "text/plain": [
       "<Figure size 1200x500 with 2 Axes>"
      ]
     },
     "metadata": {},
     "output_type": "display_data"
    }
   ],
   "source": [
    "def evaluate_learned_J_G_network(x_points, model_G):\n",
    "    \"\"\"\n",
    "    Evaluates the learned prior J(x) using the trained G(x) network.\n",
    "    J(x) = G(x) - 0.5 * ||x||^2\n",
    "    \"\"\"\n",
    "    # Convert to tensor\n",
    "    x_tensor = torch.from_numpy(x_points).float().to(device)\n",
    "    \n",
    "    # Get G(x) from the second LPN model\n",
    "    G_x = model_G.scalar(x_tensor)\n",
    "    \n",
    "    # Compute 0.5 * ||x||^2\n",
    "    x_norm_sq_np = euclid_norm_sq(x_points)\n",
    "    x_norm_sq_tensor = torch.from_numpy(x_norm_sq_np).float().to(device).reshape(-1, 1)\n",
    "\n",
    "    # Apply the formula: J_est = G(x) - 0.5 * ||x||^2\n",
    "    J_est = G_x - 0.5 * x_norm_sq_tensor\n",
    "    \n",
    "    # Convert back to numpy\n",
    "    J_est_np = J_est.detach().cpu().numpy().flatten()\n",
    "    \n",
    "    return J_est_np\n",
    "\n",
    "def plot_J_G_network(model_G, a, spacing, dim):\n",
    "    \"\"\"Plots the cross-sections of the estimated prior J(x) from the G network.\"\"\"\n",
    "    xi, x1_0_points, x2_0_points = compute_square_cross_sections(a, spacing, dim)\n",
    "    \n",
    "    # True Prior\n",
    "    x1_0_J_true = prior_true_quadratic_l1(x1_0_points)\n",
    "    if dim > 1:\n",
    "        x2_0_J_true = prior_true_quadratic_l1(x2_0_points)\n",
    "    else:\n",
    "        x2_0_J_true = x1_0_J_true\n",
    "        \n",
    "    # Estimated Prior from G(x) Network\n",
    "    x1_0_J_G_est = evaluate_learned_J_G_network(x1_0_points, model_G)\n",
    "    if dim > 1:\n",
    "        x2_0_J_G_est = evaluate_learned_J_G_network(x2_0_points, model_G)\n",
    "    else:\n",
    "        x2_0_J_G_est = x1_0_J_G_est\n",
    "    \n",
    "    print(\"\\n--- Plotting Estimated Prior J(x) from LPN 2 ---\")\n",
    "    plt.figure(figsize=(12,5))\n",
    "    \n",
    "    plt.subplot(1, 2, 1)\n",
    "    plt.plot(xi, x1_0_J_G_est, \"-\", label=\"LPN 2\")\n",
    "    plt.plot(xi, x1_0_J_true, \"--\", label=\"True $J(x)=-1/4||x||_2^2$\")\n",
    "    plt.grid(True)\n",
    "    plt.title(f\"Prior $J(x_1,0,...)$ Dim {dim}\")\n",
    "    plt.xlabel('$x_1$')\n",
    "    plt.ylabel('$J(x_1,0,...)$')\n",
    "    plt.legend()\n",
    "\n",
    "    if dim > 1:\n",
    "        plt.subplot(1, 2, 2)\n",
    "        plt.plot(xi, x2_0_J_G_est, \"-\", label=\"LPN G (Learned J)\")\n",
    "        plt.plot(xi, x2_0_J_true, \"--\", label=\"True $J(x)=-1/4||x||_2^2$\")\n",
    "        plt.grid(True)\n",
    "        plt.title(f\"Prior $J(0,x_2,0,...)$ Dim {dim}\")\n",
    "        plt.xlabel('$x_2$')\n",
    "        plt.ylabel('$J(0,x_2,0,...)$')\n",
    "        plt.legend()\n",
    "    plt.tight_layout()\n",
    "    #plt.savefig('G_network_prior_plot.png')\n",
    "    \n",
    "# --- Execute Plotting ---\n",
    "plot_J_G_network(lpn_model_G, a_exp, spacing, dim_exp)"
   ]
  }
 ],
 "metadata": {
  "colab": {
   "provenance": []
  },
  "kernelspec": {
   "display_name": "lpn_env_image",
   "language": "python",
   "name": "python3"
  },
  "language_info": {
   "codemirror_mode": {
    "name": "ipython",
    "version": 3
   },
   "file_extension": ".py",
   "mimetype": "text/x-python",
   "name": "python",
   "nbconvert_exporter": "python",
   "pygments_lexer": "ipython3",
   "version": "3.13.5"
  }
 },
 "nbformat": 4,
 "nbformat_minor": 4
}
